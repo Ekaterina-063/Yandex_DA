{
 "cells": [
  {
   "cell_type": "markdown",
   "id": "4eab41c5",
   "metadata": {
    "deletable": false,
    "editable": false,
    "id": "c81daeeb"
   },
   "source": [
    "# Исследование надежности заемщиков"
   ]
  },
  {
   "cell_type": "markdown",
   "id": "a711e877",
   "metadata": {
    "deletable": false,
    "editable": false,
    "id": "-G3EJWzf62s6"
   },
   "source": [
    "Это первая часть проекта, она будет проверена автоматически. Вторую часть проверит ревьюер. "
   ]
  },
  {
   "cell_type": "markdown",
   "id": "9f62a35c",
   "metadata": {
    "deletable": false,
    "editable": false,
    "id": "744d7639"
   },
   "source": [
    "## Откройте таблицу и изучите общую информацию о данных"
   ]
  },
  {
   "cell_type": "markdown",
   "id": "088da1a3",
   "metadata": {
    "deletable": false,
    "editable": false,
    "id": "e7a14c31",
    "tags": [
     "start_task"
    ]
   },
   "source": [
    "**Задание 1. Импортируйте библиотеку pandas. Считайте данные из csv-файла в датафрейм и сохраните в переменную `data`. Путь к файлу:**\n",
    "\n",
    "`/datasets/data.csv`"
   ]
  },
  {
   "cell_type": "code",
   "execution_count": 1,
   "id": "15c45339",
   "metadata": {
    "id": "7bcf75c9"
   },
   "outputs": [],
   "source": [
    "import pandas as pd # импортируйте библиотеку pandas"
   ]
  },
  {
   "cell_type": "code",
   "execution_count": 2,
   "id": "8b3a50d2",
   "metadata": {
    "id": "4d240ee2"
   },
   "outputs": [],
   "source": [
    "data = pd.read_csv('/datasets/data.csv')# прочитайте csv-файл"
   ]
  },
  {
   "cell_type": "markdown",
   "id": "1f729b99",
   "metadata": {
    "deletable": false,
    "editable": false,
    "id": "b8038fe3",
    "tags": [
     "start_task"
    ]
   },
   "source": [
    "**Задание 2. Выведите первые 20 строчек датафрейма `data` на экран.**"
   ]
  },
  {
   "cell_type": "code",
   "execution_count": 3,
   "id": "45205434",
   "metadata": {
    "id": "2a7cab99"
   },
   "outputs": [
    {
     "name": "stdout",
     "output_type": "stream",
     "text": [
      "    children  days_employed  dob_years            education  education_id  \\\n",
      "0          1   -8437.673028         42               высшее             0   \n",
      "1          1   -4024.803754         36              среднее             1   \n",
      "2          0   -5623.422610         33              Среднее             1   \n",
      "3          3   -4124.747207         32              среднее             1   \n",
      "4          0  340266.072047         53              среднее             1   \n",
      "5          0    -926.185831         27               высшее             0   \n",
      "6          0   -2879.202052         43               высшее             0   \n",
      "7          0    -152.779569         50              СРЕДНЕЕ             1   \n",
      "8          2   -6929.865299         35               ВЫСШЕЕ             0   \n",
      "9          0   -2188.756445         41              среднее             1   \n",
      "10         2   -4171.483647         36               высшее             0   \n",
      "11         0    -792.701887         40              среднее             1   \n",
      "12         0            NaN         65              среднее             1   \n",
      "13         0   -1846.641941         54  неоконченное высшее             2   \n",
      "14         0   -1844.956182         56               высшее             0   \n",
      "15         1    -972.364419         26              среднее             1   \n",
      "16         0   -1719.934226         35              среднее             1   \n",
      "17         0   -2369.999720         33               высшее             0   \n",
      "18         0  400281.136913         53              среднее             1   \n",
      "19         0  -10038.818549         48              СРЕДНЕЕ             1   \n",
      "\n",
      "       family_status  family_status_id gender income_type  debt  \\\n",
      "0    женат / замужем                 0      F   сотрудник     0   \n",
      "1    женат / замужем                 0      F   сотрудник     0   \n",
      "2    женат / замужем                 0      M   сотрудник     0   \n",
      "3    женат / замужем                 0      M   сотрудник     0   \n",
      "4   гражданский брак                 1      F   пенсионер     0   \n",
      "5   гражданский брак                 1      M   компаньон     0   \n",
      "6    женат / замужем                 0      F   компаньон     0   \n",
      "7    женат / замужем                 0      M   сотрудник     0   \n",
      "8   гражданский брак                 1      F   сотрудник     0   \n",
      "9    женат / замужем                 0      M   сотрудник     0   \n",
      "10   женат / замужем                 0      M   компаньон     0   \n",
      "11   женат / замужем                 0      F   сотрудник     0   \n",
      "12  гражданский брак                 1      M   пенсионер     0   \n",
      "13   женат / замужем                 0      F   сотрудник     0   \n",
      "14  гражданский брак                 1      F   компаньон     1   \n",
      "15   женат / замужем                 0      F   сотрудник     0   \n",
      "16   женат / замужем                 0      F   сотрудник     0   \n",
      "17  гражданский брак                 1      M   сотрудник     0   \n",
      "18    вдовец / вдова                 2      F   пенсионер     0   \n",
      "19         в разводе                 3      F   сотрудник     0   \n",
      "\n",
      "     total_income                                 purpose  \n",
      "0   253875.639453                           покупка жилья  \n",
      "1   112080.014102                 приобретение автомобиля  \n",
      "2   145885.952297                           покупка жилья  \n",
      "3   267628.550329              дополнительное образование  \n",
      "4   158616.077870                         сыграть свадьбу  \n",
      "5   255763.565419                           покупка жилья  \n",
      "6   240525.971920                       операции с жильем  \n",
      "7   135823.934197                             образование  \n",
      "8    95856.832424                   на проведение свадьбы  \n",
      "9   144425.938277                 покупка жилья для семьи  \n",
      "10  113943.491460                    покупка недвижимости  \n",
      "11   77069.234271       покупка коммерческой недвижимости  \n",
      "12            NaN                         сыграть свадьбу  \n",
      "13  130458.228857                 приобретение автомобиля  \n",
      "14  165127.911772              покупка жилой недвижимости  \n",
      "15  116820.904450  строительство собственной недвижимости  \n",
      "16  289202.704229                            недвижимость  \n",
      "17   90410.586745              строительство недвижимости  \n",
      "18   56823.777243      на покупку подержанного автомобиля  \n",
      "19  242831.107982            на покупку своего автомобиля  \n"
     ]
    }
   ],
   "source": [
    "print(data.head(20))# ваш код здесь"
   ]
  },
  {
   "cell_type": "markdown",
   "id": "dfa1bce8",
   "metadata": {
    "deletable": false,
    "editable": false,
    "id": "1c12e233",
    "tags": [
     "start_task"
    ]
   },
   "source": [
    "**Задание 3. Выведите основную информацию о датафрейме с помощью метода `info()`.**"
   ]
  },
  {
   "cell_type": "code",
   "execution_count": 4,
   "id": "b4af7a90",
   "metadata": {
    "id": "2b757bca"
   },
   "outputs": [
    {
     "name": "stdout",
     "output_type": "stream",
     "text": [
      "<class 'pandas.core.frame.DataFrame'>\n",
      "RangeIndex: 21525 entries, 0 to 21524\n",
      "Data columns (total 12 columns):\n",
      " #   Column            Non-Null Count  Dtype  \n",
      "---  ------            --------------  -----  \n",
      " 0   children          21525 non-null  int64  \n",
      " 1   days_employed     19351 non-null  float64\n",
      " 2   dob_years         21525 non-null  int64  \n",
      " 3   education         21525 non-null  object \n",
      " 4   education_id      21525 non-null  int64  \n",
      " 5   family_status     21525 non-null  object \n",
      " 6   family_status_id  21525 non-null  int64  \n",
      " 7   gender            21525 non-null  object \n",
      " 8   income_type       21525 non-null  object \n",
      " 9   debt              21525 non-null  int64  \n",
      " 10  total_income      19351 non-null  float64\n",
      " 11  purpose           21525 non-null  object \n",
      "dtypes: float64(2), int64(5), object(5)\n",
      "memory usage: 2.0+ MB\n",
      "None\n"
     ]
    }
   ],
   "source": [
    "print(data.info())# ваш код здесь"
   ]
  },
  {
   "cell_type": "markdown",
   "id": "0e6beca1",
   "metadata": {
    "deletable": false,
    "editable": false,
    "id": "333ec665"
   },
   "source": [
    "## Предобработка данных"
   ]
  },
  {
   "cell_type": "markdown",
   "id": "9ee7b0f8",
   "metadata": {
    "deletable": false,
    "editable": false,
    "id": "02d92d53"
   },
   "source": [
    "### Удаление пропусков"
   ]
  },
  {
   "cell_type": "markdown",
   "id": "4a626d5f",
   "metadata": {
    "deletable": false,
    "editable": false,
    "id": "cd84967c",
    "tags": [
     "start_task"
    ]
   },
   "source": [
    "**Задание 4. Выведите количество пропущенных значений для каждого столбца. Используйте комбинацию двух методов.**"
   ]
  },
  {
   "cell_type": "code",
   "execution_count": 5,
   "id": "758e6ada",
   "metadata": {
    "id": "7f9b2309"
   },
   "outputs": [
    {
     "name": "stdout",
     "output_type": "stream",
     "text": [
      "children               0\n",
      "days_employed       2174\n",
      "dob_years              0\n",
      "education              0\n",
      "education_id           0\n",
      "family_status          0\n",
      "family_status_id       0\n",
      "gender                 0\n",
      "income_type            0\n",
      "debt                   0\n",
      "total_income        2174\n",
      "purpose                0\n",
      "dtype: int64\n"
     ]
    }
   ],
   "source": [
    "print(data.isnull().sum(axis=0))"
   ]
  },
  {
   "cell_type": "markdown",
   "id": "b3434fcd",
   "metadata": {
    "deletable": false,
    "editable": false,
    "id": "db86e27b",
    "tags": [
     "start_task"
    ]
   },
   "source": [
    "**Задание 5. В двух столбцах есть пропущенные значения. Один из них — `days_employed`. Пропуски в этом столбце вы обработаете на следующем этапе. Другой столбец с пропущенными значениями — `total_income` — хранит данные о доходах. На сумму дохода сильнее всего влияет тип занятости, поэтому заполнить пропуски в этом столбце нужно медианным значением по каждому типу из столбца `income_type`. Например, у человека с типом занятости `сотрудник` пропуск в столбце `total_income` должен быть заполнен медианным доходом среди всех записей с тем же типом.**"
   ]
  },
  {
   "cell_type": "code",
   "execution_count": 6,
   "id": "82d30178",
   "metadata": {
    "id": "42006a93"
   },
   "outputs": [
    {
     "data": {
      "text/html": [
       "<div>\n",
       "<style scoped>\n",
       "    .dataframe tbody tr th:only-of-type {\n",
       "        vertical-align: middle;\n",
       "    }\n",
       "\n",
       "    .dataframe tbody tr th {\n",
       "        vertical-align: top;\n",
       "    }\n",
       "\n",
       "    .dataframe thead th {\n",
       "        text-align: right;\n",
       "    }\n",
       "</style>\n",
       "<table border=\"1\" class=\"dataframe\">\n",
       "  <thead>\n",
       "    <tr style=\"text-align: right;\">\n",
       "      <th></th>\n",
       "      <th>children</th>\n",
       "      <th>days_employed</th>\n",
       "      <th>dob_years</th>\n",
       "      <th>education</th>\n",
       "      <th>education_id</th>\n",
       "      <th>family_status</th>\n",
       "      <th>family_status_id</th>\n",
       "      <th>gender</th>\n",
       "      <th>income_type</th>\n",
       "      <th>debt</th>\n",
       "      <th>total_income</th>\n",
       "      <th>purpose</th>\n",
       "    </tr>\n",
       "  </thead>\n",
       "  <tbody>\n",
       "    <tr>\n",
       "      <th>0</th>\n",
       "      <td>1</td>\n",
       "      <td>-8437.673028</td>\n",
       "      <td>42</td>\n",
       "      <td>высшее</td>\n",
       "      <td>0</td>\n",
       "      <td>женат / замужем</td>\n",
       "      <td>0</td>\n",
       "      <td>F</td>\n",
       "      <td>сотрудник</td>\n",
       "      <td>0</td>\n",
       "      <td>253875.639453</td>\n",
       "      <td>покупка жилья</td>\n",
       "    </tr>\n",
       "    <tr>\n",
       "      <th>1</th>\n",
       "      <td>1</td>\n",
       "      <td>-4024.803754</td>\n",
       "      <td>36</td>\n",
       "      <td>среднее</td>\n",
       "      <td>1</td>\n",
       "      <td>женат / замужем</td>\n",
       "      <td>0</td>\n",
       "      <td>F</td>\n",
       "      <td>сотрудник</td>\n",
       "      <td>0</td>\n",
       "      <td>112080.014102</td>\n",
       "      <td>приобретение автомобиля</td>\n",
       "    </tr>\n",
       "    <tr>\n",
       "      <th>2</th>\n",
       "      <td>0</td>\n",
       "      <td>-5623.422610</td>\n",
       "      <td>33</td>\n",
       "      <td>Среднее</td>\n",
       "      <td>1</td>\n",
       "      <td>женат / замужем</td>\n",
       "      <td>0</td>\n",
       "      <td>M</td>\n",
       "      <td>сотрудник</td>\n",
       "      <td>0</td>\n",
       "      <td>145885.952297</td>\n",
       "      <td>покупка жилья</td>\n",
       "    </tr>\n",
       "    <tr>\n",
       "      <th>3</th>\n",
       "      <td>3</td>\n",
       "      <td>-4124.747207</td>\n",
       "      <td>32</td>\n",
       "      <td>среднее</td>\n",
       "      <td>1</td>\n",
       "      <td>женат / замужем</td>\n",
       "      <td>0</td>\n",
       "      <td>M</td>\n",
       "      <td>сотрудник</td>\n",
       "      <td>0</td>\n",
       "      <td>267628.550329</td>\n",
       "      <td>дополнительное образование</td>\n",
       "    </tr>\n",
       "    <tr>\n",
       "      <th>4</th>\n",
       "      <td>0</td>\n",
       "      <td>340266.072047</td>\n",
       "      <td>53</td>\n",
       "      <td>среднее</td>\n",
       "      <td>1</td>\n",
       "      <td>гражданский брак</td>\n",
       "      <td>1</td>\n",
       "      <td>F</td>\n",
       "      <td>пенсионер</td>\n",
       "      <td>0</td>\n",
       "      <td>158616.077870</td>\n",
       "      <td>сыграть свадьбу</td>\n",
       "    </tr>\n",
       "    <tr>\n",
       "      <th>...</th>\n",
       "      <td>...</td>\n",
       "      <td>...</td>\n",
       "      <td>...</td>\n",
       "      <td>...</td>\n",
       "      <td>...</td>\n",
       "      <td>...</td>\n",
       "      <td>...</td>\n",
       "      <td>...</td>\n",
       "      <td>...</td>\n",
       "      <td>...</td>\n",
       "      <td>...</td>\n",
       "      <td>...</td>\n",
       "    </tr>\n",
       "    <tr>\n",
       "      <th>21520</th>\n",
       "      <td>1</td>\n",
       "      <td>-4529.316663</td>\n",
       "      <td>43</td>\n",
       "      <td>среднее</td>\n",
       "      <td>1</td>\n",
       "      <td>гражданский брак</td>\n",
       "      <td>1</td>\n",
       "      <td>F</td>\n",
       "      <td>компаньон</td>\n",
       "      <td>0</td>\n",
       "      <td>224791.862382</td>\n",
       "      <td>операции с жильем</td>\n",
       "    </tr>\n",
       "    <tr>\n",
       "      <th>21521</th>\n",
       "      <td>0</td>\n",
       "      <td>343937.404131</td>\n",
       "      <td>67</td>\n",
       "      <td>среднее</td>\n",
       "      <td>1</td>\n",
       "      <td>женат / замужем</td>\n",
       "      <td>0</td>\n",
       "      <td>F</td>\n",
       "      <td>пенсионер</td>\n",
       "      <td>0</td>\n",
       "      <td>155999.806512</td>\n",
       "      <td>сделка с автомобилем</td>\n",
       "    </tr>\n",
       "    <tr>\n",
       "      <th>21522</th>\n",
       "      <td>1</td>\n",
       "      <td>-2113.346888</td>\n",
       "      <td>38</td>\n",
       "      <td>среднее</td>\n",
       "      <td>1</td>\n",
       "      <td>гражданский брак</td>\n",
       "      <td>1</td>\n",
       "      <td>M</td>\n",
       "      <td>сотрудник</td>\n",
       "      <td>1</td>\n",
       "      <td>89672.561153</td>\n",
       "      <td>недвижимость</td>\n",
       "    </tr>\n",
       "    <tr>\n",
       "      <th>21523</th>\n",
       "      <td>3</td>\n",
       "      <td>-3112.481705</td>\n",
       "      <td>38</td>\n",
       "      <td>среднее</td>\n",
       "      <td>1</td>\n",
       "      <td>женат / замужем</td>\n",
       "      <td>0</td>\n",
       "      <td>M</td>\n",
       "      <td>сотрудник</td>\n",
       "      <td>1</td>\n",
       "      <td>244093.050500</td>\n",
       "      <td>на покупку своего автомобиля</td>\n",
       "    </tr>\n",
       "    <tr>\n",
       "      <th>21524</th>\n",
       "      <td>2</td>\n",
       "      <td>-1984.507589</td>\n",
       "      <td>40</td>\n",
       "      <td>среднее</td>\n",
       "      <td>1</td>\n",
       "      <td>женат / замужем</td>\n",
       "      <td>0</td>\n",
       "      <td>F</td>\n",
       "      <td>сотрудник</td>\n",
       "      <td>0</td>\n",
       "      <td>82047.418899</td>\n",
       "      <td>на покупку автомобиля</td>\n",
       "    </tr>\n",
       "  </tbody>\n",
       "</table>\n",
       "<p>21525 rows × 12 columns</p>\n",
       "</div>"
      ],
      "text/plain": [
       "       children  days_employed  dob_years education  education_id  \\\n",
       "0             1   -8437.673028         42    высшее             0   \n",
       "1             1   -4024.803754         36   среднее             1   \n",
       "2             0   -5623.422610         33   Среднее             1   \n",
       "3             3   -4124.747207         32   среднее             1   \n",
       "4             0  340266.072047         53   среднее             1   \n",
       "...         ...            ...        ...       ...           ...   \n",
       "21520         1   -4529.316663         43   среднее             1   \n",
       "21521         0  343937.404131         67   среднее             1   \n",
       "21522         1   -2113.346888         38   среднее             1   \n",
       "21523         3   -3112.481705         38   среднее             1   \n",
       "21524         2   -1984.507589         40   среднее             1   \n",
       "\n",
       "          family_status  family_status_id gender income_type  debt  \\\n",
       "0       женат / замужем                 0      F   сотрудник     0   \n",
       "1       женат / замужем                 0      F   сотрудник     0   \n",
       "2       женат / замужем                 0      M   сотрудник     0   \n",
       "3       женат / замужем                 0      M   сотрудник     0   \n",
       "4      гражданский брак                 1      F   пенсионер     0   \n",
       "...                 ...               ...    ...         ...   ...   \n",
       "21520  гражданский брак                 1      F   компаньон     0   \n",
       "21521   женат / замужем                 0      F   пенсионер     0   \n",
       "21522  гражданский брак                 1      M   сотрудник     1   \n",
       "21523   женат / замужем                 0      M   сотрудник     1   \n",
       "21524   женат / замужем                 0      F   сотрудник     0   \n",
       "\n",
       "        total_income                       purpose  \n",
       "0      253875.639453                 покупка жилья  \n",
       "1      112080.014102       приобретение автомобиля  \n",
       "2      145885.952297                 покупка жилья  \n",
       "3      267628.550329    дополнительное образование  \n",
       "4      158616.077870               сыграть свадьбу  \n",
       "...              ...                           ...  \n",
       "21520  224791.862382             операции с жильем  \n",
       "21521  155999.806512          сделка с автомобилем  \n",
       "21522   89672.561153                  недвижимость  \n",
       "21523  244093.050500  на покупку своего автомобиля  \n",
       "21524   82047.418899         на покупку автомобиля  \n",
       "\n",
       "[21525 rows x 12 columns]"
      ]
     },
     "execution_count": 6,
     "metadata": {},
     "output_type": "execute_result"
    }
   ],
   "source": [
    "type_income = data.groupby('income_type')['total_income'].median()\n",
    "for inc_type in data['income_type'].unique():\n",
    "    data.loc[data['income_type'] == inc_type,'total_income'] = data.loc[data['income_type'] == inc_type,'total_income'].fillna(type_income[inc_type])\n",
    "data\n",
    "\n",
    "\n",
    "# ваш код здесь"
   ]
  },
  {
   "cell_type": "markdown",
   "id": "47483117",
   "metadata": {
    "deletable": false,
    "editable": false,
    "id": "89da5ece"
   },
   "source": [
    "### Обработка аномальных значений"
   ]
  },
  {
   "cell_type": "markdown",
   "id": "333bc396",
   "metadata": {
    "deletable": false,
    "editable": false,
    "id": "57964554",
    "tags": [
     "start_task"
    ]
   },
   "source": [
    "**Задание 6. В данных могут встречаться артефакты (аномалии) — значения, которые не отражают действительность и появились по какой-то ошибке. Таким артефактом будет отрицательное количество дней трудового стажа в столбце `days_employed`. Для реальных данных это нормально. Обработайте значения в этом столбце: замените все отрицательные значения положительными с помощью метода `abs()`.**"
   ]
  },
  {
   "cell_type": "code",
   "execution_count": 7,
   "id": "d65dbab3",
   "metadata": {
    "id": "f6f055bf"
   },
   "outputs": [],
   "source": [
    "data['days_employed'] = data['days_employed'].abs()# ваш код здесь"
   ]
  },
  {
   "cell_type": "markdown",
   "id": "fe0f1de3",
   "metadata": {
    "deletable": false,
    "editable": false,
    "id": "6107dd2f",
    "tags": [
     "start_task"
    ]
   },
   "source": [
    "**Задание 7. Для каждого типа занятости выведите медианное значение трудового стажа `days_employed` в днях.**"
   ]
  },
  {
   "cell_type": "code",
   "execution_count": 8,
   "id": "123343f9",
   "metadata": {
    "id": "85a5faf6"
   },
   "outputs": [
    {
     "data": {
      "text/plain": [
       "income_type\n",
       "безработный        366413.652744\n",
       "в декрете            3296.759962\n",
       "госслужащий          2689.368353\n",
       "компаньон            1547.382223\n",
       "пенсионер          365213.306266\n",
       "предприниматель       520.848083\n",
       "сотрудник            1574.202821\n",
       "студент               578.751554\n",
       "Name: days_employed, dtype: float64"
      ]
     },
     "execution_count": 8,
     "metadata": {},
     "output_type": "execute_result"
    }
   ],
   "source": [
    "\n",
    "data.groupby('income_type')['days_employed'].agg('median')\n",
    "\n"
   ]
  },
  {
   "cell_type": "markdown",
   "id": "c8e399d9",
   "metadata": {
    "deletable": false,
    "editable": false,
    "id": "38d1a030"
   },
   "source": [
    "У двух типов (безработные и пенсионеры) получатся аномально большие значения. Исправить такие значения сложно, поэтому оставьте их как есть. Тем более этот столбец не понадобится вам для исследования."
   ]
  },
  {
   "cell_type": "markdown",
   "id": "b6666383",
   "metadata": {
    "deletable": false,
    "editable": false,
    "id": "d8a9f147",
    "tags": [
     "start_task"
    ]
   },
   "source": [
    "**Задание 8. Выведите перечень уникальных значений столбца `children`.**"
   ]
  },
  {
   "cell_type": "code",
   "execution_count": 9,
   "id": "817e07bb",
   "metadata": {
    "id": "ef5056eb"
   },
   "outputs": [
    {
     "data": {
      "text/plain": [
       "array([ 1,  0,  3,  2, -1,  4, 20,  5])"
      ]
     },
     "execution_count": 9,
     "metadata": {},
     "output_type": "execute_result"
    }
   ],
   "source": [
    "data['children'].unique()# ваш код здесь"
   ]
  },
  {
   "cell_type": "markdown",
   "id": "34ccde59",
   "metadata": {
    "deletable": false,
    "editable": false,
    "id": "40b9ebf2",
    "tags": [
     "start_task"
    ]
   },
   "source": [
    "**Задание 9. В столбце `children` есть два аномальных значения. Удалите строки, в которых встречаются такие аномальные значения из датафрейма `data`.**"
   ]
  },
  {
   "cell_type": "code",
   "execution_count": 10,
   "id": "95ad67aa",
   "metadata": {
    "id": "3ff9801d"
   },
   "outputs": [],
   "source": [
    "data = data.loc[(data['children'] != 20) & ((data['children'] != -1))].copy()# ваш код здесь"
   ]
  },
  {
   "cell_type": "markdown",
   "id": "a4983a1e",
   "metadata": {
    "deletable": false,
    "editable": false,
    "id": "bbc4d0ce",
    "tags": [
     "start_task"
    ]
   },
   "source": [
    "**Задание 10. Ещё раз выведите перечень уникальных значений столбца `children`, чтобы убедиться, что артефакты удалены.**"
   ]
  },
  {
   "cell_type": "code",
   "execution_count": 11,
   "id": "4f4d79aa",
   "metadata": {
    "id": "ad4fa8b7"
   },
   "outputs": [
    {
     "data": {
      "text/plain": [
       "array([1, 0, 3, 2, 4, 5])"
      ]
     },
     "execution_count": 11,
     "metadata": {},
     "output_type": "execute_result"
    }
   ],
   "source": [
    "data['children'].unique()# ваш код здесь"
   ]
  },
  {
   "cell_type": "markdown",
   "id": "5ec1d272",
   "metadata": {
    "deletable": false,
    "editable": false,
    "id": "75440b63"
   },
   "source": [
    "### Удаление пропусков (продолжение)"
   ]
  },
  {
   "cell_type": "markdown",
   "id": "d5ad93e9",
   "metadata": {
    "deletable": false,
    "editable": false,
    "id": "f4ea573f",
    "tags": [
     "start_task"
    ]
   },
   "source": [
    "**Задание 11. Заполните пропуски в столбце `days_employed` медианными значениями по каждому типу занятости `income_type`.**"
   ]
  },
  {
   "cell_type": "code",
   "execution_count": 12,
   "id": "44d4122b",
   "metadata": {
    "id": "af6b1a7e"
   },
   "outputs": [],
   "source": [
    "days_employed_by_type_income = data.groupby('income_type')['days_employed'].median()\n",
    "\n",
    "for inc_type in data['income_type'].unique():\n",
    "    data.loc[data['income_type'] == inc_type,'days_employed'] = data.loc[data['income_type'] == inc_type,'days_employed'].fillna(days_employed_by_type_income[inc_type])\n",
    "    \n",
    "# ваш код здесь"
   ]
  },
  {
   "cell_type": "code",
   "execution_count": null,
   "id": "363b6163",
   "metadata": {},
   "outputs": [],
   "source": []
  },
  {
   "cell_type": "markdown",
   "id": "c426bcbc",
   "metadata": {
    "deletable": false,
    "editable": false,
    "id": "2753f40d",
    "tags": [
     "start_task"
    ]
   },
   "source": [
    "**Задание 12. Убедитесь, что все пропуски заполнены. Проверьте себя и ещё раз выведите количество пропущенных значений для каждого столбца с помощью двух методов.**"
   ]
  },
  {
   "cell_type": "code",
   "execution_count": 13,
   "id": "b6c8e3a1",
   "metadata": {
    "id": "55f78bc2"
   },
   "outputs": [
    {
     "name": "stdout",
     "output_type": "stream",
     "text": [
      "children            0\n",
      "days_employed       0\n",
      "dob_years           0\n",
      "education           0\n",
      "education_id        0\n",
      "family_status       0\n",
      "family_status_id    0\n",
      "gender              0\n",
      "income_type         0\n",
      "debt                0\n",
      "total_income        0\n",
      "purpose             0\n",
      "dtype: int64\n"
     ]
    }
   ],
   "source": [
    "print(data.isnull().sum(axis=0))# ваш код здесь"
   ]
  },
  {
   "cell_type": "markdown",
   "id": "acf5a25e",
   "metadata": {
    "deletable": false,
    "editable": false,
    "id": "ddc81e43"
   },
   "source": [
    "### Изменение типов данных"
   ]
  },
  {
   "cell_type": "markdown",
   "id": "d383e396",
   "metadata": {
    "deletable": false,
    "editable": false,
    "id": "42d19d24",
    "tags": [
     "start_task"
    ]
   },
   "source": [
    "**Задание 13. Замените вещественный тип данных в столбце `total_income` на целочисленный с помощью метода `astype()`.**"
   ]
  },
  {
   "cell_type": "code",
   "execution_count": 14,
   "id": "225738e7",
   "metadata": {
    "id": "920b65ad"
   },
   "outputs": [],
   "source": [
    "data['total_income'] = data['total_income'].astype('int')# ваш код здесь"
   ]
  },
  {
   "cell_type": "markdown",
   "id": "586ab473",
   "metadata": {
    "deletable": false,
    "editable": false,
    "id": "80c420ba"
   },
   "source": [
    "### Обработка дубликатов"
   ]
  },
  {
   "cell_type": "markdown",
   "id": "f22482e9",
   "metadata": {
    "deletable": false,
    "editable": false,
    "id": "dc587695",
    "tags": [
     "start_task"
    ]
   },
   "source": [
    "**Задание 14. Выведите на экран количество строк-дубликатов в данных. Если такие строки присутствуют, удалите их.**"
   ]
  },
  {
   "cell_type": "code",
   "execution_count": 15,
   "id": "c8cab0cb",
   "metadata": {
    "id": "3ee445e4"
   },
   "outputs": [
    {
     "data": {
      "text/plain": [
       "54"
      ]
     },
     "execution_count": 15,
     "metadata": {},
     "output_type": "execute_result"
    }
   ],
   "source": [
    "data.duplicated().sum()# посчитайте дубликаты"
   ]
  },
  {
   "cell_type": "code",
   "execution_count": 16,
   "id": "45491697",
   "metadata": {
    "id": "8575fe05"
   },
   "outputs": [],
   "source": [
    "data=data.drop_duplicates().copy()# удалите дубликаты"
   ]
  },
  {
   "cell_type": "markdown",
   "id": "372ef3c5",
   "metadata": {
    "deletable": false,
    "editable": false,
    "id": "9771a76c",
    "tags": [
     "start_task"
    ]
   },
   "source": [
    "**Задание 15. Обработайте неявные дубликаты в столбце `education`. В этом столбце есть одни и те же значения, но записанные по-разному: с использованием заглавных и строчных букв. Приведите их к нижнему регистру. Проверьте остальные столбцы.**"
   ]
  },
  {
   "cell_type": "code",
   "execution_count": 17,
   "id": "b8a3b5fd",
   "metadata": {
    "id": "a9f8e2bf"
   },
   "outputs": [],
   "source": [
    "data['education'] = data['education'].str.lower()\n",
    "\n",
    " \n",
    "# ваш код здесь"
   ]
  },
  {
   "cell_type": "markdown",
   "id": "33b54dc9",
   "metadata": {
    "deletable": false,
    "editable": false,
    "id": "9904cf55"
   },
   "source": [
    "### Категоризация данных"
   ]
  },
  {
   "cell_type": "markdown",
   "id": "e855cf4b",
   "metadata": {
    "deletable": false,
    "editable": false,
    "id": "72fcc8a2",
    "tags": [
     "start_task"
    ]
   },
   "source": [
    "**Задание 16. На основании диапазонов, указанных ниже, создайте в датафрейме `data` столбец `total_income_category` с категориями:**\n",
    "\n",
    "- 0–30000 — `'E'`;\n",
    "- 30001–50000 — `'D'`;\n",
    "- 50001–200000 — `'C'`;\n",
    "- 200001–1000000 — `'B'`;\n",
    "- 1000001 и выше — `'A'`.\n",
    "\n",
    "\n",
    "**Например, кредитополучателю с доходом 25000 нужно назначить категорию `'E'`, а клиенту, получающему 235000, — `'B'`. Используйте собственную функцию с именем `categorize_income()` и метод `apply()`.**"
   ]
  },
  {
   "cell_type": "code",
   "execution_count": 18,
   "id": "dddea311",
   "metadata": {
    "id": "e1771346"
   },
   "outputs": [],
   "source": [
    "def categorize_income(total_income):\n",
    "    if  0 <= total_income <= 30000:\n",
    "        return 'E'\n",
    "    if 30001 <= total_income <= 50000:\n",
    "        return 'D'\n",
    "    if 50001 <= total_income <= 200000:\n",
    "        return 'C'\n",
    "    if 200001 <= total_income <= 1000000:\n",
    "        return 'B'\n",
    "    if total_income >= 1000001:\n",
    "        return 'A'# создайте функцию categorize_income()"
   ]
  },
  {
   "cell_type": "code",
   "execution_count": 19,
   "id": "c2d184b5",
   "metadata": {
    "id": "d5f3586d"
   },
   "outputs": [
    {
     "data": {
      "text/html": [
       "<div>\n",
       "<style scoped>\n",
       "    .dataframe tbody tr th:only-of-type {\n",
       "        vertical-align: middle;\n",
       "    }\n",
       "\n",
       "    .dataframe tbody tr th {\n",
       "        vertical-align: top;\n",
       "    }\n",
       "\n",
       "    .dataframe thead th {\n",
       "        text-align: right;\n",
       "    }\n",
       "</style>\n",
       "<table border=\"1\" class=\"dataframe\">\n",
       "  <thead>\n",
       "    <tr style=\"text-align: right;\">\n",
       "      <th></th>\n",
       "      <th>children</th>\n",
       "      <th>days_employed</th>\n",
       "      <th>dob_years</th>\n",
       "      <th>education</th>\n",
       "      <th>education_id</th>\n",
       "      <th>family_status</th>\n",
       "      <th>family_status_id</th>\n",
       "      <th>gender</th>\n",
       "      <th>income_type</th>\n",
       "      <th>debt</th>\n",
       "      <th>total_income</th>\n",
       "      <th>purpose</th>\n",
       "      <th>total_income_category</th>\n",
       "    </tr>\n",
       "  </thead>\n",
       "  <tbody>\n",
       "    <tr>\n",
       "      <th>0</th>\n",
       "      <td>1</td>\n",
       "      <td>8437.673028</td>\n",
       "      <td>42</td>\n",
       "      <td>высшее</td>\n",
       "      <td>0</td>\n",
       "      <td>женат / замужем</td>\n",
       "      <td>0</td>\n",
       "      <td>F</td>\n",
       "      <td>сотрудник</td>\n",
       "      <td>0</td>\n",
       "      <td>253875</td>\n",
       "      <td>покупка жилья</td>\n",
       "      <td>B</td>\n",
       "    </tr>\n",
       "    <tr>\n",
       "      <th>1</th>\n",
       "      <td>1</td>\n",
       "      <td>4024.803754</td>\n",
       "      <td>36</td>\n",
       "      <td>среднее</td>\n",
       "      <td>1</td>\n",
       "      <td>женат / замужем</td>\n",
       "      <td>0</td>\n",
       "      <td>F</td>\n",
       "      <td>сотрудник</td>\n",
       "      <td>0</td>\n",
       "      <td>112080</td>\n",
       "      <td>приобретение автомобиля</td>\n",
       "      <td>C</td>\n",
       "    </tr>\n",
       "    <tr>\n",
       "      <th>2</th>\n",
       "      <td>0</td>\n",
       "      <td>5623.422610</td>\n",
       "      <td>33</td>\n",
       "      <td>среднее</td>\n",
       "      <td>1</td>\n",
       "      <td>женат / замужем</td>\n",
       "      <td>0</td>\n",
       "      <td>M</td>\n",
       "      <td>сотрудник</td>\n",
       "      <td>0</td>\n",
       "      <td>145885</td>\n",
       "      <td>покупка жилья</td>\n",
       "      <td>C</td>\n",
       "    </tr>\n",
       "    <tr>\n",
       "      <th>3</th>\n",
       "      <td>3</td>\n",
       "      <td>4124.747207</td>\n",
       "      <td>32</td>\n",
       "      <td>среднее</td>\n",
       "      <td>1</td>\n",
       "      <td>женат / замужем</td>\n",
       "      <td>0</td>\n",
       "      <td>M</td>\n",
       "      <td>сотрудник</td>\n",
       "      <td>0</td>\n",
       "      <td>267628</td>\n",
       "      <td>дополнительное образование</td>\n",
       "      <td>B</td>\n",
       "    </tr>\n",
       "    <tr>\n",
       "      <th>4</th>\n",
       "      <td>0</td>\n",
       "      <td>340266.072047</td>\n",
       "      <td>53</td>\n",
       "      <td>среднее</td>\n",
       "      <td>1</td>\n",
       "      <td>гражданский брак</td>\n",
       "      <td>1</td>\n",
       "      <td>F</td>\n",
       "      <td>пенсионер</td>\n",
       "      <td>0</td>\n",
       "      <td>158616</td>\n",
       "      <td>сыграть свадьбу</td>\n",
       "      <td>C</td>\n",
       "    </tr>\n",
       "    <tr>\n",
       "      <th>...</th>\n",
       "      <td>...</td>\n",
       "      <td>...</td>\n",
       "      <td>...</td>\n",
       "      <td>...</td>\n",
       "      <td>...</td>\n",
       "      <td>...</td>\n",
       "      <td>...</td>\n",
       "      <td>...</td>\n",
       "      <td>...</td>\n",
       "      <td>...</td>\n",
       "      <td>...</td>\n",
       "      <td>...</td>\n",
       "      <td>...</td>\n",
       "    </tr>\n",
       "    <tr>\n",
       "      <th>21520</th>\n",
       "      <td>1</td>\n",
       "      <td>4529.316663</td>\n",
       "      <td>43</td>\n",
       "      <td>среднее</td>\n",
       "      <td>1</td>\n",
       "      <td>гражданский брак</td>\n",
       "      <td>1</td>\n",
       "      <td>F</td>\n",
       "      <td>компаньон</td>\n",
       "      <td>0</td>\n",
       "      <td>224791</td>\n",
       "      <td>операции с жильем</td>\n",
       "      <td>B</td>\n",
       "    </tr>\n",
       "    <tr>\n",
       "      <th>21521</th>\n",
       "      <td>0</td>\n",
       "      <td>343937.404131</td>\n",
       "      <td>67</td>\n",
       "      <td>среднее</td>\n",
       "      <td>1</td>\n",
       "      <td>женат / замужем</td>\n",
       "      <td>0</td>\n",
       "      <td>F</td>\n",
       "      <td>пенсионер</td>\n",
       "      <td>0</td>\n",
       "      <td>155999</td>\n",
       "      <td>сделка с автомобилем</td>\n",
       "      <td>C</td>\n",
       "    </tr>\n",
       "    <tr>\n",
       "      <th>21522</th>\n",
       "      <td>1</td>\n",
       "      <td>2113.346888</td>\n",
       "      <td>38</td>\n",
       "      <td>среднее</td>\n",
       "      <td>1</td>\n",
       "      <td>гражданский брак</td>\n",
       "      <td>1</td>\n",
       "      <td>M</td>\n",
       "      <td>сотрудник</td>\n",
       "      <td>1</td>\n",
       "      <td>89672</td>\n",
       "      <td>недвижимость</td>\n",
       "      <td>C</td>\n",
       "    </tr>\n",
       "    <tr>\n",
       "      <th>21523</th>\n",
       "      <td>3</td>\n",
       "      <td>3112.481705</td>\n",
       "      <td>38</td>\n",
       "      <td>среднее</td>\n",
       "      <td>1</td>\n",
       "      <td>женат / замужем</td>\n",
       "      <td>0</td>\n",
       "      <td>M</td>\n",
       "      <td>сотрудник</td>\n",
       "      <td>1</td>\n",
       "      <td>244093</td>\n",
       "      <td>на покупку своего автомобиля</td>\n",
       "      <td>B</td>\n",
       "    </tr>\n",
       "    <tr>\n",
       "      <th>21524</th>\n",
       "      <td>2</td>\n",
       "      <td>1984.507589</td>\n",
       "      <td>40</td>\n",
       "      <td>среднее</td>\n",
       "      <td>1</td>\n",
       "      <td>женат / замужем</td>\n",
       "      <td>0</td>\n",
       "      <td>F</td>\n",
       "      <td>сотрудник</td>\n",
       "      <td>0</td>\n",
       "      <td>82047</td>\n",
       "      <td>на покупку автомобиля</td>\n",
       "      <td>C</td>\n",
       "    </tr>\n",
       "  </tbody>\n",
       "</table>\n",
       "<p>21348 rows × 13 columns</p>\n",
       "</div>"
      ],
      "text/plain": [
       "       children  days_employed  dob_years education  education_id  \\\n",
       "0             1    8437.673028         42    высшее             0   \n",
       "1             1    4024.803754         36   среднее             1   \n",
       "2             0    5623.422610         33   среднее             1   \n",
       "3             3    4124.747207         32   среднее             1   \n",
       "4             0  340266.072047         53   среднее             1   \n",
       "...         ...            ...        ...       ...           ...   \n",
       "21520         1    4529.316663         43   среднее             1   \n",
       "21521         0  343937.404131         67   среднее             1   \n",
       "21522         1    2113.346888         38   среднее             1   \n",
       "21523         3    3112.481705         38   среднее             1   \n",
       "21524         2    1984.507589         40   среднее             1   \n",
       "\n",
       "          family_status  family_status_id gender income_type  debt  \\\n",
       "0       женат / замужем                 0      F   сотрудник     0   \n",
       "1       женат / замужем                 0      F   сотрудник     0   \n",
       "2       женат / замужем                 0      M   сотрудник     0   \n",
       "3       женат / замужем                 0      M   сотрудник     0   \n",
       "4      гражданский брак                 1      F   пенсионер     0   \n",
       "...                 ...               ...    ...         ...   ...   \n",
       "21520  гражданский брак                 1      F   компаньон     0   \n",
       "21521   женат / замужем                 0      F   пенсионер     0   \n",
       "21522  гражданский брак                 1      M   сотрудник     1   \n",
       "21523   женат / замужем                 0      M   сотрудник     1   \n",
       "21524   женат / замужем                 0      F   сотрудник     0   \n",
       "\n",
       "       total_income                       purpose total_income_category  \n",
       "0            253875                 покупка жилья                     B  \n",
       "1            112080       приобретение автомобиля                     C  \n",
       "2            145885                 покупка жилья                     C  \n",
       "3            267628    дополнительное образование                     B  \n",
       "4            158616               сыграть свадьбу                     C  \n",
       "...             ...                           ...                   ...  \n",
       "21520        224791             операции с жильем                     B  \n",
       "21521        155999          сделка с автомобилем                     C  \n",
       "21522         89672                  недвижимость                     C  \n",
       "21523        244093  на покупку своего автомобиля                     B  \n",
       "21524         82047         на покупку автомобиля                     C  \n",
       "\n",
       "[21348 rows x 13 columns]"
      ]
     },
     "execution_count": 19,
     "metadata": {},
     "output_type": "execute_result"
    }
   ],
   "source": [
    "data['total_income_category'] = data['total_income'].apply(categorize_income)\n",
    "data# примените функцию методом apply()"
   ]
  },
  {
   "cell_type": "markdown",
   "id": "4f8a8888",
   "metadata": {
    "deletable": false,
    "editable": false,
    "id": "dde49b5c",
    "tags": [
     "start_task"
    ]
   },
   "source": [
    "**Задание 17. Выведите на экран перечень уникальных целей взятия кредита из столбца `purpose`.**"
   ]
  },
  {
   "cell_type": "code",
   "execution_count": 20,
   "id": "00e7934f",
   "metadata": {
    "id": "f67ce9b3"
   },
   "outputs": [
    {
     "data": {
      "text/plain": [
       "array(['покупка жилья', 'приобретение автомобиля',\n",
       "       'дополнительное образование', 'сыграть свадьбу',\n",
       "       'операции с жильем', 'образование', 'на проведение свадьбы',\n",
       "       'покупка жилья для семьи', 'покупка недвижимости',\n",
       "       'покупка коммерческой недвижимости', 'покупка жилой недвижимости',\n",
       "       'строительство собственной недвижимости', 'недвижимость',\n",
       "       'строительство недвижимости', 'на покупку подержанного автомобиля',\n",
       "       'на покупку своего автомобиля',\n",
       "       'операции с коммерческой недвижимостью',\n",
       "       'строительство жилой недвижимости', 'жилье',\n",
       "       'операции со своей недвижимостью', 'автомобили',\n",
       "       'заняться образованием', 'сделка с подержанным автомобилем',\n",
       "       'получение образования', 'автомобиль', 'свадьба',\n",
       "       'получение дополнительного образования', 'покупка своего жилья',\n",
       "       'операции с недвижимостью', 'получение высшего образования',\n",
       "       'свой автомобиль', 'сделка с автомобилем',\n",
       "       'профильное образование', 'высшее образование',\n",
       "       'покупка жилья для сдачи', 'на покупку автомобиля', 'ремонт жилью',\n",
       "       'заняться высшим образованием'], dtype=object)"
      ]
     },
     "execution_count": 20,
     "metadata": {},
     "output_type": "execute_result"
    }
   ],
   "source": [
    "data['purpose'].unique()"
   ]
  },
  {
   "cell_type": "markdown",
   "id": "159bdd18",
   "metadata": {
    "deletable": false,
    "editable": false,
    "id": "85d0aef0",
    "tags": [
     "start_task"
    ]
   },
   "source": [
    "**Задание 18. Создайте функцию, которая на основании данных из столбца `purpose` сформирует новый столбец `purpose_category`, в который войдут следующие категории:**\n",
    "\n",
    "- `'операции с автомобилем'`,\n",
    "- `'операции с недвижимостью'`,\n",
    "- `'проведение свадьбы'`,\n",
    "- `'получение образования'`.\n",
    "\n",
    "**Например, если в столбце `purpose` находится подстрока `'на покупку автомобиля'`, то в столбце `purpose_category` должна появиться строка `'операции с автомобилем'`.**\n",
    "\n",
    "**Используйте собственную функцию с именем `categorize_purpose()` и метод `apply()`. Изучите данные в столбце `purpose` и определите, какие подстроки помогут вам правильно определить категорию.**"
   ]
  },
  {
   "cell_type": "code",
   "execution_count": 21,
   "id": "f3f55014",
   "metadata": {
    "id": "e149fab4"
   },
   "outputs": [],
   "source": [
    "def categorize_purpose(purpose):\n",
    "    try:\n",
    "        if 'автом'  in purpose:\n",
    "            return 'операции с автомобилем'\n",
    "        elif 'жиль' in purpose or 'недвиж' in purpose:\n",
    "            return 'операции с недвижимостью'\n",
    "        elif 'свадьб' in purpose:\n",
    "            return 'проведение свадьбы'\n",
    "        elif 'образов'in purpose:\n",
    "                return 'получение образования'\n",
    "    except:\n",
    "        return 'категория неизвестна'\n"
   ]
  },
  {
   "cell_type": "code",
   "execution_count": 22,
   "id": "d5b1ea12",
   "metadata": {
    "id": "bf36e69b"
   },
   "outputs": [],
   "source": [
    "data['purpose_category'] = data['purpose'].apply(categorize_purpose)# примените функцию методом apply()"
   ]
  },
  {
   "cell_type": "code",
   "execution_count": null,
   "id": "23b7163d",
   "metadata": {},
   "outputs": [],
   "source": []
  }
 ],
 "metadata": {
  "ExecuteTimeLog": [
   {
    "duration": 45,
    "start_time": "2022-07-02T05:55:27.912Z"
   },
   {
    "duration": 417,
    "start_time": "2022-07-02T05:55:37.103Z"
   },
   {
    "duration": 104,
    "start_time": "2022-07-02T05:55:39.028Z"
   },
   {
    "duration": 26,
    "start_time": "2022-07-02T05:55:42.477Z"
   },
   {
    "duration": 3,
    "start_time": "2022-07-02T05:55:58.349Z"
   },
   {
    "duration": 73,
    "start_time": "2022-07-02T05:55:58.354Z"
   },
   {
    "duration": 9,
    "start_time": "2022-07-02T05:55:58.429Z"
   },
   {
    "duration": 1,
    "start_time": "2022-07-02T05:55:58.440Z"
   },
   {
    "duration": 0,
    "start_time": "2022-07-02T05:55:58.443Z"
   },
   {
    "duration": 0,
    "start_time": "2022-07-02T05:55:58.444Z"
   },
   {
    "duration": 0,
    "start_time": "2022-07-02T05:55:58.445Z"
   },
   {
    "duration": 0,
    "start_time": "2022-07-02T05:55:58.447Z"
   },
   {
    "duration": 0,
    "start_time": "2022-07-02T05:55:58.448Z"
   },
   {
    "duration": 0,
    "start_time": "2022-07-02T05:55:58.449Z"
   },
   {
    "duration": 0,
    "start_time": "2022-07-02T05:55:58.451Z"
   },
   {
    "duration": 0,
    "start_time": "2022-07-02T05:55:58.452Z"
   },
   {
    "duration": 0,
    "start_time": "2022-07-02T05:55:58.453Z"
   },
   {
    "duration": 0,
    "start_time": "2022-07-02T05:55:58.454Z"
   },
   {
    "duration": 0,
    "start_time": "2022-07-02T05:55:58.455Z"
   },
   {
    "duration": 0,
    "start_time": "2022-07-02T05:55:58.456Z"
   },
   {
    "duration": 0,
    "start_time": "2022-07-02T05:55:58.457Z"
   },
   {
    "duration": 0,
    "start_time": "2022-07-02T05:55:58.458Z"
   },
   {
    "duration": 0,
    "start_time": "2022-07-02T05:55:58.459Z"
   },
   {
    "duration": 0,
    "start_time": "2022-07-02T05:55:58.459Z"
   },
   {
    "duration": 0,
    "start_time": "2022-07-02T05:55:58.460Z"
   },
   {
    "duration": 0,
    "start_time": "2022-07-02T05:55:58.461Z"
   },
   {
    "duration": 3,
    "start_time": "2022-07-02T05:56:31.350Z"
   },
   {
    "duration": 61,
    "start_time": "2022-07-02T05:56:31.355Z"
   },
   {
    "duration": 10,
    "start_time": "2022-07-02T05:56:31.417Z"
   },
   {
    "duration": 14,
    "start_time": "2022-07-02T05:56:31.429Z"
   },
   {
    "duration": 9,
    "start_time": "2022-07-02T05:56:31.444Z"
   },
   {
    "duration": 6,
    "start_time": "2022-07-02T05:56:31.455Z"
   },
   {
    "duration": 9,
    "start_time": "2022-07-02T05:56:31.462Z"
   },
   {
    "duration": 8,
    "start_time": "2022-07-02T05:56:31.473Z"
   },
   {
    "duration": 5,
    "start_time": "2022-07-02T05:56:31.484Z"
   },
   {
    "duration": 6,
    "start_time": "2022-07-02T05:56:31.491Z"
   },
   {
    "duration": 5,
    "start_time": "2022-07-02T05:56:31.498Z"
   },
   {
    "duration": 7,
    "start_time": "2022-07-02T05:56:31.504Z"
   },
   {
    "duration": 6,
    "start_time": "2022-07-02T05:56:31.513Z"
   },
   {
    "duration": 9,
    "start_time": "2022-07-02T05:56:31.521Z"
   },
   {
    "duration": 8,
    "start_time": "2022-07-02T05:56:31.531Z"
   },
   {
    "duration": 6,
    "start_time": "2022-07-02T05:56:31.540Z"
   },
   {
    "duration": 6,
    "start_time": "2022-07-02T05:56:31.547Z"
   },
   {
    "duration": 16,
    "start_time": "2022-07-02T05:56:31.554Z"
   },
   {
    "duration": 7,
    "start_time": "2022-07-02T05:56:31.572Z"
   },
   {
    "duration": 6,
    "start_time": "2022-07-02T05:56:31.580Z"
   },
   {
    "duration": 13,
    "start_time": "2022-07-02T05:56:31.588Z"
   },
   {
    "duration": 20,
    "start_time": "2022-07-02T05:56:31.602Z"
   },
   {
    "duration": 14,
    "start_time": "2022-07-02T05:58:39.444Z"
   },
   {
    "duration": 14,
    "start_time": "2022-07-02T07:48:03.263Z"
   },
   {
    "duration": 2,
    "start_time": "2022-07-02T07:48:41.308Z"
   },
   {
    "duration": 59,
    "start_time": "2022-07-02T07:48:41.312Z"
   },
   {
    "duration": 8,
    "start_time": "2022-07-02T07:48:41.373Z"
   },
   {
    "duration": 19,
    "start_time": "2022-07-02T07:48:41.383Z"
   },
   {
    "duration": 33,
    "start_time": "2022-07-02T07:48:41.404Z"
   },
   {
    "duration": 0,
    "start_time": "2022-07-02T07:48:41.439Z"
   },
   {
    "duration": 0,
    "start_time": "2022-07-02T07:48:41.441Z"
   },
   {
    "duration": 0,
    "start_time": "2022-07-02T07:48:41.442Z"
   },
   {
    "duration": 0,
    "start_time": "2022-07-02T07:48:41.443Z"
   },
   {
    "duration": 0,
    "start_time": "2022-07-02T07:48:41.445Z"
   },
   {
    "duration": 0,
    "start_time": "2022-07-02T07:48:41.446Z"
   },
   {
    "duration": 0,
    "start_time": "2022-07-02T07:48:41.447Z"
   },
   {
    "duration": 0,
    "start_time": "2022-07-02T07:48:41.449Z"
   },
   {
    "duration": 0,
    "start_time": "2022-07-02T07:48:41.450Z"
   },
   {
    "duration": 0,
    "start_time": "2022-07-02T07:48:41.451Z"
   },
   {
    "duration": 0,
    "start_time": "2022-07-02T07:48:41.452Z"
   },
   {
    "duration": 0,
    "start_time": "2022-07-02T07:48:41.452Z"
   },
   {
    "duration": 0,
    "start_time": "2022-07-02T07:48:41.453Z"
   },
   {
    "duration": 0,
    "start_time": "2022-07-02T07:48:41.454Z"
   },
   {
    "duration": 0,
    "start_time": "2022-07-02T07:48:41.456Z"
   },
   {
    "duration": 0,
    "start_time": "2022-07-02T07:48:41.457Z"
   },
   {
    "duration": 0,
    "start_time": "2022-07-02T07:48:41.458Z"
   },
   {
    "duration": 3,
    "start_time": "2022-07-02T07:48:58.625Z"
   },
   {
    "duration": 63,
    "start_time": "2022-07-02T07:48:58.630Z"
   },
   {
    "duration": 9,
    "start_time": "2022-07-02T07:48:58.694Z"
   },
   {
    "duration": 29,
    "start_time": "2022-07-02T07:48:58.704Z"
   },
   {
    "duration": 12,
    "start_time": "2022-07-02T07:48:58.734Z"
   },
   {
    "duration": 0,
    "start_time": "2022-07-02T07:48:58.748Z"
   },
   {
    "duration": 0,
    "start_time": "2022-07-02T07:48:58.749Z"
   },
   {
    "duration": 0,
    "start_time": "2022-07-02T07:48:58.750Z"
   },
   {
    "duration": 0,
    "start_time": "2022-07-02T07:48:58.752Z"
   },
   {
    "duration": 0,
    "start_time": "2022-07-02T07:48:58.753Z"
   },
   {
    "duration": 0,
    "start_time": "2022-07-02T07:48:58.754Z"
   },
   {
    "duration": 0,
    "start_time": "2022-07-02T07:48:58.755Z"
   },
   {
    "duration": 0,
    "start_time": "2022-07-02T07:48:58.756Z"
   },
   {
    "duration": 0,
    "start_time": "2022-07-02T07:48:58.757Z"
   },
   {
    "duration": 0,
    "start_time": "2022-07-02T07:48:58.758Z"
   },
   {
    "duration": 0,
    "start_time": "2022-07-02T07:48:58.759Z"
   },
   {
    "duration": 0,
    "start_time": "2022-07-02T07:48:58.760Z"
   },
   {
    "duration": 0,
    "start_time": "2022-07-02T07:48:58.762Z"
   },
   {
    "duration": 0,
    "start_time": "2022-07-02T07:48:58.763Z"
   },
   {
    "duration": 0,
    "start_time": "2022-07-02T07:48:58.764Z"
   },
   {
    "duration": 0,
    "start_time": "2022-07-02T07:48:58.765Z"
   },
   {
    "duration": 0,
    "start_time": "2022-07-02T07:48:58.766Z"
   },
   {
    "duration": 109,
    "start_time": "2022-07-03T08:13:02.776Z"
   },
   {
    "duration": 16,
    "start_time": "2022-07-03T08:13:24.569Z"
   },
   {
    "duration": 18,
    "start_time": "2022-07-03T08:13:40.891Z"
   },
   {
    "duration": 11,
    "start_time": "2022-07-03T08:24:04.047Z"
   },
   {
    "duration": 719,
    "start_time": "2022-07-03T08:24:22.102Z"
   },
   {
    "duration": 216,
    "start_time": "2022-07-03T08:24:22.824Z"
   },
   {
    "duration": 15,
    "start_time": "2022-07-03T08:24:23.041Z"
   },
   {
    "duration": 34,
    "start_time": "2022-07-03T08:24:23.057Z"
   },
   {
    "duration": 28,
    "start_time": "2022-07-03T08:24:23.098Z"
   },
   {
    "duration": 3,
    "start_time": "2022-07-03T08:24:23.128Z"
   },
   {
    "duration": 11,
    "start_time": "2022-07-03T08:24:23.133Z"
   },
   {
    "duration": 57,
    "start_time": "2022-07-03T08:24:23.161Z"
   },
   {
    "duration": 19,
    "start_time": "2022-07-03T08:24:23.222Z"
   },
   {
    "duration": 5,
    "start_time": "2022-07-03T08:24:23.242Z"
   },
   {
    "duration": 40,
    "start_time": "2022-07-03T08:24:23.249Z"
   },
   {
    "duration": 26,
    "start_time": "2022-07-03T08:24:23.291Z"
   },
   {
    "duration": 5,
    "start_time": "2022-07-03T08:24:23.319Z"
   },
   {
    "duration": 4,
    "start_time": "2022-07-03T08:24:23.326Z"
   },
   {
    "duration": 6,
    "start_time": "2022-07-03T08:24:23.332Z"
   },
   {
    "duration": 6,
    "start_time": "2022-07-03T08:24:23.339Z"
   },
   {
    "duration": 14,
    "start_time": "2022-07-03T08:24:23.346Z"
   },
   {
    "duration": 54,
    "start_time": "2022-07-03T08:24:23.363Z"
   },
   {
    "duration": 5,
    "start_time": "2022-07-03T08:24:23.419Z"
   },
   {
    "duration": 5,
    "start_time": "2022-07-03T08:24:23.426Z"
   },
   {
    "duration": 4,
    "start_time": "2022-07-03T08:24:23.433Z"
   },
   {
    "duration": 6,
    "start_time": "2022-07-03T08:24:23.439Z"
   },
   {
    "duration": 9,
    "start_time": "2022-07-03T08:27:49.910Z"
   },
   {
    "duration": 9,
    "start_time": "2022-07-03T08:29:28.338Z"
   },
   {
    "duration": 47,
    "start_time": "2022-07-03T14:14:00.148Z"
   },
   {
    "duration": 425,
    "start_time": "2022-07-03T14:18:31.906Z"
   },
   {
    "duration": 392,
    "start_time": "2022-07-03T14:18:32.333Z"
   },
   {
    "duration": 15,
    "start_time": "2022-07-03T14:18:32.728Z"
   },
   {
    "duration": 38,
    "start_time": "2022-07-03T14:18:32.748Z"
   },
   {
    "duration": 24,
    "start_time": "2022-07-03T14:18:32.787Z"
   },
   {
    "duration": 25,
    "start_time": "2022-07-03T14:18:32.814Z"
   },
   {
    "duration": 34,
    "start_time": "2022-07-03T14:18:32.841Z"
   },
   {
    "duration": 9,
    "start_time": "2022-07-03T14:18:32.877Z"
   },
   {
    "duration": 11,
    "start_time": "2022-07-03T14:18:32.887Z"
   },
   {
    "duration": 5,
    "start_time": "2022-07-03T14:18:32.901Z"
   },
   {
    "duration": 6,
    "start_time": "2022-07-03T14:18:32.908Z"
   },
   {
    "duration": 5,
    "start_time": "2022-07-03T14:18:32.916Z"
   },
   {
    "duration": 30,
    "start_time": "2022-07-03T14:18:32.923Z"
   },
   {
    "duration": 7,
    "start_time": "2022-07-03T14:18:32.954Z"
   },
   {
    "duration": 7,
    "start_time": "2022-07-03T14:18:32.962Z"
   },
   {
    "duration": 10,
    "start_time": "2022-07-03T14:18:32.971Z"
   },
   {
    "duration": 5,
    "start_time": "2022-07-03T14:18:32.983Z"
   },
   {
    "duration": 5,
    "start_time": "2022-07-03T14:18:32.989Z"
   },
   {
    "duration": 6,
    "start_time": "2022-07-03T14:18:32.995Z"
   },
   {
    "duration": 5,
    "start_time": "2022-07-03T14:18:33.003Z"
   },
   {
    "duration": 5,
    "start_time": "2022-07-03T14:18:33.009Z"
   },
   {
    "duration": 6,
    "start_time": "2022-07-03T14:18:33.015Z"
   },
   {
    "duration": 11,
    "start_time": "2022-07-03T14:20:38.583Z"
   },
   {
    "duration": 3,
    "start_time": "2022-07-03T14:20:48.480Z"
   },
   {
    "duration": 77,
    "start_time": "2022-07-03T14:20:48.485Z"
   },
   {
    "duration": 8,
    "start_time": "2022-07-03T14:20:48.564Z"
   },
   {
    "duration": 20,
    "start_time": "2022-07-03T14:20:48.574Z"
   },
   {
    "duration": 12,
    "start_time": "2022-07-03T14:20:48.595Z"
   },
   {
    "duration": 29,
    "start_time": "2022-07-03T14:20:48.609Z"
   },
   {
    "duration": 10,
    "start_time": "2022-07-03T14:20:48.640Z"
   },
   {
    "duration": 7,
    "start_time": "2022-07-03T14:20:48.651Z"
   },
   {
    "duration": 8,
    "start_time": "2022-07-03T14:20:48.659Z"
   },
   {
    "duration": 5,
    "start_time": "2022-07-03T14:20:48.669Z"
   },
   {
    "duration": 14,
    "start_time": "2022-07-03T14:20:48.675Z"
   },
   {
    "duration": 11,
    "start_time": "2022-07-03T14:20:48.691Z"
   },
   {
    "duration": 7,
    "start_time": "2022-07-03T14:20:48.703Z"
   },
   {
    "duration": 24,
    "start_time": "2022-07-03T14:20:48.712Z"
   },
   {
    "duration": 6,
    "start_time": "2022-07-03T14:20:48.738Z"
   },
   {
    "duration": 11,
    "start_time": "2022-07-03T14:20:48.746Z"
   },
   {
    "duration": 8,
    "start_time": "2022-07-03T14:20:48.759Z"
   },
   {
    "duration": 14,
    "start_time": "2022-07-03T14:20:48.769Z"
   },
   {
    "duration": 7,
    "start_time": "2022-07-03T14:20:48.784Z"
   },
   {
    "duration": 6,
    "start_time": "2022-07-03T14:20:48.792Z"
   },
   {
    "duration": 5,
    "start_time": "2022-07-03T14:20:48.799Z"
   },
   {
    "duration": 5,
    "start_time": "2022-07-03T14:20:48.805Z"
   },
   {
    "duration": 3,
    "start_time": "2022-07-03T14:26:32.955Z"
   },
   {
    "duration": 78,
    "start_time": "2022-07-03T14:26:32.960Z"
   },
   {
    "duration": 9,
    "start_time": "2022-07-03T14:26:33.040Z"
   },
   {
    "duration": 28,
    "start_time": "2022-07-03T14:26:33.051Z"
   },
   {
    "duration": 9,
    "start_time": "2022-07-03T14:26:33.081Z"
   },
   {
    "duration": 10,
    "start_time": "2022-07-03T14:26:33.092Z"
   },
   {
    "duration": 2,
    "start_time": "2022-07-03T14:26:33.104Z"
   },
   {
    "duration": 20,
    "start_time": "2022-07-03T14:26:33.108Z"
   },
   {
    "duration": 14,
    "start_time": "2022-07-03T14:26:33.131Z"
   },
   {
    "duration": 5,
    "start_time": "2022-07-03T14:26:33.146Z"
   },
   {
    "duration": 5,
    "start_time": "2022-07-03T14:26:33.152Z"
   },
   {
    "duration": 5,
    "start_time": "2022-07-03T14:26:33.158Z"
   },
   {
    "duration": 4,
    "start_time": "2022-07-03T14:26:33.165Z"
   },
   {
    "duration": 4,
    "start_time": "2022-07-03T14:26:33.171Z"
   },
   {
    "duration": 4,
    "start_time": "2022-07-03T14:26:33.177Z"
   },
   {
    "duration": 5,
    "start_time": "2022-07-03T14:26:33.182Z"
   },
   {
    "duration": 6,
    "start_time": "2022-07-03T14:26:33.188Z"
   },
   {
    "duration": 5,
    "start_time": "2022-07-03T14:26:33.195Z"
   },
   {
    "duration": 3,
    "start_time": "2022-07-03T14:26:33.202Z"
   },
   {
    "duration": 49,
    "start_time": "2022-07-03T14:26:33.208Z"
   },
   {
    "duration": 6,
    "start_time": "2022-07-03T14:26:33.259Z"
   },
   {
    "duration": 5,
    "start_time": "2022-07-03T14:26:33.267Z"
   },
   {
    "duration": 16,
    "start_time": "2022-07-03T14:27:09.092Z"
   },
   {
    "duration": 17,
    "start_time": "2022-07-03T14:28:06.665Z"
   },
   {
    "duration": 36,
    "start_time": "2022-07-03T14:29:01.411Z"
   },
   {
    "duration": 14,
    "start_time": "2022-07-03T14:30:01.042Z"
   },
   {
    "duration": 12,
    "start_time": "2022-07-03T14:34:26.337Z"
   },
   {
    "duration": 3,
    "start_time": "2022-07-03T14:34:34.502Z"
   },
   {
    "duration": 99,
    "start_time": "2022-07-03T14:34:34.508Z"
   },
   {
    "duration": 13,
    "start_time": "2022-07-03T14:34:34.609Z"
   },
   {
    "duration": 32,
    "start_time": "2022-07-03T14:34:34.624Z"
   },
   {
    "duration": 10,
    "start_time": "2022-07-03T14:34:34.658Z"
   },
   {
    "duration": 9,
    "start_time": "2022-07-03T14:34:34.670Z"
   },
   {
    "duration": 3,
    "start_time": "2022-07-03T14:34:34.681Z"
   },
   {
    "duration": 5,
    "start_time": "2022-07-03T14:34:34.686Z"
   },
   {
    "duration": 31,
    "start_time": "2022-07-03T14:34:34.695Z"
   },
   {
    "duration": 4,
    "start_time": "2022-07-03T14:34:34.729Z"
   },
   {
    "duration": 5,
    "start_time": "2022-07-03T14:34:34.735Z"
   },
   {
    "duration": 7,
    "start_time": "2022-07-03T14:34:34.742Z"
   },
   {
    "duration": 9,
    "start_time": "2022-07-03T14:34:34.751Z"
   },
   {
    "duration": 6,
    "start_time": "2022-07-03T14:34:34.762Z"
   },
   {
    "duration": 8,
    "start_time": "2022-07-03T14:34:34.770Z"
   },
   {
    "duration": 17,
    "start_time": "2022-07-03T14:34:34.781Z"
   },
   {
    "duration": 28,
    "start_time": "2022-07-03T14:34:34.800Z"
   },
   {
    "duration": 19,
    "start_time": "2022-07-03T14:34:34.831Z"
   },
   {
    "duration": 38,
    "start_time": "2022-07-03T14:34:34.853Z"
   },
   {
    "duration": 8,
    "start_time": "2022-07-03T14:34:34.894Z"
   },
   {
    "duration": 22,
    "start_time": "2022-07-03T14:34:34.905Z"
   },
   {
    "duration": 8,
    "start_time": "2022-07-03T14:34:34.930Z"
   },
   {
    "duration": 3,
    "start_time": "2022-07-03T14:38:31.600Z"
   },
   {
    "duration": 82,
    "start_time": "2022-07-03T14:38:31.606Z"
   },
   {
    "duration": 10,
    "start_time": "2022-07-03T14:38:31.690Z"
   },
   {
    "duration": 25,
    "start_time": "2022-07-03T14:38:31.702Z"
   },
   {
    "duration": 14,
    "start_time": "2022-07-03T14:38:31.730Z"
   },
   {
    "duration": 41,
    "start_time": "2022-07-03T14:38:31.746Z"
   },
   {
    "duration": 2,
    "start_time": "2022-07-03T14:38:31.790Z"
   },
   {
    "duration": 7,
    "start_time": "2022-07-03T14:38:31.794Z"
   },
   {
    "duration": 23,
    "start_time": "2022-07-03T14:38:31.803Z"
   },
   {
    "duration": 6,
    "start_time": "2022-07-03T14:38:31.829Z"
   },
   {
    "duration": 7,
    "start_time": "2022-07-03T14:38:31.837Z"
   },
   {
    "duration": 11,
    "start_time": "2022-07-03T14:38:31.846Z"
   },
   {
    "duration": 7,
    "start_time": "2022-07-03T14:38:31.860Z"
   },
   {
    "duration": 8,
    "start_time": "2022-07-03T14:38:31.871Z"
   },
   {
    "duration": 6,
    "start_time": "2022-07-03T14:38:31.881Z"
   },
   {
    "duration": 7,
    "start_time": "2022-07-03T14:38:31.889Z"
   },
   {
    "duration": 8,
    "start_time": "2022-07-03T14:38:31.898Z"
   },
   {
    "duration": 24,
    "start_time": "2022-07-03T14:38:31.908Z"
   },
   {
    "duration": 6,
    "start_time": "2022-07-03T14:38:31.933Z"
   },
   {
    "duration": 6,
    "start_time": "2022-07-03T14:38:31.940Z"
   },
   {
    "duration": 6,
    "start_time": "2022-07-03T14:38:31.948Z"
   },
   {
    "duration": 5,
    "start_time": "2022-07-03T14:38:31.955Z"
   },
   {
    "duration": 2,
    "start_time": "2022-07-03T14:42:25.988Z"
   },
   {
    "duration": 82,
    "start_time": "2022-07-03T14:42:25.992Z"
   },
   {
    "duration": 10,
    "start_time": "2022-07-03T14:42:26.075Z"
   },
   {
    "duration": 39,
    "start_time": "2022-07-03T14:42:26.088Z"
   },
   {
    "duration": 10,
    "start_time": "2022-07-03T14:42:26.129Z"
   },
   {
    "duration": 24,
    "start_time": "2022-07-03T14:42:26.141Z"
   },
   {
    "duration": 3,
    "start_time": "2022-07-03T14:42:26.167Z"
   },
   {
    "duration": 10,
    "start_time": "2022-07-03T14:42:26.172Z"
   },
   {
    "duration": 6,
    "start_time": "2022-07-03T14:42:26.185Z"
   },
   {
    "duration": 32,
    "start_time": "2022-07-03T14:42:26.194Z"
   },
   {
    "duration": 2,
    "start_time": "2022-07-03T14:42:26.228Z"
   },
   {
    "duration": 6,
    "start_time": "2022-07-03T14:42:26.232Z"
   },
   {
    "duration": 6,
    "start_time": "2022-07-03T14:42:26.240Z"
   },
   {
    "duration": 8,
    "start_time": "2022-07-03T14:42:26.248Z"
   },
   {
    "duration": 8,
    "start_time": "2022-07-03T14:42:26.258Z"
   },
   {
    "duration": 8,
    "start_time": "2022-07-03T14:42:26.268Z"
   },
   {
    "duration": 8,
    "start_time": "2022-07-03T14:42:26.279Z"
   },
   {
    "duration": 5,
    "start_time": "2022-07-03T14:42:26.289Z"
   },
   {
    "duration": 6,
    "start_time": "2022-07-03T14:42:26.297Z"
   },
   {
    "duration": 3,
    "start_time": "2022-07-03T14:42:26.326Z"
   },
   {
    "duration": 5,
    "start_time": "2022-07-03T14:42:26.331Z"
   },
   {
    "duration": 7,
    "start_time": "2022-07-03T14:42:26.338Z"
   },
   {
    "duration": 12,
    "start_time": "2022-07-03T14:45:22.895Z"
   },
   {
    "duration": 1811,
    "start_time": "2022-07-03T15:23:40.165Z"
   },
   {
    "duration": 3,
    "start_time": "2022-07-03T15:24:13.398Z"
   },
   {
    "duration": 87,
    "start_time": "2022-07-03T15:24:13.403Z"
   },
   {
    "duration": 11,
    "start_time": "2022-07-03T15:24:13.493Z"
   },
   {
    "duration": 29,
    "start_time": "2022-07-03T15:24:13.507Z"
   },
   {
    "duration": 19,
    "start_time": "2022-07-03T15:24:13.542Z"
   },
   {
    "duration": 1647,
    "start_time": "2022-07-03T15:24:13.565Z"
   },
   {
    "duration": 0,
    "start_time": "2022-07-03T15:24:15.214Z"
   },
   {
    "duration": 0,
    "start_time": "2022-07-03T15:24:15.215Z"
   },
   {
    "duration": 0,
    "start_time": "2022-07-03T15:24:15.217Z"
   },
   {
    "duration": 0,
    "start_time": "2022-07-03T15:24:15.218Z"
   },
   {
    "duration": 1,
    "start_time": "2022-07-03T15:24:15.219Z"
   },
   {
    "duration": 0,
    "start_time": "2022-07-03T15:24:15.221Z"
   },
   {
    "duration": 0,
    "start_time": "2022-07-03T15:24:15.223Z"
   },
   {
    "duration": 0,
    "start_time": "2022-07-03T15:24:15.224Z"
   },
   {
    "duration": 0,
    "start_time": "2022-07-03T15:24:15.227Z"
   },
   {
    "duration": 0,
    "start_time": "2022-07-03T15:24:15.228Z"
   },
   {
    "duration": 0,
    "start_time": "2022-07-03T15:24:15.228Z"
   },
   {
    "duration": 0,
    "start_time": "2022-07-03T15:24:15.229Z"
   },
   {
    "duration": 0,
    "start_time": "2022-07-03T15:24:15.230Z"
   },
   {
    "duration": 0,
    "start_time": "2022-07-03T15:24:15.231Z"
   },
   {
    "duration": 0,
    "start_time": "2022-07-03T15:24:15.231Z"
   },
   {
    "duration": 0,
    "start_time": "2022-07-03T15:24:15.232Z"
   },
   {
    "duration": 2,
    "start_time": "2022-07-03T15:27:49.455Z"
   },
   {
    "duration": 4,
    "start_time": "2022-07-03T15:27:53.159Z"
   },
   {
    "duration": 85,
    "start_time": "2022-07-03T15:27:53.164Z"
   },
   {
    "duration": 9,
    "start_time": "2022-07-03T15:27:53.251Z"
   },
   {
    "duration": 24,
    "start_time": "2022-07-03T15:27:53.263Z"
   },
   {
    "duration": 8,
    "start_time": "2022-07-03T15:27:53.289Z"
   },
   {
    "duration": 1666,
    "start_time": "2022-07-03T15:27:53.299Z"
   },
   {
    "duration": 0,
    "start_time": "2022-07-03T15:27:54.967Z"
   },
   {
    "duration": 0,
    "start_time": "2022-07-03T15:27:54.968Z"
   },
   {
    "duration": 0,
    "start_time": "2022-07-03T15:27:54.969Z"
   },
   {
    "duration": 1,
    "start_time": "2022-07-03T15:27:54.970Z"
   },
   {
    "duration": 0,
    "start_time": "2022-07-03T15:27:54.971Z"
   },
   {
    "duration": 0,
    "start_time": "2022-07-03T15:27:54.973Z"
   },
   {
    "duration": 0,
    "start_time": "2022-07-03T15:27:54.974Z"
   },
   {
    "duration": 0,
    "start_time": "2022-07-03T15:27:54.975Z"
   },
   {
    "duration": 0,
    "start_time": "2022-07-03T15:27:54.976Z"
   },
   {
    "duration": 0,
    "start_time": "2022-07-03T15:27:54.977Z"
   },
   {
    "duration": 0,
    "start_time": "2022-07-03T15:27:54.978Z"
   },
   {
    "duration": 0,
    "start_time": "2022-07-03T15:27:54.979Z"
   },
   {
    "duration": 0,
    "start_time": "2022-07-03T15:27:54.980Z"
   },
   {
    "duration": 0,
    "start_time": "2022-07-03T15:27:54.981Z"
   },
   {
    "duration": 0,
    "start_time": "2022-07-03T15:27:54.982Z"
   },
   {
    "duration": 0,
    "start_time": "2022-07-03T15:27:54.983Z"
   },
   {
    "duration": 2,
    "start_time": "2022-07-03T15:28:26.303Z"
   },
   {
    "duration": 97,
    "start_time": "2022-07-03T15:28:26.307Z"
   },
   {
    "duration": 11,
    "start_time": "2022-07-03T15:28:26.407Z"
   },
   {
    "duration": 21,
    "start_time": "2022-07-03T15:28:26.420Z"
   },
   {
    "duration": 29,
    "start_time": "2022-07-03T15:28:26.445Z"
   },
   {
    "duration": 1578,
    "start_time": "2022-07-03T15:28:26.476Z"
   },
   {
    "duration": 0,
    "start_time": "2022-07-03T15:28:28.056Z"
   },
   {
    "duration": 0,
    "start_time": "2022-07-03T15:28:28.057Z"
   },
   {
    "duration": 0,
    "start_time": "2022-07-03T15:28:28.059Z"
   },
   {
    "duration": 0,
    "start_time": "2022-07-03T15:28:28.060Z"
   },
   {
    "duration": 0,
    "start_time": "2022-07-03T15:28:28.061Z"
   },
   {
    "duration": 0,
    "start_time": "2022-07-03T15:28:28.062Z"
   },
   {
    "duration": 0,
    "start_time": "2022-07-03T15:28:28.064Z"
   },
   {
    "duration": 0,
    "start_time": "2022-07-03T15:28:28.065Z"
   },
   {
    "duration": 0,
    "start_time": "2022-07-03T15:28:28.066Z"
   },
   {
    "duration": 0,
    "start_time": "2022-07-03T15:28:28.067Z"
   },
   {
    "duration": 0,
    "start_time": "2022-07-03T15:28:28.068Z"
   },
   {
    "duration": 0,
    "start_time": "2022-07-03T15:28:28.069Z"
   },
   {
    "duration": 1,
    "start_time": "2022-07-03T15:28:28.070Z"
   },
   {
    "duration": 0,
    "start_time": "2022-07-03T15:28:28.072Z"
   },
   {
    "duration": 0,
    "start_time": "2022-07-03T15:28:28.073Z"
   },
   {
    "duration": 0,
    "start_time": "2022-07-03T15:28:28.074Z"
   },
   {
    "duration": 2,
    "start_time": "2022-07-03T15:29:09.405Z"
   },
   {
    "duration": 88,
    "start_time": "2022-07-03T15:29:09.410Z"
   },
   {
    "duration": 7,
    "start_time": "2022-07-03T15:29:09.500Z"
   },
   {
    "duration": 16,
    "start_time": "2022-07-03T15:29:09.508Z"
   },
   {
    "duration": 26,
    "start_time": "2022-07-03T15:29:09.528Z"
   },
   {
    "duration": 1567,
    "start_time": "2022-07-03T15:29:09.555Z"
   },
   {
    "duration": 0,
    "start_time": "2022-07-03T15:29:11.124Z"
   },
   {
    "duration": 1,
    "start_time": "2022-07-03T15:29:11.125Z"
   },
   {
    "duration": 0,
    "start_time": "2022-07-03T15:29:11.127Z"
   },
   {
    "duration": 0,
    "start_time": "2022-07-03T15:29:11.128Z"
   },
   {
    "duration": 0,
    "start_time": "2022-07-03T15:29:11.129Z"
   },
   {
    "duration": 0,
    "start_time": "2022-07-03T15:29:11.130Z"
   },
   {
    "duration": 0,
    "start_time": "2022-07-03T15:29:11.132Z"
   },
   {
    "duration": 0,
    "start_time": "2022-07-03T15:29:11.133Z"
   },
   {
    "duration": 0,
    "start_time": "2022-07-03T15:29:11.134Z"
   },
   {
    "duration": 0,
    "start_time": "2022-07-03T15:29:11.135Z"
   },
   {
    "duration": 0,
    "start_time": "2022-07-03T15:29:11.136Z"
   },
   {
    "duration": 0,
    "start_time": "2022-07-03T15:29:11.138Z"
   },
   {
    "duration": 0,
    "start_time": "2022-07-03T15:29:11.139Z"
   },
   {
    "duration": 0,
    "start_time": "2022-07-03T15:29:11.140Z"
   },
   {
    "duration": 0,
    "start_time": "2022-07-03T15:29:11.141Z"
   },
   {
    "duration": 0,
    "start_time": "2022-07-03T15:29:11.143Z"
   },
   {
    "duration": 3,
    "start_time": "2022-07-03T15:29:57.894Z"
   },
   {
    "duration": 82,
    "start_time": "2022-07-03T15:29:57.900Z"
   },
   {
    "duration": 8,
    "start_time": "2022-07-03T15:29:57.984Z"
   },
   {
    "duration": 15,
    "start_time": "2022-07-03T15:29:57.995Z"
   },
   {
    "duration": 18,
    "start_time": "2022-07-03T15:29:58.011Z"
   },
   {
    "duration": 72,
    "start_time": "2022-07-03T15:29:58.031Z"
   },
   {
    "duration": 3,
    "start_time": "2022-07-03T15:29:58.104Z"
   },
   {
    "duration": 4,
    "start_time": "2022-07-03T15:29:58.109Z"
   },
   {
    "duration": 5,
    "start_time": "2022-07-03T15:29:58.115Z"
   },
   {
    "duration": 8,
    "start_time": "2022-07-03T15:29:58.121Z"
   },
   {
    "duration": 22,
    "start_time": "2022-07-03T15:29:58.134Z"
   },
   {
    "duration": 4,
    "start_time": "2022-07-03T15:29:58.157Z"
   },
   {
    "duration": 4,
    "start_time": "2022-07-03T15:29:58.163Z"
   },
   {
    "duration": 6,
    "start_time": "2022-07-03T15:29:58.169Z"
   },
   {
    "duration": 5,
    "start_time": "2022-07-03T15:29:58.176Z"
   },
   {
    "duration": 5,
    "start_time": "2022-07-03T15:29:58.183Z"
   },
   {
    "duration": 5,
    "start_time": "2022-07-03T15:29:58.189Z"
   },
   {
    "duration": 5,
    "start_time": "2022-07-03T15:29:58.196Z"
   },
   {
    "duration": 5,
    "start_time": "2022-07-03T15:29:58.202Z"
   },
   {
    "duration": 8,
    "start_time": "2022-07-03T15:29:58.208Z"
   },
   {
    "duration": 5,
    "start_time": "2022-07-03T15:29:58.217Z"
   },
   {
    "duration": 32,
    "start_time": "2022-07-03T15:29:58.224Z"
   },
   {
    "duration": 4,
    "start_time": "2022-07-03T15:37:08.106Z"
   },
   {
    "duration": 9,
    "start_time": "2022-07-03T16:35:18.689Z"
   },
   {
    "duration": 22,
    "start_time": "2022-07-03T16:35:43.199Z"
   },
   {
    "duration": 3,
    "start_time": "2022-07-03T16:38:11.993Z"
   },
   {
    "duration": 91,
    "start_time": "2022-07-03T16:38:11.998Z"
   },
   {
    "duration": 12,
    "start_time": "2022-07-03T16:38:12.091Z"
   },
   {
    "duration": 28,
    "start_time": "2022-07-03T16:38:12.105Z"
   },
   {
    "duration": 15,
    "start_time": "2022-07-03T16:38:12.134Z"
   },
   {
    "duration": 61,
    "start_time": "2022-07-03T16:38:12.150Z"
   },
   {
    "duration": 3,
    "start_time": "2022-07-03T16:38:12.213Z"
   },
   {
    "duration": 18,
    "start_time": "2022-07-03T16:38:12.218Z"
   },
   {
    "duration": 0,
    "start_time": "2022-07-03T16:38:12.238Z"
   },
   {
    "duration": 0,
    "start_time": "2022-07-03T16:38:12.239Z"
   },
   {
    "duration": 0,
    "start_time": "2022-07-03T16:38:12.240Z"
   },
   {
    "duration": 0,
    "start_time": "2022-07-03T16:38:12.242Z"
   },
   {
    "duration": 0,
    "start_time": "2022-07-03T16:38:12.243Z"
   },
   {
    "duration": 0,
    "start_time": "2022-07-03T16:38:12.244Z"
   },
   {
    "duration": 0,
    "start_time": "2022-07-03T16:38:12.246Z"
   },
   {
    "duration": 0,
    "start_time": "2022-07-03T16:38:12.247Z"
   },
   {
    "duration": 0,
    "start_time": "2022-07-03T16:38:12.248Z"
   },
   {
    "duration": 0,
    "start_time": "2022-07-03T16:38:12.249Z"
   },
   {
    "duration": 0,
    "start_time": "2022-07-03T16:38:12.250Z"
   },
   {
    "duration": 0,
    "start_time": "2022-07-03T16:38:12.252Z"
   },
   {
    "duration": 0,
    "start_time": "2022-07-03T16:38:12.253Z"
   },
   {
    "duration": 0,
    "start_time": "2022-07-03T16:38:12.254Z"
   },
   {
    "duration": 73,
    "start_time": "2022-07-03T16:39:38.133Z"
   },
   {
    "duration": 8,
    "start_time": "2022-07-03T16:39:57.817Z"
   },
   {
    "duration": 3,
    "start_time": "2022-07-03T16:40:04.334Z"
   },
   {
    "duration": 73,
    "start_time": "2022-07-03T16:40:04.338Z"
   },
   {
    "duration": 8,
    "start_time": "2022-07-03T16:40:04.413Z"
   },
   {
    "duration": 15,
    "start_time": "2022-07-03T16:40:04.423Z"
   },
   {
    "duration": 8,
    "start_time": "2022-07-03T16:40:04.439Z"
   },
   {
    "duration": 47,
    "start_time": "2022-07-03T16:40:04.449Z"
   },
   {
    "duration": 3,
    "start_time": "2022-07-03T16:40:04.498Z"
   },
   {
    "duration": 26,
    "start_time": "2022-07-03T16:40:04.503Z"
   },
   {
    "duration": 2,
    "start_time": "2022-07-03T16:40:04.532Z"
   },
   {
    "duration": 4,
    "start_time": "2022-07-03T16:40:04.536Z"
   },
   {
    "duration": 4,
    "start_time": "2022-07-03T16:40:04.541Z"
   },
   {
    "duration": 4,
    "start_time": "2022-07-03T16:40:04.546Z"
   },
   {
    "duration": 4,
    "start_time": "2022-07-03T16:40:04.551Z"
   },
   {
    "duration": 4,
    "start_time": "2022-07-03T16:40:04.557Z"
   },
   {
    "duration": 4,
    "start_time": "2022-07-03T16:40:04.562Z"
   },
   {
    "duration": 3,
    "start_time": "2022-07-03T16:40:04.568Z"
   },
   {
    "duration": 4,
    "start_time": "2022-07-03T16:40:04.573Z"
   },
   {
    "duration": 4,
    "start_time": "2022-07-03T16:40:04.578Z"
   },
   {
    "duration": 5,
    "start_time": "2022-07-03T16:40:04.583Z"
   },
   {
    "duration": 8,
    "start_time": "2022-07-03T16:40:04.590Z"
   },
   {
    "duration": 26,
    "start_time": "2022-07-03T16:40:04.599Z"
   },
   {
    "duration": 9,
    "start_time": "2022-07-03T16:40:04.627Z"
   },
   {
    "duration": 14573,
    "start_time": "2022-07-03T16:40:16.047Z"
   },
   {
    "duration": 20,
    "start_time": "2022-07-03T16:42:46.058Z"
   },
   {
    "duration": 2,
    "start_time": "2022-07-03T16:42:49.819Z"
   },
   {
    "duration": 70,
    "start_time": "2022-07-03T16:42:49.823Z"
   },
   {
    "duration": 8,
    "start_time": "2022-07-03T16:42:49.895Z"
   },
   {
    "duration": 17,
    "start_time": "2022-07-03T16:42:49.905Z"
   },
   {
    "duration": 8,
    "start_time": "2022-07-03T16:42:49.924Z"
   },
   {
    "duration": 52,
    "start_time": "2022-07-03T16:42:49.933Z"
   },
   {
    "duration": 4,
    "start_time": "2022-07-03T16:42:49.986Z"
   },
   {
    "duration": 15,
    "start_time": "2022-07-03T16:42:49.991Z"
   },
   {
    "duration": 17,
    "start_time": "2022-07-03T16:42:50.008Z"
   },
   {
    "duration": 3,
    "start_time": "2022-07-03T16:42:50.027Z"
   },
   {
    "duration": 5,
    "start_time": "2022-07-03T16:42:50.031Z"
   },
   {
    "duration": 6,
    "start_time": "2022-07-03T16:42:50.038Z"
   },
   {
    "duration": 5,
    "start_time": "2022-07-03T16:42:50.046Z"
   },
   {
    "duration": 7,
    "start_time": "2022-07-03T16:42:50.053Z"
   },
   {
    "duration": 10,
    "start_time": "2022-07-03T16:42:50.061Z"
   },
   {
    "duration": 6,
    "start_time": "2022-07-03T16:42:50.073Z"
   },
   {
    "duration": 4,
    "start_time": "2022-07-03T16:42:50.081Z"
   },
   {
    "duration": 5,
    "start_time": "2022-07-03T16:42:50.086Z"
   },
   {
    "duration": 4,
    "start_time": "2022-07-03T16:42:50.092Z"
   },
   {
    "duration": 4,
    "start_time": "2022-07-03T16:42:50.098Z"
   },
   {
    "duration": 6,
    "start_time": "2022-07-03T16:42:50.103Z"
   },
   {
    "duration": 15,
    "start_time": "2022-07-03T16:42:50.110Z"
   },
   {
    "duration": 6,
    "start_time": "2022-07-03T16:45:26.720Z"
   },
   {
    "duration": 9,
    "start_time": "2022-07-03T16:47:37.585Z"
   },
   {
    "duration": 4,
    "start_time": "2022-07-03T16:53:11.316Z"
   },
   {
    "duration": 6,
    "start_time": "2022-07-03T16:53:22.641Z"
   },
   {
    "duration": 3,
    "start_time": "2022-07-03T16:53:27.662Z"
   },
   {
    "duration": 72,
    "start_time": "2022-07-03T16:53:27.668Z"
   },
   {
    "duration": 8,
    "start_time": "2022-07-03T16:53:27.742Z"
   },
   {
    "duration": 15,
    "start_time": "2022-07-03T16:53:27.751Z"
   },
   {
    "duration": 9,
    "start_time": "2022-07-03T16:53:27.767Z"
   },
   {
    "duration": 86,
    "start_time": "2022-07-03T16:53:27.777Z"
   },
   {
    "duration": 4,
    "start_time": "2022-07-03T16:53:27.864Z"
   },
   {
    "duration": 11,
    "start_time": "2022-07-03T16:53:27.869Z"
   },
   {
    "duration": 2,
    "start_time": "2022-07-03T16:53:27.881Z"
   },
   {
    "duration": 6,
    "start_time": "2022-07-03T16:53:27.885Z"
   },
   {
    "duration": 5,
    "start_time": "2022-07-03T16:53:27.892Z"
   },
   {
    "duration": 10,
    "start_time": "2022-07-03T16:53:27.899Z"
   },
   {
    "duration": 4,
    "start_time": "2022-07-03T16:53:27.911Z"
   },
   {
    "duration": 8,
    "start_time": "2022-07-03T16:53:27.917Z"
   },
   {
    "duration": 8,
    "start_time": "2022-07-03T16:53:27.927Z"
   },
   {
    "duration": 5,
    "start_time": "2022-07-03T16:53:27.936Z"
   },
   {
    "duration": 5,
    "start_time": "2022-07-03T16:53:27.942Z"
   },
   {
    "duration": 4,
    "start_time": "2022-07-03T16:53:27.949Z"
   },
   {
    "duration": 8,
    "start_time": "2022-07-03T16:53:27.955Z"
   },
   {
    "duration": 6,
    "start_time": "2022-07-03T16:53:27.965Z"
   },
   {
    "duration": 5,
    "start_time": "2022-07-03T16:53:27.972Z"
   },
   {
    "duration": 5,
    "start_time": "2022-07-03T16:53:27.978Z"
   },
   {
    "duration": 9,
    "start_time": "2022-07-03T16:53:40.359Z"
   },
   {
    "duration": 11,
    "start_time": "2022-07-03T16:54:23.122Z"
   },
   {
    "duration": 14,
    "start_time": "2022-07-03T17:01:41.971Z"
   },
   {
    "duration": 2,
    "start_time": "2022-07-03T17:03:04.669Z"
   },
   {
    "duration": 80,
    "start_time": "2022-07-03T17:03:04.673Z"
   },
   {
    "duration": 9,
    "start_time": "2022-07-03T17:03:04.754Z"
   },
   {
    "duration": 25,
    "start_time": "2022-07-03T17:03:04.765Z"
   },
   {
    "duration": 9,
    "start_time": "2022-07-03T17:03:04.792Z"
   },
   {
    "duration": 100,
    "start_time": "2022-07-03T17:03:04.802Z"
   },
   {
    "duration": 3,
    "start_time": "2022-07-03T17:03:04.903Z"
   },
   {
    "duration": 10,
    "start_time": "2022-07-03T17:03:04.908Z"
   },
   {
    "duration": 12,
    "start_time": "2022-07-03T17:03:04.927Z"
   },
   {
    "duration": 5,
    "start_time": "2022-07-03T17:03:04.941Z"
   },
   {
    "duration": 5,
    "start_time": "2022-07-03T17:03:04.947Z"
   },
   {
    "duration": 4,
    "start_time": "2022-07-03T17:03:04.954Z"
   },
   {
    "duration": 5,
    "start_time": "2022-07-03T17:03:04.959Z"
   },
   {
    "duration": 11,
    "start_time": "2022-07-03T17:03:04.965Z"
   },
   {
    "duration": 4,
    "start_time": "2022-07-03T17:03:04.977Z"
   },
   {
    "duration": 6,
    "start_time": "2022-07-03T17:03:04.983Z"
   },
   {
    "duration": 5,
    "start_time": "2022-07-03T17:03:04.990Z"
   },
   {
    "duration": 5,
    "start_time": "2022-07-03T17:03:04.996Z"
   },
   {
    "duration": 5,
    "start_time": "2022-07-03T17:03:05.002Z"
   },
   {
    "duration": 6,
    "start_time": "2022-07-03T17:03:05.008Z"
   },
   {
    "duration": 20,
    "start_time": "2022-07-03T17:03:05.015Z"
   },
   {
    "duration": 10,
    "start_time": "2022-07-03T17:03:05.037Z"
   },
   {
    "duration": 8,
    "start_time": "2022-07-03T17:05:29.403Z"
   },
   {
    "duration": 9,
    "start_time": "2022-07-03T17:05:37.339Z"
   },
   {
    "duration": 3,
    "start_time": "2022-07-03T17:05:42.736Z"
   },
   {
    "duration": 84,
    "start_time": "2022-07-03T17:05:42.741Z"
   },
   {
    "duration": 10,
    "start_time": "2022-07-03T17:05:42.835Z"
   },
   {
    "duration": 15,
    "start_time": "2022-07-03T17:05:42.847Z"
   },
   {
    "duration": 8,
    "start_time": "2022-07-03T17:05:42.864Z"
   },
   {
    "duration": 64,
    "start_time": "2022-07-03T17:05:42.873Z"
   },
   {
    "duration": 4,
    "start_time": "2022-07-03T17:05:42.939Z"
   },
   {
    "duration": 15,
    "start_time": "2022-07-03T17:05:42.944Z"
   },
   {
    "duration": 5,
    "start_time": "2022-07-03T17:05:42.960Z"
   },
   {
    "duration": 6,
    "start_time": "2022-07-03T17:05:42.967Z"
   },
   {
    "duration": 6,
    "start_time": "2022-07-03T17:05:42.975Z"
   },
   {
    "duration": 6,
    "start_time": "2022-07-03T17:05:42.983Z"
   },
   {
    "duration": 5,
    "start_time": "2022-07-03T17:05:42.992Z"
   },
   {
    "duration": 5,
    "start_time": "2022-07-03T17:05:42.999Z"
   },
   {
    "duration": 8,
    "start_time": "2022-07-03T17:05:43.006Z"
   },
   {
    "duration": 4,
    "start_time": "2022-07-03T17:05:43.016Z"
   },
   {
    "duration": 3,
    "start_time": "2022-07-03T17:05:43.025Z"
   },
   {
    "duration": 6,
    "start_time": "2022-07-03T17:05:43.038Z"
   },
   {
    "duration": 5,
    "start_time": "2022-07-03T17:05:43.046Z"
   },
   {
    "duration": 5,
    "start_time": "2022-07-03T17:05:43.053Z"
   },
   {
    "duration": 8,
    "start_time": "2022-07-03T17:05:43.060Z"
   },
   {
    "duration": 5,
    "start_time": "2022-07-03T17:05:43.070Z"
   },
   {
    "duration": 2,
    "start_time": "2022-07-03T17:23:23.218Z"
   },
   {
    "duration": 70,
    "start_time": "2022-07-03T17:23:23.223Z"
   },
   {
    "duration": 8,
    "start_time": "2022-07-03T17:23:23.295Z"
   },
   {
    "duration": 14,
    "start_time": "2022-07-03T17:23:23.305Z"
   },
   {
    "duration": 8,
    "start_time": "2022-07-03T17:23:23.321Z"
   },
   {
    "duration": 49,
    "start_time": "2022-07-03T17:23:23.331Z"
   },
   {
    "duration": 3,
    "start_time": "2022-07-03T17:23:23.381Z"
   },
   {
    "duration": 74,
    "start_time": "2022-07-03T17:23:23.385Z"
   },
   {
    "duration": 0,
    "start_time": "2022-07-03T17:23:23.461Z"
   },
   {
    "duration": 0,
    "start_time": "2022-07-03T17:23:23.463Z"
   },
   {
    "duration": 0,
    "start_time": "2022-07-03T17:23:23.463Z"
   },
   {
    "duration": 0,
    "start_time": "2022-07-03T17:23:23.465Z"
   },
   {
    "duration": 0,
    "start_time": "2022-07-03T17:23:23.467Z"
   },
   {
    "duration": 0,
    "start_time": "2022-07-03T17:23:23.468Z"
   },
   {
    "duration": 0,
    "start_time": "2022-07-03T17:23:23.470Z"
   },
   {
    "duration": 0,
    "start_time": "2022-07-03T17:23:23.471Z"
   },
   {
    "duration": 0,
    "start_time": "2022-07-03T17:23:23.472Z"
   },
   {
    "duration": 0,
    "start_time": "2022-07-03T17:23:23.473Z"
   },
   {
    "duration": 0,
    "start_time": "2022-07-03T17:23:23.475Z"
   },
   {
    "duration": 0,
    "start_time": "2022-07-03T17:23:23.476Z"
   },
   {
    "duration": 0,
    "start_time": "2022-07-03T17:23:23.478Z"
   },
   {
    "duration": 0,
    "start_time": "2022-07-03T17:23:23.479Z"
   },
   {
    "duration": 11,
    "start_time": "2022-07-03T17:23:46.259Z"
   },
   {
    "duration": 6,
    "start_time": "2022-07-03T17:29:42.128Z"
   },
   {
    "duration": 7,
    "start_time": "2022-07-03T17:32:26.054Z"
   },
   {
    "duration": 7,
    "start_time": "2022-07-03T17:32:42.025Z"
   },
   {
    "duration": 89,
    "start_time": "2022-07-03T17:34:49.337Z"
   },
   {
    "duration": 11,
    "start_time": "2022-07-03T17:34:56.630Z"
   },
   {
    "duration": 3,
    "start_time": "2022-07-03T17:35:30.425Z"
   },
   {
    "duration": 9,
    "start_time": "2022-07-03T17:35:48.460Z"
   },
   {
    "duration": 2,
    "start_time": "2022-07-03T17:36:21.495Z"
   },
   {
    "duration": 72,
    "start_time": "2022-07-03T17:36:21.499Z"
   },
   {
    "duration": 9,
    "start_time": "2022-07-03T17:36:21.572Z"
   },
   {
    "duration": 16,
    "start_time": "2022-07-03T17:36:21.582Z"
   },
   {
    "duration": 8,
    "start_time": "2022-07-03T17:36:21.600Z"
   },
   {
    "duration": 47,
    "start_time": "2022-07-03T17:36:21.626Z"
   },
   {
    "duration": 5,
    "start_time": "2022-07-03T17:36:21.674Z"
   },
   {
    "duration": 18,
    "start_time": "2022-07-03T17:36:21.680Z"
   },
   {
    "duration": 2,
    "start_time": "2022-07-03T17:36:21.700Z"
   },
   {
    "duration": 23,
    "start_time": "2022-07-03T17:36:21.703Z"
   },
   {
    "duration": 7,
    "start_time": "2022-07-03T17:36:21.728Z"
   },
   {
    "duration": 5,
    "start_time": "2022-07-03T17:36:21.736Z"
   },
   {
    "duration": 5,
    "start_time": "2022-07-03T17:36:21.742Z"
   },
   {
    "duration": 2,
    "start_time": "2022-07-03T17:36:21.750Z"
   },
   {
    "duration": 5,
    "start_time": "2022-07-03T17:36:21.754Z"
   },
   {
    "duration": 8,
    "start_time": "2022-07-03T17:36:21.760Z"
   },
   {
    "duration": 5,
    "start_time": "2022-07-03T17:36:21.769Z"
   },
   {
    "duration": 5,
    "start_time": "2022-07-03T17:36:21.775Z"
   },
   {
    "duration": 5,
    "start_time": "2022-07-03T17:36:21.781Z"
   },
   {
    "duration": 5,
    "start_time": "2022-07-03T17:36:21.787Z"
   },
   {
    "duration": 6,
    "start_time": "2022-07-03T17:36:21.794Z"
   },
   {
    "duration": 4,
    "start_time": "2022-07-03T17:36:21.801Z"
   },
   {
    "duration": 1912,
    "start_time": "2022-07-03T17:42:39.056Z"
   },
   {
    "duration": 2,
    "start_time": "2022-07-03T17:42:52.356Z"
   },
   {
    "duration": 79,
    "start_time": "2022-07-03T17:42:52.360Z"
   },
   {
    "duration": 8,
    "start_time": "2022-07-03T17:42:52.441Z"
   },
   {
    "duration": 15,
    "start_time": "2022-07-03T17:42:52.451Z"
   },
   {
    "duration": 8,
    "start_time": "2022-07-03T17:42:52.469Z"
   },
   {
    "duration": 80,
    "start_time": "2022-07-03T17:42:52.479Z"
   },
   {
    "duration": 3,
    "start_time": "2022-07-03T17:42:52.561Z"
   },
   {
    "duration": 9,
    "start_time": "2022-07-03T17:42:52.566Z"
   },
   {
    "duration": 2,
    "start_time": "2022-07-03T17:42:52.577Z"
   },
   {
    "duration": 5,
    "start_time": "2022-07-03T17:42:52.581Z"
   },
   {
    "duration": 5,
    "start_time": "2022-07-03T17:42:52.587Z"
   },
   {
    "duration": 5,
    "start_time": "2022-07-03T17:42:52.593Z"
   },
   {
    "duration": 4,
    "start_time": "2022-07-03T17:42:52.599Z"
   },
   {
    "duration": 7,
    "start_time": "2022-07-03T17:42:52.628Z"
   },
   {
    "duration": 6,
    "start_time": "2022-07-03T17:42:52.637Z"
   },
   {
    "duration": 5,
    "start_time": "2022-07-03T17:42:52.644Z"
   },
   {
    "duration": 5,
    "start_time": "2022-07-03T17:42:52.650Z"
   },
   {
    "duration": 5,
    "start_time": "2022-07-03T17:42:52.656Z"
   },
   {
    "duration": 4,
    "start_time": "2022-07-03T17:42:52.663Z"
   },
   {
    "duration": 4,
    "start_time": "2022-07-03T17:42:52.669Z"
   },
   {
    "duration": 4,
    "start_time": "2022-07-03T17:42:52.675Z"
   },
   {
    "duration": 4,
    "start_time": "2022-07-03T17:42:52.680Z"
   },
   {
    "duration": 3,
    "start_time": "2022-07-03T17:47:48.313Z"
   },
   {
    "duration": 73,
    "start_time": "2022-07-03T17:47:48.318Z"
   },
   {
    "duration": 8,
    "start_time": "2022-07-03T17:47:48.393Z"
   },
   {
    "duration": 18,
    "start_time": "2022-07-03T17:47:48.402Z"
   },
   {
    "duration": 19,
    "start_time": "2022-07-03T17:47:48.423Z"
   },
   {
    "duration": 48,
    "start_time": "2022-07-03T17:47:48.444Z"
   },
   {
    "duration": 3,
    "start_time": "2022-07-03T17:47:48.494Z"
   },
   {
    "duration": 10,
    "start_time": "2022-07-03T17:47:48.498Z"
   },
   {
    "duration": 21,
    "start_time": "2022-07-03T17:47:48.511Z"
   },
   {
    "duration": 14,
    "start_time": "2022-07-03T17:47:48.534Z"
   },
   {
    "duration": 5,
    "start_time": "2022-07-03T17:47:48.549Z"
   },
   {
    "duration": 5,
    "start_time": "2022-07-03T17:47:48.555Z"
   },
   {
    "duration": 5,
    "start_time": "2022-07-03T17:47:48.563Z"
   },
   {
    "duration": 9,
    "start_time": "2022-07-03T17:47:48.570Z"
   },
   {
    "duration": 7,
    "start_time": "2022-07-03T17:47:48.581Z"
   },
   {
    "duration": 8,
    "start_time": "2022-07-03T17:47:48.589Z"
   },
   {
    "duration": 6,
    "start_time": "2022-07-03T17:47:48.599Z"
   },
   {
    "duration": 6,
    "start_time": "2022-07-03T17:47:48.607Z"
   },
   {
    "duration": 6,
    "start_time": "2022-07-03T17:47:48.615Z"
   },
   {
    "duration": 25,
    "start_time": "2022-07-03T17:47:48.623Z"
   },
   {
    "duration": 5,
    "start_time": "2022-07-03T17:47:48.650Z"
   },
   {
    "duration": 5,
    "start_time": "2022-07-03T17:47:48.656Z"
   },
   {
    "duration": 8,
    "start_time": "2022-07-03T17:48:51.854Z"
   },
   {
    "duration": 8,
    "start_time": "2022-07-03T17:49:17.906Z"
   },
   {
    "duration": 3,
    "start_time": "2022-07-03T17:49:55.300Z"
   },
   {
    "duration": 72,
    "start_time": "2022-07-03T17:49:55.305Z"
   },
   {
    "duration": 8,
    "start_time": "2022-07-03T17:49:55.379Z"
   },
   {
    "duration": 20,
    "start_time": "2022-07-03T17:49:55.388Z"
   },
   {
    "duration": 9,
    "start_time": "2022-07-03T17:49:55.410Z"
   },
   {
    "duration": 59,
    "start_time": "2022-07-03T17:49:55.425Z"
   },
   {
    "duration": 4,
    "start_time": "2022-07-03T17:49:55.486Z"
   },
   {
    "duration": 21,
    "start_time": "2022-07-03T17:49:55.491Z"
   },
   {
    "duration": 3,
    "start_time": "2022-07-03T17:49:55.514Z"
   },
   {
    "duration": 2,
    "start_time": "2022-07-03T17:49:55.526Z"
   },
   {
    "duration": 16,
    "start_time": "2022-07-03T17:49:55.533Z"
   },
   {
    "duration": 5,
    "start_time": "2022-07-03T17:49:55.550Z"
   },
   {
    "duration": 6,
    "start_time": "2022-07-03T17:49:55.557Z"
   },
   {
    "duration": 4,
    "start_time": "2022-07-03T17:49:55.565Z"
   },
   {
    "duration": 4,
    "start_time": "2022-07-03T17:49:55.571Z"
   },
   {
    "duration": 4,
    "start_time": "2022-07-03T17:49:55.576Z"
   },
   {
    "duration": 4,
    "start_time": "2022-07-03T17:49:55.582Z"
   },
   {
    "duration": 5,
    "start_time": "2022-07-03T17:49:55.587Z"
   },
   {
    "duration": 4,
    "start_time": "2022-07-03T17:49:55.593Z"
   },
   {
    "duration": 6,
    "start_time": "2022-07-03T17:49:55.599Z"
   },
   {
    "duration": 5,
    "start_time": "2022-07-03T17:49:55.607Z"
   },
   {
    "duration": 6,
    "start_time": "2022-07-03T17:49:55.613Z"
   },
   {
    "duration": 1560,
    "start_time": "2022-07-03T18:30:06.466Z"
   },
   {
    "duration": 1639,
    "start_time": "2022-07-03T18:32:33.191Z"
   },
   {
    "duration": 1994,
    "start_time": "2022-07-03T18:34:29.716Z"
   },
   {
    "duration": 57,
    "start_time": "2022-07-04T07:27:13.466Z"
   },
   {
    "duration": 7,
    "start_time": "2022-07-04T07:27:35.058Z"
   },
   {
    "duration": 413,
    "start_time": "2022-07-04T07:27:45.523Z"
   },
   {
    "duration": 338,
    "start_time": "2022-07-04T07:27:45.938Z"
   },
   {
    "duration": 11,
    "start_time": "2022-07-04T07:27:46.278Z"
   },
   {
    "duration": 21,
    "start_time": "2022-07-04T07:27:46.291Z"
   },
   {
    "duration": 10,
    "start_time": "2022-07-04T07:27:46.313Z"
   },
   {
    "duration": 69,
    "start_time": "2022-07-04T07:27:46.325Z"
   },
   {
    "duration": 3,
    "start_time": "2022-07-04T07:27:46.396Z"
   },
   {
    "duration": 12,
    "start_time": "2022-07-04T07:27:46.401Z"
   },
   {
    "duration": 2,
    "start_time": "2022-07-04T07:27:46.415Z"
   },
   {
    "duration": 2,
    "start_time": "2022-07-04T07:27:46.443Z"
   },
   {
    "duration": 17,
    "start_time": "2022-07-04T07:27:46.448Z"
   },
   {
    "duration": 9,
    "start_time": "2022-07-04T07:27:46.467Z"
   },
   {
    "duration": 8,
    "start_time": "2022-07-04T07:27:46.478Z"
   },
   {
    "duration": 5,
    "start_time": "2022-07-04T07:27:46.488Z"
   },
   {
    "duration": 5,
    "start_time": "2022-07-04T07:27:46.494Z"
   },
   {
    "duration": 6,
    "start_time": "2022-07-04T07:27:46.501Z"
   },
   {
    "duration": 5,
    "start_time": "2022-07-04T07:27:46.509Z"
   },
   {
    "duration": 4,
    "start_time": "2022-07-04T07:27:46.516Z"
   },
   {
    "duration": 7,
    "start_time": "2022-07-04T07:27:46.522Z"
   },
   {
    "duration": 10,
    "start_time": "2022-07-04T07:27:46.531Z"
   },
   {
    "duration": 19,
    "start_time": "2022-07-04T07:27:46.543Z"
   },
   {
    "duration": 5,
    "start_time": "2022-07-04T07:27:46.564Z"
   },
   {
    "duration": 8,
    "start_time": "2022-07-04T07:29:33.416Z"
   },
   {
    "duration": 8,
    "start_time": "2022-07-04T07:29:50.364Z"
   },
   {
    "duration": 4,
    "start_time": "2022-07-04T07:30:42.393Z"
   },
   {
    "duration": 8,
    "start_time": "2022-07-04T07:34:04.302Z"
   },
   {
    "duration": 6,
    "start_time": "2022-07-04T07:34:41.466Z"
   },
   {
    "duration": 62,
    "start_time": "2022-07-04T07:38:47.110Z"
   },
   {
    "duration": 3,
    "start_time": "2022-07-04T07:41:38.350Z"
   },
   {
    "duration": 77,
    "start_time": "2022-07-04T07:41:38.355Z"
   },
   {
    "duration": 8,
    "start_time": "2022-07-04T07:41:38.434Z"
   },
   {
    "duration": 22,
    "start_time": "2022-07-04T07:41:38.444Z"
   },
   {
    "duration": 9,
    "start_time": "2022-07-04T07:41:38.467Z"
   },
   {
    "duration": 51,
    "start_time": "2022-07-04T07:41:38.477Z"
   },
   {
    "duration": 3,
    "start_time": "2022-07-04T07:41:38.542Z"
   },
   {
    "duration": 12,
    "start_time": "2022-07-04T07:41:38.547Z"
   },
   {
    "duration": 4,
    "start_time": "2022-07-04T07:41:38.561Z"
   },
   {
    "duration": 7,
    "start_time": "2022-07-04T07:41:38.566Z"
   },
   {
    "duration": 8,
    "start_time": "2022-07-04T07:41:38.575Z"
   },
   {
    "duration": 74,
    "start_time": "2022-07-04T07:41:38.584Z"
   },
   {
    "duration": 3,
    "start_time": "2022-07-04T07:41:38.659Z"
   },
   {
    "duration": 8,
    "start_time": "2022-07-04T07:41:38.663Z"
   },
   {
    "duration": 5,
    "start_time": "2022-07-04T07:41:38.672Z"
   },
   {
    "duration": 5,
    "start_time": "2022-07-04T07:41:38.678Z"
   },
   {
    "duration": 5,
    "start_time": "2022-07-04T07:41:38.685Z"
   },
   {
    "duration": 7,
    "start_time": "2022-07-04T07:41:38.691Z"
   },
   {
    "duration": 6,
    "start_time": "2022-07-04T07:41:38.699Z"
   },
   {
    "duration": 5,
    "start_time": "2022-07-04T07:41:38.706Z"
   },
   {
    "duration": 7,
    "start_time": "2022-07-04T07:41:38.713Z"
   },
   {
    "duration": 6,
    "start_time": "2022-07-04T07:41:38.722Z"
   },
   {
    "duration": 51,
    "start_time": "2022-07-04T07:50:30.715Z"
   },
   {
    "duration": 3,
    "start_time": "2022-07-04T07:50:46.930Z"
   },
   {
    "duration": 84,
    "start_time": "2022-07-04T07:50:46.934Z"
   },
   {
    "duration": 9,
    "start_time": "2022-07-04T07:50:47.019Z"
   },
   {
    "duration": 18,
    "start_time": "2022-07-04T07:50:47.030Z"
   },
   {
    "duration": 12,
    "start_time": "2022-07-04T07:50:47.051Z"
   },
   {
    "duration": 57,
    "start_time": "2022-07-04T07:50:47.065Z"
   },
   {
    "duration": 4,
    "start_time": "2022-07-04T07:50:47.141Z"
   },
   {
    "duration": 16,
    "start_time": "2022-07-04T07:50:47.147Z"
   },
   {
    "duration": 9,
    "start_time": "2022-07-04T07:50:47.165Z"
   },
   {
    "duration": 17,
    "start_time": "2022-07-04T07:50:47.175Z"
   },
   {
    "duration": 12,
    "start_time": "2022-07-04T07:50:47.195Z"
   },
   {
    "duration": 63,
    "start_time": "2022-07-04T07:50:47.209Z"
   },
   {
    "duration": 2,
    "start_time": "2022-07-04T07:50:47.274Z"
   },
   {
    "duration": 13,
    "start_time": "2022-07-04T07:50:47.278Z"
   },
   {
    "duration": 5,
    "start_time": "2022-07-04T07:50:47.294Z"
   },
   {
    "duration": 5,
    "start_time": "2022-07-04T07:50:47.301Z"
   },
   {
    "duration": 5,
    "start_time": "2022-07-04T07:50:47.308Z"
   },
   {
    "duration": 6,
    "start_time": "2022-07-04T07:50:47.315Z"
   },
   {
    "duration": 20,
    "start_time": "2022-07-04T07:50:47.323Z"
   },
   {
    "duration": 17,
    "start_time": "2022-07-04T07:50:47.346Z"
   },
   {
    "duration": 9,
    "start_time": "2022-07-04T07:50:47.365Z"
   },
   {
    "duration": 7,
    "start_time": "2022-07-04T07:50:47.375Z"
   },
   {
    "duration": 49,
    "start_time": "2022-07-04T07:51:18.106Z"
   },
   {
    "duration": 3,
    "start_time": "2022-07-04T07:52:14.669Z"
   },
   {
    "duration": 83,
    "start_time": "2022-07-04T07:52:14.674Z"
   },
   {
    "duration": 9,
    "start_time": "2022-07-04T07:52:14.759Z"
   },
   {
    "duration": 30,
    "start_time": "2022-07-04T07:52:14.770Z"
   },
   {
    "duration": 8,
    "start_time": "2022-07-04T07:52:14.802Z"
   },
   {
    "duration": 53,
    "start_time": "2022-07-04T07:52:14.812Z"
   },
   {
    "duration": 4,
    "start_time": "2022-07-04T07:52:14.867Z"
   },
   {
    "duration": 15,
    "start_time": "2022-07-04T07:52:14.872Z"
   },
   {
    "duration": 4,
    "start_time": "2022-07-04T07:52:14.890Z"
   },
   {
    "duration": 6,
    "start_time": "2022-07-04T07:52:14.896Z"
   },
   {
    "duration": 5,
    "start_time": "2022-07-04T07:52:14.904Z"
   },
   {
    "duration": 63,
    "start_time": "2022-07-04T07:52:14.911Z"
   },
   {
    "duration": 3,
    "start_time": "2022-07-04T07:52:14.975Z"
   },
   {
    "duration": 5,
    "start_time": "2022-07-04T07:52:14.980Z"
   },
   {
    "duration": 5,
    "start_time": "2022-07-04T07:52:14.986Z"
   },
   {
    "duration": 10,
    "start_time": "2022-07-04T07:52:14.993Z"
   },
   {
    "duration": 17,
    "start_time": "2022-07-04T07:52:15.005Z"
   },
   {
    "duration": 19,
    "start_time": "2022-07-04T07:52:15.024Z"
   },
   {
    "duration": 14,
    "start_time": "2022-07-04T07:52:15.045Z"
   },
   {
    "duration": 11,
    "start_time": "2022-07-04T07:52:15.061Z"
   },
   {
    "duration": 8,
    "start_time": "2022-07-04T07:52:15.074Z"
   },
   {
    "duration": 8,
    "start_time": "2022-07-04T07:52:15.083Z"
   },
   {
    "duration": 3,
    "start_time": "2022-07-04T07:53:01.183Z"
   },
   {
    "duration": 88,
    "start_time": "2022-07-04T07:53:01.188Z"
   },
   {
    "duration": 9,
    "start_time": "2022-07-04T07:53:01.278Z"
   },
   {
    "duration": 20,
    "start_time": "2022-07-04T07:53:01.290Z"
   },
   {
    "duration": 10,
    "start_time": "2022-07-04T07:53:01.313Z"
   },
   {
    "duration": 56,
    "start_time": "2022-07-04T07:53:01.342Z"
   },
   {
    "duration": 4,
    "start_time": "2022-07-04T07:53:01.400Z"
   },
   {
    "duration": 13,
    "start_time": "2022-07-04T07:53:01.405Z"
   },
   {
    "duration": 24,
    "start_time": "2022-07-04T07:53:01.421Z"
   },
   {
    "duration": 11,
    "start_time": "2022-07-04T07:53:01.447Z"
   },
   {
    "duration": 13,
    "start_time": "2022-07-04T07:53:01.460Z"
   },
   {
    "duration": 42,
    "start_time": "2022-07-04T07:53:01.475Z"
   },
   {
    "duration": 3,
    "start_time": "2022-07-04T07:53:01.518Z"
   },
   {
    "duration": 18,
    "start_time": "2022-07-04T07:53:01.523Z"
   },
   {
    "duration": 8,
    "start_time": "2022-07-04T07:53:01.543Z"
   },
   {
    "duration": 6,
    "start_time": "2022-07-04T07:53:01.553Z"
   },
   {
    "duration": 5,
    "start_time": "2022-07-04T07:53:01.560Z"
   },
   {
    "duration": 7,
    "start_time": "2022-07-04T07:53:01.567Z"
   },
   {
    "duration": 12,
    "start_time": "2022-07-04T07:53:01.576Z"
   },
   {
    "duration": 11,
    "start_time": "2022-07-04T07:53:01.589Z"
   },
   {
    "duration": 9,
    "start_time": "2022-07-04T07:53:01.602Z"
   },
   {
    "duration": 19,
    "start_time": "2022-07-04T07:53:01.613Z"
   },
   {
    "duration": 9,
    "start_time": "2022-07-04T07:57:24.930Z"
   },
   {
    "duration": 3,
    "start_time": "2022-07-04T08:03:59.176Z"
   },
   {
    "duration": 77,
    "start_time": "2022-07-04T08:03:59.181Z"
   },
   {
    "duration": 9,
    "start_time": "2022-07-04T08:03:59.260Z"
   },
   {
    "duration": 17,
    "start_time": "2022-07-04T08:03:59.271Z"
   },
   {
    "duration": 10,
    "start_time": "2022-07-04T08:03:59.290Z"
   },
   {
    "duration": 86,
    "start_time": "2022-07-04T08:03:59.301Z"
   },
   {
    "duration": 4,
    "start_time": "2022-07-04T08:03:59.389Z"
   },
   {
    "duration": 12,
    "start_time": "2022-07-04T08:03:59.395Z"
   },
   {
    "duration": 6,
    "start_time": "2022-07-04T08:03:59.410Z"
   },
   {
    "duration": 39,
    "start_time": "2022-07-04T08:03:59.418Z"
   },
   {
    "duration": 11,
    "start_time": "2022-07-04T08:03:59.460Z"
   },
   {
    "duration": 44,
    "start_time": "2022-07-04T08:03:59.473Z"
   },
   {
    "duration": 24,
    "start_time": "2022-07-04T08:03:59.520Z"
   },
   {
    "duration": 5,
    "start_time": "2022-07-04T08:03:59.546Z"
   },
   {
    "duration": 19,
    "start_time": "2022-07-04T08:03:59.555Z"
   },
   {
    "duration": 4,
    "start_time": "2022-07-04T08:03:59.576Z"
   },
   {
    "duration": 6,
    "start_time": "2022-07-04T08:03:59.582Z"
   },
   {
    "duration": 5,
    "start_time": "2022-07-04T08:03:59.590Z"
   },
   {
    "duration": 5,
    "start_time": "2022-07-04T08:03:59.597Z"
   },
   {
    "duration": 5,
    "start_time": "2022-07-04T08:03:59.604Z"
   },
   {
    "duration": 4,
    "start_time": "2022-07-04T08:03:59.611Z"
   },
   {
    "duration": 5,
    "start_time": "2022-07-04T08:03:59.617Z"
   },
   {
    "duration": 5,
    "start_time": "2022-07-04T08:06:45.660Z"
   },
   {
    "duration": 4,
    "start_time": "2022-07-04T08:10:56.713Z"
   },
   {
    "duration": 18,
    "start_time": "2022-07-04T08:11:07.973Z"
   },
   {
    "duration": 44,
    "start_time": "2022-07-04T08:11:20.060Z"
   },
   {
    "duration": 51,
    "start_time": "2022-07-04T08:14:02.160Z"
   },
   {
    "duration": 17,
    "start_time": "2022-07-04T08:14:20.130Z"
   },
   {
    "duration": 2,
    "start_time": "2022-07-04T08:21:17.661Z"
   },
   {
    "duration": 78,
    "start_time": "2022-07-04T08:21:17.665Z"
   },
   {
    "duration": 9,
    "start_time": "2022-07-04T08:21:17.745Z"
   },
   {
    "duration": 23,
    "start_time": "2022-07-04T08:21:17.756Z"
   },
   {
    "duration": 9,
    "start_time": "2022-07-04T08:21:17.781Z"
   },
   {
    "duration": 68,
    "start_time": "2022-07-04T08:21:17.792Z"
   },
   {
    "duration": 3,
    "start_time": "2022-07-04T08:21:17.862Z"
   },
   {
    "duration": 12,
    "start_time": "2022-07-04T08:21:17.866Z"
   },
   {
    "duration": 4,
    "start_time": "2022-07-04T08:21:17.881Z"
   },
   {
    "duration": 9,
    "start_time": "2022-07-04T08:21:17.886Z"
   },
   {
    "duration": 6,
    "start_time": "2022-07-04T08:21:17.896Z"
   },
   {
    "duration": 64,
    "start_time": "2022-07-04T08:21:17.903Z"
   },
   {
    "duration": 10,
    "start_time": "2022-07-04T08:21:17.969Z"
   },
   {
    "duration": 6,
    "start_time": "2022-07-04T08:21:17.981Z"
   },
   {
    "duration": 20,
    "start_time": "2022-07-04T08:21:17.989Z"
   },
   {
    "duration": 59,
    "start_time": "2022-07-04T08:21:18.011Z"
   },
   {
    "duration": 2,
    "start_time": "2022-07-04T08:21:18.073Z"
   },
   {
    "duration": 17,
    "start_time": "2022-07-04T08:21:18.077Z"
   },
   {
    "duration": 9,
    "start_time": "2022-07-04T08:21:18.096Z"
   },
   {
    "duration": 5,
    "start_time": "2022-07-04T08:21:18.106Z"
   },
   {
    "duration": 5,
    "start_time": "2022-07-04T08:21:18.113Z"
   },
   {
    "duration": 6,
    "start_time": "2022-07-04T08:21:18.120Z"
   },
   {
    "duration": 3,
    "start_time": "2022-07-04T08:39:55.379Z"
   },
   {
    "duration": 81,
    "start_time": "2022-07-04T08:39:55.384Z"
   },
   {
    "duration": 19,
    "start_time": "2022-07-04T08:39:55.467Z"
   },
   {
    "duration": 19,
    "start_time": "2022-07-04T08:39:55.489Z"
   },
   {
    "duration": 11,
    "start_time": "2022-07-04T08:39:55.510Z"
   },
   {
    "duration": 65,
    "start_time": "2022-07-04T08:39:55.522Z"
   },
   {
    "duration": 4,
    "start_time": "2022-07-04T08:39:55.589Z"
   },
   {
    "duration": 12,
    "start_time": "2022-07-04T08:39:55.594Z"
   },
   {
    "duration": 5,
    "start_time": "2022-07-04T08:39:55.608Z"
   },
   {
    "duration": 29,
    "start_time": "2022-07-04T08:39:55.615Z"
   },
   {
    "duration": 6,
    "start_time": "2022-07-04T08:39:55.646Z"
   },
   {
    "duration": 39,
    "start_time": "2022-07-04T08:39:55.654Z"
   },
   {
    "duration": 9,
    "start_time": "2022-07-04T08:39:55.694Z"
   },
   {
    "duration": 5,
    "start_time": "2022-07-04T08:39:55.705Z"
   },
   {
    "duration": 46,
    "start_time": "2022-07-04T08:39:55.712Z"
   },
   {
    "duration": 33,
    "start_time": "2022-07-04T08:39:55.760Z"
   },
   {
    "duration": 3,
    "start_time": "2022-07-04T08:39:55.795Z"
   },
   {
    "duration": 6,
    "start_time": "2022-07-04T08:39:55.800Z"
   },
   {
    "duration": 6,
    "start_time": "2022-07-04T08:39:55.808Z"
   },
   {
    "duration": 3,
    "start_time": "2022-07-04T08:39:55.841Z"
   },
   {
    "duration": 5,
    "start_time": "2022-07-04T08:39:55.846Z"
   },
   {
    "duration": 8,
    "start_time": "2022-07-04T08:39:55.853Z"
   },
   {
    "duration": 3,
    "start_time": "2022-07-04T08:55:02.167Z"
   },
   {
    "duration": 85,
    "start_time": "2022-07-04T08:55:02.172Z"
   },
   {
    "duration": 9,
    "start_time": "2022-07-04T08:55:02.259Z"
   },
   {
    "duration": 21,
    "start_time": "2022-07-04T08:55:02.270Z"
   },
   {
    "duration": 10,
    "start_time": "2022-07-04T08:55:02.294Z"
   },
   {
    "duration": 70,
    "start_time": "2022-07-04T08:55:02.305Z"
   },
   {
    "duration": 4,
    "start_time": "2022-07-04T08:55:02.376Z"
   },
   {
    "duration": 15,
    "start_time": "2022-07-04T08:55:02.382Z"
   },
   {
    "duration": 5,
    "start_time": "2022-07-04T08:55:02.398Z"
   },
   {
    "duration": 9,
    "start_time": "2022-07-04T08:55:02.405Z"
   },
   {
    "duration": 29,
    "start_time": "2022-07-04T08:55:02.417Z"
   },
   {
    "duration": 47,
    "start_time": "2022-07-04T08:55:02.448Z"
   },
   {
    "duration": 11,
    "start_time": "2022-07-04T08:55:02.498Z"
   },
   {
    "duration": 8,
    "start_time": "2022-07-04T08:55:02.511Z"
   },
   {
    "duration": 41,
    "start_time": "2022-07-04T08:55:02.521Z"
   },
   {
    "duration": 34,
    "start_time": "2022-07-04T08:55:02.564Z"
   },
   {
    "duration": 2,
    "start_time": "2022-07-04T08:55:02.600Z"
   },
   {
    "duration": 7,
    "start_time": "2022-07-04T08:55:02.604Z"
   },
   {
    "duration": 4,
    "start_time": "2022-07-04T08:55:02.613Z"
   },
   {
    "duration": 23,
    "start_time": "2022-07-04T08:55:02.619Z"
   },
   {
    "duration": 2,
    "start_time": "2022-07-04T08:55:02.644Z"
   },
   {
    "duration": 5,
    "start_time": "2022-07-04T08:55:02.648Z"
   },
   {
    "duration": 5,
    "start_time": "2022-07-04T09:11:27.900Z"
   },
   {
    "duration": 191,
    "start_time": "2022-07-04T09:11:44.475Z"
   },
   {
    "duration": 14,
    "start_time": "2022-07-04T09:12:11.051Z"
   },
   {
    "duration": 33,
    "start_time": "2022-07-04T09:12:16.551Z"
   },
   {
    "duration": 32,
    "start_time": "2022-07-04T09:15:33.351Z"
   },
   {
    "duration": 3,
    "start_time": "2022-07-04T09:21:14.914Z"
   },
   {
    "duration": 82,
    "start_time": "2022-07-04T09:21:14.918Z"
   },
   {
    "duration": 10,
    "start_time": "2022-07-04T09:21:15.002Z"
   },
   {
    "duration": 29,
    "start_time": "2022-07-04T09:21:15.014Z"
   },
   {
    "duration": 10,
    "start_time": "2022-07-04T09:21:15.044Z"
   },
   {
    "duration": 54,
    "start_time": "2022-07-04T09:21:15.056Z"
   },
   {
    "duration": 4,
    "start_time": "2022-07-04T09:21:15.111Z"
   },
   {
    "duration": 33,
    "start_time": "2022-07-04T09:21:15.116Z"
   },
   {
    "duration": 5,
    "start_time": "2022-07-04T09:21:15.151Z"
   },
   {
    "duration": 7,
    "start_time": "2022-07-04T09:21:15.157Z"
   },
   {
    "duration": 17,
    "start_time": "2022-07-04T09:21:15.166Z"
   },
   {
    "duration": 23,
    "start_time": "2022-07-04T09:21:15.185Z"
   },
   {
    "duration": 45,
    "start_time": "2022-07-04T09:21:15.210Z"
   },
   {
    "duration": 9,
    "start_time": "2022-07-04T09:21:15.257Z"
   },
   {
    "duration": 8,
    "start_time": "2022-07-04T09:21:15.267Z"
   },
   {
    "duration": 22,
    "start_time": "2022-07-04T09:21:15.277Z"
   },
   {
    "duration": 52,
    "start_time": "2022-07-04T09:21:15.301Z"
   },
   {
    "duration": 3,
    "start_time": "2022-07-04T09:21:15.354Z"
   },
   {
    "duration": 7,
    "start_time": "2022-07-04T09:21:15.358Z"
   },
   {
    "duration": 10,
    "start_time": "2022-07-04T09:21:15.367Z"
   },
   {
    "duration": 7,
    "start_time": "2022-07-04T09:21:15.379Z"
   },
   {
    "duration": 9,
    "start_time": "2022-07-04T09:21:15.388Z"
   },
   {
    "duration": 6,
    "start_time": "2022-07-04T09:21:15.398Z"
   },
   {
    "duration": 3,
    "start_time": "2022-07-04T09:22:17.675Z"
   },
   {
    "duration": 77,
    "start_time": "2022-07-04T09:22:17.680Z"
   },
   {
    "duration": 8,
    "start_time": "2022-07-04T09:22:17.759Z"
   },
   {
    "duration": 26,
    "start_time": "2022-07-04T09:22:17.769Z"
   },
   {
    "duration": 9,
    "start_time": "2022-07-04T09:22:17.798Z"
   },
   {
    "duration": 84,
    "start_time": "2022-07-04T09:22:17.809Z"
   },
   {
    "duration": 4,
    "start_time": "2022-07-04T09:22:17.895Z"
   },
   {
    "duration": 11,
    "start_time": "2022-07-04T09:22:17.900Z"
   },
   {
    "duration": 5,
    "start_time": "2022-07-04T09:22:17.913Z"
   },
   {
    "duration": 7,
    "start_time": "2022-07-04T09:22:17.941Z"
   },
   {
    "duration": 7,
    "start_time": "2022-07-04T09:22:17.951Z"
   },
   {
    "duration": 7,
    "start_time": "2022-07-04T09:22:17.962Z"
   },
   {
    "duration": 34,
    "start_time": "2022-07-04T09:22:17.971Z"
   },
   {
    "duration": 10,
    "start_time": "2022-07-04T09:22:18.007Z"
   },
   {
    "duration": 6,
    "start_time": "2022-07-04T09:22:18.041Z"
   },
   {
    "duration": 57,
    "start_time": "2022-07-04T09:22:18.049Z"
   },
   {
    "duration": 55,
    "start_time": "2022-07-04T09:22:18.108Z"
   },
   {
    "duration": 3,
    "start_time": "2022-07-04T09:22:18.164Z"
   },
   {
    "duration": 9,
    "start_time": "2022-07-04T09:22:18.169Z"
   },
   {
    "duration": 6,
    "start_time": "2022-07-04T09:22:18.179Z"
   },
   {
    "duration": 4,
    "start_time": "2022-07-04T09:22:18.187Z"
   },
   {
    "duration": 3,
    "start_time": "2022-07-04T09:22:18.194Z"
   },
   {
    "duration": 5,
    "start_time": "2022-07-04T09:22:18.199Z"
   },
   {
    "duration": 3,
    "start_time": "2022-07-04T09:22:52.831Z"
   },
   {
    "duration": 77,
    "start_time": "2022-07-04T09:22:52.836Z"
   },
   {
    "duration": 9,
    "start_time": "2022-07-04T09:22:52.915Z"
   },
   {
    "duration": 16,
    "start_time": "2022-07-04T09:22:52.926Z"
   },
   {
    "duration": 9,
    "start_time": "2022-07-04T09:22:52.944Z"
   },
   {
    "duration": 65,
    "start_time": "2022-07-04T09:22:52.955Z"
   },
   {
    "duration": 3,
    "start_time": "2022-07-04T09:22:53.022Z"
   },
   {
    "duration": 8,
    "start_time": "2022-07-04T09:22:53.041Z"
   },
   {
    "duration": 5,
    "start_time": "2022-07-04T09:22:53.051Z"
   },
   {
    "duration": 7,
    "start_time": "2022-07-04T09:22:53.058Z"
   },
   {
    "duration": 5,
    "start_time": "2022-07-04T09:22:53.068Z"
   },
   {
    "duration": 73,
    "start_time": "2022-07-04T09:22:53.075Z"
   },
   {
    "duration": 9,
    "start_time": "2022-07-04T09:22:53.150Z"
   },
   {
    "duration": 5,
    "start_time": "2022-07-04T09:22:53.161Z"
   },
   {
    "duration": 20,
    "start_time": "2022-07-04T09:22:53.168Z"
   },
   {
    "duration": 55,
    "start_time": "2022-07-04T09:22:53.191Z"
   },
   {
    "duration": 2,
    "start_time": "2022-07-04T09:22:53.248Z"
   },
   {
    "duration": 10,
    "start_time": "2022-07-04T09:22:53.252Z"
   },
   {
    "duration": 12,
    "start_time": "2022-07-04T09:22:53.264Z"
   },
   {
    "duration": 7,
    "start_time": "2022-07-04T09:22:53.278Z"
   },
   {
    "duration": 8,
    "start_time": "2022-07-04T09:22:53.287Z"
   },
   {
    "duration": 6,
    "start_time": "2022-07-04T09:22:53.296Z"
   },
   {
    "duration": 3,
    "start_time": "2022-07-04T09:25:02.898Z"
   },
   {
    "duration": 93,
    "start_time": "2022-07-04T09:25:02.903Z"
   },
   {
    "duration": 9,
    "start_time": "2022-07-04T09:25:02.998Z"
   },
   {
    "duration": 18,
    "start_time": "2022-07-04T09:25:03.008Z"
   },
   {
    "duration": 17,
    "start_time": "2022-07-04T09:25:03.028Z"
   },
   {
    "duration": 54,
    "start_time": "2022-07-04T09:25:03.046Z"
   },
   {
    "duration": 4,
    "start_time": "2022-07-04T09:25:03.101Z"
   },
   {
    "duration": 34,
    "start_time": "2022-07-04T09:25:03.107Z"
   },
   {
    "duration": 5,
    "start_time": "2022-07-04T09:25:03.144Z"
   },
   {
    "duration": 10,
    "start_time": "2022-07-04T09:25:03.150Z"
   },
   {
    "duration": 4,
    "start_time": "2022-07-04T09:25:03.163Z"
   },
   {
    "duration": 38,
    "start_time": "2022-07-04T09:25:03.169Z"
   },
   {
    "duration": 39,
    "start_time": "2022-07-04T09:25:03.209Z"
   },
   {
    "duration": 6,
    "start_time": "2022-07-04T09:25:03.250Z"
   },
   {
    "duration": 20,
    "start_time": "2022-07-04T09:25:03.258Z"
   },
   {
    "duration": 32,
    "start_time": "2022-07-04T09:25:03.279Z"
   },
   {
    "duration": 28,
    "start_time": "2022-07-04T09:25:03.314Z"
   },
   {
    "duration": 13,
    "start_time": "2022-07-04T09:25:03.344Z"
   },
   {
    "duration": 6,
    "start_time": "2022-07-04T09:25:03.359Z"
   },
   {
    "duration": 6,
    "start_time": "2022-07-04T09:25:03.366Z"
   },
   {
    "duration": 5,
    "start_time": "2022-07-04T09:25:03.374Z"
   },
   {
    "duration": 5,
    "start_time": "2022-07-04T09:25:03.381Z"
   },
   {
    "duration": 3,
    "start_time": "2022-07-04T09:28:34.960Z"
   },
   {
    "duration": 79,
    "start_time": "2022-07-04T09:28:34.973Z"
   },
   {
    "duration": 9,
    "start_time": "2022-07-04T09:28:35.054Z"
   },
   {
    "duration": 19,
    "start_time": "2022-07-04T09:28:35.065Z"
   },
   {
    "duration": 9,
    "start_time": "2022-07-04T09:28:35.086Z"
   },
   {
    "duration": 69,
    "start_time": "2022-07-04T09:28:35.098Z"
   },
   {
    "duration": 4,
    "start_time": "2022-07-04T09:28:35.169Z"
   },
   {
    "duration": 14,
    "start_time": "2022-07-04T09:28:35.174Z"
   },
   {
    "duration": 7,
    "start_time": "2022-07-04T09:28:35.190Z"
   },
   {
    "duration": 14,
    "start_time": "2022-07-04T09:28:35.199Z"
   },
   {
    "duration": 9,
    "start_time": "2022-07-04T09:28:35.214Z"
   },
   {
    "duration": 48,
    "start_time": "2022-07-04T09:28:35.225Z"
   },
   {
    "duration": 8,
    "start_time": "2022-07-04T09:28:35.275Z"
   },
   {
    "duration": 10,
    "start_time": "2022-07-04T09:28:35.285Z"
   },
   {
    "duration": 20,
    "start_time": "2022-07-04T09:28:35.298Z"
   },
   {
    "duration": 53,
    "start_time": "2022-07-04T09:28:35.320Z"
   },
   {
    "duration": 2,
    "start_time": "2022-07-04T09:28:35.375Z"
   },
   {
    "duration": 10,
    "start_time": "2022-07-04T09:28:35.379Z"
   },
   {
    "duration": 6,
    "start_time": "2022-07-04T09:28:35.391Z"
   },
   {
    "duration": 8,
    "start_time": "2022-07-04T09:28:35.398Z"
   },
   {
    "duration": 11,
    "start_time": "2022-07-04T09:28:35.408Z"
   },
   {
    "duration": 5,
    "start_time": "2022-07-04T09:28:35.421Z"
   },
   {
    "duration": 4,
    "start_time": "2022-07-04T09:29:01.529Z"
   },
   {
    "duration": 96,
    "start_time": "2022-07-04T09:29:01.535Z"
   },
   {
    "duration": 12,
    "start_time": "2022-07-04T09:29:01.634Z"
   },
   {
    "duration": 26,
    "start_time": "2022-07-04T09:29:01.648Z"
   },
   {
    "duration": 9,
    "start_time": "2022-07-04T09:29:01.676Z"
   },
   {
    "duration": 70,
    "start_time": "2022-07-04T09:29:01.687Z"
   },
   {
    "duration": 3,
    "start_time": "2022-07-04T09:29:01.759Z"
   },
   {
    "duration": 13,
    "start_time": "2022-07-04T09:29:01.764Z"
   },
   {
    "duration": 5,
    "start_time": "2022-07-04T09:29:01.778Z"
   },
   {
    "duration": 11,
    "start_time": "2022-07-04T09:29:01.785Z"
   },
   {
    "duration": 11,
    "start_time": "2022-07-04T09:29:01.798Z"
   },
   {
    "duration": 62,
    "start_time": "2022-07-04T09:29:01.811Z"
   },
   {
    "duration": 9,
    "start_time": "2022-07-04T09:29:01.875Z"
   },
   {
    "duration": 5,
    "start_time": "2022-07-04T09:29:01.888Z"
   },
   {
    "duration": 27,
    "start_time": "2022-07-04T09:29:01.895Z"
   },
   {
    "duration": 36,
    "start_time": "2022-07-04T09:29:01.942Z"
   },
   {
    "duration": 2,
    "start_time": "2022-07-04T09:29:01.980Z"
   },
   {
    "duration": 11,
    "start_time": "2022-07-04T09:29:01.984Z"
   },
   {
    "duration": 10,
    "start_time": "2022-07-04T09:29:01.997Z"
   },
   {
    "duration": 12,
    "start_time": "2022-07-04T09:29:02.009Z"
   },
   {
    "duration": 20,
    "start_time": "2022-07-04T09:29:02.023Z"
   },
   {
    "duration": 11,
    "start_time": "2022-07-04T09:29:02.046Z"
   },
   {
    "duration": 21,
    "start_time": "2022-07-04T09:33:10.748Z"
   },
   {
    "duration": 20,
    "start_time": "2022-07-04T09:33:16.180Z"
   },
   {
    "duration": 3,
    "start_time": "2022-07-04T09:33:22.377Z"
   },
   {
    "duration": 80,
    "start_time": "2022-07-04T09:33:22.382Z"
   },
   {
    "duration": 9,
    "start_time": "2022-07-04T09:33:22.464Z"
   },
   {
    "duration": 19,
    "start_time": "2022-07-04T09:33:22.475Z"
   },
   {
    "duration": 9,
    "start_time": "2022-07-04T09:33:22.496Z"
   },
   {
    "duration": 74,
    "start_time": "2022-07-04T09:33:22.507Z"
   },
   {
    "duration": 3,
    "start_time": "2022-07-04T09:33:22.583Z"
   },
   {
    "duration": 15,
    "start_time": "2022-07-04T09:33:22.588Z"
   },
   {
    "duration": 5,
    "start_time": "2022-07-04T09:33:22.605Z"
   },
   {
    "duration": 9,
    "start_time": "2022-07-04T09:33:22.611Z"
   },
   {
    "duration": 21,
    "start_time": "2022-07-04T09:33:22.623Z"
   },
   {
    "duration": 37,
    "start_time": "2022-07-04T09:33:22.646Z"
   },
   {
    "duration": 8,
    "start_time": "2022-07-04T09:33:22.684Z"
   },
   {
    "duration": 8,
    "start_time": "2022-07-04T09:33:22.694Z"
   },
   {
    "duration": 42,
    "start_time": "2022-07-04T09:33:22.703Z"
   },
   {
    "duration": 21,
    "start_time": "2022-07-04T09:33:22.746Z"
   },
   {
    "duration": 3,
    "start_time": "2022-07-04T09:33:22.768Z"
   },
   {
    "duration": 6,
    "start_time": "2022-07-04T09:33:22.772Z"
   },
   {
    "duration": 4,
    "start_time": "2022-07-04T09:33:22.780Z"
   },
   {
    "duration": 4,
    "start_time": "2022-07-04T09:33:22.786Z"
   },
   {
    "duration": 6,
    "start_time": "2022-07-04T09:33:22.792Z"
   },
   {
    "duration": 4,
    "start_time": "2022-07-04T09:33:22.800Z"
   },
   {
    "duration": 3,
    "start_time": "2022-07-04T09:42:12.642Z"
   },
   {
    "duration": 75,
    "start_time": "2022-07-04T09:42:12.647Z"
   },
   {
    "duration": 9,
    "start_time": "2022-07-04T09:42:12.724Z"
   },
   {
    "duration": 24,
    "start_time": "2022-07-04T09:42:12.736Z"
   },
   {
    "duration": 10,
    "start_time": "2022-07-04T09:42:12.762Z"
   },
   {
    "duration": 68,
    "start_time": "2022-07-04T09:42:12.774Z"
   },
   {
    "duration": 4,
    "start_time": "2022-07-04T09:42:12.843Z"
   },
   {
    "duration": 12,
    "start_time": "2022-07-04T09:42:12.849Z"
   },
   {
    "duration": 4,
    "start_time": "2022-07-04T09:42:12.864Z"
   },
   {
    "duration": 15,
    "start_time": "2022-07-04T09:42:12.870Z"
   },
   {
    "duration": 8,
    "start_time": "2022-07-04T09:42:12.887Z"
   },
   {
    "duration": 64,
    "start_time": "2022-07-04T09:42:12.897Z"
   },
   {
    "duration": 10,
    "start_time": "2022-07-04T09:42:12.962Z"
   },
   {
    "duration": 5,
    "start_time": "2022-07-04T09:42:12.973Z"
   },
   {
    "duration": 23,
    "start_time": "2022-07-04T09:42:12.980Z"
   },
   {
    "duration": 38,
    "start_time": "2022-07-04T09:42:13.004Z"
   },
   {
    "duration": 2,
    "start_time": "2022-07-04T09:42:13.044Z"
   },
   {
    "duration": 9,
    "start_time": "2022-07-04T09:42:13.048Z"
   },
   {
    "duration": 7,
    "start_time": "2022-07-04T09:42:13.059Z"
   },
   {
    "duration": 6,
    "start_time": "2022-07-04T09:42:13.067Z"
   },
   {
    "duration": 7,
    "start_time": "2022-07-04T09:42:13.075Z"
   },
   {
    "duration": 7,
    "start_time": "2022-07-04T09:42:13.084Z"
   },
   {
    "duration": 10,
    "start_time": "2022-07-04T11:01:54.162Z"
   },
   {
    "duration": 4,
    "start_time": "2022-07-04T11:02:18.571Z"
   },
   {
    "duration": 14,
    "start_time": "2022-07-04T11:02:19.871Z"
   },
   {
    "duration": 12,
    "start_time": "2022-07-04T11:02:49.776Z"
   },
   {
    "duration": 28,
    "start_time": "2022-07-04T11:03:12.869Z"
   },
   {
    "duration": 4,
    "start_time": "2022-07-04T11:04:18.580Z"
   },
   {
    "duration": 76,
    "start_time": "2022-07-04T11:04:18.587Z"
   },
   {
    "duration": 9,
    "start_time": "2022-07-04T11:04:18.665Z"
   },
   {
    "duration": 16,
    "start_time": "2022-07-04T11:04:18.676Z"
   },
   {
    "duration": 10,
    "start_time": "2022-07-04T11:04:18.695Z"
   },
   {
    "duration": 93,
    "start_time": "2022-07-04T11:04:18.707Z"
   },
   {
    "duration": 4,
    "start_time": "2022-07-04T11:04:18.802Z"
   },
   {
    "duration": 14,
    "start_time": "2022-07-04T11:04:18.808Z"
   },
   {
    "duration": 18,
    "start_time": "2022-07-04T11:04:18.824Z"
   },
   {
    "duration": 11,
    "start_time": "2022-07-04T11:04:18.844Z"
   },
   {
    "duration": 5,
    "start_time": "2022-07-04T11:04:18.857Z"
   },
   {
    "duration": 36,
    "start_time": "2022-07-04T11:04:18.864Z"
   },
   {
    "duration": 9,
    "start_time": "2022-07-04T11:04:18.902Z"
   },
   {
    "duration": 5,
    "start_time": "2022-07-04T11:04:18.941Z"
   },
   {
    "duration": 33,
    "start_time": "2022-07-04T11:04:18.947Z"
   },
   {
    "duration": 29,
    "start_time": "2022-07-04T11:04:18.982Z"
   },
   {
    "duration": 41,
    "start_time": "2022-07-04T11:04:19.013Z"
   },
   {
    "duration": 15,
    "start_time": "2022-07-04T11:04:19.056Z"
   },
   {
    "duration": 33,
    "start_time": "2022-07-04T11:04:19.073Z"
   },
   {
    "duration": 5,
    "start_time": "2022-07-04T11:04:19.108Z"
   },
   {
    "duration": 10,
    "start_time": "2022-07-04T11:04:19.115Z"
   },
   {
    "duration": 10,
    "start_time": "2022-07-04T11:04:19.126Z"
   },
   {
    "duration": 3,
    "start_time": "2022-07-04T11:05:42.110Z"
   },
   {
    "duration": 75,
    "start_time": "2022-07-04T11:05:42.115Z"
   },
   {
    "duration": 9,
    "start_time": "2022-07-04T11:05:42.191Z"
   },
   {
    "duration": 17,
    "start_time": "2022-07-04T11:05:42.202Z"
   },
   {
    "duration": 25,
    "start_time": "2022-07-04T11:05:42.220Z"
   },
   {
    "duration": 58,
    "start_time": "2022-07-04T11:05:42.247Z"
   },
   {
    "duration": 4,
    "start_time": "2022-07-04T11:05:42.307Z"
   },
   {
    "duration": 32,
    "start_time": "2022-07-04T11:05:42.312Z"
   },
   {
    "duration": 6,
    "start_time": "2022-07-04T11:05:42.347Z"
   },
   {
    "duration": 10,
    "start_time": "2022-07-04T11:05:42.355Z"
   },
   {
    "duration": 6,
    "start_time": "2022-07-04T11:05:42.367Z"
   },
   {
    "duration": 36,
    "start_time": "2022-07-04T11:05:42.375Z"
   },
   {
    "duration": 35,
    "start_time": "2022-07-04T11:05:42.413Z"
   },
   {
    "duration": 6,
    "start_time": "2022-07-04T11:05:42.450Z"
   },
   {
    "duration": 28,
    "start_time": "2022-07-04T11:05:42.458Z"
   },
   {
    "duration": 25,
    "start_time": "2022-07-04T11:05:42.488Z"
   },
   {
    "duration": 36,
    "start_time": "2022-07-04T11:05:42.515Z"
   },
   {
    "duration": 8,
    "start_time": "2022-07-04T11:05:42.554Z"
   },
   {
    "duration": 40,
    "start_time": "2022-07-04T11:05:42.564Z"
   },
   {
    "duration": 4,
    "start_time": "2022-07-04T11:05:42.606Z"
   },
   {
    "duration": 5,
    "start_time": "2022-07-04T11:05:42.612Z"
   },
   {
    "duration": 30,
    "start_time": "2022-07-04T11:05:42.619Z"
   },
   {
    "duration": 3,
    "start_time": "2022-07-04T11:10:57.859Z"
   },
   {
    "duration": 93,
    "start_time": "2022-07-04T11:10:57.865Z"
   },
   {
    "duration": 9,
    "start_time": "2022-07-04T11:10:57.960Z"
   },
   {
    "duration": 31,
    "start_time": "2022-07-04T11:10:57.971Z"
   },
   {
    "duration": 11,
    "start_time": "2022-07-04T11:10:58.004Z"
   },
   {
    "duration": 83,
    "start_time": "2022-07-04T11:10:58.017Z"
   },
   {
    "duration": 5,
    "start_time": "2022-07-04T11:10:58.102Z"
   },
   {
    "duration": 16,
    "start_time": "2022-07-04T11:10:58.110Z"
   },
   {
    "duration": 16,
    "start_time": "2022-07-04T11:10:58.129Z"
   },
   {
    "duration": 13,
    "start_time": "2022-07-04T11:10:58.147Z"
   },
   {
    "duration": 5,
    "start_time": "2022-07-04T11:10:58.162Z"
   },
   {
    "duration": 61,
    "start_time": "2022-07-04T11:10:58.170Z"
   },
   {
    "duration": 11,
    "start_time": "2022-07-04T11:10:58.241Z"
   },
   {
    "duration": 8,
    "start_time": "2022-07-04T11:10:58.254Z"
   },
   {
    "duration": 28,
    "start_time": "2022-07-04T11:10:58.264Z"
   },
   {
    "duration": 54,
    "start_time": "2022-07-04T11:10:58.294Z"
   },
   {
    "duration": 19,
    "start_time": "2022-07-04T11:10:58.350Z"
   },
   {
    "duration": 5,
    "start_time": "2022-07-04T11:10:58.371Z"
   },
   {
    "duration": 42,
    "start_time": "2022-07-04T11:10:58.378Z"
   },
   {
    "duration": 20,
    "start_time": "2022-07-04T11:10:58.422Z"
   },
   {
    "duration": 5,
    "start_time": "2022-07-04T11:10:58.445Z"
   },
   {
    "duration": 6,
    "start_time": "2022-07-04T11:10:58.452Z"
   },
   {
    "duration": 3,
    "start_time": "2022-07-04T11:11:59.358Z"
   },
   {
    "duration": 74,
    "start_time": "2022-07-04T11:11:59.363Z"
   },
   {
    "duration": 9,
    "start_time": "2022-07-04T11:11:59.439Z"
   },
   {
    "duration": 19,
    "start_time": "2022-07-04T11:11:59.450Z"
   },
   {
    "duration": 14,
    "start_time": "2022-07-04T11:11:59.471Z"
   },
   {
    "duration": 103,
    "start_time": "2022-07-04T11:11:59.488Z"
   },
   {
    "duration": 4,
    "start_time": "2022-07-04T11:11:59.593Z"
   },
   {
    "duration": 16,
    "start_time": "2022-07-04T11:11:59.599Z"
   },
   {
    "duration": 6,
    "start_time": "2022-07-04T11:11:59.617Z"
   },
   {
    "duration": 10,
    "start_time": "2022-07-04T11:11:59.642Z"
   },
   {
    "duration": 5,
    "start_time": "2022-07-04T11:11:59.654Z"
   },
   {
    "duration": 38,
    "start_time": "2022-07-04T11:11:59.661Z"
   },
   {
    "duration": 42,
    "start_time": "2022-07-04T11:11:59.702Z"
   },
   {
    "duration": 6,
    "start_time": "2022-07-04T11:11:59.747Z"
   },
   {
    "duration": 32,
    "start_time": "2022-07-04T11:11:59.755Z"
   },
   {
    "duration": 28,
    "start_time": "2022-07-04T11:11:59.792Z"
   },
   {
    "duration": 29,
    "start_time": "2022-07-04T11:11:59.823Z"
   },
   {
    "duration": 13,
    "start_time": "2022-07-04T11:11:59.854Z"
   },
   {
    "duration": 47,
    "start_time": "2022-07-04T11:11:59.870Z"
   },
   {
    "duration": 2,
    "start_time": "2022-07-04T11:11:59.920Z"
   },
   {
    "duration": 8,
    "start_time": "2022-07-04T11:11:59.943Z"
   },
   {
    "duration": 7,
    "start_time": "2022-07-04T11:11:59.953Z"
   },
   {
    "duration": 5,
    "start_time": "2022-07-04T11:18:51.160Z"
   },
   {
    "duration": 46,
    "start_time": "2022-07-04T11:18:54.767Z"
   },
   {
    "duration": 3,
    "start_time": "2022-07-04T11:18:59.060Z"
   },
   {
    "duration": 74,
    "start_time": "2022-07-04T11:18:59.065Z"
   },
   {
    "duration": 11,
    "start_time": "2022-07-04T11:18:59.141Z"
   },
   {
    "duration": 30,
    "start_time": "2022-07-04T11:18:59.154Z"
   },
   {
    "duration": 14,
    "start_time": "2022-07-04T11:18:59.186Z"
   },
   {
    "duration": 78,
    "start_time": "2022-07-04T11:18:59.203Z"
   },
   {
    "duration": 5,
    "start_time": "2022-07-04T11:18:59.283Z"
   },
   {
    "duration": 12,
    "start_time": "2022-07-04T11:18:59.290Z"
   },
   {
    "duration": 5,
    "start_time": "2022-07-04T11:18:59.306Z"
   },
   {
    "duration": 29,
    "start_time": "2022-07-04T11:18:59.313Z"
   },
   {
    "duration": 6,
    "start_time": "2022-07-04T11:18:59.345Z"
   },
   {
    "duration": 68,
    "start_time": "2022-07-04T11:18:59.353Z"
   },
   {
    "duration": 23,
    "start_time": "2022-07-04T11:18:59.423Z"
   },
   {
    "duration": 5,
    "start_time": "2022-07-04T11:18:59.449Z"
   },
   {
    "duration": 39,
    "start_time": "2022-07-04T11:18:59.456Z"
   },
   {
    "duration": 27,
    "start_time": "2022-07-04T11:18:59.497Z"
   },
   {
    "duration": 34,
    "start_time": "2022-07-04T11:18:59.526Z"
   },
   {
    "duration": 10,
    "start_time": "2022-07-04T11:18:59.564Z"
   },
   {
    "duration": 46,
    "start_time": "2022-07-04T11:18:59.576Z"
   },
   {
    "duration": 4,
    "start_time": "2022-07-04T11:18:59.624Z"
   },
   {
    "duration": 3,
    "start_time": "2022-07-04T11:18:59.643Z"
   },
   {
    "duration": 28,
    "start_time": "2022-07-04T11:18:59.648Z"
   },
   {
    "duration": 5,
    "start_time": "2022-07-04T11:28:51.870Z"
   },
   {
    "duration": 27,
    "start_time": "2022-07-04T11:29:00.410Z"
   },
   {
    "duration": 19,
    "start_time": "2022-07-04T11:29:10.815Z"
   },
   {
    "duration": 81,
    "start_time": "2022-07-04T11:29:17.673Z"
   },
   {
    "duration": 3,
    "start_time": "2022-07-04T11:30:02.887Z"
   },
   {
    "duration": 77,
    "start_time": "2022-07-04T11:30:02.893Z"
   },
   {
    "duration": 9,
    "start_time": "2022-07-04T11:30:02.973Z"
   },
   {
    "duration": 23,
    "start_time": "2022-07-04T11:30:02.984Z"
   },
   {
    "duration": 15,
    "start_time": "2022-07-04T11:30:03.009Z"
   },
   {
    "duration": 71,
    "start_time": "2022-07-04T11:30:03.026Z"
   },
   {
    "duration": 5,
    "start_time": "2022-07-04T11:30:03.099Z"
   },
   {
    "duration": 14,
    "start_time": "2022-07-04T11:30:03.105Z"
   },
   {
    "duration": 9,
    "start_time": "2022-07-04T11:30:03.141Z"
   },
   {
    "duration": 11,
    "start_time": "2022-07-04T11:30:03.152Z"
   },
   {
    "duration": 5,
    "start_time": "2022-07-04T11:30:03.165Z"
   },
   {
    "duration": 79,
    "start_time": "2022-07-04T11:30:03.172Z"
   },
   {
    "duration": 13,
    "start_time": "2022-07-04T11:30:03.254Z"
   },
   {
    "duration": 7,
    "start_time": "2022-07-04T11:30:03.269Z"
   },
   {
    "duration": 32,
    "start_time": "2022-07-04T11:30:03.278Z"
   },
   {
    "duration": 49,
    "start_time": "2022-07-04T11:30:03.313Z"
   },
   {
    "duration": 52,
    "start_time": "2022-07-04T11:30:03.364Z"
   },
   {
    "duration": 4,
    "start_time": "2022-07-04T11:30:03.418Z"
   },
   {
    "duration": 37,
    "start_time": "2022-07-04T11:30:03.442Z"
   },
   {
    "duration": 5,
    "start_time": "2022-07-04T11:30:03.481Z"
   },
   {
    "duration": 8,
    "start_time": "2022-07-04T11:30:03.488Z"
   },
   {
    "duration": 8,
    "start_time": "2022-07-04T11:30:03.498Z"
   },
   {
    "duration": 13,
    "start_time": "2022-07-04T11:30:35.897Z"
   },
   {
    "duration": 3,
    "start_time": "2022-07-04T11:41:40.398Z"
   },
   {
    "duration": 75,
    "start_time": "2022-07-04T11:41:40.403Z"
   },
   {
    "duration": 10,
    "start_time": "2022-07-04T11:41:40.480Z"
   },
   {
    "duration": 19,
    "start_time": "2022-07-04T11:41:40.492Z"
   },
   {
    "duration": 10,
    "start_time": "2022-07-04T11:41:40.513Z"
   },
   {
    "duration": 82,
    "start_time": "2022-07-04T11:41:40.543Z"
   },
   {
    "duration": 15,
    "start_time": "2022-07-04T11:41:40.628Z"
   },
   {
    "duration": 14,
    "start_time": "2022-07-04T11:41:40.646Z"
   },
   {
    "duration": 6,
    "start_time": "2022-07-04T11:41:40.664Z"
   },
   {
    "duration": 11,
    "start_time": "2022-07-04T11:41:40.672Z"
   },
   {
    "duration": 6,
    "start_time": "2022-07-04T11:41:40.685Z"
   },
   {
    "duration": 80,
    "start_time": "2022-07-04T11:41:40.694Z"
   },
   {
    "duration": 10,
    "start_time": "2022-07-04T11:41:40.776Z"
   },
   {
    "duration": 7,
    "start_time": "2022-07-04T11:41:40.788Z"
   },
   {
    "duration": 25,
    "start_time": "2022-07-04T11:41:40.797Z"
   },
   {
    "duration": 21,
    "start_time": "2022-07-04T11:41:40.841Z"
   },
   {
    "duration": 18,
    "start_time": "2022-07-04T11:41:40.864Z"
   },
   {
    "duration": 6,
    "start_time": "2022-07-04T11:41:40.884Z"
   },
   {
    "duration": 68,
    "start_time": "2022-07-04T11:41:40.893Z"
   },
   {
    "duration": 3,
    "start_time": "2022-07-04T11:41:40.963Z"
   },
   {
    "duration": 6,
    "start_time": "2022-07-04T11:41:40.968Z"
   },
   {
    "duration": 4,
    "start_time": "2022-07-04T11:41:40.976Z"
   },
   {
    "duration": 18,
    "start_time": "2022-07-04T11:48:05.286Z"
   },
   {
    "duration": 22,
    "start_time": "2022-07-04T11:48:37.217Z"
   },
   {
    "duration": 4,
    "start_time": "2022-07-04T11:50:10.966Z"
   },
   {
    "duration": 83,
    "start_time": "2022-07-04T11:50:10.972Z"
   },
   {
    "duration": 9,
    "start_time": "2022-07-04T11:50:11.057Z"
   },
   {
    "duration": 16,
    "start_time": "2022-07-04T11:50:11.068Z"
   },
   {
    "duration": 8,
    "start_time": "2022-07-04T11:50:11.086Z"
   },
   {
    "duration": 71,
    "start_time": "2022-07-04T11:50:11.096Z"
   },
   {
    "duration": 4,
    "start_time": "2022-07-04T11:50:11.168Z"
   },
   {
    "duration": 14,
    "start_time": "2022-07-04T11:50:11.173Z"
   },
   {
    "duration": 5,
    "start_time": "2022-07-04T11:50:11.189Z"
   },
   {
    "duration": 9,
    "start_time": "2022-07-04T11:50:11.195Z"
   },
   {
    "duration": 5,
    "start_time": "2022-07-04T11:50:11.207Z"
   },
   {
    "duration": 44,
    "start_time": "2022-07-04T11:50:11.242Z"
   },
   {
    "duration": 10,
    "start_time": "2022-07-04T11:50:11.288Z"
   },
   {
    "duration": 4,
    "start_time": "2022-07-04T11:50:11.300Z"
   },
   {
    "duration": 50,
    "start_time": "2022-07-04T11:50:11.306Z"
   },
   {
    "duration": 21,
    "start_time": "2022-07-04T11:50:11.358Z"
   },
   {
    "duration": 11,
    "start_time": "2022-07-04T11:50:11.381Z"
   },
   {
    "duration": 8,
    "start_time": "2022-07-04T11:50:11.394Z"
   },
   {
    "duration": 47,
    "start_time": "2022-07-04T11:50:11.404Z"
   },
   {
    "duration": 6,
    "start_time": "2022-07-04T11:50:11.453Z"
   },
   {
    "duration": 6,
    "start_time": "2022-07-04T11:50:11.460Z"
   },
   {
    "duration": 9,
    "start_time": "2022-07-04T11:50:11.467Z"
   },
   {
    "duration": 3,
    "start_time": "2022-07-04T11:50:50.068Z"
   },
   {
    "duration": 82,
    "start_time": "2022-07-04T11:50:50.074Z"
   },
   {
    "duration": 9,
    "start_time": "2022-07-04T11:50:50.158Z"
   },
   {
    "duration": 17,
    "start_time": "2022-07-04T11:50:50.169Z"
   },
   {
    "duration": 9,
    "start_time": "2022-07-04T11:50:50.188Z"
   },
   {
    "duration": 82,
    "start_time": "2022-07-04T11:50:50.199Z"
   },
   {
    "duration": 4,
    "start_time": "2022-07-04T11:50:50.284Z"
   },
   {
    "duration": 16,
    "start_time": "2022-07-04T11:50:50.290Z"
   },
   {
    "duration": 8,
    "start_time": "2022-07-04T11:50:50.308Z"
   },
   {
    "duration": 28,
    "start_time": "2022-07-04T11:50:50.318Z"
   },
   {
    "duration": 10,
    "start_time": "2022-07-04T11:50:50.349Z"
   },
   {
    "duration": 41,
    "start_time": "2022-07-04T11:50:50.360Z"
   },
   {
    "duration": 9,
    "start_time": "2022-07-04T11:50:50.403Z"
   },
   {
    "duration": 5,
    "start_time": "2022-07-04T11:50:50.414Z"
   },
   {
    "duration": 40,
    "start_time": "2022-07-04T11:50:50.421Z"
   },
   {
    "duration": 21,
    "start_time": "2022-07-04T11:50:50.462Z"
   },
   {
    "duration": 12,
    "start_time": "2022-07-04T11:50:50.485Z"
   },
   {
    "duration": 6,
    "start_time": "2022-07-04T11:50:50.499Z"
   },
   {
    "duration": 57,
    "start_time": "2022-07-04T11:50:50.507Z"
   },
   {
    "duration": 5,
    "start_time": "2022-07-04T11:50:50.566Z"
   },
   {
    "duration": 10,
    "start_time": "2022-07-04T11:50:50.573Z"
   },
   {
    "duration": 12,
    "start_time": "2022-07-04T11:50:50.585Z"
   },
   {
    "duration": 3,
    "start_time": "2022-07-04T11:51:55.727Z"
   },
   {
    "duration": 78,
    "start_time": "2022-07-04T11:51:55.732Z"
   },
   {
    "duration": 8,
    "start_time": "2022-07-04T11:51:55.812Z"
   },
   {
    "duration": 20,
    "start_time": "2022-07-04T11:51:55.822Z"
   },
   {
    "duration": 11,
    "start_time": "2022-07-04T11:51:55.843Z"
   },
   {
    "duration": 63,
    "start_time": "2022-07-04T11:51:55.855Z"
   },
   {
    "duration": 5,
    "start_time": "2022-07-04T11:51:55.920Z"
   },
   {
    "duration": 8,
    "start_time": "2022-07-04T11:51:55.943Z"
   },
   {
    "duration": 12,
    "start_time": "2022-07-04T11:51:55.953Z"
   },
   {
    "duration": 37,
    "start_time": "2022-07-04T11:51:55.966Z"
   },
   {
    "duration": 25,
    "start_time": "2022-07-04T11:51:56.005Z"
   },
   {
    "duration": 62,
    "start_time": "2022-07-04T11:51:56.032Z"
   },
   {
    "duration": 9,
    "start_time": "2022-07-04T11:51:56.096Z"
   },
   {
    "duration": 20,
    "start_time": "2022-07-04T11:51:56.106Z"
   },
   {
    "duration": 30,
    "start_time": "2022-07-04T11:51:56.128Z"
   },
   {
    "duration": 21,
    "start_time": "2022-07-04T11:51:56.160Z"
   },
   {
    "duration": 12,
    "start_time": "2022-07-04T11:51:56.182Z"
   },
   {
    "duration": 8,
    "start_time": "2022-07-04T11:51:56.195Z"
   },
   {
    "duration": 44,
    "start_time": "2022-07-04T11:51:56.205Z"
   },
   {
    "duration": 4,
    "start_time": "2022-07-04T11:51:56.251Z"
   },
   {
    "duration": 6,
    "start_time": "2022-07-04T11:51:56.257Z"
   },
   {
    "duration": 4,
    "start_time": "2022-07-04T11:51:56.265Z"
   },
   {
    "duration": 8,
    "start_time": "2022-07-04T11:54:48.060Z"
   },
   {
    "duration": 3,
    "start_time": "2022-07-04T12:01:38.393Z"
   },
   {
    "duration": 81,
    "start_time": "2022-07-04T12:01:38.399Z"
   },
   {
    "duration": 10,
    "start_time": "2022-07-04T12:01:38.482Z"
   },
   {
    "duration": 19,
    "start_time": "2022-07-04T12:01:38.495Z"
   },
   {
    "duration": 27,
    "start_time": "2022-07-04T12:01:38.515Z"
   },
   {
    "duration": 59,
    "start_time": "2022-07-04T12:01:38.543Z"
   },
   {
    "duration": 5,
    "start_time": "2022-07-04T12:01:38.604Z"
   },
   {
    "duration": 36,
    "start_time": "2022-07-04T12:01:38.612Z"
   },
   {
    "duration": 5,
    "start_time": "2022-07-04T12:01:38.651Z"
   },
   {
    "duration": 13,
    "start_time": "2022-07-04T12:01:38.658Z"
   },
   {
    "duration": 6,
    "start_time": "2022-07-04T12:01:38.673Z"
   },
   {
    "duration": 70,
    "start_time": "2022-07-04T12:01:38.681Z"
   },
   {
    "duration": 13,
    "start_time": "2022-07-04T12:01:38.753Z"
   },
   {
    "duration": 5,
    "start_time": "2022-07-04T12:01:38.768Z"
   },
   {
    "duration": 29,
    "start_time": "2022-07-04T12:01:38.775Z"
   },
   {
    "duration": 40,
    "start_time": "2022-07-04T12:01:38.806Z"
   },
   {
    "duration": 18,
    "start_time": "2022-07-04T12:01:38.848Z"
   },
   {
    "duration": 6,
    "start_time": "2022-07-04T12:01:38.868Z"
   },
   {
    "duration": 33,
    "start_time": "2022-07-04T12:01:38.876Z"
   },
   {
    "duration": 33,
    "start_time": "2022-07-04T12:01:38.910Z"
   },
   {
    "duration": 115,
    "start_time": "2022-07-04T12:01:38.945Z"
   },
   {
    "duration": 0,
    "start_time": "2022-07-04T12:01:39.062Z"
   },
   {
    "duration": 85,
    "start_time": "2022-07-04T12:19:29.715Z"
   },
   {
    "duration": 4,
    "start_time": "2022-07-04T12:19:39.559Z"
   },
   {
    "duration": 8,
    "start_time": "2022-07-04T12:21:11.971Z"
   },
   {
    "duration": 2,
    "start_time": "2022-07-04T12:21:49.780Z"
   },
   {
    "duration": 83,
    "start_time": "2022-07-04T12:21:49.784Z"
   },
   {
    "duration": 9,
    "start_time": "2022-07-04T12:21:49.869Z"
   },
   {
    "duration": 17,
    "start_time": "2022-07-04T12:21:49.879Z"
   },
   {
    "duration": 16,
    "start_time": "2022-07-04T12:21:49.899Z"
   },
   {
    "duration": 74,
    "start_time": "2022-07-04T12:21:49.916Z"
   },
   {
    "duration": 4,
    "start_time": "2022-07-04T12:21:49.991Z"
   },
   {
    "duration": 13,
    "start_time": "2022-07-04T12:21:49.997Z"
   },
   {
    "duration": 7,
    "start_time": "2022-07-04T12:21:50.012Z"
   },
   {
    "duration": 34,
    "start_time": "2022-07-04T12:21:50.020Z"
   },
   {
    "duration": 17,
    "start_time": "2022-07-04T12:21:50.056Z"
   },
   {
    "duration": 57,
    "start_time": "2022-07-04T12:21:50.075Z"
   },
   {
    "duration": 15,
    "start_time": "2022-07-04T12:21:50.134Z"
   },
   {
    "duration": 10,
    "start_time": "2022-07-04T12:21:50.158Z"
   },
   {
    "duration": 28,
    "start_time": "2022-07-04T12:21:50.171Z"
   },
   {
    "duration": 27,
    "start_time": "2022-07-04T12:21:50.202Z"
   },
   {
    "duration": 25,
    "start_time": "2022-07-04T12:21:50.232Z"
   },
   {
    "duration": 9,
    "start_time": "2022-07-04T12:21:50.259Z"
   },
   {
    "duration": 32,
    "start_time": "2022-07-04T12:21:50.269Z"
   },
   {
    "duration": 6,
    "start_time": "2022-07-04T12:21:50.303Z"
   },
   {
    "duration": 7,
    "start_time": "2022-07-04T12:21:50.311Z"
   },
   {
    "duration": 18,
    "start_time": "2022-07-04T12:21:50.343Z"
   },
   {
    "duration": 4,
    "start_time": "2022-07-04T12:26:59.011Z"
   },
   {
    "duration": 9,
    "start_time": "2022-07-04T12:27:01.464Z"
   },
   {
    "duration": 4,
    "start_time": "2022-07-04T12:29:21.093Z"
   },
   {
    "duration": 96,
    "start_time": "2022-07-04T12:29:21.099Z"
   },
   {
    "duration": 12,
    "start_time": "2022-07-04T12:29:21.198Z"
   },
   {
    "duration": 20,
    "start_time": "2022-07-04T12:29:21.212Z"
   },
   {
    "duration": 10,
    "start_time": "2022-07-04T12:29:21.243Z"
   },
   {
    "duration": 56,
    "start_time": "2022-07-04T12:29:21.255Z"
   },
   {
    "duration": 5,
    "start_time": "2022-07-04T12:29:21.313Z"
   },
   {
    "duration": 35,
    "start_time": "2022-07-04T12:29:21.319Z"
   },
   {
    "duration": 5,
    "start_time": "2022-07-04T12:29:21.356Z"
   },
   {
    "duration": 13,
    "start_time": "2022-07-04T12:29:21.363Z"
   },
   {
    "duration": 5,
    "start_time": "2022-07-04T12:29:21.379Z"
   },
   {
    "duration": 57,
    "start_time": "2022-07-04T12:29:21.385Z"
   },
   {
    "duration": 15,
    "start_time": "2022-07-04T12:29:21.444Z"
   },
   {
    "duration": 4,
    "start_time": "2022-07-04T12:29:21.461Z"
   },
   {
    "duration": 30,
    "start_time": "2022-07-04T12:29:21.467Z"
   },
   {
    "duration": 47,
    "start_time": "2022-07-04T12:29:21.499Z"
   },
   {
    "duration": 12,
    "start_time": "2022-07-04T12:29:21.548Z"
   },
   {
    "duration": 6,
    "start_time": "2022-07-04T12:29:21.562Z"
   },
   {
    "duration": 34,
    "start_time": "2022-07-04T12:29:21.570Z"
   },
   {
    "duration": 6,
    "start_time": "2022-07-04T12:29:21.606Z"
   },
   {
    "duration": 33,
    "start_time": "2022-07-04T12:29:21.613Z"
   },
   {
    "duration": 16,
    "start_time": "2022-07-04T12:29:21.648Z"
   },
   {
    "duration": 388,
    "start_time": "2022-12-04T17:19:53.513Z"
   },
   {
    "duration": 177,
    "start_time": "2022-12-04T17:19:53.903Z"
   },
   {
    "duration": 15,
    "start_time": "2022-12-04T17:19:54.083Z"
   },
   {
    "duration": 28,
    "start_time": "2022-12-04T17:19:54.100Z"
   },
   {
    "duration": 19,
    "start_time": "2022-12-04T17:19:54.131Z"
   },
   {
    "duration": 57,
    "start_time": "2022-12-04T17:19:54.152Z"
   },
   {
    "duration": 4,
    "start_time": "2022-12-04T17:19:54.211Z"
   },
   {
    "duration": 14,
    "start_time": "2022-12-04T17:19:54.217Z"
   },
   {
    "duration": 5,
    "start_time": "2022-12-04T17:19:54.233Z"
   },
   {
    "duration": 10,
    "start_time": "2022-12-04T17:19:54.239Z"
   },
   {
    "duration": 3,
    "start_time": "2022-12-04T17:19:54.251Z"
   },
   {
    "duration": 50,
    "start_time": "2022-12-04T17:19:54.256Z"
   },
   {
    "duration": 8,
    "start_time": "2022-12-04T17:19:54.308Z"
   },
   {
    "duration": 7,
    "start_time": "2022-12-04T17:19:54.318Z"
   },
   {
    "duration": 23,
    "start_time": "2022-12-04T17:19:54.326Z"
   },
   {
    "duration": 34,
    "start_time": "2022-12-04T17:19:54.351Z"
   },
   {
    "duration": 11,
    "start_time": "2022-12-04T17:19:54.386Z"
   },
   {
    "duration": 8,
    "start_time": "2022-12-04T17:19:54.398Z"
   },
   {
    "duration": 32,
    "start_time": "2022-12-04T17:19:54.408Z"
   },
   {
    "duration": 21,
    "start_time": "2022-12-04T17:19:54.442Z"
   },
   {
    "duration": 17,
    "start_time": "2022-12-04T17:19:54.464Z"
   },
   {
    "duration": 16,
    "start_time": "2022-12-04T17:19:54.483Z"
   }
  ],
  "colab": {
   "name": "dpp_template_part1.ipynb",
   "provenance": []
  },
  "kernelspec": {
   "display_name": "Python 3 (ipykernel)",
   "language": "python",
   "name": "python3"
  },
  "language_info": {
   "codemirror_mode": {
    "name": "ipython",
    "version": 3
   },
   "file_extension": ".py",
   "mimetype": "text/x-python",
   "name": "python",
   "nbconvert_exporter": "python",
   "pygments_lexer": "ipython3",
   "version": "3.9.5"
  },
  "toc": {
   "base_numbering": 1,
   "nav_menu": {},
   "number_sections": true,
   "sideBar": true,
   "skip_h1_title": true,
   "title_cell": "Table of Contents",
   "title_sidebar": "Contents",
   "toc_cell": false,
   "toc_position": {},
   "toc_section_display": true,
   "toc_window_display": false
  }
 },
 "nbformat": 4,
 "nbformat_minor": 5
}
