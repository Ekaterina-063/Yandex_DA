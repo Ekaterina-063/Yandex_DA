{
 "cells": [
  {
   "cell_type": "markdown",
   "metadata": {},
   "source": [
    "<div style=\"border:solid Chocolate 2px; padding: 40px\">\n",
    "\n",
    "<b>Катя, привет!👋</b>\n",
    "\n",
    "Меня зовут Евгений Хоран, я буду ревьюером твоего проекта. Ты можешь обращаться ко мне на \"ты\"😏 Надеюсь, тебя также не смутит, если я буду обращаться к тебе на \"ты\", но если это неудобно, обязательно скажи об этом!\n",
    "\n",
    "Пожалуйста, **не удаляй мои комментарии**, они будут особенно полезны для нашей работы в случае повторной проверки проекта. \n",
    "\n",
    "\n",
    "Ты также можешь реагировать на мои комментарии своими, выделяя их цветами и наиболее понравившимся тебе способом оформления, но явно  отличающимся от моих комментариев. Это нужно, чтобы не создавалась путаница😉\n",
    "<div class=\"alert alert-info\" role=\"alert\">\n",
    "<h2>Комментарий студента<a class=\"tocSkip\"></h2>\n",
    "    \n",
    "Например, это можно сделать так    \n",
    "    </div>    \n",
    "Ты можешь найти мои комментарии, обозначенные <font color='green'>зеленым</font>, <font color='gold'>желтым</font> и <font color='red'>красным</font> цветами, например:\n",
    "\n",
    "<br/>\n",
    "\n",
    "\n",
    "<div class=\"alert alert-success\">\n",
    "<h2> Комментарий ревьюера <a class=\"tocSkip\"> </h2>\n",
    "\n",
    "<b>Все отлично!👍:</b> В случае, если решение на отдельном шаге является полностью правильным.</div>\n",
    "\n",
    "<br/>\n",
    "\n",
    "<div class=\"alert alert-warning\">\n",
    "    <h2> Комментарий ревьюера <a class=\"tocSkip\"> </h2>\n",
    "    \n",
    "<b>Некоторые замечания и рекомендации💡:</b> В случае, когда решение на отдельном шаге станет еще лучше, если внести небольшие коррективы.\n",
    "</div>\n",
    "\n",
    "\n",
    "<br/>\n",
    "<div class=\"alert alert-block alert-danger\">\n",
    "<h2> Комментарий ревьюера <a class=\"tocSkip\"></h2>\n",
    "\n",
    "    \n",
    "<b>На доработку🤔:</b>\n",
    " В случае, когда решение на отдельном шаге требует существенной переработки и внесения правок. Напоминаю, что проект не может быть принят с первого раза, если ревью содержит комментарии, рекомендующие доработать шаги.\n",
    "</div>\n",
    "    \n",
    "Увидев у тебя неточность, в первый раз я лишь укажу на ее наличие и дам тебе возможность самому найти и исправить ее. На реальной работе твой руководитель будет поступать также, и я пытаюсь подготовить тебя именно к работе аналитиком. Но если ты пока не справишься с такой задачей - при следующей проверке я дам более точную подсказку!🤓"
   ]
  },
  {
   "cell_type": "markdown",
   "metadata": {},
   "source": [
    "# ПРИОРЕТИЗАЦИЯ ГИПОТЕЗ.\n",
    "\n",
    "В файле /datasets/hypothesis.csv 9 гипотез по увеличению выручки интернет-магазина с указанными параметрами Reach, Impact, Confidence, Effort."
   ]
  },
  {
   "cell_type": "markdown",
   "metadata": {},
   "source": [
    "<div class=\"alert alert-success\">\n",
    "<h2> Комментарий ревьюера <a class=\"tocSkip\"> </h2>\n",
    "\n",
    "<b>Все отлично!👍:</b> \n",
    "Здорово, что во вступлении к твоему проекту есть\n",
    "\n",
    "* заголовок,\n",
    "\n",
    "* описание данных,\n",
    "    \n",
    "* интерактивное содержание    \n",
    "\n",
    "Вступление станет лучше, если ты добавишь в него:\n",
    "\n",
    "* краткое описание проекта,    \n",
    "  \n",
    "Тогда получатель отчета сможет быстрей его понять.\n",
    "\n",
    "\n",
    "</div>"
   ]
  },
  {
   "cell_type": "code",
   "execution_count": 7,
   "metadata": {},
   "outputs": [],
   "source": [
    "import pandas as pd\n",
    "import datetime as dt\n",
    "import matplotlib.pyplot as plt\n",
    "import numpy as np\n",
    "import math as mth\n",
    "from pandas.plotting import register_matplotlib_converters\n",
    "import warnings\n",
    "register_matplotlib_converters()\n",
    "import scipy.stats as stats"
   ]
  },
  {
   "cell_type": "code",
   "execution_count": 8,
   "metadata": {},
   "outputs": [],
   "source": [
    "hypothesis = pd.read_csv('/datasets/hypothesis.csv', sep=',')"
   ]
  },
  {
   "cell_type": "code",
   "execution_count": 9,
   "metadata": {},
   "outputs": [
    {
     "data": {
      "text/html": [
       "<div>\n",
       "<style scoped>\n",
       "    .dataframe tbody tr th:only-of-type {\n",
       "        vertical-align: middle;\n",
       "    }\n",
       "\n",
       "    .dataframe tbody tr th {\n",
       "        vertical-align: top;\n",
       "    }\n",
       "\n",
       "    .dataframe thead th {\n",
       "        text-align: right;\n",
       "    }\n",
       "</style>\n",
       "<table border=\"1\" class=\"dataframe\">\n",
       "  <thead>\n",
       "    <tr style=\"text-align: right;\">\n",
       "      <th></th>\n",
       "      <th>Hypothesis</th>\n",
       "      <th>Reach</th>\n",
       "      <th>Impact</th>\n",
       "      <th>Confidence</th>\n",
       "      <th>Efforts</th>\n",
       "    </tr>\n",
       "  </thead>\n",
       "  <tbody>\n",
       "    <tr>\n",
       "      <th>0</th>\n",
       "      <td>Добавить два новых канала привлечения трафика, что позволит привлекать на 30% больше пользователей</td>\n",
       "      <td>3</td>\n",
       "      <td>10</td>\n",
       "      <td>8</td>\n",
       "      <td>6</td>\n",
       "    </tr>\n",
       "    <tr>\n",
       "      <th>1</th>\n",
       "      <td>Запустить собственную службу доставки, что сократит срок доставки заказов</td>\n",
       "      <td>2</td>\n",
       "      <td>5</td>\n",
       "      <td>4</td>\n",
       "      <td>10</td>\n",
       "    </tr>\n",
       "    <tr>\n",
       "      <th>2</th>\n",
       "      <td>Добавить блоки рекомендаций товаров на сайт интернет магазина, чтобы повысить конверсию и средний чек заказа</td>\n",
       "      <td>8</td>\n",
       "      <td>3</td>\n",
       "      <td>7</td>\n",
       "      <td>3</td>\n",
       "    </tr>\n",
       "    <tr>\n",
       "      <th>3</th>\n",
       "      <td>Изменить структура категорий, что увеличит конверсию, т.к. пользователи быстрее найдут нужный товар</td>\n",
       "      <td>8</td>\n",
       "      <td>3</td>\n",
       "      <td>3</td>\n",
       "      <td>8</td>\n",
       "    </tr>\n",
       "    <tr>\n",
       "      <th>4</th>\n",
       "      <td>Изменить цвет фона главной страницы, чтобы увеличить вовлеченность пользователей</td>\n",
       "      <td>3</td>\n",
       "      <td>1</td>\n",
       "      <td>1</td>\n",
       "      <td>1</td>\n",
       "    </tr>\n",
       "    <tr>\n",
       "      <th>5</th>\n",
       "      <td>Добавить страницу отзывов клиентов о магазине, что позволит увеличить количество заказов</td>\n",
       "      <td>3</td>\n",
       "      <td>2</td>\n",
       "      <td>2</td>\n",
       "      <td>3</td>\n",
       "    </tr>\n",
       "    <tr>\n",
       "      <th>6</th>\n",
       "      <td>Показать на главной странице баннеры с актуальными акциями и распродажами, чтобы увеличить конверсию</td>\n",
       "      <td>5</td>\n",
       "      <td>3</td>\n",
       "      <td>8</td>\n",
       "      <td>3</td>\n",
       "    </tr>\n",
       "    <tr>\n",
       "      <th>7</th>\n",
       "      <td>Добавить форму подписки на все основные страницы, чтобы собрать базу клиентов для email-рассылок</td>\n",
       "      <td>10</td>\n",
       "      <td>7</td>\n",
       "      <td>8</td>\n",
       "      <td>5</td>\n",
       "    </tr>\n",
       "    <tr>\n",
       "      <th>8</th>\n",
       "      <td>Запустить акцию, дающую скидку на товар в день рождения</td>\n",
       "      <td>1</td>\n",
       "      <td>9</td>\n",
       "      <td>9</td>\n",
       "      <td>5</td>\n",
       "    </tr>\n",
       "  </tbody>\n",
       "</table>\n",
       "</div>"
      ],
      "text/plain": [
       "                                                                                                     Hypothesis  \\\n",
       "0            Добавить два новых канала привлечения трафика, что позволит привлекать на 30% больше пользователей   \n",
       "1                                     Запустить собственную службу доставки, что сократит срок доставки заказов   \n",
       "2  Добавить блоки рекомендаций товаров на сайт интернет магазина, чтобы повысить конверсию и средний чек заказа   \n",
       "3           Изменить структура категорий, что увеличит конверсию, т.к. пользователи быстрее найдут нужный товар   \n",
       "4                              Изменить цвет фона главной страницы, чтобы увеличить вовлеченность пользователей   \n",
       "5                      Добавить страницу отзывов клиентов о магазине, что позволит увеличить количество заказов   \n",
       "6          Показать на главной странице баннеры с актуальными акциями и распродажами, чтобы увеличить конверсию   \n",
       "7              Добавить форму подписки на все основные страницы, чтобы собрать базу клиентов для email-рассылок   \n",
       "8                                                       Запустить акцию, дающую скидку на товар в день рождения   \n",
       "\n",
       "   Reach  Impact  Confidence  Efforts  \n",
       "0      3      10           8        6  \n",
       "1      2       5           4       10  \n",
       "2      8       3           7        3  \n",
       "3      8       3           3        8  \n",
       "4      3       1           1        1  \n",
       "5      3       2           2        3  \n",
       "6      5       3           8        3  \n",
       "7     10       7           8        5  \n",
       "8      1       9           9        5  "
      ]
     },
     "execution_count": 9,
     "metadata": {},
     "output_type": "execute_result"
    }
   ],
   "source": [
    "pd.options.display.max_colwidth = 120 \n",
    "hypothesis"
   ]
  },
  {
   "cell_type": "markdown",
   "metadata": {},
   "source": [
    "<div class=\"alert alert-block alert-danger\">\n",
    "<h2> Комментарий ревьюера <a class=\"tocSkip\"></h2>\n",
    "<b>На доработку🤔:</b>\n",
    "    \n",
    "Не стоит использовать `print` для отображение таблиц. Для этого применяют `display`, а если переменная для вывода находится в последней строке ячейки, то она отобразится автоматически. Актуально для всего проекта\n",
    "    \n",
    "    \n",
    "В такой таблице не видно гипотезу целиком. Это можно исправить, если увеличить максимальную ширину столбцов\n",
    "\n",
    "    pd.options.display.max_colwidth = 100    "
   ]
  },
  {
   "cell_type": "markdown",
   "metadata": {},
   "source": [
    "<div class=\"alert-info\"> \n",
    "Евгений, спасибо за ц.у. по расширению ширины столбца. \"Принты\" везде убрала.\n",
    "</div>"
   ]
  },
  {
   "cell_type": "markdown",
   "metadata": {},
   "source": [
    "<div class=\"alert alert-success\">\n",
    "<h2> Комментарий ревьюера <font color= \"black\"> V2</font> <a class=\"tocSkip\"> </h2>\n",
    "<b>Все отлично!👍 :</b> \n",
    "    \n",
    "Такой вариант вывода предпочтителен"
   ]
  },
  {
   "cell_type": "code",
   "execution_count": 10,
   "metadata": {},
   "outputs": [],
   "source": [
    "hypothesis.columns = [x.lower() for x in hypothesis.columns] #названия всех столбцов сделаем из строчных букв"
   ]
  },
  {
   "cell_type": "markdown",
   "metadata": {},
   "source": [
    "\n",
    "## Примените фреймворк ICE для приоритизации гипотез. Отсортируйте их по убыванию приоритета."
   ]
  },
  {
   "cell_type": "code",
   "execution_count": 11,
   "metadata": {},
   "outputs": [
    {
     "data": {
      "text/html": [
       "<div>\n",
       "<style scoped>\n",
       "    .dataframe tbody tr th:only-of-type {\n",
       "        vertical-align: middle;\n",
       "    }\n",
       "\n",
       "    .dataframe tbody tr th {\n",
       "        vertical-align: top;\n",
       "    }\n",
       "\n",
       "    .dataframe thead th {\n",
       "        text-align: right;\n",
       "    }\n",
       "</style>\n",
       "<table border=\"1\" class=\"dataframe\">\n",
       "  <thead>\n",
       "    <tr style=\"text-align: right;\">\n",
       "      <th></th>\n",
       "      <th>hypothesis</th>\n",
       "      <th>ICE</th>\n",
       "    </tr>\n",
       "  </thead>\n",
       "  <tbody>\n",
       "    <tr>\n",
       "      <th>8</th>\n",
       "      <td>Запустить акцию, дающую скидку на товар в день рождения</td>\n",
       "      <td>16.200000</td>\n",
       "    </tr>\n",
       "    <tr>\n",
       "      <th>0</th>\n",
       "      <td>Добавить два новых канала привлечения трафика, что позволит привлекать на 30% больше пользователей</td>\n",
       "      <td>13.333333</td>\n",
       "    </tr>\n",
       "    <tr>\n",
       "      <th>7</th>\n",
       "      <td>Добавить форму подписки на все основные страницы, чтобы собрать базу клиентов для email-рассылок</td>\n",
       "      <td>11.200000</td>\n",
       "    </tr>\n",
       "    <tr>\n",
       "      <th>6</th>\n",
       "      <td>Показать на главной странице баннеры с актуальными акциями и распродажами, чтобы увеличить конверсию</td>\n",
       "      <td>8.000000</td>\n",
       "    </tr>\n",
       "    <tr>\n",
       "      <th>2</th>\n",
       "      <td>Добавить блоки рекомендаций товаров на сайт интернет магазина, чтобы повысить конверсию и средний чек заказа</td>\n",
       "      <td>7.000000</td>\n",
       "    </tr>\n",
       "    <tr>\n",
       "      <th>1</th>\n",
       "      <td>Запустить собственную службу доставки, что сократит срок доставки заказов</td>\n",
       "      <td>2.000000</td>\n",
       "    </tr>\n",
       "    <tr>\n",
       "      <th>5</th>\n",
       "      <td>Добавить страницу отзывов клиентов о магазине, что позволит увеличить количество заказов</td>\n",
       "      <td>1.333333</td>\n",
       "    </tr>\n",
       "    <tr>\n",
       "      <th>3</th>\n",
       "      <td>Изменить структура категорий, что увеличит конверсию, т.к. пользователи быстрее найдут нужный товар</td>\n",
       "      <td>1.125000</td>\n",
       "    </tr>\n",
       "    <tr>\n",
       "      <th>4</th>\n",
       "      <td>Изменить цвет фона главной страницы, чтобы увеличить вовлеченность пользователей</td>\n",
       "      <td>1.000000</td>\n",
       "    </tr>\n",
       "  </tbody>\n",
       "</table>\n",
       "</div>"
      ],
      "text/plain": [
       "                                                                                                     hypothesis  \\\n",
       "8                                                       Запустить акцию, дающую скидку на товар в день рождения   \n",
       "0            Добавить два новых канала привлечения трафика, что позволит привлекать на 30% больше пользователей   \n",
       "7              Добавить форму подписки на все основные страницы, чтобы собрать базу клиентов для email-рассылок   \n",
       "6          Показать на главной странице баннеры с актуальными акциями и распродажами, чтобы увеличить конверсию   \n",
       "2  Добавить блоки рекомендаций товаров на сайт интернет магазина, чтобы повысить конверсию и средний чек заказа   \n",
       "1                                     Запустить собственную службу доставки, что сократит срок доставки заказов   \n",
       "5                      Добавить страницу отзывов клиентов о магазине, что позволит увеличить количество заказов   \n",
       "3           Изменить структура категорий, что увеличит конверсию, т.к. пользователи быстрее найдут нужный товар   \n",
       "4                              Изменить цвет фона главной страницы, чтобы увеличить вовлеченность пользователей   \n",
       "\n",
       "         ICE  \n",
       "8  16.200000  \n",
       "0  13.333333  \n",
       "7  11.200000  \n",
       "6   8.000000  \n",
       "2   7.000000  \n",
       "1   2.000000  \n",
       "5   1.333333  \n",
       "3   1.125000  \n",
       "4   1.000000  "
      ]
     },
     "execution_count": 11,
     "metadata": {},
     "output_type": "execute_result"
    }
   ],
   "source": [
    "hypothesis['ICE'] = (hypothesis['impact']*hypothesis['confidence'])/hypothesis['efforts']\n",
    "hypothesis[['hypothesis','ICE']].sort_values('ICE',ascending=False)"
   ]
  },
  {
   "cell_type": "markdown",
   "metadata": {},
   "source": [
    "Наиболее перспективные гипотезы по ICE: 8,0,7,6. У этих гипотез самые высокие показатели по влиянию от применения предлагаемых мер и  высокой степени увереннорсти в них, которые превосходят затраты на их внедрение."
   ]
  },
  {
   "cell_type": "markdown",
   "metadata": {},
   "source": [
    "## Примените фреймворк RICE для приоритизации гипотез. Отсортируйте их по убыванию приоритета."
   ]
  },
  {
   "cell_type": "code",
   "execution_count": 12,
   "metadata": {},
   "outputs": [
    {
     "data": {
      "text/html": [
       "<div>\n",
       "<style scoped>\n",
       "    .dataframe tbody tr th:only-of-type {\n",
       "        vertical-align: middle;\n",
       "    }\n",
       "\n",
       "    .dataframe tbody tr th {\n",
       "        vertical-align: top;\n",
       "    }\n",
       "\n",
       "    .dataframe thead th {\n",
       "        text-align: right;\n",
       "    }\n",
       "</style>\n",
       "<table border=\"1\" class=\"dataframe\">\n",
       "  <thead>\n",
       "    <tr style=\"text-align: right;\">\n",
       "      <th></th>\n",
       "      <th>hypothesis</th>\n",
       "      <th>RICE</th>\n",
       "    </tr>\n",
       "  </thead>\n",
       "  <tbody>\n",
       "    <tr>\n",
       "      <th>7</th>\n",
       "      <td>Добавить форму подписки на все основные страницы, чтобы собрать базу клиентов для email-рассылок</td>\n",
       "      <td>112.0</td>\n",
       "    </tr>\n",
       "    <tr>\n",
       "      <th>2</th>\n",
       "      <td>Добавить блоки рекомендаций товаров на сайт интернет магазина, чтобы повысить конверсию и средний чек заказа</td>\n",
       "      <td>56.0</td>\n",
       "    </tr>\n",
       "    <tr>\n",
       "      <th>0</th>\n",
       "      <td>Добавить два новых канала привлечения трафика, что позволит привлекать на 30% больше пользователей</td>\n",
       "      <td>40.0</td>\n",
       "    </tr>\n",
       "    <tr>\n",
       "      <th>6</th>\n",
       "      <td>Показать на главной странице баннеры с актуальными акциями и распродажами, чтобы увеличить конверсию</td>\n",
       "      <td>40.0</td>\n",
       "    </tr>\n",
       "    <tr>\n",
       "      <th>8</th>\n",
       "      <td>Запустить акцию, дающую скидку на товар в день рождения</td>\n",
       "      <td>16.2</td>\n",
       "    </tr>\n",
       "    <tr>\n",
       "      <th>3</th>\n",
       "      <td>Изменить структура категорий, что увеличит конверсию, т.к. пользователи быстрее найдут нужный товар</td>\n",
       "      <td>9.0</td>\n",
       "    </tr>\n",
       "    <tr>\n",
       "      <th>1</th>\n",
       "      <td>Запустить собственную службу доставки, что сократит срок доставки заказов</td>\n",
       "      <td>4.0</td>\n",
       "    </tr>\n",
       "    <tr>\n",
       "      <th>5</th>\n",
       "      <td>Добавить страницу отзывов клиентов о магазине, что позволит увеличить количество заказов</td>\n",
       "      <td>4.0</td>\n",
       "    </tr>\n",
       "    <tr>\n",
       "      <th>4</th>\n",
       "      <td>Изменить цвет фона главной страницы, чтобы увеличить вовлеченность пользователей</td>\n",
       "      <td>3.0</td>\n",
       "    </tr>\n",
       "  </tbody>\n",
       "</table>\n",
       "</div>"
      ],
      "text/plain": [
       "                                                                                                     hypothesis  \\\n",
       "7              Добавить форму подписки на все основные страницы, чтобы собрать базу клиентов для email-рассылок   \n",
       "2  Добавить блоки рекомендаций товаров на сайт интернет магазина, чтобы повысить конверсию и средний чек заказа   \n",
       "0            Добавить два новых канала привлечения трафика, что позволит привлекать на 30% больше пользователей   \n",
       "6          Показать на главной странице баннеры с актуальными акциями и распродажами, чтобы увеличить конверсию   \n",
       "8                                                       Запустить акцию, дающую скидку на товар в день рождения   \n",
       "3           Изменить структура категорий, что увеличит конверсию, т.к. пользователи быстрее найдут нужный товар   \n",
       "1                                     Запустить собственную службу доставки, что сократит срок доставки заказов   \n",
       "5                      Добавить страницу отзывов клиентов о магазине, что позволит увеличить количество заказов   \n",
       "4                              Изменить цвет фона главной страницы, чтобы увеличить вовлеченность пользователей   \n",
       "\n",
       "    RICE  \n",
       "7  112.0  \n",
       "2   56.0  \n",
       "0   40.0  \n",
       "6   40.0  \n",
       "8   16.2  \n",
       "3    9.0  \n",
       "1    4.0  \n",
       "5    4.0  \n",
       "4    3.0  "
      ]
     },
     "execution_count": 12,
     "metadata": {},
     "output_type": "execute_result"
    }
   ],
   "source": [
    "hypothesis['RICE'] = (hypothesis['reach']*hypothesis['impact']*hypothesis['confidence'])/hypothesis['efforts']\n",
    "hypothesis[['hypothesis','RICE']].sort_values('RICE',ascending=False)"
   ]
  },
  {
   "cell_type": "markdown",
   "metadata": {},
   "source": [
    "Наиболее перспективные гипотезы по RICE: 7,2,0,6. С добавлением параметра охвата список лидеров резко изменился."
   ]
  },
  {
   "cell_type": "markdown",
   "metadata": {},
   "source": [
    "<div class=\"alert alert-success\">\n",
    "<h2> Комментарий ревьюера <a class=\"tocSkip\"> </h2>\n",
    "\n",
    "<b>Все отлично!👍:</b> \n",
    "    \n",
    "Верные расчеты и выводы    "
   ]
  },
  {
   "cell_type": "markdown",
   "metadata": {},
   "source": [
    "## Укажите, как изменилась приоритизация гипотез при применении RICE вместо ICE. Объясните, почему так произошло."
   ]
  },
  {
   "cell_type": "markdown",
   "metadata": {},
   "source": [
    " Гипотеза 8,самая перспективная по версии ICE, не вошла в топ-перспективных гипотез по версии RICE, т.к. её охват(параметр Reach) равен всего 1 баллу.\n",
    " Поэтому, если, рассматривать приоретизацию гипотез с учётом охвата, то лидером будет гипотеза 7, т.к.она затронет всех покупателей."
   ]
  },
  {
   "cell_type": "markdown",
   "metadata": {},
   "source": [
    "<div class=\"alert alert-warning\">\n",
    "<h2> Комментарий ревьюера <a class=\"tocSkip\"> </h2>\n",
    "\n",
    "<b>Некоторые замечания и рекомендации💡:</b> \n",
    "\n",
    "Чтобы было удобнее сравнивать таблицы их стоит объеденить     "
   ]
  },
  {
   "cell_type": "markdown",
   "metadata": {},
   "source": [
    "# АНАЛИЗ A/B-ТЕСТА\n",
    "Вы провели A/B-тест и получили результаты, которые описаны в файлах /datasets/orders.csv и /datasets/visitors.csv.\n",
    "\n",
    "Проанализируйте A/B-тест:"
   ]
  },
  {
   "cell_type": "code",
   "execution_count": 13,
   "metadata": {},
   "outputs": [],
   "source": [
    "orders = pd.read_csv('/datasets/orders.csv', sep=',')"
   ]
  },
  {
   "cell_type": "code",
   "execution_count": 14,
   "metadata": {},
   "outputs": [
    {
     "data": {
      "text/html": [
       "<div>\n",
       "<style scoped>\n",
       "    .dataframe tbody tr th:only-of-type {\n",
       "        vertical-align: middle;\n",
       "    }\n",
       "\n",
       "    .dataframe tbody tr th {\n",
       "        vertical-align: top;\n",
       "    }\n",
       "\n",
       "    .dataframe thead th {\n",
       "        text-align: right;\n",
       "    }\n",
       "</style>\n",
       "<table border=\"1\" class=\"dataframe\">\n",
       "  <thead>\n",
       "    <tr style=\"text-align: right;\">\n",
       "      <th></th>\n",
       "      <th>transactionId</th>\n",
       "      <th>visitorId</th>\n",
       "      <th>date</th>\n",
       "      <th>revenue</th>\n",
       "      <th>group</th>\n",
       "    </tr>\n",
       "  </thead>\n",
       "  <tbody>\n",
       "    <tr>\n",
       "      <th>0</th>\n",
       "      <td>3667963787</td>\n",
       "      <td>3312258926</td>\n",
       "      <td>2019-08-15</td>\n",
       "      <td>1650</td>\n",
       "      <td>B</td>\n",
       "    </tr>\n",
       "    <tr>\n",
       "      <th>1</th>\n",
       "      <td>2804400009</td>\n",
       "      <td>3642806036</td>\n",
       "      <td>2019-08-15</td>\n",
       "      <td>730</td>\n",
       "      <td>B</td>\n",
       "    </tr>\n",
       "    <tr>\n",
       "      <th>2</th>\n",
       "      <td>2961555356</td>\n",
       "      <td>4069496402</td>\n",
       "      <td>2019-08-15</td>\n",
       "      <td>400</td>\n",
       "      <td>A</td>\n",
       "    </tr>\n",
       "    <tr>\n",
       "      <th>3</th>\n",
       "      <td>3797467345</td>\n",
       "      <td>1196621759</td>\n",
       "      <td>2019-08-15</td>\n",
       "      <td>9759</td>\n",
       "      <td>B</td>\n",
       "    </tr>\n",
       "    <tr>\n",
       "      <th>4</th>\n",
       "      <td>2282983706</td>\n",
       "      <td>2322279887</td>\n",
       "      <td>2019-08-15</td>\n",
       "      <td>2308</td>\n",
       "      <td>B</td>\n",
       "    </tr>\n",
       "  </tbody>\n",
       "</table>\n",
       "</div>"
      ],
      "text/plain": [
       "   transactionId   visitorId        date  revenue group\n",
       "0     3667963787  3312258926  2019-08-15     1650     B\n",
       "1     2804400009  3642806036  2019-08-15      730     B\n",
       "2     2961555356  4069496402  2019-08-15      400     A\n",
       "3     3797467345  1196621759  2019-08-15     9759     B\n",
       "4     2282983706  2322279887  2019-08-15     2308     B"
      ]
     },
     "execution_count": 14,
     "metadata": {},
     "output_type": "execute_result"
    }
   ],
   "source": [
    "orders.head()"
   ]
  },
  {
   "cell_type": "code",
   "execution_count": 15,
   "metadata": {},
   "outputs": [
    {
     "name": "stdout",
     "output_type": "stream",
     "text": [
      "<class 'pandas.core.frame.DataFrame'>\n",
      "RangeIndex: 1197 entries, 0 to 1196\n",
      "Data columns (total 5 columns):\n",
      " #   Column         Non-Null Count  Dtype \n",
      "---  ------         --------------  ----- \n",
      " 0   transactionId  1197 non-null   int64 \n",
      " 1   visitorId      1197 non-null   int64 \n",
      " 2   date           1197 non-null   object\n",
      " 3   revenue        1197 non-null   int64 \n",
      " 4   group          1197 non-null   object\n",
      "dtypes: int64(3), object(2)\n",
      "memory usage: 46.9+ KB\n"
     ]
    }
   ],
   "source": [
    "orders.info()"
   ]
  },
  {
   "cell_type": "code",
   "execution_count": 16,
   "metadata": {},
   "outputs": [],
   "source": [
    "visitors = pd.read_csv('/datasets/visitors.csv', sep=',')"
   ]
  },
  {
   "cell_type": "code",
   "execution_count": 17,
   "metadata": {},
   "outputs": [
    {
     "data": {
      "text/html": [
       "<div>\n",
       "<style scoped>\n",
       "    .dataframe tbody tr th:only-of-type {\n",
       "        vertical-align: middle;\n",
       "    }\n",
       "\n",
       "    .dataframe tbody tr th {\n",
       "        vertical-align: top;\n",
       "    }\n",
       "\n",
       "    .dataframe thead th {\n",
       "        text-align: right;\n",
       "    }\n",
       "</style>\n",
       "<table border=\"1\" class=\"dataframe\">\n",
       "  <thead>\n",
       "    <tr style=\"text-align: right;\">\n",
       "      <th></th>\n",
       "      <th>date</th>\n",
       "      <th>group</th>\n",
       "      <th>visitors</th>\n",
       "    </tr>\n",
       "  </thead>\n",
       "  <tbody>\n",
       "    <tr>\n",
       "      <th>0</th>\n",
       "      <td>2019-08-01</td>\n",
       "      <td>A</td>\n",
       "      <td>719</td>\n",
       "    </tr>\n",
       "    <tr>\n",
       "      <th>1</th>\n",
       "      <td>2019-08-02</td>\n",
       "      <td>A</td>\n",
       "      <td>619</td>\n",
       "    </tr>\n",
       "    <tr>\n",
       "      <th>2</th>\n",
       "      <td>2019-08-03</td>\n",
       "      <td>A</td>\n",
       "      <td>507</td>\n",
       "    </tr>\n",
       "    <tr>\n",
       "      <th>3</th>\n",
       "      <td>2019-08-04</td>\n",
       "      <td>A</td>\n",
       "      <td>717</td>\n",
       "    </tr>\n",
       "    <tr>\n",
       "      <th>4</th>\n",
       "      <td>2019-08-05</td>\n",
       "      <td>A</td>\n",
       "      <td>756</td>\n",
       "    </tr>\n",
       "  </tbody>\n",
       "</table>\n",
       "</div>"
      ],
      "text/plain": [
       "         date group  visitors\n",
       "0  2019-08-01     A       719\n",
       "1  2019-08-02     A       619\n",
       "2  2019-08-03     A       507\n",
       "3  2019-08-04     A       717\n",
       "4  2019-08-05     A       756"
      ]
     },
     "execution_count": 17,
     "metadata": {},
     "output_type": "execute_result"
    }
   ],
   "source": [
    "visitors.head()"
   ]
  },
  {
   "cell_type": "code",
   "execution_count": 18,
   "metadata": {},
   "outputs": [
    {
     "name": "stdout",
     "output_type": "stream",
     "text": [
      "<class 'pandas.core.frame.DataFrame'>\n",
      "RangeIndex: 62 entries, 0 to 61\n",
      "Data columns (total 3 columns):\n",
      " #   Column    Non-Null Count  Dtype \n",
      "---  ------    --------------  ----- \n",
      " 0   date      62 non-null     object\n",
      " 1   group     62 non-null     object\n",
      " 2   visitors  62 non-null     int64 \n",
      "dtypes: int64(1), object(2)\n",
      "memory usage: 1.6+ KB\n"
     ]
    }
   ],
   "source": [
    "visitors.info()"
   ]
  },
  {
   "cell_type": "code",
   "execution_count": 19,
   "metadata": {},
   "outputs": [],
   "source": [
    "orders['date'] = orders['date'].map(\n",
    "    lambda x: dt.datetime.strptime(x, '%Y-%m-%d')\n",
    ")"
   ]
  },
  {
   "cell_type": "code",
   "execution_count": 20,
   "metadata": {},
   "outputs": [],
   "source": [
    "visitors['date'] = visitors['date'].map(\n",
    "    lambda x: dt.datetime.strptime(x, '%Y-%m-%d')\n",
    ")"
   ]
  },
  {
   "cell_type": "code",
   "execution_count": 21,
   "metadata": {},
   "outputs": [
    {
     "name": "stdout",
     "output_type": "stream",
     "text": [
      "<class 'pandas.core.frame.DataFrame'>\n",
      "RangeIndex: 62 entries, 0 to 61\n",
      "Data columns (total 3 columns):\n",
      " #   Column    Non-Null Count  Dtype         \n",
      "---  ------    --------------  -----         \n",
      " 0   date      62 non-null     datetime64[ns]\n",
      " 1   group     62 non-null     object        \n",
      " 2   visitors  62 non-null     int64         \n",
      "dtypes: datetime64[ns](1), int64(1), object(1)\n",
      "memory usage: 1.6+ KB\n"
     ]
    }
   ],
   "source": [
    "visitors.info()"
   ]
  },
  {
   "cell_type": "code",
   "execution_count": 22,
   "metadata": {},
   "outputs": [
    {
     "name": "stdout",
     "output_type": "stream",
     "text": [
      "<class 'pandas.core.frame.DataFrame'>\n",
      "RangeIndex: 1197 entries, 0 to 1196\n",
      "Data columns (total 5 columns):\n",
      " #   Column         Non-Null Count  Dtype         \n",
      "---  ------         --------------  -----         \n",
      " 0   transactionId  1197 non-null   int64         \n",
      " 1   visitorId      1197 non-null   int64         \n",
      " 2   date           1197 non-null   datetime64[ns]\n",
      " 3   revenue        1197 non-null   int64         \n",
      " 4   group          1197 non-null   object        \n",
      "dtypes: datetime64[ns](1), int64(3), object(1)\n",
      "memory usage: 46.9+ KB\n"
     ]
    }
   ],
   "source": [
    "orders.info()"
   ]
  },
  {
   "cell_type": "markdown",
   "metadata": {},
   "source": [
    "<div class=\"alert alert-block alert-danger\">\n",
    "<h2> Комментарий ревьюера <a class=\"tocSkip\"></h2>\n",
    "\n",
    "<b>На доработку🤔:</b>\n",
    "\n",
    "При работе с A/B тестом мы должны провести дополнительные исследования перед началом анализа:\n",
    "\n",
    "* сколько у нас групп в АВ-тесте;\n",
    "* даты начала и окончания теста в каждой группе;\n",
    "* сколько пользователей в каждой группе;\n",
    "* не попадают ли какие-то пользователи в обе группы.    \n",
    "\n",
    "Проведи, пожалуйста, выше указанные проверки и добавь выводы о корректности данных и проверки A/B теста. \n",
    "    \n",
    "</div>\n"
   ]
  },
  {
   "cell_type": "markdown",
   "metadata": {},
   "source": [
    "<div class=\"alert-info\"> \n",
    "Дополнительные исследования перед началом анализа:\n",
    "</div>"
   ]
  },
  {
   "cell_type": "code",
   "execution_count": 23,
   "metadata": {},
   "outputs": [
    {
     "data": {
      "text/plain": [
       "array(['B', 'A'], dtype=object)"
      ]
     },
     "execution_count": 23,
     "metadata": {},
     "output_type": "execute_result"
    }
   ],
   "source": [
    "orders['group'].unique() #группы теста"
   ]
  },
  {
   "cell_type": "code",
   "execution_count": 24,
   "metadata": {},
   "outputs": [
    {
     "data": {
      "text/plain": [
       "Timestamp('2019-08-01 00:00:00')"
      ]
     },
     "metadata": {},
     "output_type": "display_data"
    },
    {
     "data": {
      "text/plain": [
       "Timestamp('2019-08-31 00:00:00')"
      ]
     },
     "execution_count": 24,
     "metadata": {},
     "output_type": "execute_result"
    }
   ],
   "source": [
    "display(orders.query('group==\"A\"')['date'].min()) # даты начала и окончания теста в группе А\n",
    "orders.query('group==\"A\"')['date'].max()"
   ]
  },
  {
   "cell_type": "code",
   "execution_count": 25,
   "metadata": {},
   "outputs": [
    {
     "data": {
      "text/plain": [
       "Timestamp('2019-08-01 00:00:00')"
      ]
     },
     "metadata": {},
     "output_type": "display_data"
    },
    {
     "data": {
      "text/plain": [
       "Timestamp('2019-08-31 00:00:00')"
      ]
     },
     "execution_count": 25,
     "metadata": {},
     "output_type": "execute_result"
    }
   ],
   "source": [
    "display(orders.query('group==\"B\"')['date'].min()) # даты начала и окончания теста в группе B\n",
    "orders.query('group==\"B\"')['date'].max()"
   ]
  },
  {
   "cell_type": "code",
   "execution_count": 26,
   "metadata": {},
   "outputs": [
    {
     "data": {
      "text/plain": [
       "503"
      ]
     },
     "metadata": {},
     "output_type": "display_data"
    },
    {
     "data": {
      "text/plain": [
       "586"
      ]
     },
     "execution_count": 26,
     "metadata": {},
     "output_type": "execute_result"
    }
   ],
   "source": [
    "display(orders.query('group==\"A\"')['visitorId'].nunique()) # количество пользователей в каждой группе\n",
    "orders.query('group==\"B\"')['visitorId'].nunique()"
   ]
  },
  {
   "cell_type": "code",
   "execution_count": 27,
   "metadata": {},
   "outputs": [
    {
     "data": {
      "text/plain": [
       "{8300375,\n",
       " 199603092,\n",
       " 232979603,\n",
       " 237748145,\n",
       " 276558944,\n",
       " 351125977,\n",
       " 393266494,\n",
       " 457167155,\n",
       " 471551937,\n",
       " 477780734,\n",
       " 818047933,\n",
       " 963407295,\n",
       " 1230306981,\n",
       " 1294878855,\n",
       " 1316129916,\n",
       " 1333886533,\n",
       " 1404934699,\n",
       " 1602967004,\n",
       " 1614305549,\n",
       " 1648269707,\n",
       " 1668030113,\n",
       " 1738359350,\n",
       " 1801183820,\n",
       " 1959144690,\n",
       " 2038680547,\n",
       " 2044997962,\n",
       " 2378935119,\n",
       " 2458001652,\n",
       " 2579882178,\n",
       " 2587333274,\n",
       " 2600415354,\n",
       " 2654030115,\n",
       " 2686716486,\n",
       " 2712142231,\n",
       " 2716752286,\n",
       " 2780786433,\n",
       " 2927087541,\n",
       " 2949041841,\n",
       " 2954449915,\n",
       " 3062433592,\n",
       " 3202540741,\n",
       " 3234906277,\n",
       " 3656415546,\n",
       " 3717692402,\n",
       " 3766097110,\n",
       " 3803269165,\n",
       " 3891541246,\n",
       " 3941795274,\n",
       " 3951559397,\n",
       " 3957174400,\n",
       " 3963646447,\n",
       " 3972127743,\n",
       " 3984495233,\n",
       " 4069496402,\n",
       " 4120364173,\n",
       " 4186807279,\n",
       " 4256040402,\n",
       " 4266935830}"
      ]
     },
     "execution_count": 27,
     "metadata": {},
     "output_type": "execute_result"
    }
   ],
   "source": [
    "uniqueA = orders.query('group==\"A\"')['visitorId'].unique()\n",
    "uniqueB = orders.query('group==\"B\"')['visitorId'].unique()\n",
    "AB_users = set(uniqueA)&set(uniqueB) # список пользователей,попавших в обе группы\n",
    "AB_users"
   ]
  },
  {
   "cell_type": "code",
   "execution_count": 28,
   "metadata": {},
   "outputs": [
    {
     "data": {
      "text/plain": [
       "58"
      ]
     },
     "execution_count": 28,
     "metadata": {},
     "output_type": "execute_result"
    }
   ],
   "source": [
    "len(AB_users) # количество пользователей, попавших в обе группы"
   ]
  },
  {
   "cell_type": "markdown",
   "metadata": {},
   "source": [
    "В результате дополнительных исследований перед началом анализа установлено:\n",
    "- в АВ-тесте 2 группы: A и B;\n",
    "- даты начала и окончания теста в каждой группе: 01.08.2019 и 31.08.2019;\n",
    "- в группе А 503 пользователя,в группе В - 586 пользователей;\n",
    "- 58 пользователей попадают в обе группы.    \n",
    "\n",
    "Мы видим, что группы теста отличаются по размеру . Причины тому могут быть различные. В данном случае это можно объяснить более эффективной работой с пользователями в группе В. Возможно, причина просто в лучшей конверсии. Разница в данном случае не значительна.\n",
    "58 пользователей попало сразу в две группы (это клиенты, сделавшие один заказ до нововведения, а другой - после). Считаю, что  таких пользователей удалять не обязательно, ведь тогда из теста уйдут покупатели с большим числом покупок, а поиск аномальных покупателей по количеству покупок даст другие результаты. На основании вышесказанного можно сделать вывод о том, что данные собраны корректно и над исследованием нужно продолжить работу. К такому выводу также подталкивает и тот факт, что на повторное проведение теста потребуются дополнительные затраты ресурсов компании: рабочее время специалистов, потеря времени.\n"
   ]
  },
  {
   "cell_type": "markdown",
   "metadata": {},
   "source": [
    "<div class=\"alert alert-success\">\n",
    "<h2> Комментарий ревьюера <font color= \"black\"> V2</font> <a class=\"tocSkip\"> </h2>\n",
    "<b>Все отлично!👍 :</b> \n",
    "    \n",
    "Наличие таких пользователей ставит под сомнений корректность данных. Однако, мы имеем право их оставить"
   ]
  },
  {
   "cell_type": "markdown",
   "metadata": {},
   "source": [
    "## Постройте график кумулятивной выручки по группам. Сделайте выводы и предположения."
   ]
  },
  {
   "cell_type": "code",
   "execution_count": 29,
   "metadata": {},
   "outputs": [],
   "source": [
    "datesGroups = orders[['date', 'group']].drop_duplicates()"
   ]
  },
  {
   "cell_type": "markdown",
   "metadata": {},
   "source": [
    "<div class=\"alert alert-success\">\n",
    "<h2> Комментарий ревьюера <a class=\"tocSkip\"> </h2>\n",
    "<b>Все отлично!👍:</b> \n",
    "    \n",
    "Применены все основные инструменты предобработки данных    \n",
    "    \n",
    "Однако, проверку на дубликаты стоит проводить в шаге выше, так структура проекта будет более удобной"
   ]
  },
  {
   "cell_type": "code",
   "execution_count": 30,
   "metadata": {},
   "outputs": [],
   "source": [
    "ordersAggregated = datesGroups.apply(\n",
    "    lambda x: orders[\n",
    "        np.logical_and(\n",
    "            orders['date'] <= x['date'], orders['group'] == x['group']\n",
    "        )\n",
    "    ].agg(\n",
    "        {\n",
    "            'date': 'max',\n",
    "            'group': 'max',\n",
    "            'transactionId': 'nunique',\n",
    "            'visitorId': 'nunique',\n",
    "            'revenue': 'sum',\n",
    "        }\n",
    "    ),\n",
    "    axis=1,\n",
    ").sort_values(by=['date', 'group'])"
   ]
  },
  {
   "cell_type": "code",
   "execution_count": 31,
   "metadata": {},
   "outputs": [],
   "source": [
    "visitorsAggregated = datesGroups.apply(\n",
    "    lambda x: visitors[\n",
    "        np.logical_and(\n",
    "            visitors['date'] <= x['date'], visitors['group'] == x['group']\n",
    "        )\n",
    "    ].agg({'date': 'max', 'group': 'max', 'visitors': 'sum'}),\n",
    "    axis=1,\n",
    ").sort_values(by=['date', 'group'])"
   ]
  },
  {
   "cell_type": "code",
   "execution_count": 32,
   "metadata": {},
   "outputs": [],
   "source": [
    "cumulativeData = ordersAggregated.merge(\n",
    "    visitorsAggregated, left_on=['date', 'group'], right_on=['date', 'group']\n",
    ")\n",
    "cumulativeData.columns = [\n",
    "    'date',\n",
    "    'group',\n",
    "    'orders',\n",
    "    'buyers',\n",
    "    'revenue',\n",
    "    'visitors',\n",
    "]"
   ]
  },
  {
   "cell_type": "code",
   "execution_count": 33,
   "metadata": {},
   "outputs": [
    {
     "name": "stdout",
     "output_type": "stream",
     "text": [
      "<class 'pandas.core.frame.DataFrame'>\n",
      "Int64Index: 62 entries, 0 to 61\n",
      "Data columns (total 6 columns):\n",
      " #   Column    Non-Null Count  Dtype         \n",
      "---  ------    --------------  -----         \n",
      " 0   date      62 non-null     datetime64[ns]\n",
      " 1   group     62 non-null     object        \n",
      " 2   orders    62 non-null     int64         \n",
      " 3   buyers    62 non-null     int64         \n",
      " 4   revenue   62 non-null     int64         \n",
      " 5   visitors  62 non-null     int64         \n",
      "dtypes: datetime64[ns](1), int64(4), object(1)\n",
      "memory usage: 3.4+ KB\n"
     ]
    }
   ],
   "source": [
    "cumulativeData.info()"
   ]
  },
  {
   "cell_type": "code",
   "execution_count": 34,
   "metadata": {},
   "outputs": [],
   "source": [
    "cumulativeRevenueA = cumulativeData[cumulativeData['group']=='A'][['date','revenue', 'orders']]\n",
    "cumulativeRevenueB = cumulativeData[cumulativeData['group']=='B'][['date','revenue', 'orders']]"
   ]
  },
  {
   "cell_type": "code",
   "execution_count": 35,
   "metadata": {},
   "outputs": [
    {
     "data": {
      "image/png": "[encoded data removed]",
      "text/plain": [
       "<Figure size 864x432 with 1 Axes>"
      ]
     },
     "metadata": {
      "needs_background": "light"
     },
     "output_type": "display_data"
    }
   ],
   "source": [
    "plt.figure(figsize=(12,6))\n",
    "plt.plot(cumulativeRevenueA['date'], cumulativeRevenueA['revenue'],label='A')\n",
    "plt.plot(cumulativeRevenueB['date'], cumulativeRevenueB['revenue'], label='B')\n",
    "plt.title('Кумулятивная выручка по дням и группам A/B тестирования', pad = 20)\n",
    "plt.xlabel('Дата')\n",
    "plt.ylabel('Выручка')\n",
    "plt.legend(['Группа А','Группа В']) \n",
    "plt.show()"
   ]
  },
  {
   "cell_type": "markdown",
   "metadata": {},
   "source": [
    "<div class=\"alert alert-success\">\n",
    "<h2> Комментарий ревьюера <a class=\"tocSkip\"> </h2>\n",
    "\n",
    "<b>Все отлично!👍:</b>\n",
    "    \n",
    "Очень качественный график с точки зрения оформления. С ним твоим коллегам будет удобно работать"
   ]
  },
  {
   "cell_type": "markdown",
   "metadata": {},
   "source": [
    "Около 18 августа сегмент В резко вырвался вперёд и продолжал лидировать весь остаток теста.Возможно на результаты влияют аномально большие заказы, которые при заключительном анализе нужно будет удалить."
   ]
  },
  {
   "cell_type": "markdown",
   "metadata": {},
   "source": [
    "<div class=\"alert alert-success\">\n",
    "<h2> Комментарий ревьюера <a class=\"tocSkip\"> </h2>\n",
    "\n",
    "<b>Все отлично!👍:</b>\n",
    "    \n",
    "Верный вывод"
   ]
  },
  {
   "cell_type": "markdown",
   "metadata": {},
   "source": [
    "## Постройте график кумулятивного среднего чека по группам. Сделайте выводы и предположения."
   ]
  },
  {
   "cell_type": "code",
   "execution_count": 36,
   "metadata": {},
   "outputs": [],
   "source": [
    "cumulativeRevenueA = cumulativeData[cumulativeData['group'] == 'A'][\n",
    "    ['date', 'revenue', 'orders']\n",
    "]\n",
    "cumulativeRevenueB = cumulativeData[cumulativeData['group'] == 'B'][\n",
    "    ['date', 'revenue', 'orders']\n",
    "    ]"
   ]
  },
  {
   "cell_type": "code",
   "execution_count": 37,
   "metadata": {},
   "outputs": [
    {
     "data": {
      "image/png": "[encoded data removed]",
      "text/plain": [
       "<Figure size 864x432 with 1 Axes>"
      ]
     },
     "metadata": {
      "needs_background": "light"
     },
     "output_type": "display_data"
    }
   ],
   "source": [
    "plt.figure(figsize=(12,6))\n",
    "plt.plot(cumulativeRevenueA['date'], cumulativeRevenueA['revenue']/cumulativeRevenueA['orders'], label='A')\n",
    "plt.plot(cumulativeRevenueB['date'], cumulativeRevenueB['revenue']/cumulativeRevenueB['orders'], label='B')\n",
    "plt.title('Кумулятивный средний чек по дням и группам A/B тестирования', pad = 20)\n",
    "plt.xlabel('Дата')\n",
    "plt.ylabel('Средний чек')\n",
    "plt.legend(['Группа А','Группа В']) \n",
    "plt.show()"
   ]
  },
  {
   "cell_type": "markdown",
   "metadata": {},
   "source": [
    "В начале теста кумулятивное значение среднего чека по группам колебалось и ни одна из групп не являлась бесспорным лидером по данному показателю. Но в районе 18 августа кумулятивное значение среднего чека у группы В стремительно выросло. После этого события группа В по данному показателю лидирует вплоть до окончания теста. Возможно 18 августа произошла какая то аномально крупная покупка среди покупателей группы В."
   ]
  },
  {
   "cell_type": "markdown",
   "metadata": {},
   "source": [
    "<div class=\"alert alert-success\">\n",
    "<h2> Комментарий ревьюера <a class=\"tocSkip\"> </h2>\n",
    "\n",
    "<b>Все отлично!👍:</b>\n",
    "    \n",
    "Верный вывод"
   ]
  },
  {
   "cell_type": "markdown",
   "metadata": {},
   "source": [
    "## Постройте график относительного изменения кумулятивного среднего чека группы B к группе A. Сделайте выводы и предположения."
   ]
  },
  {
   "cell_type": "code",
   "execution_count": 38,
   "metadata": {},
   "outputs": [],
   "source": [
    "mergedCumulativeRevenue = cumulativeRevenueA.merge(cumulativeRevenueB, left_on='date', right_on='date', how='left', \\\n",
    "                                                   suffixes=['A', 'B'])"
   ]
  },
  {
   "cell_type": "code",
   "execution_count": 39,
   "metadata": {},
   "outputs": [
    {
     "data": {
      "image/png": "[encoded data removed]",
      "text/plain": [
       "<Figure size 864x432 with 1 Axes>"
      ]
     },
     "metadata": {
      "needs_background": "light"
     },
     "output_type": "display_data"
    }
   ],
   "source": [
    "plt.figure(figsize=(12,6))\n",
    "plt.plot(mergedCumulativeRevenue['date'], (mergedCumulativeRevenue['revenueB']/ \\\n",
    "mergedCumulativeRevenue['ordersB'])/(mergedCumulativeRevenue['revenueA']/mergedCumulativeRevenue['ordersA'])-1)\n",
    "plt.title('График относительного изменения кумулятивного среднего чека группы B к группе A', pad = 20)\n",
    "plt.xlabel('Дата') \n",
    "plt.axhline(y=0, color='black', linestyle='--') \n",
    "plt.show()"
   ]
  },
  {
   "cell_type": "markdown",
   "metadata": {},
   "source": [
    "Перед нами график относительного изменения кумулятивного среднего чека группы B к группе A. Результааты теста менялись значительно несколько раз. Возможно именно в эти даты были совершены аномальные  заказы. К концу исследуемого периода средний чек группы В чущественно выше, чем у группы А."
   ]
  },
  {
   "cell_type": "markdown",
   "metadata": {},
   "source": [
    "<div class=\"alert alert-success\">\n",
    "<h2> Комментарий ревьюера <a class=\"tocSkip\"> </h2>\n",
    "\n",
    "<b>Все отлично!👍:</b>\n",
    "    \n",
    "Верный вывод"
   ]
  },
  {
   "cell_type": "markdown",
   "metadata": {},
   "source": [
    "## Постройте график кумулятивной конверсии по группам. Сделайте выводы и предположения."
   ]
  },
  {
   "cell_type": "code",
   "execution_count": 40,
   "metadata": {},
   "outputs": [],
   "source": [
    "cumulativeData['conversion'] = cumulativeData['orders']/cumulativeData['visitors']\n",
    "# отделяем данные по группе A\n",
    "cumulativeDataA = cumulativeData[cumulativeData['group']=='A']\n",
    "# отделяем данные по группе B\n",
    "cumulativeDataB = cumulativeData[cumulativeData['group']=='B']"
   ]
  },
  {
   "cell_type": "code",
   "execution_count": 41,
   "metadata": {},
   "outputs": [
    {
     "data": {
      "text/plain": [
       "Timestamp('2019-08-01 00:00:00')"
      ]
     },
     "execution_count": 41,
     "metadata": {},
     "output_type": "execute_result"
    }
   ],
   "source": [
    "cumulativeData['date'].min()"
   ]
  },
  {
   "cell_type": "code",
   "execution_count": 42,
   "metadata": {},
   "outputs": [
    {
     "data": {
      "text/plain": [
       "Timestamp('2019-08-31 00:00:00')"
      ]
     },
     "execution_count": 42,
     "metadata": {},
     "output_type": "execute_result"
    }
   ],
   "source": [
    "cumulativeData['date'].max()"
   ]
  },
  {
   "cell_type": "code",
   "execution_count": 43,
   "metadata": {},
   "outputs": [
    {
     "data": {
      "image/png": "[encoded data removed]",
      "text/plain": [
       "<Figure size 864x432 with 1 Axes>"
      ]
     },
     "metadata": {
      "needs_background": "light"
     },
     "output_type": "display_data"
    }
   ],
   "source": [
    "plt.figure(figsize=(12,6))\n",
    "plt.plot(cumulativeDataA['date'], cumulativeDataA['conversion'], label='A')\n",
    "plt.plot(cumulativeDataB['date'], cumulativeDataB['conversion'], label='B')\n",
    "plt.title('График кумулятивной конверсии по дням и группам A/B тестирования', pad = 20)\n",
    "plt.xlabel('Дата')\n",
    "plt.ylabel('Конверсия')\n",
    "plt.legend(['Группа А','Группа В']) \n",
    "plt.show()"
   ]
  },
  {
   "cell_type": "markdown",
   "metadata": {},
   "source": [
    "В начале теста сегмент А имел бОльшую конверсию. Но уже с 6 августа и до окончания теста кумулятивная конверсия группы В стабильно выше, чем у группы А."
   ]
  },
  {
   "cell_type": "markdown",
   "metadata": {},
   "source": [
    "<div class=\"alert alert-success\">\n",
    "<h2> Комментарий ревьюера <a class=\"tocSkip\"> </h2>\n",
    "\n",
    "<b>Все отлично!👍:</b>\n",
    "    \n",
    "Верный вывод"
   ]
  },
  {
   "cell_type": "markdown",
   "metadata": {},
   "source": [
    "## Постройте график относительного изменения кумулятивной конверсии группы B к группе A. Сделайте выводы и предположения."
   ]
  },
  {
   "cell_type": "code",
   "execution_count": 44,
   "metadata": {},
   "outputs": [],
   "source": [
    "mergedCumulativeConversions = cumulativeDataA[['date','conversion']].merge(cumulativeDataB[['date','conversion']], \\\n",
    "left_on='date', right_on='date', how='left', suffixes=['A', 'B'])"
   ]
  },
  {
   "cell_type": "code",
   "execution_count": 45,
   "metadata": {},
   "outputs": [
    {
     "data": {
      "text/plain": [
       "<matplotlib.lines.Line2D at 0x7fb77df46580>"
      ]
     },
     "execution_count": 45,
     "metadata": {},
     "output_type": "execute_result"
    },
    {
     "data": {
      "image/png": "[encoded data removed]",
      "text/plain": [
       "<Figure size 864x432 with 1 Axes>"
      ]
     },
     "metadata": {
      "needs_background": "light"
     },
     "output_type": "display_data"
    }
   ],
   "source": [
    "plt.figure(figsize=(12,6))\n",
    "plt.plot(mergedCumulativeConversions['date'], \\\n",
    "mergedCumulativeConversions['conversionB']/mergedCumulativeConversions['conversionA']-1, \\\n",
    "label=\"Относительный прирост конверсии группы B относительно группы A\")\n",
    "plt.legend()\n",
    "plt.xlabel('Дата')\n",
    "plt.title('График относительного изменения кумулятивной конверсии группы B к группе A', pad = 20)\n",
    "plt.axhline(y=0, color='black', linestyle='--')\n",
    "plt.axhline(y=0.10, color='grey', linestyle='--')"
   ]
  },
  {
   "cell_type": "markdown",
   "metadata": {},
   "source": [
    "<div class=\"alert alert-success\">\n",
    "<h2> Комментарий ревьюера <a class=\"tocSkip\"> </h2>\n",
    "\n",
    "<b>Все отлично!👍:</b>\n",
    "    \n",
    "Удачное решение добавить `plt.axhline(y=0.10, color='grey', linestyle='--')`"
   ]
  },
  {
   "cell_type": "markdown",
   "metadata": {},
   "source": [
    "Почти с самого начала теста группа B лидирует по конверсии. На момент окончания теста относительный прирост конверсии группы В зафиксировался на уровне  10% относительно группы А и продолжает расти."
   ]
  },
  {
   "cell_type": "markdown",
   "metadata": {},
   "source": [
    "<div class=\"alert alert-success\">\n",
    "<h2> Комментарий ревьюера <a class=\"tocSkip\"> </h2>\n",
    "\n",
    "<b>Все отлично!👍:</b>\n",
    "    \n",
    "Верный вывод"
   ]
  },
  {
   "cell_type": "markdown",
   "metadata": {},
   "source": [
    "## Постройте точечный график количества заказов по пользователям. Сделайте выводы и предположения."
   ]
  },
  {
   "cell_type": "code",
   "execution_count": 46,
   "metadata": {},
   "outputs": [
    {
     "data": {
      "text/html": [
       "<div>\n",
       "<style scoped>\n",
       "    .dataframe tbody tr th:only-of-type {\n",
       "        vertical-align: middle;\n",
       "    }\n",
       "\n",
       "    .dataframe tbody tr th {\n",
       "        vertical-align: top;\n",
       "    }\n",
       "\n",
       "    .dataframe thead th {\n",
       "        text-align: right;\n",
       "    }\n",
       "</style>\n",
       "<table border=\"1\" class=\"dataframe\">\n",
       "  <thead>\n",
       "    <tr style=\"text-align: right;\">\n",
       "      <th></th>\n",
       "      <th>visitorId</th>\n",
       "      <th>orders</th>\n",
       "    </tr>\n",
       "  </thead>\n",
       "  <tbody>\n",
       "    <tr>\n",
       "      <th>1023</th>\n",
       "      <td>4256040402</td>\n",
       "      <td>11</td>\n",
       "    </tr>\n",
       "    <tr>\n",
       "      <th>591</th>\n",
       "      <td>2458001652</td>\n",
       "      <td>11</td>\n",
       "    </tr>\n",
       "    <tr>\n",
       "      <th>569</th>\n",
       "      <td>2378935119</td>\n",
       "      <td>9</td>\n",
       "    </tr>\n",
       "    <tr>\n",
       "      <th>487</th>\n",
       "      <td>2038680547</td>\n",
       "      <td>8</td>\n",
       "    </tr>\n",
       "    <tr>\n",
       "      <th>44</th>\n",
       "      <td>199603092</td>\n",
       "      <td>5</td>\n",
       "    </tr>\n",
       "    <tr>\n",
       "      <th>744</th>\n",
       "      <td>3062433592</td>\n",
       "      <td>5</td>\n",
       "    </tr>\n",
       "    <tr>\n",
       "      <th>55</th>\n",
       "      <td>237748145</td>\n",
       "      <td>5</td>\n",
       "    </tr>\n",
       "    <tr>\n",
       "      <th>917</th>\n",
       "      <td>3803269165</td>\n",
       "      <td>5</td>\n",
       "    </tr>\n",
       "    <tr>\n",
       "      <th>299</th>\n",
       "      <td>1230306981</td>\n",
       "      <td>5</td>\n",
       "    </tr>\n",
       "    <tr>\n",
       "      <th>897</th>\n",
       "      <td>3717692402</td>\n",
       "      <td>5</td>\n",
       "    </tr>\n",
       "  </tbody>\n",
       "</table>\n",
       "</div>"
      ],
      "text/plain": [
       "       visitorId  orders\n",
       "1023  4256040402      11\n",
       "591   2458001652      11\n",
       "569   2378935119       9\n",
       "487   2038680547       8\n",
       "44     199603092       5\n",
       "744   3062433592       5\n",
       "55     237748145       5\n",
       "917   3803269165       5\n",
       "299   1230306981       5\n",
       "897   3717692402       5"
      ]
     },
     "metadata": {},
     "output_type": "display_data"
    }
   ],
   "source": [
    "ordersByUsers = orders.groupby('visitorId', as_index=False).agg({'transactionId': 'nunique'})\n",
    "ordersByUsers.columns = ['visitorId', 'orders']\n",
    "display(ordersByUsers.sort_values(by='orders', ascending=False).head(10))"
   ]
  },
  {
   "cell_type": "code",
   "execution_count": 47,
   "metadata": {},
   "outputs": [],
   "source": [
    "x_values = pd.Series(range(0, len(ordersByUsers)))"
   ]
  },
  {
   "cell_type": "code",
   "execution_count": 48,
   "metadata": {},
   "outputs": [
    {
     "data": {
      "text/plain": [
       "Text(0.5, 1.0, 'Точечный график количества заказов по пользователям')"
      ]
     },
     "execution_count": 48,
     "metadata": {},
     "output_type": "execute_result"
    },
    {
     "data": {
      "image/png": "[encoded data removed]",
      "text/plain": [
       "<Figure size 864x432 with 1 Axes>"
      ]
     },
     "metadata": {
      "needs_background": "light"
     },
     "output_type": "display_data"
    }
   ],
   "source": [
    "plt.figure(figsize=(12,6))\n",
    "plt.scatter(x_values, ordersByUsers['orders']) \n",
    "plt.ylabel('Количество заказов на 1 пользователя')\n",
    "plt.xlabel('Количество наблюдений')\n",
    "plt.title('Точечный график количества заказов по пользователям', pad = 20)"
   ]
  },
  {
   "cell_type": "markdown",
   "metadata": {},
   "source": [
    "Из графика видно, что обычно один пользователь делает один заказ, реже - 2, и совсем в редких случаях - 3. Случаи, когда один пользователь делает больше 3 заказов выглядят аномалиями."
   ]
  },
  {
   "cell_type": "markdown",
   "metadata": {},
   "source": [
    "<div class=\"alert alert-success\">\n",
    "<h2> Комментарий ревьюера <a class=\"tocSkip\"> </h2>\n",
    "\n",
    "<b>Все отлично!👍:</b>\n",
    "    \n",
    "Верная интерпретация"
   ]
  },
  {
   "cell_type": "markdown",
   "metadata": {},
   "source": [
    "## Посчитайте 95-й и 99-й перцентили количества заказов на пользователя. Выберите границу для определения аномальных пользователей."
   ]
  },
  {
   "cell_type": "code",
   "execution_count": 49,
   "metadata": {},
   "outputs": [
    {
     "data": {
      "text/plain": [
       "array([1., 2., 4.])"
      ]
     },
     "execution_count": 49,
     "metadata": {},
     "output_type": "execute_result"
    }
   ],
   "source": [
    "np.percentile(ordersByUsers['orders'], [90, 95, 99])"
   ]
  },
  {
   "cell_type": "markdown",
   "metadata": {},
   "source": [
    "Таки образом, не более 5% пользователей совершали больше 2 заказов. И не более 1% пользователей сделало свыше 4 заказов. Примем за аномальных пользователей тех, кто совершил 4 заказа и более.  Так мы уберём 1% пользователей с наибольшим числом заказов"
   ]
  },
  {
   "cell_type": "markdown",
   "metadata": {},
   "source": [
    "<div class=\"alert alert-success\">\n",
    "<h2> Комментарий ревьюера <a class=\"tocSkip\"> </h2>\n",
    "\n",
    "<b>Все отлично!👍:</b>\n",
    "    \n",
    "Верная интерпретация результатов"
   ]
  },
  {
   "cell_type": "markdown",
   "metadata": {},
   "source": [
    "## Постройте точечный график стоимостей заказов. Сделайте выводы и предположения."
   ]
  },
  {
   "cell_type": "code",
   "execution_count": 50,
   "metadata": {},
   "outputs": [
    {
     "data": {
      "text/html": [
       "<div>\n",
       "<style scoped>\n",
       "    .dataframe tbody tr th:only-of-type {\n",
       "        vertical-align: middle;\n",
       "    }\n",
       "\n",
       "    .dataframe tbody tr th {\n",
       "        vertical-align: top;\n",
       "    }\n",
       "\n",
       "    .dataframe thead th {\n",
       "        text-align: right;\n",
       "    }\n",
       "</style>\n",
       "<table border=\"1\" class=\"dataframe\">\n",
       "  <thead>\n",
       "    <tr style=\"text-align: right;\">\n",
       "      <th></th>\n",
       "      <th>transactionId</th>\n",
       "      <th>visitorId</th>\n",
       "      <th>date</th>\n",
       "      <th>revenue</th>\n",
       "      <th>group</th>\n",
       "    </tr>\n",
       "  </thead>\n",
       "  <tbody>\n",
       "    <tr>\n",
       "      <th>425</th>\n",
       "      <td>590470918</td>\n",
       "      <td>1920142716</td>\n",
       "      <td>2019-08-19</td>\n",
       "      <td>1294500</td>\n",
       "      <td>B</td>\n",
       "    </tr>\n",
       "    <tr>\n",
       "      <th>1196</th>\n",
       "      <td>3936777065</td>\n",
       "      <td>2108080724</td>\n",
       "      <td>2019-08-15</td>\n",
       "      <td>202740</td>\n",
       "      <td>B</td>\n",
       "    </tr>\n",
       "    <tr>\n",
       "      <th>858</th>\n",
       "      <td>192721366</td>\n",
       "      <td>1316129916</td>\n",
       "      <td>2019-08-27</td>\n",
       "      <td>93940</td>\n",
       "      <td>A</td>\n",
       "    </tr>\n",
       "    <tr>\n",
       "      <th>1136</th>\n",
       "      <td>666610489</td>\n",
       "      <td>1307669133</td>\n",
       "      <td>2019-08-13</td>\n",
       "      <td>92550</td>\n",
       "      <td>A</td>\n",
       "    </tr>\n",
       "    <tr>\n",
       "      <th>744</th>\n",
       "      <td>3668308183</td>\n",
       "      <td>888512513</td>\n",
       "      <td>2019-08-27</td>\n",
       "      <td>86620</td>\n",
       "      <td>B</td>\n",
       "    </tr>\n",
       "    <tr>\n",
       "      <th>682</th>\n",
       "      <td>1216533772</td>\n",
       "      <td>4266935830</td>\n",
       "      <td>2019-08-29</td>\n",
       "      <td>78990</td>\n",
       "      <td>B</td>\n",
       "    </tr>\n",
       "    <tr>\n",
       "      <th>662</th>\n",
       "      <td>1811671147</td>\n",
       "      <td>4266935830</td>\n",
       "      <td>2019-08-29</td>\n",
       "      <td>78990</td>\n",
       "      <td>A</td>\n",
       "    </tr>\n",
       "    <tr>\n",
       "      <th>743</th>\n",
       "      <td>3603576309</td>\n",
       "      <td>4133034833</td>\n",
       "      <td>2019-08-09</td>\n",
       "      <td>67990</td>\n",
       "      <td>A</td>\n",
       "    </tr>\n",
       "    <tr>\n",
       "      <th>1103</th>\n",
       "      <td>1348774318</td>\n",
       "      <td>1164614297</td>\n",
       "      <td>2019-08-12</td>\n",
       "      <td>66350</td>\n",
       "      <td>A</td>\n",
       "    </tr>\n",
       "    <tr>\n",
       "      <th>1099</th>\n",
       "      <td>316924019</td>\n",
       "      <td>148427295</td>\n",
       "      <td>2019-08-12</td>\n",
       "      <td>65710</td>\n",
       "      <td>A</td>\n",
       "    </tr>\n",
       "  </tbody>\n",
       "</table>\n",
       "</div>"
      ],
      "text/plain": [
       "      transactionId   visitorId       date  revenue group\n",
       "425       590470918  1920142716 2019-08-19  1294500     B\n",
       "1196     3936777065  2108080724 2019-08-15   202740     B\n",
       "858       192721366  1316129916 2019-08-27    93940     A\n",
       "1136      666610489  1307669133 2019-08-13    92550     A\n",
       "744      3668308183   888512513 2019-08-27    86620     B\n",
       "682      1216533772  4266935830 2019-08-29    78990     B\n",
       "662      1811671147  4266935830 2019-08-29    78990     A\n",
       "743      3603576309  4133034833 2019-08-09    67990     A\n",
       "1103     1348774318  1164614297 2019-08-12    66350     A\n",
       "1099      316924019   148427295 2019-08-12    65710     A"
      ]
     },
     "metadata": {},
     "output_type": "display_data"
    }
   ],
   "source": [
    "display(orders.sort_values(by='revenue', ascending=False).head(10))\n",
    "x_values = pd.Series(range(0, len(orders['revenue'])))"
   ]
  },
  {
   "cell_type": "code",
   "execution_count": 51,
   "metadata": {
    "scrolled": false
   },
   "outputs": [
    {
     "data": {
      "text/plain": [
       "Text(0.5, 0, 'Количество наблюдений')"
      ]
     },
     "execution_count": 51,
     "metadata": {},
     "output_type": "execute_result"
    },
    {
     "data": {
      "image/png": "[encoded data removed]",
      "text/plain": [
       "<Figure size 864x504 with 1 Axes>"
      ]
     },
     "metadata": {
      "needs_background": "light"
     },
     "output_type": "display_data"
    }
   ],
   "source": [
    "plt.figure(figsize=(12,7))\n",
    "plt.scatter(x_values, orders['revenue']) \n",
    "plt.title('Точечный график стоимостей заказов', pad = 20)\n",
    "plt.ylabel('Стоимость заказа')\n",
    "plt.xlabel('Количество наблюдений')"
   ]
  },
  {
   "cell_type": "markdown",
   "metadata": {},
   "source": [
    "Заказов стоимостью 30 000 уже не очень много.  Есть выбросы в районе 200 000 рублей и даже в районе 1 300 000 рублей."
   ]
  },
  {
   "cell_type": "markdown",
   "metadata": {},
   "source": [
    "<div class=\"alert alert-block alert-danger\">\n",
    "<h2> Комментарий ревьюера <a class=\"tocSkip\"></h2>\n",
    "<b>На доработку🤔:</b>\n",
    "    \n",
    "В таких случаях стоит строить дополнительно детализированный график без аномалий. Так мы сможем увидеть как распределена основная часть наблюдений\n",
    "    "
   ]
  },
  {
   "cell_type": "markdown",
   "metadata": {},
   "source": [
    "<div class=\"alert-info\"> \n",
    "Построила график без учёта аномалий:\n",
    "</div>"
   ]
  },
  {
   "cell_type": "code",
   "execution_count": 52,
   "metadata": {},
   "outputs": [
    {
     "data": {
      "text/plain": [
       "Text(0.5, 0, 'Количество наблюдений')"
      ]
     },
     "execution_count": 52,
     "metadata": {},
     "output_type": "execute_result"
    },
    {
     "data": {
      "image/png": "[encoded data removed]",
      "text/plain": [
       "<Figure size 864x504 with 1 Axes>"
      ]
     },
     "metadata": {
      "needs_background": "light"
     },
     "output_type": "display_data"
    }
   ],
   "source": [
    "x_values = pd.Series(range(0, len(orders.query('revenue<=30000')['revenue'])))\n",
    "plt.figure(figsize=(12,7))\n",
    "plt.scatter(x_values, orders.query('revenue<=30000')['revenue']) \n",
    "plt.title('Точечный график стоимостей заказов', pad = 20)\n",
    "plt.ylabel('Стоимость заказа')\n",
    "plt.xlabel('Количество наблюдений')"
   ]
  },
  {
   "cell_type": "markdown",
   "metadata": {},
   "source": [
    "<div class=\"alert alert-success\">\n",
    "<h2> Комментарий ревьюера <font color= \"black\"> V2</font> <a class=\"tocSkip\"> </h2>\n",
    "<b>Все отлично!👍 :</b> \n",
    "    \n",
    "Так гораздо нагляднее"
   ]
  },
  {
   "cell_type": "markdown",
   "metadata": {},
   "source": [
    "Оставив в графике только заказы, стоимость которых не превышает 30 000 р., становится очевидным, что стоимость   абсолютного большинства заказов не более 4 000 рублей. Так же мы видим, что чем больше стимость заказа, тем меньше таких заказов встречается."
   ]
  },
  {
   "cell_type": "markdown",
   "metadata": {},
   "source": [
    "## Посчитайте 95-й и 99-й перцентили стоимости заказов. Выберите границу для определения аномальных заказов."
   ]
  },
  {
   "cell_type": "code",
   "execution_count": 53,
   "metadata": {},
   "outputs": [
    {
     "data": {
      "text/plain": [
       "array([18168. , 28000. , 58233.2])"
      ]
     },
     "execution_count": 53,
     "metadata": {},
     "output_type": "execute_result"
    }
   ],
   "source": [
    "np.percentile(orders['revenue'], [90, 95, 99])"
   ]
  },
  {
   "cell_type": "markdown",
   "metadata": {},
   "source": [
    "Не более 5% пользователей оформляли заказы стоимостью больше 28 000 р. И не более 1% пользователей сделало заказы стоимостью свыше 58 233р.Примем за аномальных пользователей тех, кто совершил заказ на сумму свыше 35 000 рублей. Так мы уберём от 1% до 5% заказов с наибольшей стоимостью."
   ]
  },
  {
   "cell_type": "markdown",
   "metadata": {},
   "source": [
    "<div class=\"alert alert-warning\">\n",
    "<h2> Комментарий ревьюера <a class=\"tocSkip\"> </h2>\n",
    "<b>Некоторые замечания и рекомендации💡:</b> \n",
    "    \n",
    "Когда мы выбираем порог аномалий нам стоит знать по какому перцентилю был подсчитан данный порог. Выбрав 35 000 мы не сможем ответить на вопрос по какому перценитилю был получен данный порог. \n",
    "    \n",
    "Стоит использовать значения, которые мы подсчитали.     \n",
    "    "
   ]
  },
  {
   "cell_type": "markdown",
   "metadata": {},
   "source": [
    "<div class=\"alert-info\"> \n",
    "Впредь буду иметь ввиду. Сейчас в теории яндекс-практикума показывают такой принцип фильтрации аномалий, поэтому сделала по нему.\n",
    "</div>"
   ]
  },
  {
   "cell_type": "markdown",
   "metadata": {},
   "source": [
    "## Посчитайте статистическую значимость различий в конверсии* между группами по «сырым» данным. Сделайте выводы и предположения.\n",
    "\n",
    "(*имеется ввиду статистическая значимость различия среднего количества заказов)"
   ]
  },
  {
   "cell_type": "markdown",
   "metadata": {},
   "source": [
    "<div class=\"alert alert-block alert-danger\">\n",
    "<h2> Комментарий ревьюера <a class=\"tocSkip\"></h2>\n",
    "\n",
    "<b>На доработку🤔:</b>\n",
    "    \n",
    "Перед началом проверок стоит добавить\n",
    "    \n",
    "* Какой критерий будет применяться и обоснование своего выбора\n",
    "    \n",
    "* Какой уровень значимости будет использован\n",
    "    \n",
    "* Формулировки гипотез\n",
    "    \n",
    "Актуально для проверок ниже    "
   ]
  },
  {
   "cell_type": "markdown",
   "metadata": {},
   "source": [
    "<div class=\"alert-info\"> \n",
    "    \n",
    "- уровень статистической значимости alpha = 0.05\n",
    "    \n",
    "    \n",
    "- H0: Статистически значимых различий в среднем количестве заказов между группами по сырым данным нет.\n",
    "- H1:Статистически значимые различия в среднем количестве заказов между группами по сырым данным есть.\n",
    "    \n",
    "    \n",
    "- Если p-value будет меньше уровня статистической значимости, то нулевая гипотеза будет отвергнута: разница статистически значима. В иных случая  отвергнуть нулевую гипотезу не получится: вывод о различии сделать нельзя\n",
    "</div>"
   ]
  },
  {
   "cell_type": "markdown",
   "metadata": {},
   "source": [
    "<div class=\"alert alert-success\">\n",
    "<h2> Комментарий ревьюера <font color= \"black\"> V2</font> <a class=\"tocSkip\"> </h2>\n",
    "<b>Все отлично!👍 :</b> \n",
    "    \n",
    "Вступление имеет все необходимое, чтобы начать проверку гипотез    "
   ]
  },
  {
   "cell_type": "code",
   "execution_count": 54,
   "metadata": {},
   "outputs": [
    {
     "data": {
      "text/plain": [
       "'P-value: 0.01679'"
      ]
     },
     "metadata": {},
     "output_type": "display_data"
    },
    {
     "data": {
      "text/plain": [
       "'Разница в процентах: 0.138'"
      ]
     },
     "metadata": {},
     "output_type": "display_data"
    }
   ],
   "source": [
    "ordersByUsersA = orders[orders['group']=='A'].groupby('visitorId', as_index=False).agg({'transactionId' : pd.Series.nunique})\n",
    "ordersByUsersA.columns = ['visitorId', 'orders']\n",
    " \n",
    "ordersByUsersB = orders[orders['group']=='B'].groupby('visitorId', as_index=False).agg({'transactionId' : pd.Series.nunique})\n",
    "ordersByUsersB.columns = ['visitorId', 'orders']\n",
    " \n",
    "sampleA = pd.concat([ordersByUsersA['orders'],pd.Series(0, index=np.arange(visitors[visitors['group']=='A'] \\\n",
    "['visitors'].sum() - len(ordersByUsersA['orders'])), name='orders')],axis=0)\n",
    "\n",
    "sampleB = pd.concat([ordersByUsersB['orders'],pd.Series(0, index=np.arange(visitors[visitors['group']=='B'] \\\n",
    "['visitors'].sum() - len(ordersByUsersB['orders'])), name='orders')],axis=0)\n",
    "\n",
    "display('P-value: '\"{0:.5f}\".format(stats.mannwhitneyu(sampleA, sampleB)[1]))\n",
    "display('Разница в процентах: ' \"{0:.3f}\".format(sampleB.mean()/sampleA.mean()-1))"
   ]
  },
  {
   "cell_type": "markdown",
   "metadata": {},
   "source": [
    "<div class=\"alert alert-block alert-danger\">\n",
    "<h2> Комментарий ревьюера <a class=\"tocSkip\"></h2>\n",
    "\n",
    "<b>На доработку🤔:</b>\n",
    "    \n",
    "* Пожалуйста, убери избыточные данные, которые ты собираешь по новой с нуля. В этом нет необходимости\n",
    "    \n",
    "* Для значений `0.01679` `0.138` стоит добавить подписи, чтобы не было путаницы"
   ]
  },
  {
   "cell_type": "markdown",
   "metadata": {},
   "source": [
    "<div class=\"alert-info\"> \n",
    "Убрала лишнее, добавила подписи.\n",
    "</div>"
   ]
  },
  {
   "cell_type": "markdown",
   "metadata": {},
   "source": [
    "P-value значительно меньше 0,05, поэтому нулевую гипотезу отвергаем. Анализ сырых данных говорит о том, что в среднем количестве заказов между группами есть статистически значимые различия. Относительный прирост среднего группы В к конверсии группы А равен 13,8%."
   ]
  },
  {
   "cell_type": "markdown",
   "metadata": {},
   "source": [
    "## Посчитайте статистическую значимость различий в среднем чеке заказа между группами по «сырым» данным.\n",
    "Сделайте выводы и предположения."
   ]
  },
  {
   "cell_type": "markdown",
   "metadata": {},
   "source": [
    "<div class=\"alert-info\"> \n",
    "    \n",
    "- уровень статистической значимости alpha = 0.05\n",
    "    \n",
    "    \n",
    "- H0: Статистически значимых различий в среднем чеке заказа между группами по сырым данным нет.\n",
    "- H1:Статистически значимые различия в среднем чеке заказа между группами по сырым данным есть.\n",
    "    \n",
    "    \n",
    "- Если p-value будет меньше уровня статистической значимости, то нулевая гипотеза будет отвергнута: разница статистически значима. В иных случая  отвергнуть нулевую гипотезу не получится: вывод о различии сделать нельзя\n",
    "</div>"
   ]
  },
  {
   "cell_type": "code",
   "execution_count": 55,
   "metadata": {},
   "outputs": [
    {
     "data": {
      "text/plain": [
       "'p-value: 0.729'"
      ]
     },
     "metadata": {},
     "output_type": "display_data"
    },
    {
     "data": {
      "text/plain": [
       "'Разница в процентах: 0.259'"
      ]
     },
     "metadata": {},
     "output_type": "display_data"
    }
   ],
   "source": [
    "display('p-value: ''{0:.3f}'.format(stats.mannwhitneyu(orders[orders['group']=='A']['revenue'], orders[orders['group']=='B']['revenue'])[1]))\n",
    "display('Разница в процентах: ''{0:.3f}'.format(orders[orders['group']=='B']['revenue'].mean()/orders[orders['group']=='A']['revenue'].mean()-1)) "
   ]
  },
  {
   "cell_type": "markdown",
   "metadata": {},
   "source": [
    "P-value больше 0,05 - значит статистически значимых отличий в среднем чеке между группами нет. При этом относительное различие среднего чека между сегментами 25,9%."
   ]
  },
  {
   "cell_type": "markdown",
   "metadata": {},
   "source": [
    "## Посчитайте статистическую значимость различий в конверсии между группами по «очищенным» данным. Сделайте выводы и предположения."
   ]
  },
  {
   "cell_type": "markdown",
   "metadata": {},
   "source": [
    "<div class=\"alert-info\"> \n",
    "    \n",
    "- уровень статистической значимости alpha = 0.05\n",
    "    \n",
    "    \n",
    "- H0: Статистически значимых различий в среднем количестве заказов между группами по очищенным данным нет.\n",
    "- H1:Статистически значимые различия в среднем количестве заказов между группами по очищенным данным есть.\n",
    "    \n",
    "    \n",
    "- Если p-value будет меньше уровня статистической значимости, то нулевая гипотеза будет отвергнута: разница статистически значима. В иных случая  отвергнуть нулевую гипотезу не получится: вывод о различии сделать нельзя\n",
    "</div>"
   ]
  },
  {
   "cell_type": "markdown",
   "metadata": {},
   "source": [
    "Приступаем к подготовке очищенных от аномалий данных.\n",
    "Напомню, что 95-й и 99-й перцентили средних чеков равны 28 000 и 58 233 рублям. А 95-й и 99-й перцентили числа заказов на одного пользователя равны 2 и 4 заказам на пользователя.\n",
    "Примем за аномальных пользователей тех, кто совершил 4 заказа и более, или совершил заказ на сумму свыше 35 000 рублей. Так мы уберём 1% пользователей с наибольшим числом заказов и от 1% до 5% заказов с наибольшей стоимостью."
   ]
  },
  {
   "cell_type": "code",
   "execution_count": 56,
   "metadata": {},
   "outputs": [],
   "source": [
    "usersWithManyOrders = pd.concat(\n",
    "    [\n",
    "        ordersByUsersA[ordersByUsersA['orders'] >= 4]['visitorId'],\n",
    "        ordersByUsersB[ordersByUsersB['orders'] >= 4]['visitorId'],\n",
    "    ],\n",
    "    axis=0,\n",
    ")"
   ]
  },
  {
   "cell_type": "code",
   "execution_count": 57,
   "metadata": {},
   "outputs": [
    {
     "data": {
      "text/plain": [
       "1099    148427295\n",
       "18      199603092\n",
       "23      237748145\n",
       "684     358944393\n",
       "648     382846391\n",
       "Name: visitorId, dtype: int64"
      ]
     },
     "metadata": {},
     "output_type": "display_data"
    }
   ],
   "source": [
    "usersWithExpensiveOrders = orders[orders['revenue'] > 35000]['visitorId']\n",
    "\n",
    "abnormalUsers = (\n",
    "    pd.concat([usersWithManyOrders, usersWithExpensiveOrders], axis=0)\n",
    "    .drop_duplicates()\n",
    "    .sort_values()\n",
    ")\n",
    "display(abnormalUsers.head(5))"
   ]
  },
  {
   "cell_type": "code",
   "execution_count": 58,
   "metadata": {},
   "outputs": [],
   "source": [
    "sampleAFiltered = pd.concat(\n",
    "    [\n",
    "        ordersByUsersA[\n",
    "            np.logical_not(ordersByUsersA['visitorId'].isin(abnormalUsers))\n",
    "        ]['orders'],\n",
    "        pd.Series(\n",
    "            0,\n",
    "            index=np.arange(visitors[visitors['group']=='A'] \\\n",
    "['visitors'].sum() - len(ordersByUsersA['orders'])), name='orders')],axis=0)"
   ]
  },
  {
   "attachments": {
    "image.png": {
     "image/png": "[encoded data removed]"
    }
   },
   "cell_type": "markdown",
   "metadata": {},
   "source": [
    "<div class=\"alert alert-block alert-danger\">\n",
    "<h2> Комментарий ревьюера <font color= \"black\"> V2</font><a class=\"tocSkip\"></h2>\n",
    "\n",
    "<b>На доработку🤔:</b>\n",
    "    \n",
    "Стоит пересмотреть алгоритм создания таблицы, теперь нет переменной `data`  \n",
    "    \n",
    "![image.png](attachment:image.png)    "
   ]
  },
  {
   "cell_type": "markdown",
   "metadata": {},
   "source": [
    "<div class=\"alert-info\"> \n",
    "Исправлено\n",
    "</div>"
   ]
  },
  {
   "cell_type": "code",
   "execution_count": 59,
   "metadata": {},
   "outputs": [],
   "source": [
    "sampleBFiltered = pd.concat(\n",
    "    [\n",
    "        ordersByUsersB[\n",
    "            np.logical_not(ordersByUsersB['visitorId'].isin(abnormalUsers))\n",
    "        ]['orders'],\n",
    "        pd.Series(\n",
    "            0,\n",
    "            index=np.arange(visitors[visitors['group']=='B'] \\\n",
    "['visitors'].sum() - len(ordersByUsersB['orders'])), name='orders')],axis=0)"
   ]
  },
  {
   "cell_type": "code",
   "execution_count": 60,
   "metadata": {},
   "outputs": [
    {
     "data": {
      "text/plain": [
       "'P-value: 0.01390'"
      ]
     },
     "metadata": {},
     "output_type": "display_data"
    },
    {
     "data": {
      "text/plain": [
       "'Разница в процентах: 0.155'"
      ]
     },
     "metadata": {},
     "output_type": "display_data"
    }
   ],
   "source": [
    "display('P-value: ''{0:.5f}'.format(stats.mannwhitneyu(sampleAFiltered, sampleBFiltered)[1]))\n",
    "display('Разница в процентах: ''{0:.3f}'.format(sampleBFiltered.mean()/sampleAFiltered.mean()-1)) "
   ]
  },
  {
   "cell_type": "markdown",
   "metadata": {},
   "source": [
    "Как и в случае с сырыми данными статистическая значимость достигнута - сегмент B значительно лучше сегмента А."
   ]
  },
  {
   "cell_type": "markdown",
   "metadata": {},
   "source": [
    "## Посчитайте статистическую значимость различий в среднем чеке заказа между группами по «очищенным» данным. Сделайте выводы и предположения."
   ]
  },
  {
   "cell_type": "markdown",
   "metadata": {},
   "source": [
    "<div class=\"alert-info\"> \n",
    "    \n",
    "- уровень статистической значимости alpha = 0.05\n",
    "    \n",
    "    \n",
    "- H0: Статистически значимых различий в среднем чеке заказа между группами по очищенным данным нет.\n",
    "- H1:Статистически значимые различия в среднем чеке заказа между группами по очищенным данным есть.\n",
    "    \n",
    "    \n",
    "- Если p-value будет меньше уровня статистической значимости, то нулевая гипотеза будет отвергнута: разница статистически значима. В иных случая  отвергнуть нулевую гипотезу не получится: вывод о различии сделать нельзя\n",
    "</div>"
   ]
  },
  {
   "cell_type": "code",
   "execution_count": 61,
   "metadata": {},
   "outputs": [
    {
     "data": {
      "text/plain": [
       "'P-value: 0.874'"
      ]
     },
     "metadata": {},
     "output_type": "display_data"
    },
    {
     "data": {
      "text/plain": [
       "'Разница в процентах: 0.025'"
      ]
     },
     "metadata": {},
     "output_type": "display_data"
    }
   ],
   "source": [
    "display('P-value: '\n",
    "    '{0:.3f}'.format(\n",
    "        stats.mannwhitneyu(\n",
    "            orders[\n",
    "                np.logical_and(\n",
    "                    orders['group'] == 'A',\n",
    "                    np.logical_not(orders['visitorId'].isin(abnormalUsers)),\n",
    "                )\n",
    "            ]['revenue'],\n",
    "            orders[\n",
    "                np.logical_and(\n",
    "                    orders['group'] == 'B',\n",
    "                    np.logical_not(orders['visitorId'].isin(abnormalUsers)),\n",
    "                )\n",
    "            ]['revenue'],\n",
    "        )[1]\n",
    "    )\n",
    ")\n",
    "\n",
    "display('Разница в процентах: '\n",
    "    \"{0:.3f}\".format(\n",
    "        orders[\n",
    "            np.logical_and(\n",
    "                orders['group'] == 'B',\n",
    "                np.logical_not(orders['visitorId'].isin(abnormalUsers)),\n",
    "            )\n",
    "        ]['revenue'].mean()\n",
    "        / orders[\n",
    "            np.logical_and(\n",
    "                orders['group'] == 'A',\n",
    "                np.logical_not(orders['visitorId'].isin(abnormalUsers)),\n",
    "            )\n",
    "        ]['revenue'].mean()\n",
    "        - 1\n",
    "    )\n",
    ") "
   ]
  },
  {
   "cell_type": "markdown",
   "metadata": {},
   "source": [
    "Анализ очищенных данных также показал, что статистически значимых отличий в среднем чеке между группами нет. Вот только относительное различие среднего чека между сегментами всего 2,5%, а не 25,9%, как это было в нефильтрованных данных."
   ]
  },
  {
   "cell_type": "markdown",
   "metadata": {},
   "source": [
    "<div class=\"alert alert-success\">\n",
    "<h2> Комментарий ревьюера <a class=\"tocSkip\"> </h2>\n",
    "<b>Все отлично!👍:</b> \n",
    "    \n",
    "Верные выводы об отвержении гипотез"
   ]
  },
  {
   "cell_type": "markdown",
   "metadata": {},
   "source": [
    "## Примите решение по результатам теста и объясните его. Варианты решений: 1. Остановить тест, зафиксировать победу одной из групп. 2. Остановить тест, зафиксировать отсутствие различий между группами. 3. Продолжить тест."
   ]
  },
  {
   "cell_type": "markdown",
   "metadata": {},
   "source": [
    "Результаты решённых в этом проекте задач следующие:\n",
    "- Есть статистически значимое различие по конверсии между группами как по сырым данным, так и после фильтрации аномалий.\n",
    "- Статистически значимого различия по среднему чеку между группами нет, как по сырым данным, так и после удаления аномалий.\n",
    "- График различия конверсии между группами сообщает, что результаты группы B лучше группы A: имеют тенденцию к росту, либо зафиксировались около среднего значения.\n",
    "- График различия среднего чека колеблется: он и помог найти аномалии. Сделать из этого графика определённые выводы нельзя."
   ]
  },
  {
   "cell_type": "markdown",
   "metadata": {},
   "source": [
    "Исходя из вышеперечисленных фактов А/B тест следует остановить и  признать его успешным (победа группы В), т.к. эти пользователи стабильно лучше конвертируются. "
   ]
  },
  {
   "cell_type": "markdown",
   "metadata": {},
   "source": [
    "<div class=\"alert alert-success\">\n",
    "<h2> Комментарий ревьюера <a class=\"tocSkip\"> </h2>\n",
    "<b>Все отлично!👍:</b> \n",
    "    \n",
    "Удачная структура вывода, с ним твоим коллегам будет удобно работать\n",
    "    \n",
    "Верное решение принзнать победу группы В    "
   ]
  },
  {
   "cell_type": "markdown",
   "metadata": {},
   "source": [
    "<div style=\"border:solid Chocolate 2px; padding: 40px\">\n",
    "\n",
    "**Общий вывод по проекту**\n",
    "\n",
    "\n",
    "Катя, спасибо за твой проект! Ты показала свои навыки, приложила много сил и довела проект до конца. Заметно, что ты действуешь по плану и соблюдаешь структуру, это здорово.\n",
    "\n",
    "Если есть вопросы, задавай. Буду рад ответить на них🙋     \n",
    "\n",
    "Есть несколько важных моментов, которые я отметил и которые можно было бы улучшить, подсказки ты найдешь в моих комментариях. \n",
    "\n",
    "**Отмечу отдельные положительные моменты проекта🙂**:\n",
    "    \n",
    "* Ты используешь все необходимые для предварительного анализа инструменты!\n",
    "* Очень четкие и правильные выводы. Они присутствуют везде где должны быть и полностью понятны\n",
    "* Отличная структура проекта\n",
    "* Ты активно используешь визуализацию, хорошо, что ты не избегаешь этого инструмента анализа\n",
    "* Каждое важное действие ты аргументируешь\n",
    "* Выдвинуты возможные причины поведения данных\n",
    "* В коде присутствуют комментарии    \n",
    "* Верная логика во всех алгоритмах     \n",
    "\n",
    "**На что стоит обратить внимание🤓**:\n",
    "\n",
    "* Заменить `print` на альтернативный способ вывода    \n",
    "* Провести дополнительные исследования для таблиц из A/B теста    \n",
    "* Добавить наблюдение какой критерий будет применяться и обоснование своего выбора\n",
    "* Добавить наблюдение какой уровень значимости будет использован        \n",
    "* Важно добавить формулировку гипотез\n",
    "* Очень важно пересмотреть необходимость сбора кумулятивных данных в разделе проверок стат значимых различий    \n",
    "* Остальные рекомендации ты найдешь в моих комментариях!\n",
    "\n",
    "**Желаю удачи и жду твой проект на повторное ревью!**😉\n",
    "\n",
    "![gif](https://media.giphy.com/media/xT9IgEYXCNqPZnqMuY/giphy.gif)"
   ]
  },
  {
   "cell_type": "markdown",
   "metadata": {},
   "source": [
    "<div style=\"border:solid Chocolate 2px; padding: 40px\">\n",
    "\n",
    "**Общий вывод по проекту <font color= \"black\"> V2</font>** \n",
    "    \n",
    "Катя, спасибо за обратную связь, проверять твою работу было очень удобно🙏\n",
    "    \n",
    "* Ты молодец, все ошибки были исправлены. \n",
    "\n",
    "После исправления всех ошибок, нам удалось обноружить новый недочет. Осталось, разобраться как заменить алгоритм без использования `data`\n",
    "    \n",
    "**Жду твой проект на повторное ревью!**😉"
   ]
  },
  {
   "cell_type": "markdown",
   "metadata": {},
   "source": [
    "<div style=\"border:solid Chocolate 2px; padding: 40px\">\n",
    "\n",
    "**Общий вывод по проекту <font color= \"black\"> V3</font>** \n",
    "    \n",
    "Катя, ты молодец, все ошибки исправлены.\n",
    "    \n",
    "Поздравляю с завершением этого проекта, надеюсь мои комментарии были полезны тебе 🥳\n",
    "    \n",
    "**Желаю продуктивной учебы и получать макисимум полезных знаний из каждого проекта! Ты еще на один шаг ближе к своей цели**😉\n",
    "    \n",
    "![gif](https://media3.giphy.com/media/mJHSkWKziszrkcNJPo/giphy.gif?cid=ecf05e4751sqiwyupsnl7wcq220d4w5u5885lsimcajolzd2&rid=giphy.gif&ct=g)"
   ]
  },
  {
   "cell_type": "code",
   "execution_count": null,
   "metadata": {},
   "outputs": [],
   "source": []
  }
 ],
 "metadata": {
  "ExecuteTimeLog": [
   {
    "duration": 1287,
    "start_time": "2022-10-04T06:07:34.275Z"
   },
   {
    "duration": 5,
    "start_time": "2022-10-04T06:07:37.779Z"
   },
   {
    "duration": 3,
    "start_time": "2022-10-04T06:10:33.242Z"
   },
   {
    "duration": 59,
    "start_time": "2022-10-04T06:12:25.430Z"
   },
   {
    "duration": 12,
    "start_time": "2022-10-04T06:12:44.351Z"
   },
   {
    "duration": 6,
    "start_time": "2022-10-04T06:13:13.221Z"
   },
   {
    "duration": 941,
    "start_time": "2022-10-04T06:14:16.801Z"
   },
   {
    "duration": 4,
    "start_time": "2022-10-04T06:14:35.447Z"
   },
   {
    "duration": 690,
    "start_time": "2022-10-04T06:23:06.697Z"
   },
   {
    "duration": 3,
    "start_time": "2022-10-04T06:26:06.827Z"
   },
   {
    "duration": 4,
    "start_time": "2022-10-04T06:26:14.286Z"
   },
   {
    "duration": 10,
    "start_time": "2022-10-04T06:26:25.039Z"
   },
   {
    "duration": 3,
    "start_time": "2022-10-04T06:26:29.614Z"
   },
   {
    "duration": 32,
    "start_time": "2022-10-04T06:26:29.619Z"
   },
   {
    "duration": 5,
    "start_time": "2022-10-04T06:26:29.652Z"
   },
   {
    "duration": 7,
    "start_time": "2022-10-04T06:26:29.659Z"
   },
   {
    "duration": 6,
    "start_time": "2022-10-04T06:26:29.668Z"
   },
   {
    "duration": 15,
    "start_time": "2022-10-04T06:26:29.676Z"
   },
   {
    "duration": 3,
    "start_time": "2022-10-04T06:27:37.093Z"
   },
   {
    "duration": 4,
    "start_time": "2022-10-04T06:27:47.646Z"
   },
   {
    "duration": 9,
    "start_time": "2022-10-04T06:31:53.562Z"
   },
   {
    "duration": 112,
    "start_time": "2022-10-04T06:50:06.195Z"
   },
   {
    "duration": 47,
    "start_time": "2022-10-04T06:50:17.154Z"
   },
   {
    "duration": 63,
    "start_time": "2022-10-04T06:51:00.190Z"
   },
   {
    "duration": 6,
    "start_time": "2022-10-04T06:51:25.552Z"
   },
   {
    "duration": 4,
    "start_time": "2022-10-04T06:51:47.246Z"
   },
   {
    "duration": 9,
    "start_time": "2022-10-04T06:52:02.634Z"
   },
   {
    "duration": 9,
    "start_time": "2022-10-04T06:52:40.921Z"
   },
   {
    "duration": 222,
    "start_time": "2022-10-04T07:19:39.653Z"
   },
   {
    "duration": 13,
    "start_time": "2022-10-04T07:20:46.166Z"
   },
   {
    "duration": 5,
    "start_time": "2022-10-04T07:21:26.992Z"
   },
   {
    "duration": 10,
    "start_time": "2022-10-04T07:21:40.546Z"
   },
   {
    "duration": 10,
    "start_time": "2022-10-04T07:21:57.385Z"
   },
   {
    "duration": 8,
    "start_time": "2022-10-04T07:29:51.754Z"
   },
   {
    "duration": 24,
    "start_time": "2022-10-04T07:30:31.305Z"
   },
   {
    "duration": 160,
    "start_time": "2022-10-04T07:31:16.549Z"
   },
   {
    "duration": 116,
    "start_time": "2022-10-04T07:32:01.105Z"
   },
   {
    "duration": 8,
    "start_time": "2022-10-04T07:32:24.146Z"
   },
   {
    "duration": 7,
    "start_time": "2022-10-04T07:33:13.045Z"
   },
   {
    "duration": 272,
    "start_time": "2022-10-04T07:33:15.597Z"
   },
   {
    "duration": 166,
    "start_time": "2022-10-04T07:33:54.214Z"
   },
   {
    "duration": 203,
    "start_time": "2022-10-04T07:34:03.020Z"
   },
   {
    "duration": 193,
    "start_time": "2022-10-04T07:34:30.286Z"
   },
   {
    "duration": 176,
    "start_time": "2022-10-04T07:34:37.840Z"
   },
   {
    "duration": 177,
    "start_time": "2022-10-04T07:35:05.868Z"
   },
   {
    "duration": 222,
    "start_time": "2022-10-04T07:35:16.203Z"
   },
   {
    "duration": 151,
    "start_time": "2022-10-04T07:37:57.033Z"
   },
   {
    "duration": 170,
    "start_time": "2022-10-04T07:38:14.197Z"
   },
   {
    "duration": 180,
    "start_time": "2022-10-04T07:38:22.031Z"
   },
   {
    "duration": 248,
    "start_time": "2022-10-04T07:38:28.497Z"
   },
   {
    "duration": 190,
    "start_time": "2022-10-04T07:40:53.670Z"
   },
   {
    "duration": 338,
    "start_time": "2022-10-04T07:41:58.633Z"
   },
   {
    "duration": 320,
    "start_time": "2022-10-04T07:42:17.700Z"
   },
   {
    "duration": 344,
    "start_time": "2022-10-04T07:43:17.865Z"
   },
   {
    "duration": 3,
    "start_time": "2022-10-04T07:43:24.624Z"
   },
   {
    "duration": 52,
    "start_time": "2022-10-04T07:43:24.629Z"
   },
   {
    "duration": 6,
    "start_time": "2022-10-04T07:43:24.682Z"
   },
   {
    "duration": 12,
    "start_time": "2022-10-04T07:43:24.690Z"
   },
   {
    "duration": 21,
    "start_time": "2022-10-04T07:43:24.704Z"
   },
   {
    "duration": 28,
    "start_time": "2022-10-04T07:43:24.727Z"
   },
   {
    "duration": 28,
    "start_time": "2022-10-04T07:43:24.757Z"
   },
   {
    "duration": 42,
    "start_time": "2022-10-04T07:43:24.787Z"
   },
   {
    "duration": 5,
    "start_time": "2022-10-04T07:43:24.831Z"
   },
   {
    "duration": 31,
    "start_time": "2022-10-04T07:43:24.837Z"
   },
   {
    "duration": 31,
    "start_time": "2022-10-04T07:43:24.869Z"
   },
   {
    "duration": 6,
    "start_time": "2022-10-04T07:43:24.901Z"
   },
   {
    "duration": 37,
    "start_time": "2022-10-04T07:43:24.909Z"
   },
   {
    "duration": 29,
    "start_time": "2022-10-04T07:43:24.948Z"
   },
   {
    "duration": 14,
    "start_time": "2022-10-04T07:43:24.978Z"
   },
   {
    "duration": 18,
    "start_time": "2022-10-04T07:43:24.993Z"
   },
   {
    "duration": 19,
    "start_time": "2022-10-04T07:43:25.012Z"
   },
   {
    "duration": 37,
    "start_time": "2022-10-04T07:43:25.033Z"
   },
   {
    "duration": 168,
    "start_time": "2022-10-04T07:43:25.072Z"
   },
   {
    "duration": 115,
    "start_time": "2022-10-04T07:43:25.242Z"
   },
   {
    "duration": 6,
    "start_time": "2022-10-04T07:43:25.359Z"
   },
   {
    "duration": 325,
    "start_time": "2022-10-04T07:43:25.366Z"
   },
   {
    "duration": 3,
    "start_time": "2022-10-04T07:44:28.972Z"
   },
   {
    "duration": 30,
    "start_time": "2022-10-04T07:44:28.977Z"
   },
   {
    "duration": 5,
    "start_time": "2022-10-04T07:44:29.009Z"
   },
   {
    "duration": 6,
    "start_time": "2022-10-04T07:44:29.016Z"
   },
   {
    "duration": 15,
    "start_time": "2022-10-04T07:44:29.023Z"
   },
   {
    "duration": 9,
    "start_time": "2022-10-04T07:44:29.049Z"
   },
   {
    "duration": 9,
    "start_time": "2022-10-04T07:44:29.059Z"
   },
   {
    "duration": 38,
    "start_time": "2022-10-04T07:44:29.070Z"
   },
   {
    "duration": 5,
    "start_time": "2022-10-04T07:44:29.110Z"
   },
   {
    "duration": 13,
    "start_time": "2022-10-04T07:44:29.117Z"
   },
   {
    "duration": 32,
    "start_time": "2022-10-04T07:44:29.131Z"
   },
   {
    "duration": 5,
    "start_time": "2022-10-04T07:44:29.165Z"
   },
   {
    "duration": 15,
    "start_time": "2022-10-04T07:44:29.171Z"
   },
   {
    "duration": 13,
    "start_time": "2022-10-04T07:44:29.187Z"
   },
   {
    "duration": 8,
    "start_time": "2022-10-04T07:44:29.201Z"
   },
   {
    "duration": 11,
    "start_time": "2022-10-04T07:44:29.211Z"
   },
   {
    "duration": 18,
    "start_time": "2022-10-04T07:44:29.223Z"
   },
   {
    "duration": 9,
    "start_time": "2022-10-04T07:44:29.247Z"
   },
   {
    "duration": 161,
    "start_time": "2022-10-04T07:44:29.257Z"
   },
   {
    "duration": 131,
    "start_time": "2022-10-04T07:44:29.419Z"
   },
   {
    "duration": 6,
    "start_time": "2022-10-04T07:44:29.552Z"
   },
   {
    "duration": 336,
    "start_time": "2022-10-04T07:44:29.559Z"
   },
   {
    "duration": 7,
    "start_time": "2022-10-04T07:45:30.805Z"
   },
   {
    "duration": 320,
    "start_time": "2022-10-04T07:45:34.663Z"
   },
   {
    "duration": 373,
    "start_time": "2022-10-04T07:46:40.768Z"
   },
   {
    "duration": 276,
    "start_time": "2022-10-04T07:49:00.523Z"
   },
   {
    "duration": 184,
    "start_time": "2022-10-04T07:49:11.753Z"
   },
   {
    "duration": 1167,
    "start_time": "2022-10-04T07:49:38.649Z"
   },
   {
    "duration": 26,
    "start_time": "2022-10-04T07:49:39.818Z"
   },
   {
    "duration": 6,
    "start_time": "2022-10-04T07:49:39.845Z"
   },
   {
    "duration": 16,
    "start_time": "2022-10-04T07:49:39.854Z"
   },
   {
    "duration": 9,
    "start_time": "2022-10-04T07:49:39.872Z"
   },
   {
    "duration": 15,
    "start_time": "2022-10-04T07:49:39.882Z"
   },
   {
    "duration": 8,
    "start_time": "2022-10-04T07:49:39.899Z"
   },
   {
    "duration": 36,
    "start_time": "2022-10-04T07:49:39.909Z"
   },
   {
    "duration": 5,
    "start_time": "2022-10-04T07:49:39.947Z"
   },
   {
    "duration": 13,
    "start_time": "2022-10-04T07:49:39.954Z"
   },
   {
    "duration": 18,
    "start_time": "2022-10-04T07:49:39.969Z"
   },
   {
    "duration": 4,
    "start_time": "2022-10-04T07:49:39.989Z"
   },
   {
    "duration": 13,
    "start_time": "2022-10-04T07:49:39.994Z"
   },
   {
    "duration": 12,
    "start_time": "2022-10-04T07:49:40.009Z"
   },
   {
    "duration": 13,
    "start_time": "2022-10-04T07:49:40.023Z"
   },
   {
    "duration": 15,
    "start_time": "2022-10-04T07:49:40.037Z"
   },
   {
    "duration": 24,
    "start_time": "2022-10-04T07:49:40.054Z"
   },
   {
    "duration": 14,
    "start_time": "2022-10-04T07:49:40.080Z"
   },
   {
    "duration": 168,
    "start_time": "2022-10-04T07:49:40.096Z"
   },
   {
    "duration": 117,
    "start_time": "2022-10-04T07:49:40.266Z"
   },
   {
    "duration": 6,
    "start_time": "2022-10-04T07:49:40.385Z"
   },
   {
    "duration": 11,
    "start_time": "2022-10-04T07:49:40.393Z"
   },
   {
    "duration": 262,
    "start_time": "2022-10-04T07:49:40.406Z"
   },
   {
    "duration": 269,
    "start_time": "2022-10-04T07:49:50.401Z"
   },
   {
    "duration": 201,
    "start_time": "2022-10-04T07:51:32.111Z"
   },
   {
    "duration": 188,
    "start_time": "2022-10-04T07:51:41.269Z"
   },
   {
    "duration": 200,
    "start_time": "2022-10-04T07:52:32.310Z"
   },
   {
    "duration": 196,
    "start_time": "2022-10-04T08:02:06.624Z"
   },
   {
    "duration": 6,
    "start_time": "2022-10-04T08:12:30.336Z"
   },
   {
    "duration": 6,
    "start_time": "2022-10-04T08:12:40.951Z"
   },
   {
    "duration": 325,
    "start_time": "2022-10-04T08:13:51.922Z"
   },
   {
    "duration": 201,
    "start_time": "2022-10-04T08:14:50.120Z"
   },
   {
    "duration": 420,
    "start_time": "2022-10-04T08:16:46.205Z"
   },
   {
    "duration": 268,
    "start_time": "2022-10-04T08:17:11.865Z"
   },
   {
    "duration": 6,
    "start_time": "2022-10-04T09:26:14.504Z"
   },
   {
    "duration": 154,
    "start_time": "2022-10-04T09:27:11.957Z"
   },
   {
    "duration": 7,
    "start_time": "2022-10-04T09:28:30.028Z"
   },
   {
    "duration": 5,
    "start_time": "2022-10-04T09:28:46.190Z"
   },
   {
    "duration": 5,
    "start_time": "2022-10-04T09:29:06.696Z"
   },
   {
    "duration": 5,
    "start_time": "2022-10-04T09:29:08.826Z"
   },
   {
    "duration": 5,
    "start_time": "2022-10-04T09:29:53.646Z"
   },
   {
    "duration": 181,
    "start_time": "2022-10-04T09:31:04.973Z"
   },
   {
    "duration": 198,
    "start_time": "2022-10-04T09:31:47.746Z"
   },
   {
    "duration": 19,
    "start_time": "2022-10-04T09:33:44.333Z"
   },
   {
    "duration": 4,
    "start_time": "2022-10-04T09:36:28.862Z"
   },
   {
    "duration": 343,
    "start_time": "2022-10-04T09:36:48.755Z"
   },
   {
    "duration": 5,
    "start_time": "2022-10-04T09:37:15.793Z"
   },
   {
    "duration": 231,
    "start_time": "2022-10-04T09:37:39.128Z"
   },
   {
    "duration": 216,
    "start_time": "2022-10-04T09:39:02.255Z"
   },
   {
    "duration": 211,
    "start_time": "2022-10-04T09:41:48.877Z"
   },
   {
    "duration": 4,
    "start_time": "2022-10-04T09:42:14.745Z"
   },
   {
    "duration": 31,
    "start_time": "2022-10-04T09:42:14.751Z"
   },
   {
    "duration": 5,
    "start_time": "2022-10-04T09:42:14.784Z"
   },
   {
    "duration": 7,
    "start_time": "2022-10-04T09:42:14.791Z"
   },
   {
    "duration": 6,
    "start_time": "2022-10-04T09:42:14.799Z"
   },
   {
    "duration": 10,
    "start_time": "2022-10-04T09:42:14.807Z"
   },
   {
    "duration": 11,
    "start_time": "2022-10-04T09:42:14.818Z"
   },
   {
    "duration": 43,
    "start_time": "2022-10-04T09:42:14.831Z"
   },
   {
    "duration": 5,
    "start_time": "2022-10-04T09:42:14.876Z"
   },
   {
    "duration": 16,
    "start_time": "2022-10-04T09:42:14.883Z"
   },
   {
    "duration": 17,
    "start_time": "2022-10-04T09:42:14.901Z"
   },
   {
    "duration": 4,
    "start_time": "2022-10-04T09:42:14.920Z"
   },
   {
    "duration": 11,
    "start_time": "2022-10-04T09:42:14.926Z"
   },
   {
    "duration": 17,
    "start_time": "2022-10-04T09:42:14.939Z"
   },
   {
    "duration": 11,
    "start_time": "2022-10-04T09:42:14.957Z"
   },
   {
    "duration": 12,
    "start_time": "2022-10-04T09:42:14.970Z"
   },
   {
    "duration": 13,
    "start_time": "2022-10-04T09:42:14.983Z"
   },
   {
    "duration": 13,
    "start_time": "2022-10-04T09:42:14.998Z"
   },
   {
    "duration": 195,
    "start_time": "2022-10-04T09:42:15.012Z"
   },
   {
    "duration": 129,
    "start_time": "2022-10-04T09:42:15.209Z"
   },
   {
    "duration": 8,
    "start_time": "2022-10-04T09:42:15.340Z"
   },
   {
    "duration": 16,
    "start_time": "2022-10-04T09:42:15.350Z"
   },
   {
    "duration": 7,
    "start_time": "2022-10-04T09:42:15.368Z"
   },
   {
    "duration": 238,
    "start_time": "2022-10-04T09:42:15.378Z"
   },
   {
    "duration": 61,
    "start_time": "2022-10-04T09:42:15.618Z"
   },
   {
    "duration": 0,
    "start_time": "2022-10-04T09:42:15.681Z"
   },
   {
    "duration": 0,
    "start_time": "2022-10-04T09:42:15.682Z"
   },
   {
    "duration": 0,
    "start_time": "2022-10-04T09:42:15.683Z"
   },
   {
    "duration": 0,
    "start_time": "2022-10-04T09:42:15.684Z"
   },
   {
    "duration": 0,
    "start_time": "2022-10-04T09:42:15.685Z"
   },
   {
    "duration": 0,
    "start_time": "2022-10-04T09:42:15.686Z"
   },
   {
    "duration": 0,
    "start_time": "2022-10-04T09:42:15.687Z"
   },
   {
    "duration": 3,
    "start_time": "2022-10-04T09:42:35.121Z"
   },
   {
    "duration": 33,
    "start_time": "2022-10-04T09:42:35.126Z"
   },
   {
    "duration": 6,
    "start_time": "2022-10-04T09:42:35.161Z"
   },
   {
    "duration": 12,
    "start_time": "2022-10-04T09:42:35.168Z"
   },
   {
    "duration": 7,
    "start_time": "2022-10-04T09:42:35.182Z"
   },
   {
    "duration": 14,
    "start_time": "2022-10-04T09:42:35.191Z"
   },
   {
    "duration": 13,
    "start_time": "2022-10-04T09:42:35.207Z"
   },
   {
    "duration": 37,
    "start_time": "2022-10-04T09:42:35.222Z"
   },
   {
    "duration": 5,
    "start_time": "2022-10-04T09:42:35.261Z"
   },
   {
    "duration": 23,
    "start_time": "2022-10-04T09:42:35.268Z"
   },
   {
    "duration": 15,
    "start_time": "2022-10-04T09:42:35.292Z"
   },
   {
    "duration": 5,
    "start_time": "2022-10-04T09:42:35.308Z"
   },
   {
    "duration": 10,
    "start_time": "2022-10-04T09:42:35.316Z"
   },
   {
    "duration": 13,
    "start_time": "2022-10-04T09:42:35.327Z"
   },
   {
    "duration": 7,
    "start_time": "2022-10-04T09:42:35.341Z"
   },
   {
    "duration": 16,
    "start_time": "2022-10-04T09:42:35.350Z"
   },
   {
    "duration": 13,
    "start_time": "2022-10-04T09:42:35.368Z"
   },
   {
    "duration": 8,
    "start_time": "2022-10-04T09:42:35.382Z"
   },
   {
    "duration": 157,
    "start_time": "2022-10-04T09:42:35.391Z"
   },
   {
    "duration": 132,
    "start_time": "2022-10-04T09:42:35.550Z"
   },
   {
    "duration": 7,
    "start_time": "2022-10-04T09:42:35.684Z"
   },
   {
    "duration": 15,
    "start_time": "2022-10-04T09:42:35.692Z"
   },
   {
    "duration": 7,
    "start_time": "2022-10-04T09:42:35.708Z"
   },
   {
    "duration": 229,
    "start_time": "2022-10-04T09:42:35.717Z"
   },
   {
    "duration": 54,
    "start_time": "2022-10-04T09:42:35.948Z"
   },
   {
    "duration": 0,
    "start_time": "2022-10-04T09:42:36.004Z"
   },
   {
    "duration": 0,
    "start_time": "2022-10-04T09:42:36.005Z"
   },
   {
    "duration": 0,
    "start_time": "2022-10-04T09:42:36.006Z"
   },
   {
    "duration": 0,
    "start_time": "2022-10-04T09:42:36.007Z"
   },
   {
    "duration": 0,
    "start_time": "2022-10-04T09:42:36.008Z"
   },
   {
    "duration": 0,
    "start_time": "2022-10-04T09:42:36.009Z"
   },
   {
    "duration": 0,
    "start_time": "2022-10-04T09:42:36.010Z"
   },
   {
    "duration": 293,
    "start_time": "2022-10-04T09:42:47.299Z"
   },
   {
    "duration": 1136,
    "start_time": "2022-10-04T09:43:08.132Z"
   },
   {
    "duration": 27,
    "start_time": "2022-10-04T09:43:09.270Z"
   },
   {
    "duration": 6,
    "start_time": "2022-10-04T09:43:09.299Z"
   },
   {
    "duration": 12,
    "start_time": "2022-10-04T09:43:09.307Z"
   },
   {
    "duration": 8,
    "start_time": "2022-10-04T09:43:09.320Z"
   },
   {
    "duration": 11,
    "start_time": "2022-10-04T09:43:09.330Z"
   },
   {
    "duration": 9,
    "start_time": "2022-10-04T09:43:09.342Z"
   },
   {
    "duration": 39,
    "start_time": "2022-10-04T09:43:09.353Z"
   },
   {
    "duration": 5,
    "start_time": "2022-10-04T09:43:09.394Z"
   },
   {
    "duration": 12,
    "start_time": "2022-10-04T09:43:09.402Z"
   },
   {
    "duration": 19,
    "start_time": "2022-10-04T09:43:09.416Z"
   },
   {
    "duration": 6,
    "start_time": "2022-10-04T09:43:09.437Z"
   },
   {
    "duration": 17,
    "start_time": "2022-10-04T09:43:09.445Z"
   },
   {
    "duration": 16,
    "start_time": "2022-10-04T09:43:09.464Z"
   },
   {
    "duration": 7,
    "start_time": "2022-10-04T09:43:09.481Z"
   },
   {
    "duration": 14,
    "start_time": "2022-10-04T09:43:09.489Z"
   },
   {
    "duration": 36,
    "start_time": "2022-10-04T09:43:09.505Z"
   },
   {
    "duration": 6,
    "start_time": "2022-10-04T09:43:09.543Z"
   },
   {
    "duration": 179,
    "start_time": "2022-10-04T09:43:09.551Z"
   },
   {
    "duration": 143,
    "start_time": "2022-10-04T09:43:09.732Z"
   },
   {
    "duration": 6,
    "start_time": "2022-10-04T09:43:09.877Z"
   },
   {
    "duration": 13,
    "start_time": "2022-10-04T09:43:09.884Z"
   },
   {
    "duration": 7,
    "start_time": "2022-10-04T09:43:09.899Z"
   },
   {
    "duration": 302,
    "start_time": "2022-10-04T09:43:09.907Z"
   },
   {
    "duration": 110,
    "start_time": "2022-10-04T09:43:10.211Z"
   },
   {
    "duration": 0,
    "start_time": "2022-10-04T09:43:10.323Z"
   },
   {
    "duration": 0,
    "start_time": "2022-10-04T09:43:10.324Z"
   },
   {
    "duration": 0,
    "start_time": "2022-10-04T09:43:10.325Z"
   },
   {
    "duration": 0,
    "start_time": "2022-10-04T09:43:10.326Z"
   },
   {
    "duration": 0,
    "start_time": "2022-10-04T09:43:10.327Z"
   },
   {
    "duration": 0,
    "start_time": "2022-10-04T09:43:10.329Z"
   },
   {
    "duration": 0,
    "start_time": "2022-10-04T09:43:10.329Z"
   },
   {
    "duration": 6,
    "start_time": "2022-10-04T09:44:05.890Z"
   },
   {
    "duration": 4,
    "start_time": "2022-10-04T09:44:09.623Z"
   },
   {
    "duration": 38,
    "start_time": "2022-10-04T09:44:09.629Z"
   },
   {
    "duration": 6,
    "start_time": "2022-10-04T09:44:09.669Z"
   },
   {
    "duration": 11,
    "start_time": "2022-10-04T09:44:09.677Z"
   },
   {
    "duration": 8,
    "start_time": "2022-10-04T09:44:09.690Z"
   },
   {
    "duration": 16,
    "start_time": "2022-10-04T09:44:09.700Z"
   },
   {
    "duration": 12,
    "start_time": "2022-10-04T09:44:09.718Z"
   },
   {
    "duration": 45,
    "start_time": "2022-10-04T09:44:09.731Z"
   },
   {
    "duration": 7,
    "start_time": "2022-10-04T09:44:09.778Z"
   },
   {
    "duration": 19,
    "start_time": "2022-10-04T09:44:09.787Z"
   },
   {
    "duration": 27,
    "start_time": "2022-10-04T09:44:09.808Z"
   },
   {
    "duration": 5,
    "start_time": "2022-10-04T09:44:09.837Z"
   },
   {
    "duration": 19,
    "start_time": "2022-10-04T09:44:09.844Z"
   },
   {
    "duration": 20,
    "start_time": "2022-10-04T09:44:09.864Z"
   },
   {
    "duration": 6,
    "start_time": "2022-10-04T09:44:09.885Z"
   },
   {
    "duration": 12,
    "start_time": "2022-10-04T09:44:09.892Z"
   },
   {
    "duration": 12,
    "start_time": "2022-10-04T09:44:09.905Z"
   },
   {
    "duration": 18,
    "start_time": "2022-10-04T09:44:09.919Z"
   },
   {
    "duration": 177,
    "start_time": "2022-10-04T09:44:09.939Z"
   },
   {
    "duration": 140,
    "start_time": "2022-10-04T09:44:10.118Z"
   },
   {
    "duration": 6,
    "start_time": "2022-10-04T09:44:10.260Z"
   },
   {
    "duration": 17,
    "start_time": "2022-10-04T09:44:10.267Z"
   },
   {
    "duration": 8,
    "start_time": "2022-10-04T09:44:10.285Z"
   },
   {
    "duration": 223,
    "start_time": "2022-10-04T09:44:10.295Z"
   },
   {
    "duration": 15,
    "start_time": "2022-10-04T09:44:10.520Z"
   },
   {
    "duration": 209,
    "start_time": "2022-10-04T09:44:10.537Z"
   },
   {
    "duration": 7,
    "start_time": "2022-10-04T09:44:10.748Z"
   },
   {
    "duration": 296,
    "start_time": "2022-10-04T09:44:10.759Z"
   },
   {
    "duration": 7,
    "start_time": "2022-10-04T09:44:11.057Z"
   },
   {
    "duration": 13,
    "start_time": "2022-10-04T09:44:11.066Z"
   },
   {
    "duration": 6,
    "start_time": "2022-10-04T09:44:11.081Z"
   },
   {
    "duration": 303,
    "start_time": "2022-10-04T09:44:11.088Z"
   },
   {
    "duration": 230,
    "start_time": "2022-10-04T09:44:50.388Z"
   },
   {
    "duration": 223,
    "start_time": "2022-10-04T09:45:50.633Z"
   },
   {
    "duration": 237,
    "start_time": "2022-10-04T09:46:01.595Z"
   },
   {
    "duration": 7,
    "start_time": "2022-10-04T09:52:23.680Z"
   },
   {
    "duration": 360,
    "start_time": "2022-10-04T09:53:48.989Z"
   },
   {
    "duration": 317,
    "start_time": "2022-10-04T09:54:05.333Z"
   },
   {
    "duration": 322,
    "start_time": "2022-10-04T09:55:32.742Z"
   },
   {
    "duration": 314,
    "start_time": "2022-10-04T09:56:18.110Z"
   },
   {
    "duration": 297,
    "start_time": "2022-10-04T09:56:35.204Z"
   },
   {
    "duration": 322,
    "start_time": "2022-10-04T09:58:05.327Z"
   },
   {
    "duration": 339,
    "start_time": "2022-10-04T09:58:11.133Z"
   },
   {
    "duration": 309,
    "start_time": "2022-10-04T10:11:27.164Z"
   },
   {
    "duration": 337,
    "start_time": "2022-10-04T10:11:48.342Z"
   },
   {
    "duration": 148,
    "start_time": "2022-10-04T10:17:53.133Z"
   },
   {
    "duration": 9,
    "start_time": "2022-10-04T10:18:21.730Z"
   },
   {
    "duration": 7,
    "start_time": "2022-10-04T10:18:45.994Z"
   },
   {
    "duration": 10,
    "start_time": "2022-10-04T10:21:10.597Z"
   },
   {
    "duration": 8,
    "start_time": "2022-10-04T10:21:21.539Z"
   },
   {
    "duration": 3,
    "start_time": "2022-10-04T10:22:00.627Z"
   },
   {
    "duration": 117,
    "start_time": "2022-10-04T10:22:02.437Z"
   },
   {
    "duration": 150,
    "start_time": "2022-10-04T10:29:04.288Z"
   },
   {
    "duration": 196,
    "start_time": "2022-10-04T10:30:26.566Z"
   },
   {
    "duration": 133,
    "start_time": "2022-10-04T10:31:57.985Z"
   },
   {
    "duration": 192,
    "start_time": "2022-10-04T10:32:52.090Z"
   },
   {
    "duration": 5,
    "start_time": "2022-10-04T10:35:55.685Z"
   },
   {
    "duration": 60,
    "start_time": "2022-10-04T10:36:57.435Z"
   },
   {
    "duration": 17,
    "start_time": "2022-10-04T10:46:07.628Z"
   },
   {
    "duration": 15,
    "start_time": "2022-10-04T10:46:25.888Z"
   },
   {
    "duration": 17,
    "start_time": "2022-10-04T10:46:40.826Z"
   },
   {
    "duration": 11,
    "start_time": "2022-10-04T10:47:02.432Z"
   },
   {
    "duration": 143,
    "start_time": "2022-10-04T10:47:10.153Z"
   },
   {
    "duration": 192,
    "start_time": "2022-10-04T10:48:00.972Z"
   },
   {
    "duration": 181,
    "start_time": "2022-10-04T10:48:52.326Z"
   },
   {
    "duration": 180,
    "start_time": "2022-10-04T10:49:39.083Z"
   },
   {
    "duration": 191,
    "start_time": "2022-10-04T10:49:50.276Z"
   },
   {
    "duration": 195,
    "start_time": "2022-10-04T10:51:05.281Z"
   },
   {
    "duration": 192,
    "start_time": "2022-10-04T10:51:19.223Z"
   },
   {
    "duration": 5,
    "start_time": "2022-10-04T10:55:17.823Z"
   },
   {
    "duration": 5,
    "start_time": "2022-10-04T11:43:49.215Z"
   },
   {
    "duration": 57,
    "start_time": "2022-10-04T11:44:07.787Z"
   },
   {
    "duration": 46,
    "start_time": "2022-10-04T11:44:20.586Z"
   },
   {
    "duration": 65,
    "start_time": "2022-10-04T11:44:36.379Z"
   },
   {
    "duration": 27,
    "start_time": "2022-10-04T11:45:14.417Z"
   },
   {
    "duration": 61,
    "start_time": "2022-10-04T11:46:53.168Z"
   },
   {
    "duration": 57,
    "start_time": "2022-10-04T11:47:50.669Z"
   },
   {
    "duration": 21,
    "start_time": "2022-10-04T11:48:23.050Z"
   },
   {
    "duration": 138,
    "start_time": "2022-10-04T11:59:10.586Z"
   },
   {
    "duration": 163,
    "start_time": "2022-10-04T12:07:15.356Z"
   },
   {
    "duration": 3,
    "start_time": "2022-10-04T12:08:32.891Z"
   },
   {
    "duration": 30,
    "start_time": "2022-10-04T12:08:32.896Z"
   },
   {
    "duration": 7,
    "start_time": "2022-10-04T12:08:32.928Z"
   },
   {
    "duration": 20,
    "start_time": "2022-10-04T12:08:32.937Z"
   },
   {
    "duration": 8,
    "start_time": "2022-10-04T12:08:32.959Z"
   },
   {
    "duration": 10,
    "start_time": "2022-10-04T12:08:32.968Z"
   },
   {
    "duration": 10,
    "start_time": "2022-10-04T12:08:32.980Z"
   },
   {
    "duration": 40,
    "start_time": "2022-10-04T12:08:32.992Z"
   },
   {
    "duration": 6,
    "start_time": "2022-10-04T12:08:33.045Z"
   },
   {
    "duration": 16,
    "start_time": "2022-10-04T12:08:33.053Z"
   },
   {
    "duration": 16,
    "start_time": "2022-10-04T12:08:33.073Z"
   },
   {
    "duration": 5,
    "start_time": "2022-10-04T12:08:33.091Z"
   },
   {
    "duration": 14,
    "start_time": "2022-10-04T12:08:33.097Z"
   },
   {
    "duration": 13,
    "start_time": "2022-10-04T12:08:33.113Z"
   },
   {
    "duration": 23,
    "start_time": "2022-10-04T12:08:33.128Z"
   },
   {
    "duration": 19,
    "start_time": "2022-10-04T12:08:33.152Z"
   },
   {
    "duration": 12,
    "start_time": "2022-10-04T12:08:33.173Z"
   },
   {
    "duration": 5,
    "start_time": "2022-10-04T12:08:33.186Z"
   },
   {
    "duration": 198,
    "start_time": "2022-10-04T12:08:33.193Z"
   },
   {
    "duration": 129,
    "start_time": "2022-10-04T12:08:33.393Z"
   },
   {
    "duration": 6,
    "start_time": "2022-10-04T12:08:33.524Z"
   },
   {
    "duration": 29,
    "start_time": "2022-10-04T12:08:33.531Z"
   },
   {
    "duration": 10,
    "start_time": "2022-10-04T12:08:33.562Z"
   },
   {
    "duration": 231,
    "start_time": "2022-10-04T12:08:33.574Z"
   },
   {
    "duration": 6,
    "start_time": "2022-10-04T12:08:33.807Z"
   },
   {
    "duration": 233,
    "start_time": "2022-10-04T12:08:33.815Z"
   },
   {
    "duration": 6,
    "start_time": "2022-10-04T12:08:34.049Z"
   },
   {
    "duration": 305,
    "start_time": "2022-10-04T12:08:34.056Z"
   },
   {
    "duration": 6,
    "start_time": "2022-10-04T12:08:34.364Z"
   },
   {
    "duration": 21,
    "start_time": "2022-10-04T12:08:34.371Z"
   },
   {
    "duration": 7,
    "start_time": "2022-10-04T12:08:34.393Z"
   },
   {
    "duration": 248,
    "start_time": "2022-10-04T12:08:34.401Z"
   },
   {
    "duration": 9,
    "start_time": "2022-10-04T12:08:34.651Z"
   },
   {
    "duration": 459,
    "start_time": "2022-10-04T12:08:34.662Z"
   },
   {
    "duration": 21,
    "start_time": "2022-10-04T12:08:35.123Z"
   },
   {
    "duration": 11,
    "start_time": "2022-10-04T12:08:35.146Z"
   },
   {
    "duration": 163,
    "start_time": "2022-10-04T12:08:35.159Z"
   },
   {
    "duration": 5,
    "start_time": "2022-10-04T12:08:35.323Z"
   },
   {
    "duration": 16,
    "start_time": "2022-10-04T12:08:35.343Z"
   },
   {
    "duration": 167,
    "start_time": "2022-10-04T12:08:35.361Z"
   },
   {
    "duration": 14,
    "start_time": "2022-10-04T12:08:35.530Z"
   },
   {
    "duration": 63,
    "start_time": "2022-10-04T12:08:35.546Z"
   },
   {
    "duration": 55,
    "start_time": "2022-10-04T12:08:35.611Z"
   },
   {
    "duration": 59,
    "start_time": "2022-10-04T12:08:35.668Z"
   },
   {
    "duration": 71,
    "start_time": "2022-10-04T12:08:35.729Z"
   },
   {
    "duration": 20,
    "start_time": "2022-10-04T12:08:35.801Z"
   },
   {
    "duration": 197,
    "start_time": "2022-10-04T12:08:35.823Z"
   },
   {
    "duration": 183,
    "start_time": "2022-10-04T12:09:24.285Z"
   },
   {
    "duration": 197,
    "start_time": "2022-10-04T12:10:01.824Z"
   },
   {
    "duration": 177,
    "start_time": "2022-10-04T12:11:08.409Z"
   },
   {
    "duration": 184,
    "start_time": "2022-10-04T12:15:08.174Z"
   },
   {
    "duration": 196,
    "start_time": "2022-10-04T12:17:43.727Z"
   },
   {
    "duration": 164,
    "start_time": "2022-10-04T12:18:03.958Z"
   },
   {
    "duration": 164,
    "start_time": "2022-10-04T12:18:08.855Z"
   },
   {
    "duration": 173,
    "start_time": "2022-10-04T12:18:30.231Z"
   },
   {
    "duration": 178,
    "start_time": "2022-10-04T12:20:00.215Z"
   },
   {
    "duration": 179,
    "start_time": "2022-10-04T12:20:15.923Z"
   },
   {
    "duration": 173,
    "start_time": "2022-10-04T12:20:38.884Z"
   },
   {
    "duration": 193,
    "start_time": "2022-10-04T12:20:49.126Z"
   },
   {
    "duration": 3,
    "start_time": "2022-10-04T12:25:49.268Z"
   },
   {
    "duration": 31,
    "start_time": "2022-10-04T12:25:49.273Z"
   },
   {
    "duration": 5,
    "start_time": "2022-10-04T12:25:49.305Z"
   },
   {
    "duration": 9,
    "start_time": "2022-10-04T12:25:49.312Z"
   },
   {
    "duration": 9,
    "start_time": "2022-10-04T12:25:49.323Z"
   },
   {
    "duration": 22,
    "start_time": "2022-10-04T12:25:49.337Z"
   },
   {
    "duration": 11,
    "start_time": "2022-10-04T12:25:49.360Z"
   },
   {
    "duration": 44,
    "start_time": "2022-10-04T12:25:49.372Z"
   },
   {
    "duration": 5,
    "start_time": "2022-10-04T12:25:49.418Z"
   },
   {
    "duration": 20,
    "start_time": "2022-10-04T12:25:49.425Z"
   },
   {
    "duration": 17,
    "start_time": "2022-10-04T12:25:49.449Z"
   },
   {
    "duration": 4,
    "start_time": "2022-10-04T12:25:49.468Z"
   },
   {
    "duration": 17,
    "start_time": "2022-10-04T12:25:49.474Z"
   },
   {
    "duration": 13,
    "start_time": "2022-10-04T12:25:49.493Z"
   },
   {
    "duration": 10,
    "start_time": "2022-10-04T12:25:49.507Z"
   },
   {
    "duration": 13,
    "start_time": "2022-10-04T12:25:49.518Z"
   },
   {
    "duration": 27,
    "start_time": "2022-10-04T12:25:49.532Z"
   },
   {
    "duration": 8,
    "start_time": "2022-10-04T12:25:49.561Z"
   },
   {
    "duration": 178,
    "start_time": "2022-10-04T12:25:49.570Z"
   },
   {
    "duration": 131,
    "start_time": "2022-10-04T12:25:49.750Z"
   },
   {
    "duration": 6,
    "start_time": "2022-10-04T12:25:49.883Z"
   },
   {
    "duration": 15,
    "start_time": "2022-10-04T12:25:49.890Z"
   },
   {
    "duration": 8,
    "start_time": "2022-10-04T12:25:49.906Z"
   },
   {
    "duration": 249,
    "start_time": "2022-10-04T12:25:49.916Z"
   },
   {
    "duration": 7,
    "start_time": "2022-10-04T12:25:50.166Z"
   },
   {
    "duration": 216,
    "start_time": "2022-10-04T12:25:50.175Z"
   },
   {
    "duration": 6,
    "start_time": "2022-10-04T12:25:50.394Z"
   },
   {
    "duration": 345,
    "start_time": "2022-10-04T12:25:50.402Z"
   },
   {
    "duration": 5,
    "start_time": "2022-10-04T12:25:50.751Z"
   },
   {
    "duration": 15,
    "start_time": "2022-10-04T12:25:50.758Z"
   },
   {
    "duration": 9,
    "start_time": "2022-10-04T12:25:50.774Z"
   },
   {
    "duration": 237,
    "start_time": "2022-10-04T12:25:50.785Z"
   },
   {
    "duration": 15,
    "start_time": "2022-10-04T12:25:51.024Z"
   },
   {
    "duration": 332,
    "start_time": "2022-10-04T12:25:51.045Z"
   },
   {
    "duration": 8,
    "start_time": "2022-10-04T12:25:51.379Z"
   },
   {
    "duration": 3,
    "start_time": "2022-10-04T12:25:51.389Z"
   },
   {
    "duration": 178,
    "start_time": "2022-10-04T12:25:51.393Z"
   },
   {
    "duration": 4,
    "start_time": "2022-10-04T12:25:51.573Z"
   },
   {
    "duration": 13,
    "start_time": "2022-10-04T12:25:51.578Z"
   },
   {
    "duration": 187,
    "start_time": "2022-10-04T12:25:51.593Z"
   },
   {
    "duration": 4,
    "start_time": "2022-10-04T12:25:51.781Z"
   },
   {
    "duration": 57,
    "start_time": "2022-10-04T12:25:51.787Z"
   },
   {
    "duration": 50,
    "start_time": "2022-10-04T12:25:51.846Z"
   },
   {
    "duration": 69,
    "start_time": "2022-10-04T12:25:51.898Z"
   },
   {
    "duration": 58,
    "start_time": "2022-10-04T12:25:51.969Z"
   },
   {
    "duration": 29,
    "start_time": "2022-10-04T12:25:52.028Z"
   },
   {
    "duration": 200,
    "start_time": "2022-10-04T12:25:52.059Z"
   },
   {
    "duration": 1179,
    "start_time": "2022-10-04T12:26:25.705Z"
   },
   {
    "duration": 27,
    "start_time": "2022-10-04T12:26:26.886Z"
   },
   {
    "duration": 6,
    "start_time": "2022-10-04T12:26:26.914Z"
   },
   {
    "duration": 5,
    "start_time": "2022-10-04T12:26:26.922Z"
   },
   {
    "duration": 15,
    "start_time": "2022-10-04T12:26:26.928Z"
   },
   {
    "duration": 16,
    "start_time": "2022-10-04T12:26:26.945Z"
   },
   {
    "duration": 9,
    "start_time": "2022-10-04T12:26:26.962Z"
   },
   {
    "duration": 41,
    "start_time": "2022-10-04T12:26:26.972Z"
   },
   {
    "duration": 4,
    "start_time": "2022-10-04T12:26:27.015Z"
   },
   {
    "duration": 22,
    "start_time": "2022-10-04T12:26:27.022Z"
   },
   {
    "duration": 22,
    "start_time": "2022-10-04T12:26:27.046Z"
   },
   {
    "duration": 5,
    "start_time": "2022-10-04T12:26:27.069Z"
   },
   {
    "duration": 11,
    "start_time": "2022-10-04T12:26:27.076Z"
   },
   {
    "duration": 13,
    "start_time": "2022-10-04T12:26:27.088Z"
   },
   {
    "duration": 5,
    "start_time": "2022-10-04T12:26:27.103Z"
   },
   {
    "duration": 13,
    "start_time": "2022-10-04T12:26:27.110Z"
   },
   {
    "duration": 19,
    "start_time": "2022-10-04T12:26:27.125Z"
   },
   {
    "duration": 17,
    "start_time": "2022-10-04T12:26:27.146Z"
   },
   {
    "duration": 162,
    "start_time": "2022-10-04T12:26:27.165Z"
   },
   {
    "duration": 128,
    "start_time": "2022-10-04T12:26:27.329Z"
   },
   {
    "duration": 6,
    "start_time": "2022-10-04T12:26:27.458Z"
   },
   {
    "duration": 13,
    "start_time": "2022-10-04T12:26:27.466Z"
   },
   {
    "duration": 11,
    "start_time": "2022-10-04T12:26:27.481Z"
   },
   {
    "duration": 297,
    "start_time": "2022-10-04T12:26:27.493Z"
   },
   {
    "duration": 5,
    "start_time": "2022-10-04T12:26:27.792Z"
   },
   {
    "duration": 217,
    "start_time": "2022-10-04T12:26:27.799Z"
   },
   {
    "duration": 5,
    "start_time": "2022-10-04T12:26:28.017Z"
   },
   {
    "duration": 319,
    "start_time": "2022-10-04T12:26:28.039Z"
   },
   {
    "duration": 5,
    "start_time": "2022-10-04T12:26:28.360Z"
   },
   {
    "duration": 13,
    "start_time": "2022-10-04T12:26:28.366Z"
   },
   {
    "duration": 7,
    "start_time": "2022-10-04T12:26:28.380Z"
   },
   {
    "duration": 237,
    "start_time": "2022-10-04T12:26:28.389Z"
   },
   {
    "duration": 12,
    "start_time": "2022-10-04T12:26:28.627Z"
   },
   {
    "duration": 348,
    "start_time": "2022-10-04T12:26:28.640Z"
   },
   {
    "duration": 12,
    "start_time": "2022-10-04T12:26:28.991Z"
   },
   {
    "duration": 4,
    "start_time": "2022-10-04T12:26:29.005Z"
   },
   {
    "duration": 172,
    "start_time": "2022-10-04T12:26:29.011Z"
   },
   {
    "duration": 4,
    "start_time": "2022-10-04T12:26:29.185Z"
   },
   {
    "duration": 21,
    "start_time": "2022-10-04T12:26:29.191Z"
   },
   {
    "duration": 192,
    "start_time": "2022-10-04T12:26:29.214Z"
   },
   {
    "duration": 4,
    "start_time": "2022-10-04T12:26:29.408Z"
   },
   {
    "duration": 70,
    "start_time": "2022-10-04T12:26:29.414Z"
   },
   {
    "duration": 44,
    "start_time": "2022-10-04T12:26:29.485Z"
   },
   {
    "duration": 69,
    "start_time": "2022-10-04T12:26:29.531Z"
   },
   {
    "duration": 67,
    "start_time": "2022-10-04T12:26:29.601Z"
   },
   {
    "duration": 26,
    "start_time": "2022-10-04T12:26:29.670Z"
   },
   {
    "duration": 186,
    "start_time": "2022-10-04T12:26:29.698Z"
   },
   {
    "duration": 68,
    "start_time": "2022-10-04T12:27:52.595Z"
   },
   {
    "duration": 171,
    "start_time": "2022-10-04T12:28:59.219Z"
   },
   {
    "duration": 11,
    "start_time": "2022-10-04T12:29:04.390Z"
   },
   {
    "duration": 191,
    "start_time": "2022-10-04T12:29:45.677Z"
   },
   {
    "duration": 11,
    "start_time": "2022-10-04T12:29:52.797Z"
   },
   {
    "duration": 13,
    "start_time": "2022-10-04T12:37:46.458Z"
   },
   {
    "duration": 187,
    "start_time": "2022-10-04T12:37:51.710Z"
   },
   {
    "duration": 3,
    "start_time": "2022-10-04T12:37:54.473Z"
   },
   {
    "duration": 31,
    "start_time": "2022-10-04T12:37:54.479Z"
   },
   {
    "duration": 6,
    "start_time": "2022-10-04T12:37:54.511Z"
   },
   {
    "duration": 4,
    "start_time": "2022-10-04T12:37:54.519Z"
   },
   {
    "duration": 24,
    "start_time": "2022-10-04T12:37:54.525Z"
   },
   {
    "duration": 18,
    "start_time": "2022-10-04T12:37:54.551Z"
   },
   {
    "duration": 19,
    "start_time": "2022-10-04T12:37:54.570Z"
   },
   {
    "duration": 40,
    "start_time": "2022-10-04T12:37:54.591Z"
   },
   {
    "duration": 13,
    "start_time": "2022-10-04T12:37:54.633Z"
   },
   {
    "duration": 15,
    "start_time": "2022-10-04T12:37:54.647Z"
   },
   {
    "duration": 14,
    "start_time": "2022-10-04T12:37:54.664Z"
   },
   {
    "duration": 5,
    "start_time": "2022-10-04T12:37:54.680Z"
   },
   {
    "duration": 13,
    "start_time": "2022-10-04T12:37:54.686Z"
   },
   {
    "duration": 13,
    "start_time": "2022-10-04T12:37:54.701Z"
   },
   {
    "duration": 7,
    "start_time": "2022-10-04T12:37:54.716Z"
   },
   {
    "duration": 20,
    "start_time": "2022-10-04T12:37:54.724Z"
   },
   {
    "duration": 11,
    "start_time": "2022-10-04T12:37:54.746Z"
   },
   {
    "duration": 7,
    "start_time": "2022-10-04T12:37:54.759Z"
   },
   {
    "duration": 184,
    "start_time": "2022-10-04T12:37:54.768Z"
   },
   {
    "duration": 121,
    "start_time": "2022-10-04T12:37:54.954Z"
   },
   {
    "duration": 6,
    "start_time": "2022-10-04T12:37:55.076Z"
   },
   {
    "duration": 16,
    "start_time": "2022-10-04T12:37:55.084Z"
   },
   {
    "duration": 7,
    "start_time": "2022-10-04T12:37:55.101Z"
   },
   {
    "duration": 303,
    "start_time": "2022-10-04T12:37:55.111Z"
   },
   {
    "duration": 5,
    "start_time": "2022-10-04T12:37:55.416Z"
   },
   {
    "duration": 228,
    "start_time": "2022-10-04T12:37:55.423Z"
   },
   {
    "duration": 6,
    "start_time": "2022-10-04T12:37:55.652Z"
   },
   {
    "duration": 312,
    "start_time": "2022-10-04T12:37:55.660Z"
   },
   {
    "duration": 6,
    "start_time": "2022-10-04T12:37:55.973Z"
   },
   {
    "duration": 15,
    "start_time": "2022-10-04T12:37:55.981Z"
   },
   {
    "duration": 7,
    "start_time": "2022-10-04T12:37:55.997Z"
   },
   {
    "duration": 252,
    "start_time": "2022-10-04T12:37:56.005Z"
   },
   {
    "duration": 10,
    "start_time": "2022-10-04T12:37:56.260Z"
   },
   {
    "duration": 375,
    "start_time": "2022-10-04T12:37:56.272Z"
   },
   {
    "duration": 10,
    "start_time": "2022-10-04T12:37:56.649Z"
   },
   {
    "duration": 3,
    "start_time": "2022-10-04T12:37:56.661Z"
   },
   {
    "duration": 165,
    "start_time": "2022-10-04T12:37:56.666Z"
   },
   {
    "duration": 9,
    "start_time": "2022-10-04T12:37:56.839Z"
   },
   {
    "duration": 11,
    "start_time": "2022-10-04T12:37:56.850Z"
   },
   {
    "duration": 163,
    "start_time": "2022-10-04T12:37:56.862Z"
   },
   {
    "duration": 18,
    "start_time": "2022-10-04T12:37:57.026Z"
   },
   {
    "duration": 54,
    "start_time": "2022-10-04T12:37:57.046Z"
   },
   {
    "duration": 56,
    "start_time": "2022-10-04T12:37:57.102Z"
   },
   {
    "duration": 58,
    "start_time": "2022-10-04T12:37:57.160Z"
   },
   {
    "duration": 71,
    "start_time": "2022-10-04T12:37:57.220Z"
   },
   {
    "duration": 19,
    "start_time": "2022-10-04T12:37:57.293Z"
   },
   {
    "duration": 188,
    "start_time": "2022-10-04T12:37:57.314Z"
   },
   {
    "duration": 9,
    "start_time": "2022-10-04T12:37:57.504Z"
   },
   {
    "duration": 234,
    "start_time": "2022-10-04T12:58:36.426Z"
   },
   {
    "duration": 180,
    "start_time": "2022-10-04T12:58:50.205Z"
   },
   {
    "duration": 22,
    "start_time": "2022-10-04T12:59:51.931Z"
   },
   {
    "duration": 11,
    "start_time": "2022-10-04T13:00:07.987Z"
   },
   {
    "duration": 11,
    "start_time": "2022-10-04T13:11:08.694Z"
   },
   {
    "duration": 23,
    "start_time": "2022-10-04T13:11:34.030Z"
   },
   {
    "duration": 7,
    "start_time": "2022-10-04T13:35:13.349Z"
   },
   {
    "duration": 1053,
    "start_time": "2022-10-04T13:35:46.163Z"
   },
   {
    "duration": 12,
    "start_time": "2022-10-04T13:36:00.131Z"
   },
   {
    "duration": 8,
    "start_time": "2022-10-04T13:37:15.022Z"
   },
   {
    "duration": 9,
    "start_time": "2022-10-04T13:40:57.360Z"
   },
   {
    "duration": 7,
    "start_time": "2022-10-04T13:41:20.171Z"
   },
   {
    "duration": 28,
    "start_time": "2022-10-04T13:41:36.502Z"
   },
   {
    "duration": 1251,
    "start_time": "2022-10-04T13:54:49.606Z"
   },
   {
    "duration": 16,
    "start_time": "2022-10-04T13:55:26.447Z"
   },
   {
    "duration": 68,
    "start_time": "2022-10-04T14:04:22.009Z"
   },
   {
    "duration": 1174,
    "start_time": "2022-10-04T14:04:42.924Z"
   },
   {
    "duration": 27,
    "start_time": "2022-10-04T14:04:44.100Z"
   },
   {
    "duration": 16,
    "start_time": "2022-10-04T14:04:44.128Z"
   },
   {
    "duration": 10,
    "start_time": "2022-10-04T14:04:44.146Z"
   },
   {
    "duration": 8,
    "start_time": "2022-10-04T14:04:44.158Z"
   },
   {
    "duration": 19,
    "start_time": "2022-10-04T14:04:44.168Z"
   },
   {
    "duration": 8,
    "start_time": "2022-10-04T14:04:44.188Z"
   },
   {
    "duration": 51,
    "start_time": "2022-10-04T14:04:44.197Z"
   },
   {
    "duration": 7,
    "start_time": "2022-10-04T14:04:44.250Z"
   },
   {
    "duration": 14,
    "start_time": "2022-10-04T14:04:44.260Z"
   },
   {
    "duration": 23,
    "start_time": "2022-10-04T14:04:44.275Z"
   },
   {
    "duration": 5,
    "start_time": "2022-10-04T14:04:44.299Z"
   },
   {
    "duration": 15,
    "start_time": "2022-10-04T14:04:44.306Z"
   },
   {
    "duration": 24,
    "start_time": "2022-10-04T14:04:44.322Z"
   },
   {
    "duration": 8,
    "start_time": "2022-10-04T14:04:44.348Z"
   },
   {
    "duration": 15,
    "start_time": "2022-10-04T14:04:44.358Z"
   },
   {
    "duration": 27,
    "start_time": "2022-10-04T14:04:44.374Z"
   },
   {
    "duration": 9,
    "start_time": "2022-10-04T14:04:44.403Z"
   },
   {
    "duration": 183,
    "start_time": "2022-10-04T14:04:44.414Z"
   },
   {
    "duration": 121,
    "start_time": "2022-10-04T14:04:44.599Z"
   },
   {
    "duration": 17,
    "start_time": "2022-10-04T14:04:44.722Z"
   },
   {
    "duration": 12,
    "start_time": "2022-10-04T14:04:44.745Z"
   },
   {
    "duration": 9,
    "start_time": "2022-10-04T14:04:44.758Z"
   },
   {
    "duration": 295,
    "start_time": "2022-10-04T14:04:44.768Z"
   },
   {
    "duration": 6,
    "start_time": "2022-10-04T14:04:45.065Z"
   },
   {
    "duration": 226,
    "start_time": "2022-10-04T14:04:45.072Z"
   },
   {
    "duration": 6,
    "start_time": "2022-10-04T14:04:45.300Z"
   },
   {
    "duration": 347,
    "start_time": "2022-10-04T14:04:45.311Z"
   },
   {
    "duration": 6,
    "start_time": "2022-10-04T14:04:45.659Z"
   },
   {
    "duration": 7,
    "start_time": "2022-10-04T14:04:45.667Z"
   },
   {
    "duration": 8,
    "start_time": "2022-10-04T14:04:45.676Z"
   },
   {
    "duration": 261,
    "start_time": "2022-10-04T14:04:45.686Z"
   },
   {
    "duration": 8,
    "start_time": "2022-10-04T14:04:45.949Z"
   },
   {
    "duration": 352,
    "start_time": "2022-10-04T14:04:45.959Z"
   },
   {
    "duration": 11,
    "start_time": "2022-10-04T14:04:46.313Z"
   },
   {
    "duration": 19,
    "start_time": "2022-10-04T14:04:46.325Z"
   },
   {
    "duration": 213,
    "start_time": "2022-10-04T14:04:46.347Z"
   },
   {
    "duration": 9,
    "start_time": "2022-10-04T14:04:46.561Z"
   },
   {
    "duration": 12,
    "start_time": "2022-10-04T14:04:46.572Z"
   },
   {
    "duration": 188,
    "start_time": "2022-10-04T14:04:46.586Z"
   },
   {
    "duration": 4,
    "start_time": "2022-10-04T14:04:46.776Z"
   },
   {
    "duration": 69,
    "start_time": "2022-10-04T14:04:46.782Z"
   },
   {
    "duration": 47,
    "start_time": "2022-10-04T14:04:46.853Z"
   },
   {
    "duration": 81,
    "start_time": "2022-10-04T14:04:46.902Z"
   },
   {
    "duration": 68,
    "start_time": "2022-10-04T14:04:46.984Z"
   },
   {
    "duration": 29,
    "start_time": "2022-10-04T14:04:47.054Z"
   },
   {
    "duration": 207,
    "start_time": "2022-10-04T14:04:47.085Z"
   },
   {
    "duration": 10,
    "start_time": "2022-10-04T14:04:47.294Z"
   },
   {
    "duration": 7,
    "start_time": "2022-10-04T14:04:47.305Z"
   },
   {
    "duration": 26,
    "start_time": "2022-10-04T14:04:47.313Z"
   },
   {
    "duration": 7,
    "start_time": "2022-10-04T14:04:47.345Z"
   },
   {
    "duration": 5,
    "start_time": "2022-10-04T14:04:47.354Z"
   },
   {
    "duration": 24,
    "start_time": "2022-10-04T14:04:47.361Z"
   },
   {
    "duration": 14,
    "start_time": "2022-10-04T14:04:47.386Z"
   },
   {
    "duration": 278,
    "start_time": "2022-10-04T14:21:24.480Z"
   },
   {
    "duration": 1088,
    "start_time": "2022-10-04T14:55:21.139Z"
   },
   {
    "duration": 59,
    "start_time": "2022-10-04T14:55:22.229Z"
   },
   {
    "duration": 7,
    "start_time": "2022-10-04T14:55:22.289Z"
   },
   {
    "duration": 5,
    "start_time": "2022-10-04T14:55:22.299Z"
   },
   {
    "duration": 7,
    "start_time": "2022-10-04T14:55:22.306Z"
   },
   {
    "duration": 11,
    "start_time": "2022-10-04T14:55:22.315Z"
   },
   {
    "duration": 10,
    "start_time": "2022-10-04T14:55:22.328Z"
   },
   {
    "duration": 82,
    "start_time": "2022-10-04T14:55:22.340Z"
   },
   {
    "duration": 7,
    "start_time": "2022-10-04T14:55:22.424Z"
   },
   {
    "duration": 23,
    "start_time": "2022-10-04T14:55:22.433Z"
   },
   {
    "duration": 57,
    "start_time": "2022-10-04T14:55:22.458Z"
   },
   {
    "duration": 6,
    "start_time": "2022-10-04T14:55:22.517Z"
   },
   {
    "duration": 23,
    "start_time": "2022-10-04T14:55:22.526Z"
   },
   {
    "duration": 40,
    "start_time": "2022-10-04T14:55:22.552Z"
   },
   {
    "duration": 5,
    "start_time": "2022-10-04T14:55:22.593Z"
   },
   {
    "duration": 17,
    "start_time": "2022-10-04T14:55:22.600Z"
   },
   {
    "duration": 14,
    "start_time": "2022-10-04T14:55:22.618Z"
   },
   {
    "duration": 10,
    "start_time": "2022-10-04T14:55:22.634Z"
   },
   {
    "duration": 210,
    "start_time": "2022-10-04T14:55:22.645Z"
   },
   {
    "duration": 141,
    "start_time": "2022-10-04T14:55:22.858Z"
   },
   {
    "duration": 7,
    "start_time": "2022-10-04T14:55:23.001Z"
   },
   {
    "duration": 17,
    "start_time": "2022-10-04T14:55:23.011Z"
   },
   {
    "duration": 9,
    "start_time": "2022-10-04T14:55:23.031Z"
   },
   {
    "duration": 353,
    "start_time": "2022-10-04T14:55:23.042Z"
   },
   {
    "duration": 7,
    "start_time": "2022-10-04T14:55:23.397Z"
   },
   {
    "duration": 239,
    "start_time": "2022-10-04T14:55:23.406Z"
   },
   {
    "duration": 6,
    "start_time": "2022-10-04T14:55:23.647Z"
   },
   {
    "duration": 343,
    "start_time": "2022-10-04T14:55:23.658Z"
   },
   {
    "duration": 6,
    "start_time": "2022-10-04T14:55:24.003Z"
   },
   {
    "duration": 26,
    "start_time": "2022-10-04T14:55:24.011Z"
   },
   {
    "duration": 14,
    "start_time": "2022-10-04T14:55:24.039Z"
   },
   {
    "duration": 249,
    "start_time": "2022-10-04T14:55:24.055Z"
   },
   {
    "duration": 9,
    "start_time": "2022-10-04T14:55:24.306Z"
   },
   {
    "duration": 326,
    "start_time": "2022-10-04T14:55:24.317Z"
   },
   {
    "duration": 12,
    "start_time": "2022-10-04T14:55:24.645Z"
   },
   {
    "duration": 18,
    "start_time": "2022-10-04T14:55:24.659Z"
   },
   {
    "duration": 200,
    "start_time": "2022-10-04T14:55:24.680Z"
   },
   {
    "duration": 5,
    "start_time": "2022-10-04T14:55:24.882Z"
   },
   {
    "duration": 17,
    "start_time": "2022-10-04T14:55:24.889Z"
   },
   {
    "duration": 193,
    "start_time": "2022-10-04T14:55:24.908Z"
   },
   {
    "duration": 5,
    "start_time": "2022-10-04T14:55:25.103Z"
   },
   {
    "duration": 69,
    "start_time": "2022-10-04T14:55:25.109Z"
   },
   {
    "duration": 60,
    "start_time": "2022-10-04T14:55:25.180Z"
   },
   {
    "duration": 90,
    "start_time": "2022-10-04T14:55:25.243Z"
   },
   {
    "duration": 79,
    "start_time": "2022-10-04T14:55:25.335Z"
   },
   {
    "duration": 24,
    "start_time": "2022-10-04T14:55:25.417Z"
   },
   {
    "duration": 192,
    "start_time": "2022-10-04T14:55:25.444Z"
   },
   {
    "duration": 10,
    "start_time": "2022-10-04T14:55:25.638Z"
   },
   {
    "duration": 5,
    "start_time": "2022-10-04T14:55:25.650Z"
   },
   {
    "duration": 27,
    "start_time": "2022-10-04T14:55:25.657Z"
   },
   {
    "duration": 10,
    "start_time": "2022-10-04T14:55:25.686Z"
   },
   {
    "duration": 7,
    "start_time": "2022-10-04T14:55:25.697Z"
   },
   {
    "duration": 23,
    "start_time": "2022-10-04T14:55:25.705Z"
   },
   {
    "duration": 15,
    "start_time": "2022-10-04T14:55:25.729Z"
   },
   {
    "duration": 8,
    "start_time": "2022-10-04T15:55:25.707Z"
   },
   {
    "duration": 4,
    "start_time": "2022-10-04T15:55:31.733Z"
   },
   {
    "duration": 4,
    "start_time": "2022-10-04T15:55:36.422Z"
   },
   {
    "duration": 9,
    "start_time": "2022-10-04T15:55:38.516Z"
   },
   {
    "duration": 48,
    "start_time": "2022-10-05T06:24:53.061Z"
   },
   {
    "duration": 1192,
    "start_time": "2022-10-05T06:24:57.665Z"
   },
   {
    "duration": 74,
    "start_time": "2022-10-05T06:24:58.859Z"
   },
   {
    "duration": 10,
    "start_time": "2022-10-05T06:24:58.935Z"
   },
   {
    "duration": 3,
    "start_time": "2022-10-05T06:24:58.947Z"
   },
   {
    "duration": 12,
    "start_time": "2022-10-05T06:24:58.951Z"
   },
   {
    "duration": 23,
    "start_time": "2022-10-05T06:24:58.964Z"
   },
   {
    "duration": 35,
    "start_time": "2022-10-05T06:24:58.989Z"
   },
   {
    "duration": 124,
    "start_time": "2022-10-05T06:24:59.026Z"
   },
   {
    "duration": 4,
    "start_time": "2022-10-05T06:24:59.152Z"
   },
   {
    "duration": 14,
    "start_time": "2022-10-05T06:24:59.158Z"
   },
   {
    "duration": 60,
    "start_time": "2022-10-05T06:24:59.173Z"
   },
   {
    "duration": 5,
    "start_time": "2022-10-05T06:24:59.235Z"
   },
   {
    "duration": 31,
    "start_time": "2022-10-05T06:24:59.242Z"
   },
   {
    "duration": 44,
    "start_time": "2022-10-05T06:24:59.274Z"
   },
   {
    "duration": 21,
    "start_time": "2022-10-05T06:24:59.319Z"
   },
   {
    "duration": 27,
    "start_time": "2022-10-05T06:24:59.342Z"
   },
   {
    "duration": 19,
    "start_time": "2022-10-05T06:24:59.371Z"
   },
   {
    "duration": 16,
    "start_time": "2022-10-05T06:24:59.391Z"
   },
   {
    "duration": 158,
    "start_time": "2022-10-05T06:24:59.409Z"
   },
   {
    "duration": 115,
    "start_time": "2022-10-05T06:24:59.568Z"
   },
   {
    "duration": 7,
    "start_time": "2022-10-05T06:24:59.685Z"
   },
   {
    "duration": 11,
    "start_time": "2022-10-05T06:24:59.694Z"
   },
   {
    "duration": 15,
    "start_time": "2022-10-05T06:24:59.707Z"
   },
   {
    "duration": 276,
    "start_time": "2022-10-05T06:24:59.723Z"
   },
   {
    "duration": 5,
    "start_time": "2022-10-05T06:25:00.000Z"
   },
   {
    "duration": 221,
    "start_time": "2022-10-05T06:25:00.007Z"
   },
   {
    "duration": 6,
    "start_time": "2022-10-05T06:25:00.230Z"
   },
   {
    "duration": 421,
    "start_time": "2022-10-05T06:25:00.239Z"
   },
   {
    "duration": 5,
    "start_time": "2022-10-05T06:25:00.662Z"
   },
   {
    "duration": 63,
    "start_time": "2022-10-05T06:25:00.669Z"
   },
   {
    "duration": 72,
    "start_time": "2022-10-05T06:25:00.734Z"
   },
   {
    "duration": 261,
    "start_time": "2022-10-05T06:25:00.808Z"
   },
   {
    "duration": 8,
    "start_time": "2022-10-05T06:25:01.072Z"
   },
   {
    "duration": 382,
    "start_time": "2022-10-05T06:25:01.081Z"
   },
   {
    "duration": 9,
    "start_time": "2022-10-05T06:25:01.464Z"
   },
   {
    "duration": 59,
    "start_time": "2022-10-05T06:25:01.475Z"
   },
   {
    "duration": 279,
    "start_time": "2022-10-05T06:25:01.535Z"
   },
   {
    "duration": 6,
    "start_time": "2022-10-05T06:25:01.817Z"
   },
   {
    "duration": 50,
    "start_time": "2022-10-05T06:25:01.825Z"
   },
   {
    "duration": 195,
    "start_time": "2022-10-05T06:25:01.877Z"
   },
   {
    "duration": 4,
    "start_time": "2022-10-05T06:25:02.073Z"
   },
   {
    "duration": 124,
    "start_time": "2022-10-05T06:25:02.078Z"
   },
   {
    "duration": 134,
    "start_time": "2022-10-05T06:25:02.204Z"
   },
   {
    "duration": 82,
    "start_time": "2022-10-05T06:25:02.340Z"
   },
   {
    "duration": 57,
    "start_time": "2022-10-05T06:25:02.424Z"
   },
   {
    "duration": 21,
    "start_time": "2022-10-05T06:25:02.482Z"
   },
   {
    "duration": 192,
    "start_time": "2022-10-05T06:25:02.505Z"
   },
   {
    "duration": 8,
    "start_time": "2022-10-05T06:25:02.699Z"
   },
   {
    "duration": 15,
    "start_time": "2022-10-05T06:25:02.709Z"
   },
   {
    "duration": 22,
    "start_time": "2022-10-05T06:25:02.726Z"
   },
   {
    "duration": 59,
    "start_time": "2022-10-05T06:25:02.750Z"
   },
   {
    "duration": 24,
    "start_time": "2022-10-05T06:25:02.811Z"
   },
   {
    "duration": 39,
    "start_time": "2022-10-05T06:25:02.837Z"
   },
   {
    "duration": 12,
    "start_time": "2022-10-05T06:25:02.878Z"
   },
   {
    "duration": 10,
    "start_time": "2022-10-05T06:25:32.595Z"
   },
   {
    "duration": 1117,
    "start_time": "2022-10-05T06:26:14.712Z"
   },
   {
    "duration": 27,
    "start_time": "2022-10-05T06:26:15.831Z"
   },
   {
    "duration": 11,
    "start_time": "2022-10-05T06:26:15.859Z"
   },
   {
    "duration": 3,
    "start_time": "2022-10-05T06:26:15.872Z"
   },
   {
    "duration": 10,
    "start_time": "2022-10-05T06:26:15.876Z"
   },
   {
    "duration": 11,
    "start_time": "2022-10-05T06:26:15.887Z"
   },
   {
    "duration": 8,
    "start_time": "2022-10-05T06:26:15.899Z"
   },
   {
    "duration": 47,
    "start_time": "2022-10-05T06:26:15.908Z"
   },
   {
    "duration": 6,
    "start_time": "2022-10-05T06:26:15.956Z"
   },
   {
    "duration": 20,
    "start_time": "2022-10-05T06:26:15.964Z"
   },
   {
    "duration": 23,
    "start_time": "2022-10-05T06:26:15.986Z"
   },
   {
    "duration": 8,
    "start_time": "2022-10-05T06:26:16.011Z"
   },
   {
    "duration": 26,
    "start_time": "2022-10-05T06:26:16.022Z"
   },
   {
    "duration": 38,
    "start_time": "2022-10-05T06:26:16.052Z"
   },
   {
    "duration": 24,
    "start_time": "2022-10-05T06:26:16.092Z"
   },
   {
    "duration": 23,
    "start_time": "2022-10-05T06:26:16.118Z"
   },
   {
    "duration": 18,
    "start_time": "2022-10-05T06:26:16.142Z"
   },
   {
    "duration": 15,
    "start_time": "2022-10-05T06:26:16.162Z"
   },
   {
    "duration": 172,
    "start_time": "2022-10-05T06:26:16.179Z"
   },
   {
    "duration": 114,
    "start_time": "2022-10-05T06:26:16.352Z"
   },
   {
    "duration": 7,
    "start_time": "2022-10-05T06:26:16.467Z"
   },
   {
    "duration": 40,
    "start_time": "2022-10-05T06:26:16.475Z"
   },
   {
    "duration": 26,
    "start_time": "2022-10-05T06:26:16.516Z"
   },
   {
    "duration": 253,
    "start_time": "2022-10-05T06:26:16.543Z"
   },
   {
    "duration": 5,
    "start_time": "2022-10-05T06:26:16.798Z"
   },
   {
    "duration": 196,
    "start_time": "2022-10-05T06:26:16.804Z"
   },
   {
    "duration": 6,
    "start_time": "2022-10-05T06:26:17.001Z"
   },
   {
    "duration": 305,
    "start_time": "2022-10-05T06:26:17.010Z"
   },
   {
    "duration": 5,
    "start_time": "2022-10-05T06:26:17.322Z"
   },
   {
    "duration": 14,
    "start_time": "2022-10-05T06:26:17.329Z"
   },
   {
    "duration": 10,
    "start_time": "2022-10-05T06:26:17.344Z"
   },
   {
    "duration": 229,
    "start_time": "2022-10-05T06:26:17.356Z"
   },
   {
    "duration": 7,
    "start_time": "2022-10-05T06:26:17.587Z"
   },
   {
    "duration": 349,
    "start_time": "2022-10-05T06:26:17.596Z"
   },
   {
    "duration": 8,
    "start_time": "2022-10-05T06:26:17.946Z"
   },
   {
    "duration": 11,
    "start_time": "2022-10-05T06:26:17.956Z"
   },
   {
    "duration": 145,
    "start_time": "2022-10-05T06:26:17.968Z"
   },
   {
    "duration": 7,
    "start_time": "2022-10-05T06:26:18.115Z"
   },
   {
    "duration": 43,
    "start_time": "2022-10-05T06:26:18.123Z"
   },
   {
    "duration": 175,
    "start_time": "2022-10-05T06:26:18.168Z"
   },
   {
    "duration": 4,
    "start_time": "2022-10-05T06:26:18.344Z"
   },
   {
    "duration": 48,
    "start_time": "2022-10-05T06:26:18.349Z"
   },
   {
    "duration": 64,
    "start_time": "2022-10-05T06:26:18.399Z"
   },
   {
    "duration": 66,
    "start_time": "2022-10-05T06:26:18.465Z"
   },
   {
    "duration": 58,
    "start_time": "2022-10-05T06:26:18.532Z"
   },
   {
    "duration": 19,
    "start_time": "2022-10-05T06:26:18.592Z"
   },
   {
    "duration": 166,
    "start_time": "2022-10-05T06:26:18.612Z"
   },
   {
    "duration": 8,
    "start_time": "2022-10-05T06:26:18.780Z"
   },
   {
    "duration": 4,
    "start_time": "2022-10-05T06:26:18.790Z"
   },
   {
    "duration": 27,
    "start_time": "2022-10-05T06:26:18.795Z"
   },
   {
    "duration": 6,
    "start_time": "2022-10-05T06:26:18.824Z"
   },
   {
    "duration": 5,
    "start_time": "2022-10-05T06:26:18.832Z"
   },
   {
    "duration": 26,
    "start_time": "2022-10-05T06:26:18.838Z"
   },
   {
    "duration": 12,
    "start_time": "2022-10-05T06:26:18.866Z"
   },
   {
    "duration": 3,
    "start_time": "2022-10-05T06:26:22.760Z"
   },
   {
    "duration": 29,
    "start_time": "2022-10-05T06:26:22.765Z"
   },
   {
    "duration": 8,
    "start_time": "2022-10-05T06:26:22.796Z"
   },
   {
    "duration": 5,
    "start_time": "2022-10-05T06:26:22.805Z"
   },
   {
    "duration": 8,
    "start_time": "2022-10-05T06:26:22.812Z"
   },
   {
    "duration": 9,
    "start_time": "2022-10-05T06:26:22.821Z"
   },
   {
    "duration": 9,
    "start_time": "2022-10-05T06:26:22.832Z"
   },
   {
    "duration": 43,
    "start_time": "2022-10-05T06:26:22.842Z"
   },
   {
    "duration": 6,
    "start_time": "2022-10-05T06:26:22.886Z"
   },
   {
    "duration": 13,
    "start_time": "2022-10-05T06:26:22.893Z"
   },
   {
    "duration": 20,
    "start_time": "2022-10-05T06:26:22.908Z"
   },
   {
    "duration": 5,
    "start_time": "2022-10-05T06:26:22.929Z"
   },
   {
    "duration": 14,
    "start_time": "2022-10-05T06:26:22.936Z"
   },
   {
    "duration": 20,
    "start_time": "2022-10-05T06:26:22.951Z"
   },
   {
    "duration": 6,
    "start_time": "2022-10-05T06:26:22.973Z"
   },
   {
    "duration": 12,
    "start_time": "2022-10-05T06:26:22.980Z"
   },
   {
    "duration": 11,
    "start_time": "2022-10-05T06:26:22.993Z"
   },
   {
    "duration": 16,
    "start_time": "2022-10-05T06:26:23.005Z"
   },
   {
    "duration": 152,
    "start_time": "2022-10-05T06:26:23.023Z"
   },
   {
    "duration": 121,
    "start_time": "2022-10-05T06:26:23.177Z"
   },
   {
    "duration": 12,
    "start_time": "2022-10-05T06:26:23.300Z"
   },
   {
    "duration": 16,
    "start_time": "2022-10-05T06:26:23.313Z"
   },
   {
    "duration": 6,
    "start_time": "2022-10-05T06:26:23.331Z"
   },
   {
    "duration": 268,
    "start_time": "2022-10-05T06:26:23.338Z"
   },
   {
    "duration": 5,
    "start_time": "2022-10-05T06:26:23.608Z"
   },
   {
    "duration": 202,
    "start_time": "2022-10-05T06:26:23.622Z"
   },
   {
    "duration": 6,
    "start_time": "2022-10-05T06:26:23.825Z"
   },
   {
    "duration": 288,
    "start_time": "2022-10-05T06:26:23.833Z"
   },
   {
    "duration": 5,
    "start_time": "2022-10-05T06:26:24.125Z"
   },
   {
    "duration": 9,
    "start_time": "2022-10-05T06:26:24.131Z"
   },
   {
    "duration": 7,
    "start_time": "2022-10-05T06:26:24.141Z"
   },
   {
    "duration": 232,
    "start_time": "2022-10-05T06:26:24.150Z"
   },
   {
    "duration": 7,
    "start_time": "2022-10-05T06:26:24.384Z"
   },
   {
    "duration": 359,
    "start_time": "2022-10-05T06:26:24.393Z"
   },
   {
    "duration": 8,
    "start_time": "2022-10-05T06:26:24.754Z"
   },
   {
    "duration": 5,
    "start_time": "2022-10-05T06:26:24.764Z"
   },
   {
    "duration": 153,
    "start_time": "2022-10-05T06:26:24.770Z"
   },
   {
    "duration": 4,
    "start_time": "2022-10-05T06:26:24.925Z"
   },
   {
    "duration": 11,
    "start_time": "2022-10-05T06:26:24.930Z"
   },
   {
    "duration": 169,
    "start_time": "2022-10-05T06:26:24.942Z"
   },
   {
    "duration": 11,
    "start_time": "2022-10-05T06:26:25.113Z"
   },
   {
    "duration": 52,
    "start_time": "2022-10-05T06:26:25.126Z"
   },
   {
    "duration": 53,
    "start_time": "2022-10-05T06:26:25.179Z"
   },
   {
    "duration": 64,
    "start_time": "2022-10-05T06:26:25.233Z"
   },
   {
    "duration": 55,
    "start_time": "2022-10-05T06:26:25.298Z"
   },
   {
    "duration": 22,
    "start_time": "2022-10-05T06:26:25.355Z"
   },
   {
    "duration": 152,
    "start_time": "2022-10-05T06:26:25.379Z"
   },
   {
    "duration": 9,
    "start_time": "2022-10-05T06:26:25.533Z"
   },
   {
    "duration": 5,
    "start_time": "2022-10-05T06:26:25.544Z"
   },
   {
    "duration": 9,
    "start_time": "2022-10-05T06:26:25.550Z"
   },
   {
    "duration": 14,
    "start_time": "2022-10-05T06:26:25.560Z"
   },
   {
    "duration": 7,
    "start_time": "2022-10-05T06:26:25.575Z"
   },
   {
    "duration": 42,
    "start_time": "2022-10-05T06:26:25.583Z"
   },
   {
    "duration": 14,
    "start_time": "2022-10-05T06:26:25.626Z"
   },
   {
    "duration": 3,
    "start_time": "2022-10-05T06:26:37.555Z"
   },
   {
    "duration": 9,
    "start_time": "2022-10-05T06:29:14.408Z"
   },
   {
    "duration": 3,
    "start_time": "2022-10-05T06:29:19.549Z"
   },
   {
    "duration": 33,
    "start_time": "2022-10-05T06:29:19.554Z"
   },
   {
    "duration": 8,
    "start_time": "2022-10-05T06:29:19.589Z"
   },
   {
    "duration": 5,
    "start_time": "2022-10-05T06:29:19.598Z"
   },
   {
    "duration": 9,
    "start_time": "2022-10-05T06:29:19.606Z"
   },
   {
    "duration": 18,
    "start_time": "2022-10-05T06:29:19.616Z"
   },
   {
    "duration": 44,
    "start_time": "2022-10-05T06:29:19.636Z"
   },
   {
    "duration": 5,
    "start_time": "2022-10-05T06:29:19.682Z"
   },
   {
    "duration": 13,
    "start_time": "2022-10-05T06:29:19.688Z"
   },
   {
    "duration": 29,
    "start_time": "2022-10-05T06:29:19.703Z"
   },
   {
    "duration": 4,
    "start_time": "2022-10-05T06:29:19.735Z"
   },
   {
    "duration": 12,
    "start_time": "2022-10-05T06:29:19.740Z"
   },
   {
    "duration": 13,
    "start_time": "2022-10-05T06:29:19.754Z"
   },
   {
    "duration": 6,
    "start_time": "2022-10-05T06:29:19.768Z"
   },
   {
    "duration": 24,
    "start_time": "2022-10-05T06:29:19.775Z"
   },
   {
    "duration": 17,
    "start_time": "2022-10-05T06:29:19.800Z"
   },
   {
    "duration": 11,
    "start_time": "2022-10-05T06:29:19.818Z"
   },
   {
    "duration": 151,
    "start_time": "2022-10-05T06:29:19.830Z"
   },
   {
    "duration": 115,
    "start_time": "2022-10-05T06:29:19.983Z"
   },
   {
    "duration": 9,
    "start_time": "2022-10-05T06:29:20.100Z"
   },
   {
    "duration": 18,
    "start_time": "2022-10-05T06:29:20.111Z"
   },
   {
    "duration": 7,
    "start_time": "2022-10-05T06:29:20.130Z"
   },
   {
    "duration": 209,
    "start_time": "2022-10-05T06:29:20.139Z"
   },
   {
    "duration": 6,
    "start_time": "2022-10-05T06:29:20.349Z"
   },
   {
    "duration": 227,
    "start_time": "2022-10-05T06:29:20.356Z"
   },
   {
    "duration": 6,
    "start_time": "2022-10-05T06:29:20.585Z"
   },
   {
    "duration": 308,
    "start_time": "2022-10-05T06:29:20.592Z"
   },
   {
    "duration": 5,
    "start_time": "2022-10-05T06:29:20.902Z"
   },
   {
    "duration": 4,
    "start_time": "2022-10-05T06:29:20.921Z"
   },
   {
    "duration": 10,
    "start_time": "2022-10-05T06:29:20.927Z"
   },
   {
    "duration": 243,
    "start_time": "2022-10-05T06:29:20.939Z"
   },
   {
    "duration": 9,
    "start_time": "2022-10-05T06:29:21.184Z"
   },
   {
    "duration": 397,
    "start_time": "2022-10-05T06:29:21.195Z"
   },
   {
    "duration": 9,
    "start_time": "2022-10-05T06:29:21.593Z"
   },
   {
    "duration": 4,
    "start_time": "2022-10-05T06:29:21.604Z"
   },
   {
    "duration": 139,
    "start_time": "2022-10-05T06:29:21.622Z"
   },
   {
    "duration": 5,
    "start_time": "2022-10-05T06:29:21.762Z"
   },
   {
    "duration": 14,
    "start_time": "2022-10-05T06:29:21.768Z"
   },
   {
    "duration": 169,
    "start_time": "2022-10-05T06:29:21.783Z"
   },
   {
    "duration": 4,
    "start_time": "2022-10-05T06:29:21.954Z"
   },
   {
    "duration": 55,
    "start_time": "2022-10-05T06:29:21.959Z"
   },
   {
    "duration": 47,
    "start_time": "2022-10-05T06:29:22.016Z"
   },
   {
    "duration": 70,
    "start_time": "2022-10-05T06:29:22.065Z"
   },
   {
    "duration": 53,
    "start_time": "2022-10-05T06:29:22.137Z"
   },
   {
    "duration": 34,
    "start_time": "2022-10-05T06:29:22.192Z"
   },
   {
    "duration": 303,
    "start_time": "2022-10-05T06:29:22.228Z"
   },
   {
    "duration": 10,
    "start_time": "2022-10-05T06:29:22.533Z"
   },
   {
    "duration": 22,
    "start_time": "2022-10-05T06:29:22.544Z"
   },
   {
    "duration": 57,
    "start_time": "2022-10-05T06:29:22.568Z"
   },
   {
    "duration": 18,
    "start_time": "2022-10-05T06:29:22.626Z"
   },
   {
    "duration": 13,
    "start_time": "2022-10-05T06:29:22.645Z"
   },
   {
    "duration": 66,
    "start_time": "2022-10-05T06:29:22.660Z"
   },
   {
    "duration": 13,
    "start_time": "2022-10-05T06:29:22.728Z"
   },
   {
    "duration": 9,
    "start_time": "2022-10-05T06:29:35.906Z"
   },
   {
    "duration": 1078,
    "start_time": "2022-10-05T06:29:53.380Z"
   },
   {
    "duration": 28,
    "start_time": "2022-10-05T06:29:54.460Z"
   },
   {
    "duration": 11,
    "start_time": "2022-10-05T06:29:54.490Z"
   },
   {
    "duration": 8,
    "start_time": "2022-10-05T06:29:54.502Z"
   },
   {
    "duration": 17,
    "start_time": "2022-10-05T06:29:54.512Z"
   },
   {
    "duration": 7,
    "start_time": "2022-10-05T06:29:54.531Z"
   },
   {
    "duration": 52,
    "start_time": "2022-10-05T06:29:54.539Z"
   },
   {
    "duration": 5,
    "start_time": "2022-10-05T06:29:54.592Z"
   },
   {
    "duration": 25,
    "start_time": "2022-10-05T06:29:54.599Z"
   },
   {
    "duration": 23,
    "start_time": "2022-10-05T06:29:54.626Z"
   },
   {
    "duration": 5,
    "start_time": "2022-10-05T06:29:54.650Z"
   },
   {
    "duration": 16,
    "start_time": "2022-10-05T06:29:54.656Z"
   },
   {
    "duration": 21,
    "start_time": "2022-10-05T06:29:54.674Z"
   },
   {
    "duration": 11,
    "start_time": "2022-10-05T06:29:54.696Z"
   },
   {
    "duration": 17,
    "start_time": "2022-10-05T06:29:54.708Z"
   },
   {
    "duration": 15,
    "start_time": "2022-10-05T06:29:54.727Z"
   },
   {
    "duration": 13,
    "start_time": "2022-10-05T06:29:54.744Z"
   },
   {
    "duration": 150,
    "start_time": "2022-10-05T06:29:54.758Z"
   },
   {
    "duration": 102,
    "start_time": "2022-10-05T06:29:54.910Z"
   },
   {
    "duration": 13,
    "start_time": "2022-10-05T06:29:55.013Z"
   },
   {
    "duration": 12,
    "start_time": "2022-10-05T06:29:55.027Z"
   },
   {
    "duration": 12,
    "start_time": "2022-10-05T06:29:55.040Z"
   },
   {
    "duration": 293,
    "start_time": "2022-10-05T06:29:55.053Z"
   },
   {
    "duration": 7,
    "start_time": "2022-10-05T06:29:55.348Z"
   },
   {
    "duration": 231,
    "start_time": "2022-10-05T06:29:55.357Z"
   },
   {
    "duration": 6,
    "start_time": "2022-10-05T06:29:55.590Z"
   },
   {
    "duration": 342,
    "start_time": "2022-10-05T06:29:55.597Z"
   },
   {
    "duration": 6,
    "start_time": "2022-10-05T06:29:55.942Z"
   },
   {
    "duration": 100,
    "start_time": "2022-10-05T06:29:55.949Z"
   },
   {
    "duration": 36,
    "start_time": "2022-10-05T06:29:56.051Z"
   },
   {
    "duration": 255,
    "start_time": "2022-10-05T06:29:56.088Z"
   },
   {
    "duration": 11,
    "start_time": "2022-10-05T06:29:56.345Z"
   },
   {
    "duration": 377,
    "start_time": "2022-10-05T06:29:56.358Z"
   },
   {
    "duration": 14,
    "start_time": "2022-10-05T06:29:56.736Z"
   },
   {
    "duration": 101,
    "start_time": "2022-10-05T06:29:56.751Z"
   },
   {
    "duration": 173,
    "start_time": "2022-10-05T06:29:56.853Z"
   },
   {
    "duration": 4,
    "start_time": "2022-10-05T06:29:57.027Z"
   },
   {
    "duration": 52,
    "start_time": "2022-10-05T06:29:57.032Z"
   },
   {
    "duration": 199,
    "start_time": "2022-10-05T06:29:57.086Z"
   },
   {
    "duration": 5,
    "start_time": "2022-10-05T06:29:57.286Z"
   },
   {
    "duration": 125,
    "start_time": "2022-10-05T06:29:57.292Z"
   },
   {
    "duration": 50,
    "start_time": "2022-10-05T06:29:57.418Z"
   },
   {
    "duration": 105,
    "start_time": "2022-10-05T06:29:57.470Z"
   },
   {
    "duration": 87,
    "start_time": "2022-10-05T06:29:57.576Z"
   },
   {
    "duration": 18,
    "start_time": "2022-10-05T06:29:57.665Z"
   },
   {
    "duration": 223,
    "start_time": "2022-10-05T06:29:57.684Z"
   },
   {
    "duration": 24,
    "start_time": "2022-10-05T06:29:57.909Z"
   },
   {
    "duration": 50,
    "start_time": "2022-10-05T06:29:57.934Z"
   },
   {
    "duration": 103,
    "start_time": "2022-10-05T06:29:57.985Z"
   },
   {
    "duration": 106,
    "start_time": "2022-10-05T06:29:58.089Z"
   },
   {
    "duration": 69,
    "start_time": "2022-10-05T06:29:58.196Z"
   },
   {
    "duration": 75,
    "start_time": "2022-10-05T06:29:58.267Z"
   },
   {
    "duration": 66,
    "start_time": "2022-10-05T06:29:58.343Z"
   },
   {
    "duration": 3,
    "start_time": "2022-10-05T06:30:01.133Z"
   },
   {
    "duration": 199,
    "start_time": "2022-10-05T06:30:01.138Z"
   },
   {
    "duration": 19,
    "start_time": "2022-10-05T06:30:01.339Z"
   },
   {
    "duration": 27,
    "start_time": "2022-10-05T06:30:01.360Z"
   },
   {
    "duration": 61,
    "start_time": "2022-10-05T06:30:01.389Z"
   },
   {
    "duration": 33,
    "start_time": "2022-10-05T06:30:01.452Z"
   },
   {
    "duration": 124,
    "start_time": "2022-10-05T06:30:01.487Z"
   },
   {
    "duration": 142,
    "start_time": "2022-10-05T06:30:01.612Z"
   },
   {
    "duration": 178,
    "start_time": "2022-10-05T06:30:01.756Z"
   },
   {
    "duration": 47,
    "start_time": "2022-10-05T06:30:01.935Z"
   },
   {
    "duration": 15,
    "start_time": "2022-10-05T06:30:01.985Z"
   },
   {
    "duration": 45,
    "start_time": "2022-10-05T06:30:02.001Z"
   },
   {
    "duration": 23,
    "start_time": "2022-10-05T06:30:02.047Z"
   },
   {
    "duration": 16,
    "start_time": "2022-10-05T06:30:02.071Z"
   },
   {
    "duration": 25,
    "start_time": "2022-10-05T06:30:02.088Z"
   },
   {
    "duration": 28,
    "start_time": "2022-10-05T06:30:02.114Z"
   },
   {
    "duration": 35,
    "start_time": "2022-10-05T06:30:02.144Z"
   },
   {
    "duration": 184,
    "start_time": "2022-10-05T06:30:02.181Z"
   },
   {
    "duration": 129,
    "start_time": "2022-10-05T06:30:02.367Z"
   },
   {
    "duration": 7,
    "start_time": "2022-10-05T06:30:02.497Z"
   },
   {
    "duration": 40,
    "start_time": "2022-10-05T06:30:02.505Z"
   },
   {
    "duration": 21,
    "start_time": "2022-10-05T06:30:02.546Z"
   },
   {
    "duration": 299,
    "start_time": "2022-10-05T06:30:02.568Z"
   },
   {
    "duration": 6,
    "start_time": "2022-10-05T06:30:02.869Z"
   },
   {
    "duration": 192,
    "start_time": "2022-10-05T06:30:02.877Z"
   },
   {
    "duration": 7,
    "start_time": "2022-10-05T06:30:03.071Z"
   },
   {
    "duration": 295,
    "start_time": "2022-10-05T06:30:03.079Z"
   },
   {
    "duration": 6,
    "start_time": "2022-10-05T06:30:03.375Z"
   },
   {
    "duration": 11,
    "start_time": "2022-10-05T06:30:03.385Z"
   },
   {
    "duration": 6,
    "start_time": "2022-10-05T06:30:03.398Z"
   },
   {
    "duration": 198,
    "start_time": "2022-10-05T06:30:03.405Z"
   },
   {
    "duration": 17,
    "start_time": "2022-10-05T06:30:03.605Z"
   },
   {
    "duration": 306,
    "start_time": "2022-10-05T06:30:03.624Z"
   },
   {
    "duration": 9,
    "start_time": "2022-10-05T06:30:03.932Z"
   },
   {
    "duration": 6,
    "start_time": "2022-10-05T06:30:03.942Z"
   },
   {
    "duration": 152,
    "start_time": "2022-10-05T06:30:03.949Z"
   },
   {
    "duration": 4,
    "start_time": "2022-10-05T06:30:04.103Z"
   },
   {
    "duration": 22,
    "start_time": "2022-10-05T06:30:04.109Z"
   },
   {
    "duration": 152,
    "start_time": "2022-10-05T06:30:04.133Z"
   },
   {
    "duration": 4,
    "start_time": "2022-10-05T06:30:04.287Z"
   },
   {
    "duration": 55,
    "start_time": "2022-10-05T06:30:04.293Z"
   },
   {
    "duration": 44,
    "start_time": "2022-10-05T06:30:04.350Z"
   },
   {
    "duration": 66,
    "start_time": "2022-10-05T06:30:04.395Z"
   },
   {
    "duration": 73,
    "start_time": "2022-10-05T06:30:04.463Z"
   },
   {
    "duration": 20,
    "start_time": "2022-10-05T06:30:04.539Z"
   },
   {
    "duration": 171,
    "start_time": "2022-10-05T06:30:04.560Z"
   },
   {
    "duration": 11,
    "start_time": "2022-10-05T06:30:04.733Z"
   },
   {
    "duration": 7,
    "start_time": "2022-10-05T06:30:04.745Z"
   },
   {
    "duration": 11,
    "start_time": "2022-10-05T06:30:04.753Z"
   },
   {
    "duration": 7,
    "start_time": "2022-10-05T06:30:04.766Z"
   },
   {
    "duration": 9,
    "start_time": "2022-10-05T06:30:04.775Z"
   },
   {
    "duration": 49,
    "start_time": "2022-10-05T06:30:04.785Z"
   },
   {
    "duration": 14,
    "start_time": "2022-10-05T06:30:04.837Z"
   },
   {
    "duration": 9,
    "start_time": "2022-10-05T06:30:22.481Z"
   },
   {
    "duration": 3,
    "start_time": "2022-10-05T06:30:25.731Z"
   },
   {
    "duration": 30,
    "start_time": "2022-10-05T06:30:25.735Z"
   },
   {
    "duration": 9,
    "start_time": "2022-10-05T06:30:25.766Z"
   },
   {
    "duration": 5,
    "start_time": "2022-10-05T06:30:25.777Z"
   },
   {
    "duration": 15,
    "start_time": "2022-10-05T06:30:25.784Z"
   },
   {
    "duration": 9,
    "start_time": "2022-10-05T06:30:25.801Z"
   },
   {
    "duration": 39,
    "start_time": "2022-10-05T06:30:25.812Z"
   },
   {
    "duration": 5,
    "start_time": "2022-10-05T06:30:25.852Z"
   },
   {
    "duration": 10,
    "start_time": "2022-10-05T06:30:25.859Z"
   },
   {
    "duration": 19,
    "start_time": "2022-10-05T06:30:25.870Z"
   },
   {
    "duration": 7,
    "start_time": "2022-10-05T06:30:25.890Z"
   },
   {
    "duration": 11,
    "start_time": "2022-10-05T06:30:25.898Z"
   },
   {
    "duration": 11,
    "start_time": "2022-10-05T06:30:25.911Z"
   },
   {
    "duration": 6,
    "start_time": "2022-10-05T06:30:25.923Z"
   },
   {
    "duration": 12,
    "start_time": "2022-10-05T06:30:25.930Z"
   },
   {
    "duration": 10,
    "start_time": "2022-10-05T06:30:25.943Z"
   },
   {
    "duration": 4,
    "start_time": "2022-10-05T06:30:25.954Z"
   },
   {
    "duration": 202,
    "start_time": "2022-10-05T06:30:25.960Z"
   },
   {
    "duration": 119,
    "start_time": "2022-10-05T06:30:26.164Z"
   },
   {
    "duration": 5,
    "start_time": "2022-10-05T06:30:26.285Z"
   },
   {
    "duration": 14,
    "start_time": "2022-10-05T06:30:26.292Z"
   },
   {
    "duration": 22,
    "start_time": "2022-10-05T06:30:26.308Z"
   },
   {
    "duration": 197,
    "start_time": "2022-10-05T06:30:26.331Z"
   },
   {
    "duration": 5,
    "start_time": "2022-10-05T06:30:26.532Z"
   },
   {
    "duration": 196,
    "start_time": "2022-10-05T06:30:26.538Z"
   },
   {
    "duration": 6,
    "start_time": "2022-10-05T06:30:26.735Z"
   },
   {
    "duration": 290,
    "start_time": "2022-10-05T06:30:26.742Z"
   },
   {
    "duration": 6,
    "start_time": "2022-10-05T06:30:27.034Z"
   },
   {
    "duration": 40,
    "start_time": "2022-10-05T06:30:27.042Z"
   },
   {
    "duration": 10,
    "start_time": "2022-10-05T06:30:27.083Z"
   },
   {
    "duration": 224,
    "start_time": "2022-10-05T06:30:27.094Z"
   },
   {
    "duration": 8,
    "start_time": "2022-10-05T06:30:27.321Z"
   },
   {
    "duration": 410,
    "start_time": "2022-10-05T06:30:27.331Z"
   },
   {
    "duration": 11,
    "start_time": "2022-10-05T06:30:27.742Z"
   },
   {
    "duration": 11,
    "start_time": "2022-10-05T06:30:27.755Z"
   },
   {
    "duration": 163,
    "start_time": "2022-10-05T06:30:27.768Z"
   },
   {
    "duration": 4,
    "start_time": "2022-10-05T06:30:27.933Z"
   },
   {
    "duration": 14,
    "start_time": "2022-10-05T06:30:27.939Z"
   },
   {
    "duration": 165,
    "start_time": "2022-10-05T06:30:27.955Z"
   },
   {
    "duration": 3,
    "start_time": "2022-10-05T06:30:28.122Z"
   },
   {
    "duration": 62,
    "start_time": "2022-10-05T06:30:28.127Z"
   },
   {
    "duration": 42,
    "start_time": "2022-10-05T06:30:28.191Z"
   },
   {
    "duration": 55,
    "start_time": "2022-10-05T06:30:28.235Z"
   },
   {
    "duration": 62,
    "start_time": "2022-10-05T06:30:28.292Z"
   },
   {
    "duration": 20,
    "start_time": "2022-10-05T06:30:28.355Z"
   },
   {
    "duration": 164,
    "start_time": "2022-10-05T06:30:28.377Z"
   },
   {
    "duration": 9,
    "start_time": "2022-10-05T06:30:28.543Z"
   },
   {
    "duration": 5,
    "start_time": "2022-10-05T06:30:28.553Z"
   },
   {
    "duration": 9,
    "start_time": "2022-10-05T06:30:28.560Z"
   },
   {
    "duration": 7,
    "start_time": "2022-10-05T06:30:28.571Z"
   },
   {
    "duration": 7,
    "start_time": "2022-10-05T06:30:28.579Z"
   },
   {
    "duration": 38,
    "start_time": "2022-10-05T06:30:28.587Z"
   },
   {
    "duration": 14,
    "start_time": "2022-10-05T06:30:28.626Z"
   },
   {
    "duration": 11,
    "start_time": "2022-10-05T06:31:35.049Z"
   },
   {
    "duration": 10,
    "start_time": "2022-10-05T06:31:59.801Z"
   },
   {
    "duration": 8,
    "start_time": "2022-10-05T06:32:44.264Z"
   },
   {
    "duration": 8,
    "start_time": "2022-10-05T06:32:58.653Z"
   },
   {
    "duration": 5,
    "start_time": "2022-10-05T06:34:02.472Z"
   },
   {
    "duration": 9,
    "start_time": "2022-10-05T06:34:23.553Z"
   },
   {
    "duration": 4,
    "start_time": "2022-10-05T06:35:45.665Z"
   },
   {
    "duration": 133,
    "start_time": "2022-10-05T06:38:18.345Z"
   },
   {
    "duration": 12,
    "start_time": "2022-10-05T06:38:43.509Z"
   },
   {
    "duration": 23,
    "start_time": "2022-10-05T06:39:06.502Z"
   },
   {
    "duration": 16,
    "start_time": "2022-10-05T06:39:28.082Z"
   },
   {
    "duration": 3,
    "start_time": "2022-10-05T06:39:36.365Z"
   },
   {
    "duration": 29,
    "start_time": "2022-10-05T06:39:36.370Z"
   },
   {
    "duration": 6,
    "start_time": "2022-10-05T06:39:36.401Z"
   },
   {
    "duration": 6,
    "start_time": "2022-10-05T06:39:36.409Z"
   },
   {
    "duration": 16,
    "start_time": "2022-10-05T06:39:36.416Z"
   },
   {
    "duration": 13,
    "start_time": "2022-10-05T06:39:36.434Z"
   },
   {
    "duration": 41,
    "start_time": "2022-10-05T06:39:36.449Z"
   },
   {
    "duration": 7,
    "start_time": "2022-10-05T06:39:36.491Z"
   },
   {
    "duration": 16,
    "start_time": "2022-10-05T06:39:36.500Z"
   },
   {
    "duration": 19,
    "start_time": "2022-10-05T06:39:36.517Z"
   },
   {
    "duration": 7,
    "start_time": "2022-10-05T06:39:36.538Z"
   },
   {
    "duration": 18,
    "start_time": "2022-10-05T06:39:36.546Z"
   },
   {
    "duration": 19,
    "start_time": "2022-10-05T06:39:36.565Z"
   },
   {
    "duration": 10,
    "start_time": "2022-10-05T06:39:36.585Z"
   },
   {
    "duration": 13,
    "start_time": "2022-10-05T06:39:36.596Z"
   },
   {
    "duration": 13,
    "start_time": "2022-10-05T06:39:36.610Z"
   },
   {
    "duration": 25,
    "start_time": "2022-10-05T06:39:36.624Z"
   },
   {
    "duration": 151,
    "start_time": "2022-10-05T06:39:36.650Z"
   },
   {
    "duration": 120,
    "start_time": "2022-10-05T06:39:36.802Z"
   },
   {
    "duration": 7,
    "start_time": "2022-10-05T06:39:36.923Z"
   },
   {
    "duration": 11,
    "start_time": "2022-10-05T06:39:36.932Z"
   },
   {
    "duration": 6,
    "start_time": "2022-10-05T06:39:36.944Z"
   },
   {
    "duration": 199,
    "start_time": "2022-10-05T06:39:36.951Z"
   },
   {
    "duration": 6,
    "start_time": "2022-10-05T06:39:37.151Z"
   },
   {
    "duration": 209,
    "start_time": "2022-10-05T06:39:37.158Z"
   },
   {
    "duration": 7,
    "start_time": "2022-10-05T06:39:37.368Z"
   },
   {
    "duration": 325,
    "start_time": "2022-10-05T06:39:37.376Z"
   },
   {
    "duration": 6,
    "start_time": "2022-10-05T06:39:37.702Z"
   },
   {
    "duration": 4,
    "start_time": "2022-10-05T06:39:37.721Z"
   },
   {
    "duration": 6,
    "start_time": "2022-10-05T06:39:37.726Z"
   },
   {
    "duration": 220,
    "start_time": "2022-10-05T06:39:37.734Z"
   },
   {
    "duration": 7,
    "start_time": "2022-10-05T06:39:37.955Z"
   },
   {
    "duration": 284,
    "start_time": "2022-10-05T06:39:37.964Z"
   },
   {
    "duration": 8,
    "start_time": "2022-10-05T06:39:38.250Z"
   },
   {
    "duration": 5,
    "start_time": "2022-10-05T06:39:38.260Z"
   },
   {
    "duration": 149,
    "start_time": "2022-10-05T06:39:38.266Z"
   },
   {
    "duration": 5,
    "start_time": "2022-10-05T06:39:38.421Z"
   },
   {
    "duration": 14,
    "start_time": "2022-10-05T06:39:38.427Z"
   },
   {
    "duration": 159,
    "start_time": "2022-10-05T06:39:38.443Z"
   },
   {
    "duration": 5,
    "start_time": "2022-10-05T06:39:38.603Z"
   },
   {
    "duration": 58,
    "start_time": "2022-10-05T06:39:38.609Z"
   },
   {
    "duration": 46,
    "start_time": "2022-10-05T06:39:38.669Z"
   },
   {
    "duration": 55,
    "start_time": "2022-10-05T06:39:38.717Z"
   },
   {
    "duration": 61,
    "start_time": "2022-10-05T06:39:38.774Z"
   },
   {
    "duration": 19,
    "start_time": "2022-10-05T06:39:38.836Z"
   },
   {
    "duration": 152,
    "start_time": "2022-10-05T06:39:38.857Z"
   },
   {
    "duration": 19,
    "start_time": "2022-10-05T06:39:39.010Z"
   },
   {
    "duration": 22,
    "start_time": "2022-10-05T06:39:39.030Z"
   },
   {
    "duration": 12,
    "start_time": "2022-10-05T06:39:39.054Z"
   },
   {
    "duration": 12,
    "start_time": "2022-10-05T06:39:39.068Z"
   },
   {
    "duration": 6,
    "start_time": "2022-10-05T06:39:39.082Z"
   },
   {
    "duration": 23,
    "start_time": "2022-10-05T06:39:39.090Z"
   },
   {
    "duration": 16,
    "start_time": "2022-10-05T06:39:39.115Z"
   },
   {
    "duration": 11,
    "start_time": "2022-10-05T06:40:57.705Z"
   },
   {
    "duration": 3,
    "start_time": "2022-10-05T06:41:31.182Z"
   },
   {
    "duration": 33,
    "start_time": "2022-10-05T06:41:31.187Z"
   },
   {
    "duration": 8,
    "start_time": "2022-10-05T06:41:31.222Z"
   },
   {
    "duration": 28,
    "start_time": "2022-10-05T06:41:31.233Z"
   },
   {
    "duration": 28,
    "start_time": "2022-10-05T06:41:31.263Z"
   },
   {
    "duration": 34,
    "start_time": "2022-10-05T06:41:31.292Z"
   },
   {
    "duration": 60,
    "start_time": "2022-10-05T06:41:31.328Z"
   },
   {
    "duration": 8,
    "start_time": "2022-10-05T06:41:31.389Z"
   },
   {
    "duration": 32,
    "start_time": "2022-10-05T06:41:31.399Z"
   },
   {
    "duration": 40,
    "start_time": "2022-10-05T06:41:31.433Z"
   },
   {
    "duration": 9,
    "start_time": "2022-10-05T06:41:31.475Z"
   },
   {
    "duration": 34,
    "start_time": "2022-10-05T06:41:31.485Z"
   },
   {
    "duration": 31,
    "start_time": "2022-10-05T06:41:31.520Z"
   },
   {
    "duration": 8,
    "start_time": "2022-10-05T06:41:31.553Z"
   },
   {
    "duration": 12,
    "start_time": "2022-10-05T06:41:31.563Z"
   },
   {
    "duration": 12,
    "start_time": "2022-10-05T06:41:31.577Z"
   },
   {
    "duration": 7,
    "start_time": "2022-10-05T06:41:31.591Z"
   },
   {
    "duration": 151,
    "start_time": "2022-10-05T06:41:31.600Z"
   },
   {
    "duration": 116,
    "start_time": "2022-10-05T06:41:31.752Z"
   },
   {
    "duration": 7,
    "start_time": "2022-10-05T06:41:31.869Z"
   },
   {
    "duration": 21,
    "start_time": "2022-10-05T06:41:31.877Z"
   },
   {
    "duration": 15,
    "start_time": "2022-10-05T06:41:31.900Z"
   },
   {
    "duration": 282,
    "start_time": "2022-10-05T06:41:31.916Z"
   },
   {
    "duration": 6,
    "start_time": "2022-10-05T06:41:32.200Z"
   },
   {
    "duration": 205,
    "start_time": "2022-10-05T06:41:32.207Z"
   },
   {
    "duration": 11,
    "start_time": "2022-10-05T06:41:32.414Z"
   },
   {
    "duration": 298,
    "start_time": "2022-10-05T06:41:32.426Z"
   },
   {
    "duration": 5,
    "start_time": "2022-10-05T06:41:32.725Z"
   },
   {
    "duration": 9,
    "start_time": "2022-10-05T06:41:32.732Z"
   },
   {
    "duration": 6,
    "start_time": "2022-10-05T06:41:32.743Z"
   },
   {
    "duration": 204,
    "start_time": "2022-10-05T06:41:32.751Z"
   },
   {
    "duration": 6,
    "start_time": "2022-10-05T06:41:32.957Z"
   },
   {
    "duration": 296,
    "start_time": "2022-10-05T06:41:32.965Z"
   },
   {
    "duration": 11,
    "start_time": "2022-10-05T06:41:33.263Z"
   },
   {
    "duration": 2,
    "start_time": "2022-10-05T06:41:33.276Z"
   },
   {
    "duration": 163,
    "start_time": "2022-10-05T06:41:33.280Z"
   },
   {
    "duration": 5,
    "start_time": "2022-10-05T06:41:33.445Z"
   },
   {
    "duration": 14,
    "start_time": "2022-10-05T06:41:33.452Z"
   },
   {
    "duration": 178,
    "start_time": "2022-10-05T06:41:33.468Z"
   },
   {
    "duration": 7,
    "start_time": "2022-10-05T06:41:33.648Z"
   },
   {
    "duration": 43,
    "start_time": "2022-10-05T06:41:33.657Z"
   },
   {
    "duration": 62,
    "start_time": "2022-10-05T06:41:33.701Z"
   },
   {
    "duration": 63,
    "start_time": "2022-10-05T06:41:33.765Z"
   },
   {
    "duration": 56,
    "start_time": "2022-10-05T06:41:33.829Z"
   },
   {
    "duration": 38,
    "start_time": "2022-10-05T06:41:33.886Z"
   },
   {
    "duration": 157,
    "start_time": "2022-10-05T06:41:33.926Z"
   },
   {
    "duration": 12,
    "start_time": "2022-10-05T06:41:34.085Z"
   },
   {
    "duration": 5,
    "start_time": "2022-10-05T06:41:34.098Z"
   },
   {
    "duration": 25,
    "start_time": "2022-10-05T06:41:34.105Z"
   },
   {
    "duration": 8,
    "start_time": "2022-10-05T06:41:34.132Z"
   },
   {
    "duration": 7,
    "start_time": "2022-10-05T06:41:34.142Z"
   },
   {
    "duration": 27,
    "start_time": "2022-10-05T06:41:34.150Z"
   },
   {
    "duration": 13,
    "start_time": "2022-10-05T06:41:34.179Z"
   },
   {
    "duration": 5,
    "start_time": "2022-10-05T06:47:44.950Z"
   },
   {
    "duration": 8,
    "start_time": "2022-10-05T06:48:15.120Z"
   },
   {
    "duration": 4,
    "start_time": "2022-10-05T06:49:05.723Z"
   },
   {
    "duration": 5,
    "start_time": "2022-10-05T06:49:30.920Z"
   },
   {
    "duration": 6,
    "start_time": "2022-10-05T06:49:57.776Z"
   },
   {
    "duration": 71,
    "start_time": "2022-10-05T06:52:27.713Z"
   },
   {
    "duration": 13,
    "start_time": "2022-10-05T06:52:47.897Z"
   },
   {
    "duration": 69,
    "start_time": "2022-10-05T06:53:32.860Z"
   },
   {
    "duration": 88,
    "start_time": "2022-10-05T06:53:39.245Z"
   },
   {
    "duration": 72,
    "start_time": "2022-10-05T06:53:54.696Z"
   },
   {
    "duration": 6,
    "start_time": "2022-10-05T06:53:59.902Z"
   },
   {
    "duration": 7,
    "start_time": "2022-10-05T06:54:20.570Z"
   },
   {
    "duration": 10,
    "start_time": "2022-10-05T06:56:29.632Z"
   },
   {
    "duration": 7,
    "start_time": "2022-10-05T07:08:20.834Z"
   },
   {
    "duration": 8,
    "start_time": "2022-10-05T07:08:28.741Z"
   },
   {
    "duration": 8,
    "start_time": "2022-10-05T07:08:52.441Z"
   },
   {
    "duration": 6,
    "start_time": "2022-10-05T07:09:10.902Z"
   },
   {
    "duration": 4,
    "start_time": "2022-10-05T07:09:59.874Z"
   },
   {
    "duration": 5,
    "start_time": "2022-10-05T07:11:39.939Z"
   },
   {
    "duration": 3,
    "start_time": "2022-10-05T07:13:46.367Z"
   },
   {
    "duration": 5,
    "start_time": "2022-10-05T07:14:00.701Z"
   },
   {
    "duration": 11,
    "start_time": "2022-10-05T07:14:26.245Z"
   },
   {
    "duration": 9,
    "start_time": "2022-10-05T07:14:49.340Z"
   },
   {
    "duration": 10,
    "start_time": "2022-10-05T07:17:36.396Z"
   },
   {
    "duration": 3,
    "start_time": "2022-10-05T07:18:14.228Z"
   },
   {
    "duration": 10,
    "start_time": "2022-10-05T07:18:17.660Z"
   },
   {
    "duration": 11,
    "start_time": "2022-10-05T07:18:21.364Z"
   },
   {
    "duration": 11,
    "start_time": "2022-10-05T07:18:42.245Z"
   },
   {
    "duration": 11,
    "start_time": "2022-10-05T07:19:41.537Z"
   },
   {
    "duration": 12,
    "start_time": "2022-10-05T07:20:18.124Z"
   },
   {
    "duration": 11,
    "start_time": "2022-10-05T07:20:26.554Z"
   },
   {
    "duration": 10,
    "start_time": "2022-10-05T07:20:58.096Z"
   },
   {
    "duration": 3,
    "start_time": "2022-10-05T07:21:25.073Z"
   },
   {
    "duration": 34,
    "start_time": "2022-10-05T07:21:25.078Z"
   },
   {
    "duration": 7,
    "start_time": "2022-10-05T07:21:25.114Z"
   },
   {
    "duration": 21,
    "start_time": "2022-10-05T07:21:25.123Z"
   },
   {
    "duration": 14,
    "start_time": "2022-10-05T07:21:25.145Z"
   },
   {
    "duration": 12,
    "start_time": "2022-10-05T07:21:25.160Z"
   },
   {
    "duration": 40,
    "start_time": "2022-10-05T07:21:25.174Z"
   },
   {
    "duration": 9,
    "start_time": "2022-10-05T07:21:25.215Z"
   },
   {
    "duration": 31,
    "start_time": "2022-10-05T07:21:25.225Z"
   },
   {
    "duration": 18,
    "start_time": "2022-10-05T07:21:25.262Z"
   },
   {
    "duration": 7,
    "start_time": "2022-10-05T07:21:25.281Z"
   },
   {
    "duration": 15,
    "start_time": "2022-10-05T07:21:25.289Z"
   },
   {
    "duration": 41,
    "start_time": "2022-10-05T07:21:25.306Z"
   },
   {
    "duration": 9,
    "start_time": "2022-10-05T07:21:25.349Z"
   },
   {
    "duration": 40,
    "start_time": "2022-10-05T07:21:25.362Z"
   },
   {
    "duration": 14,
    "start_time": "2022-10-05T07:21:25.404Z"
   },
   {
    "duration": 24,
    "start_time": "2022-10-05T07:21:25.419Z"
   },
   {
    "duration": 19,
    "start_time": "2022-10-05T07:21:25.445Z"
   },
   {
    "duration": 16,
    "start_time": "2022-10-05T07:21:25.466Z"
   },
   {
    "duration": 10,
    "start_time": "2022-10-05T07:21:25.484Z"
   },
   {
    "duration": 9,
    "start_time": "2022-10-05T07:21:25.495Z"
   },
   {
    "duration": 5,
    "start_time": "2022-10-05T07:21:25.506Z"
   },
   {
    "duration": 9,
    "start_time": "2022-10-05T07:21:25.513Z"
   },
   {
    "duration": 171,
    "start_time": "2022-10-05T07:21:25.524Z"
   },
   {
    "duration": 119,
    "start_time": "2022-10-05T07:21:25.696Z"
   },
   {
    "duration": 17,
    "start_time": "2022-10-05T07:21:25.816Z"
   },
   {
    "duration": 27,
    "start_time": "2022-10-05T07:21:25.835Z"
   },
   {
    "duration": 8,
    "start_time": "2022-10-05T07:21:25.864Z"
   },
   {
    "duration": 235,
    "start_time": "2022-10-05T07:21:25.874Z"
   },
   {
    "duration": 14,
    "start_time": "2022-10-05T07:21:26.111Z"
   },
   {
    "duration": 291,
    "start_time": "2022-10-05T07:21:26.127Z"
   },
   {
    "duration": 8,
    "start_time": "2022-10-05T07:21:26.419Z"
   },
   {
    "duration": 312,
    "start_time": "2022-10-05T07:21:26.429Z"
   },
   {
    "duration": 5,
    "start_time": "2022-10-05T07:21:26.742Z"
   },
   {
    "duration": 29,
    "start_time": "2022-10-05T07:21:26.748Z"
   },
   {
    "duration": 20,
    "start_time": "2022-10-05T07:21:26.778Z"
   },
   {
    "duration": 253,
    "start_time": "2022-10-05T07:21:26.800Z"
   },
   {
    "duration": 7,
    "start_time": "2022-10-05T07:21:27.054Z"
   },
   {
    "duration": 330,
    "start_time": "2022-10-05T07:21:27.065Z"
   },
   {
    "duration": 14,
    "start_time": "2022-10-05T07:21:27.397Z"
   },
   {
    "duration": 56,
    "start_time": "2022-10-05T07:21:27.412Z"
   },
   {
    "duration": 267,
    "start_time": "2022-10-05T07:21:27.470Z"
   },
   {
    "duration": 10,
    "start_time": "2022-10-05T07:21:27.738Z"
   },
   {
    "duration": 30,
    "start_time": "2022-10-05T07:21:27.750Z"
   },
   {
    "duration": 221,
    "start_time": "2022-10-05T07:21:27.782Z"
   },
   {
    "duration": 5,
    "start_time": "2022-10-05T07:21:28.005Z"
   },
   {
    "duration": 96,
    "start_time": "2022-10-05T07:21:28.012Z"
   },
   {
    "duration": 122,
    "start_time": "2022-10-05T07:21:28.111Z"
   },
   {
    "duration": 99,
    "start_time": "2022-10-05T07:21:28.235Z"
   },
   {
    "duration": 76,
    "start_time": "2022-10-05T07:21:28.340Z"
   },
   {
    "duration": 32,
    "start_time": "2022-10-05T07:21:28.417Z"
   },
   {
    "duration": 184,
    "start_time": "2022-10-05T07:21:28.451Z"
   },
   {
    "duration": 13,
    "start_time": "2022-10-05T07:21:28.638Z"
   },
   {
    "duration": 15,
    "start_time": "2022-10-05T07:21:28.653Z"
   },
   {
    "duration": 42,
    "start_time": "2022-10-05T07:21:28.670Z"
   },
   {
    "duration": 37,
    "start_time": "2022-10-05T07:21:28.714Z"
   },
   {
    "duration": 29,
    "start_time": "2022-10-05T07:21:28.753Z"
   },
   {
    "duration": 47,
    "start_time": "2022-10-05T07:21:28.784Z"
   },
   {
    "duration": 33,
    "start_time": "2022-10-05T07:21:28.833Z"
   },
   {
    "duration": 12,
    "start_time": "2022-10-05T07:21:51.336Z"
   },
   {
    "duration": 13,
    "start_time": "2022-10-05T07:21:53.289Z"
   },
   {
    "duration": 12,
    "start_time": "2022-10-05T07:34:06.130Z"
   },
   {
    "duration": 8,
    "start_time": "2022-10-05T07:34:22.781Z"
   },
   {
    "duration": 5,
    "start_time": "2022-10-05T07:34:25.040Z"
   },
   {
    "duration": 3,
    "start_time": "2022-10-05T07:56:12.365Z"
   },
   {
    "duration": 123,
    "start_time": "2022-10-05T07:56:34.799Z"
   },
   {
    "duration": 150,
    "start_time": "2022-10-05T07:59:30.083Z"
   },
   {
    "duration": 166,
    "start_time": "2022-10-05T08:00:01.772Z"
   },
   {
    "duration": 3,
    "start_time": "2022-10-05T09:25:30.722Z"
   },
   {
    "duration": 59,
    "start_time": "2022-10-05T09:25:30.732Z"
   },
   {
    "duration": 16,
    "start_time": "2022-10-05T09:25:30.793Z"
   },
   {
    "duration": 24,
    "start_time": "2022-10-05T09:25:30.811Z"
   },
   {
    "duration": 77,
    "start_time": "2022-10-05T09:25:30.837Z"
   },
   {
    "duration": 55,
    "start_time": "2022-10-05T09:25:30.916Z"
   },
   {
    "duration": 84,
    "start_time": "2022-10-05T09:25:30.972Z"
   },
   {
    "duration": 19,
    "start_time": "2022-10-05T09:25:31.058Z"
   },
   {
    "duration": 32,
    "start_time": "2022-10-05T09:25:31.079Z"
   },
   {
    "duration": 31,
    "start_time": "2022-10-05T09:25:31.113Z"
   },
   {
    "duration": 7,
    "start_time": "2022-10-05T09:25:31.146Z"
   },
   {
    "duration": 13,
    "start_time": "2022-10-05T09:25:31.155Z"
   },
   {
    "duration": 20,
    "start_time": "2022-10-05T09:25:31.169Z"
   },
   {
    "duration": 27,
    "start_time": "2022-10-05T09:25:31.191Z"
   },
   {
    "duration": 16,
    "start_time": "2022-10-05T09:25:31.221Z"
   },
   {
    "duration": 12,
    "start_time": "2022-10-05T09:25:31.239Z"
   },
   {
    "duration": 9,
    "start_time": "2022-10-05T09:25:31.253Z"
   },
   {
    "duration": 29,
    "start_time": "2022-10-05T09:25:31.263Z"
   },
   {
    "duration": 11,
    "start_time": "2022-10-05T09:25:31.294Z"
   },
   {
    "duration": 15,
    "start_time": "2022-10-05T09:25:31.307Z"
   },
   {
    "duration": 18,
    "start_time": "2022-10-05T09:25:31.324Z"
   },
   {
    "duration": 12,
    "start_time": "2022-10-05T09:25:31.344Z"
   },
   {
    "duration": 10,
    "start_time": "2022-10-05T09:25:31.358Z"
   },
   {
    "duration": 172,
    "start_time": "2022-10-05T09:25:31.370Z"
   },
   {
    "duration": 137,
    "start_time": "2022-10-05T09:25:31.544Z"
   },
   {
    "duration": 6,
    "start_time": "2022-10-05T09:25:31.683Z"
   },
   {
    "duration": 16,
    "start_time": "2022-10-05T09:25:31.691Z"
   },
   {
    "duration": 16,
    "start_time": "2022-10-05T09:25:31.709Z"
   },
   {
    "duration": 199,
    "start_time": "2022-10-05T09:25:31.727Z"
   },
   {
    "duration": 5,
    "start_time": "2022-10-05T09:25:31.928Z"
   },
   {
    "duration": 198,
    "start_time": "2022-10-05T09:25:31.935Z"
   },
   {
    "duration": 5,
    "start_time": "2022-10-05T09:25:32.135Z"
   },
   {
    "duration": 283,
    "start_time": "2022-10-05T09:25:32.141Z"
   },
   {
    "duration": 6,
    "start_time": "2022-10-05T09:25:32.426Z"
   },
   {
    "duration": 8,
    "start_time": "2022-10-05T09:25:32.434Z"
   },
   {
    "duration": 6,
    "start_time": "2022-10-05T09:25:32.444Z"
   },
   {
    "duration": 226,
    "start_time": "2022-10-05T09:25:32.452Z"
   },
   {
    "duration": 8,
    "start_time": "2022-10-05T09:25:32.680Z"
   },
   {
    "duration": 334,
    "start_time": "2022-10-05T09:25:32.690Z"
   },
   {
    "duration": 13,
    "start_time": "2022-10-05T09:25:33.026Z"
   },
   {
    "duration": 5,
    "start_time": "2022-10-05T09:25:33.041Z"
   },
   {
    "duration": 154,
    "start_time": "2022-10-05T09:25:33.049Z"
   },
   {
    "duration": 5,
    "start_time": "2022-10-05T09:25:33.205Z"
   },
   {
    "duration": 17,
    "start_time": "2022-10-05T09:25:33.211Z"
   },
   {
    "duration": 163,
    "start_time": "2022-10-05T09:25:33.230Z"
   },
   {
    "duration": 167,
    "start_time": "2022-10-05T09:25:33.395Z"
   },
   {
    "duration": 6,
    "start_time": "2022-10-05T09:25:33.563Z"
   },
   {
    "duration": 17,
    "start_time": "2022-10-05T09:25:33.570Z"
   },
   {
    "duration": 14,
    "start_time": "2022-10-05T09:25:33.589Z"
   },
   {
    "duration": 72,
    "start_time": "2022-10-05T09:25:33.605Z"
   },
   {
    "duration": 0,
    "start_time": "2022-10-05T09:25:33.679Z"
   },
   {
    "duration": 0,
    "start_time": "2022-10-05T09:25:33.680Z"
   },
   {
    "duration": 0,
    "start_time": "2022-10-05T09:25:33.681Z"
   },
   {
    "duration": 0,
    "start_time": "2022-10-05T09:25:33.683Z"
   },
   {
    "duration": 0,
    "start_time": "2022-10-05T09:25:33.684Z"
   },
   {
    "duration": 0,
    "start_time": "2022-10-05T09:25:33.686Z"
   },
   {
    "duration": 0,
    "start_time": "2022-10-05T09:25:33.687Z"
   },
   {
    "duration": 0,
    "start_time": "2022-10-05T09:25:33.689Z"
   },
   {
    "duration": 0,
    "start_time": "2022-10-05T09:25:33.690Z"
   },
   {
    "duration": 0,
    "start_time": "2022-10-05T09:25:33.691Z"
   },
   {
    "duration": 176,
    "start_time": "2022-10-05T09:25:54.066Z"
   },
   {
    "duration": 4,
    "start_time": "2022-10-05T09:26:18.940Z"
   },
   {
    "duration": 64,
    "start_time": "2022-10-05T09:26:18.945Z"
   },
   {
    "duration": 8,
    "start_time": "2022-10-05T09:26:19.010Z"
   },
   {
    "duration": 3,
    "start_time": "2022-10-05T09:26:19.067Z"
   },
   {
    "duration": 41,
    "start_time": "2022-10-05T09:26:19.071Z"
   },
   {
    "duration": 38,
    "start_time": "2022-10-05T09:26:19.114Z"
   },
   {
    "duration": 59,
    "start_time": "2022-10-05T09:26:19.155Z"
   },
   {
    "duration": 8,
    "start_time": "2022-10-05T09:26:19.216Z"
   },
   {
    "duration": 33,
    "start_time": "2022-10-05T09:26:19.225Z"
   },
   {
    "duration": 34,
    "start_time": "2022-10-05T09:26:19.260Z"
   },
   {
    "duration": 11,
    "start_time": "2022-10-05T09:26:19.296Z"
   },
   {
    "duration": 17,
    "start_time": "2022-10-05T09:26:19.309Z"
   },
   {
    "duration": 15,
    "start_time": "2022-10-05T09:26:19.329Z"
   },
   {
    "duration": 28,
    "start_time": "2022-10-05T09:26:19.346Z"
   },
   {
    "duration": 24,
    "start_time": "2022-10-05T09:26:19.376Z"
   },
   {
    "duration": 12,
    "start_time": "2022-10-05T09:26:19.402Z"
   },
   {
    "duration": 9,
    "start_time": "2022-10-05T09:26:19.415Z"
   },
   {
    "duration": 20,
    "start_time": "2022-10-05T09:26:19.425Z"
   },
   {
    "duration": 12,
    "start_time": "2022-10-05T09:26:19.446Z"
   },
   {
    "duration": 23,
    "start_time": "2022-10-05T09:26:19.460Z"
   },
   {
    "duration": 11,
    "start_time": "2022-10-05T09:26:19.485Z"
   },
   {
    "duration": 21,
    "start_time": "2022-10-05T09:26:19.497Z"
   },
   {
    "duration": 26,
    "start_time": "2022-10-05T09:26:19.520Z"
   },
   {
    "duration": 156,
    "start_time": "2022-10-05T09:26:19.547Z"
   },
   {
    "duration": 116,
    "start_time": "2022-10-05T09:26:19.705Z"
   },
   {
    "duration": 7,
    "start_time": "2022-10-05T09:26:19.823Z"
   },
   {
    "duration": 20,
    "start_time": "2022-10-05T09:26:19.832Z"
   },
   {
    "duration": 14,
    "start_time": "2022-10-05T09:26:19.854Z"
   },
   {
    "duration": 312,
    "start_time": "2022-10-05T09:26:19.869Z"
   },
   {
    "duration": 5,
    "start_time": "2022-10-05T09:26:20.183Z"
   },
   {
    "duration": 196,
    "start_time": "2022-10-05T09:26:20.191Z"
   },
   {
    "duration": 5,
    "start_time": "2022-10-05T09:26:20.389Z"
   },
   {
    "duration": 332,
    "start_time": "2022-10-05T09:26:20.396Z"
   },
   {
    "duration": 5,
    "start_time": "2022-10-05T09:26:20.730Z"
   },
   {
    "duration": 14,
    "start_time": "2022-10-05T09:26:20.737Z"
   },
   {
    "duration": 8,
    "start_time": "2022-10-05T09:26:20.753Z"
   },
   {
    "duration": 228,
    "start_time": "2022-10-05T09:26:20.763Z"
   },
   {
    "duration": 8,
    "start_time": "2022-10-05T09:26:20.993Z"
   },
   {
    "duration": 341,
    "start_time": "2022-10-05T09:26:21.002Z"
   },
   {
    "duration": 10,
    "start_time": "2022-10-05T09:26:21.345Z"
   },
   {
    "duration": 8,
    "start_time": "2022-10-05T09:26:21.357Z"
   },
   {
    "duration": 170,
    "start_time": "2022-10-05T09:26:21.366Z"
   },
   {
    "duration": 6,
    "start_time": "2022-10-05T09:26:21.538Z"
   },
   {
    "duration": 13,
    "start_time": "2022-10-05T09:26:21.546Z"
   },
   {
    "duration": 173,
    "start_time": "2022-10-05T09:26:21.561Z"
   },
   {
    "duration": 181,
    "start_time": "2022-10-05T09:26:21.735Z"
   },
   {
    "duration": 7,
    "start_time": "2022-10-05T09:26:21.917Z"
   },
   {
    "duration": 167,
    "start_time": "2022-10-05T09:26:21.926Z"
   },
   {
    "duration": 11,
    "start_time": "2022-10-05T09:26:22.095Z"
   },
   {
    "duration": 5,
    "start_time": "2022-10-05T09:26:22.121Z"
   },
   {
    "duration": 11,
    "start_time": "2022-10-05T09:26:22.128Z"
   },
   {
    "duration": 7,
    "start_time": "2022-10-05T09:26:22.141Z"
   },
   {
    "duration": 21,
    "start_time": "2022-10-05T09:26:22.149Z"
   },
   {
    "duration": 38,
    "start_time": "2022-10-05T09:26:22.172Z"
   },
   {
    "duration": 20,
    "start_time": "2022-10-05T09:26:22.224Z"
   },
   {
    "duration": 144,
    "start_time": "2022-10-05T09:50:14.907Z"
   },
   {
    "duration": 149,
    "start_time": "2022-10-05T09:50:25.604Z"
   },
   {
    "duration": 147,
    "start_time": "2022-10-05T09:51:09.038Z"
   },
   {
    "duration": 107,
    "start_time": "2022-10-05T09:54:07.416Z"
   },
   {
    "duration": 15,
    "start_time": "2022-10-05T09:55:05.991Z"
   },
   {
    "duration": 23,
    "start_time": "2022-10-05T09:55:25.988Z"
   },
   {
    "duration": 22,
    "start_time": "2022-10-05T09:58:27.658Z"
   },
   {
    "duration": 22,
    "start_time": "2022-10-05T09:58:48.604Z"
   },
   {
    "duration": 15,
    "start_time": "2022-10-05T10:02:12.838Z"
   },
   {
    "duration": 15,
    "start_time": "2022-10-05T10:02:26.606Z"
   },
   {
    "duration": 4,
    "start_time": "2022-10-05T10:02:37.305Z"
   },
   {
    "duration": 49,
    "start_time": "2022-10-05T10:02:37.311Z"
   },
   {
    "duration": 8,
    "start_time": "2022-10-05T10:02:37.361Z"
   },
   {
    "duration": 7,
    "start_time": "2022-10-05T10:02:37.371Z"
   },
   {
    "duration": 15,
    "start_time": "2022-10-05T10:02:37.380Z"
   },
   {
    "duration": 16,
    "start_time": "2022-10-05T10:02:37.396Z"
   },
   {
    "duration": 46,
    "start_time": "2022-10-05T10:02:37.413Z"
   },
   {
    "duration": 8,
    "start_time": "2022-10-05T10:02:37.461Z"
   },
   {
    "duration": 14,
    "start_time": "2022-10-05T10:02:37.470Z"
   },
   {
    "duration": 22,
    "start_time": "2022-10-05T10:02:37.486Z"
   },
   {
    "duration": 7,
    "start_time": "2022-10-05T10:02:37.510Z"
   },
   {
    "duration": 11,
    "start_time": "2022-10-05T10:02:37.519Z"
   },
   {
    "duration": 15,
    "start_time": "2022-10-05T10:02:37.532Z"
   },
   {
    "duration": 14,
    "start_time": "2022-10-05T10:02:37.548Z"
   },
   {
    "duration": 20,
    "start_time": "2022-10-05T10:02:37.563Z"
   },
   {
    "duration": 19,
    "start_time": "2022-10-05T10:02:37.584Z"
   },
   {
    "duration": 5,
    "start_time": "2022-10-05T10:02:37.604Z"
   },
   {
    "duration": 13,
    "start_time": "2022-10-05T10:02:37.611Z"
   },
   {
    "duration": 13,
    "start_time": "2022-10-05T10:02:37.625Z"
   },
   {
    "duration": 9,
    "start_time": "2022-10-05T10:02:37.640Z"
   },
   {
    "duration": 9,
    "start_time": "2022-10-05T10:02:37.651Z"
   },
   {
    "duration": 9,
    "start_time": "2022-10-05T10:02:37.662Z"
   },
   {
    "duration": 9,
    "start_time": "2022-10-05T10:02:37.672Z"
   },
   {
    "duration": 171,
    "start_time": "2022-10-05T10:02:37.682Z"
   },
   {
    "duration": 121,
    "start_time": "2022-10-05T10:02:37.855Z"
   },
   {
    "duration": 6,
    "start_time": "2022-10-05T10:02:37.978Z"
   },
   {
    "duration": 14,
    "start_time": "2022-10-05T10:02:37.985Z"
   },
   {
    "duration": 7,
    "start_time": "2022-10-05T10:02:38.001Z"
   },
   {
    "duration": 202,
    "start_time": "2022-10-05T10:02:38.009Z"
   },
   {
    "duration": 5,
    "start_time": "2022-10-05T10:02:38.213Z"
   },
   {
    "duration": 189,
    "start_time": "2022-10-05T10:02:38.222Z"
   },
   {
    "duration": 12,
    "start_time": "2022-10-05T10:02:38.412Z"
   },
   {
    "duration": 296,
    "start_time": "2022-10-05T10:02:38.425Z"
   },
   {
    "duration": 5,
    "start_time": "2022-10-05T10:02:38.723Z"
   },
   {
    "duration": 21,
    "start_time": "2022-10-05T10:02:38.729Z"
   },
   {
    "duration": 22,
    "start_time": "2022-10-05T10:02:38.752Z"
   },
   {
    "duration": 215,
    "start_time": "2022-10-05T10:02:38.777Z"
   },
   {
    "duration": 7,
    "start_time": "2022-10-05T10:02:38.994Z"
   },
   {
    "duration": 335,
    "start_time": "2022-10-05T10:02:39.002Z"
   },
   {
    "duration": 11,
    "start_time": "2022-10-05T10:02:39.338Z"
   },
   {
    "duration": 4,
    "start_time": "2022-10-05T10:02:39.351Z"
   },
   {
    "duration": 157,
    "start_time": "2022-10-05T10:02:39.356Z"
   },
   {
    "duration": 4,
    "start_time": "2022-10-05T10:02:39.521Z"
   },
   {
    "duration": 11,
    "start_time": "2022-10-05T10:02:39.527Z"
   },
   {
    "duration": 161,
    "start_time": "2022-10-05T10:02:39.540Z"
   },
   {
    "duration": 167,
    "start_time": "2022-10-05T10:02:39.702Z"
   },
   {
    "duration": 6,
    "start_time": "2022-10-05T10:02:39.870Z"
   },
   {
    "duration": 262,
    "start_time": "2022-10-05T10:02:39.877Z"
   },
   {
    "duration": 11,
    "start_time": "2022-10-05T10:02:40.140Z"
   },
   {
    "duration": 5,
    "start_time": "2022-10-05T10:02:40.153Z"
   },
   {
    "duration": 12,
    "start_time": "2022-10-05T10:02:40.159Z"
   },
   {
    "duration": 13,
    "start_time": "2022-10-05T10:02:40.173Z"
   },
   {
    "duration": 16,
    "start_time": "2022-10-05T10:02:40.188Z"
   },
   {
    "duration": 32,
    "start_time": "2022-10-05T10:02:40.205Z"
   },
   {
    "duration": 15,
    "start_time": "2022-10-05T10:02:40.239Z"
   },
   {
    "duration": 1362,
    "start_time": "2022-10-05T16:16:10.597Z"
   },
   {
    "duration": 63,
    "start_time": "2022-10-05T16:16:11.961Z"
   },
   {
    "duration": 12,
    "start_time": "2022-10-05T16:16:12.026Z"
   },
   {
    "duration": 4,
    "start_time": "2022-10-05T16:16:12.040Z"
   },
   {
    "duration": 14,
    "start_time": "2022-10-05T16:16:12.046Z"
   },
   {
    "duration": 11,
    "start_time": "2022-10-05T16:16:12.062Z"
   },
   {
    "duration": 87,
    "start_time": "2022-10-05T16:16:12.074Z"
   },
   {
    "duration": 9,
    "start_time": "2022-10-05T16:16:12.162Z"
   },
   {
    "duration": 21,
    "start_time": "2022-10-05T16:16:12.172Z"
   },
   {
    "duration": 60,
    "start_time": "2022-10-05T16:16:12.195Z"
   },
   {
    "duration": 7,
    "start_time": "2022-10-05T16:16:12.257Z"
   },
   {
    "duration": 13,
    "start_time": "2022-10-05T16:16:12.266Z"
   },
   {
    "duration": 17,
    "start_time": "2022-10-05T16:16:12.280Z"
   },
   {
    "duration": 16,
    "start_time": "2022-10-05T16:16:12.298Z"
   },
   {
    "duration": 13,
    "start_time": "2022-10-05T16:16:12.316Z"
   },
   {
    "duration": 24,
    "start_time": "2022-10-05T16:16:12.331Z"
   },
   {
    "duration": 24,
    "start_time": "2022-10-05T16:16:12.357Z"
   },
   {
    "duration": 18,
    "start_time": "2022-10-05T16:16:12.383Z"
   },
   {
    "duration": 13,
    "start_time": "2022-10-05T16:16:12.403Z"
   },
   {
    "duration": 19,
    "start_time": "2022-10-05T16:16:12.417Z"
   },
   {
    "duration": 35,
    "start_time": "2022-10-05T16:16:12.438Z"
   },
   {
    "duration": 14,
    "start_time": "2022-10-05T16:16:12.474Z"
   },
   {
    "duration": 31,
    "start_time": "2022-10-05T16:16:12.490Z"
   },
   {
    "duration": 180,
    "start_time": "2022-10-05T16:16:12.523Z"
   },
   {
    "duration": 125,
    "start_time": "2022-10-05T16:16:12.705Z"
   },
   {
    "duration": 7,
    "start_time": "2022-10-05T16:16:12.832Z"
   },
   {
    "duration": 19,
    "start_time": "2022-10-05T16:16:12.841Z"
   },
   {
    "duration": 11,
    "start_time": "2022-10-05T16:16:12.864Z"
   },
   {
    "duration": 306,
    "start_time": "2022-10-05T16:16:12.876Z"
   },
   {
    "duration": 7,
    "start_time": "2022-10-05T16:16:13.184Z"
   },
   {
    "duration": 237,
    "start_time": "2022-10-05T16:16:13.192Z"
   },
   {
    "duration": 6,
    "start_time": "2022-10-05T16:16:13.431Z"
   },
   {
    "duration": 370,
    "start_time": "2022-10-05T16:16:13.439Z"
   },
   {
    "duration": 7,
    "start_time": "2022-10-05T16:16:13.811Z"
   },
   {
    "duration": 14,
    "start_time": "2022-10-05T16:16:13.819Z"
   },
   {
    "duration": 7,
    "start_time": "2022-10-05T16:16:13.835Z"
   },
   {
    "duration": 266,
    "start_time": "2022-10-05T16:16:13.854Z"
   },
   {
    "duration": 8,
    "start_time": "2022-10-05T16:16:14.122Z"
   },
   {
    "duration": 366,
    "start_time": "2022-10-05T16:16:14.131Z"
   },
   {
    "duration": 14,
    "start_time": "2022-10-05T16:16:14.498Z"
   },
   {
    "duration": 6,
    "start_time": "2022-10-05T16:16:14.514Z"
   },
   {
    "duration": 176,
    "start_time": "2022-10-05T16:16:14.521Z"
   },
   {
    "duration": 6,
    "start_time": "2022-10-05T16:16:14.698Z"
   },
   {
    "duration": 12,
    "start_time": "2022-10-05T16:16:14.705Z"
   },
   {
    "duration": 250,
    "start_time": "2022-10-05T16:16:14.719Z"
   },
   {
    "duration": 270,
    "start_time": "2022-10-05T16:16:14.971Z"
   },
   {
    "duration": 12,
    "start_time": "2022-10-05T16:16:15.243Z"
   },
   {
    "duration": 270,
    "start_time": "2022-10-05T16:16:15.257Z"
   },
   {
    "duration": 33,
    "start_time": "2022-10-05T16:16:15.529Z"
   },
   {
    "duration": 6,
    "start_time": "2022-10-05T16:16:15.563Z"
   },
   {
    "duration": 27,
    "start_time": "2022-10-05T16:16:15.570Z"
   },
   {
    "duration": 108,
    "start_time": "2022-10-05T16:16:15.600Z"
   },
   {
    "duration": 0,
    "start_time": "2022-10-05T16:16:15.710Z"
   },
   {
    "duration": 0,
    "start_time": "2022-10-05T16:16:15.711Z"
   },
   {
    "duration": 0,
    "start_time": "2022-10-05T16:16:15.713Z"
   },
   {
    "duration": 47,
    "start_time": "2022-10-06T05:53:23.597Z"
   },
   {
    "duration": 1201,
    "start_time": "2022-10-06T05:53:35.096Z"
   },
   {
    "duration": 64,
    "start_time": "2022-10-06T05:53:36.300Z"
   },
   {
    "duration": 15,
    "start_time": "2022-10-06T05:53:36.367Z"
   },
   {
    "duration": 5,
    "start_time": "2022-10-06T05:53:36.386Z"
   },
   {
    "duration": 13,
    "start_time": "2022-10-06T05:53:36.393Z"
   },
   {
    "duration": 9,
    "start_time": "2022-10-06T05:53:36.408Z"
   },
   {
    "duration": 86,
    "start_time": "2022-10-06T05:53:36.419Z"
   },
   {
    "duration": 8,
    "start_time": "2022-10-06T05:53:36.506Z"
   },
   {
    "duration": 13,
    "start_time": "2022-10-06T05:53:36.515Z"
   },
   {
    "duration": 57,
    "start_time": "2022-10-06T05:53:36.531Z"
   },
   {
    "duration": 6,
    "start_time": "2022-10-06T05:53:36.590Z"
   },
   {
    "duration": 13,
    "start_time": "2022-10-06T05:53:36.598Z"
   },
   {
    "duration": 11,
    "start_time": "2022-10-06T05:53:36.613Z"
   },
   {
    "duration": 6,
    "start_time": "2022-10-06T05:53:36.626Z"
   },
   {
    "duration": 11,
    "start_time": "2022-10-06T05:53:36.634Z"
   },
   {
    "duration": 11,
    "start_time": "2022-10-06T05:53:36.646Z"
   },
   {
    "duration": 5,
    "start_time": "2022-10-06T05:53:36.659Z"
   },
   {
    "duration": 12,
    "start_time": "2022-10-06T05:53:36.665Z"
   },
   {
    "duration": 8,
    "start_time": "2022-10-06T05:53:36.678Z"
   },
   {
    "duration": 9,
    "start_time": "2022-10-06T05:53:36.688Z"
   },
   {
    "duration": 39,
    "start_time": "2022-10-06T05:53:36.698Z"
   },
   {
    "duration": 3,
    "start_time": "2022-10-06T05:53:36.739Z"
   },
   {
    "duration": 7,
    "start_time": "2022-10-06T05:53:36.744Z"
   },
   {
    "duration": 160,
    "start_time": "2022-10-06T05:53:36.752Z"
   },
   {
    "duration": 121,
    "start_time": "2022-10-06T05:53:36.914Z"
   },
   {
    "duration": 6,
    "start_time": "2022-10-06T05:53:37.036Z"
   },
   {
    "duration": 13,
    "start_time": "2022-10-06T05:53:37.043Z"
   },
   {
    "duration": 7,
    "start_time": "2022-10-06T05:53:37.059Z"
   },
   {
    "duration": 280,
    "start_time": "2022-10-06T05:53:37.067Z"
   },
   {
    "duration": 6,
    "start_time": "2022-10-06T05:53:37.348Z"
   },
   {
    "duration": 198,
    "start_time": "2022-10-06T05:53:37.355Z"
   },
   {
    "duration": 6,
    "start_time": "2022-10-06T05:53:37.554Z"
   },
   {
    "duration": 319,
    "start_time": "2022-10-06T05:53:37.562Z"
   },
   {
    "duration": 5,
    "start_time": "2022-10-06T05:53:37.882Z"
   },
   {
    "duration": 10,
    "start_time": "2022-10-06T05:53:37.889Z"
   },
   {
    "duration": 7,
    "start_time": "2022-10-06T05:53:37.900Z"
   },
   {
    "duration": 207,
    "start_time": "2022-10-06T05:53:37.908Z"
   },
   {
    "duration": 7,
    "start_time": "2022-10-06T05:53:38.117Z"
   },
   {
    "duration": 327,
    "start_time": "2022-10-06T05:53:38.134Z"
   },
   {
    "duration": 11,
    "start_time": "2022-10-06T05:53:38.462Z"
   },
   {
    "duration": 2,
    "start_time": "2022-10-06T05:53:38.474Z"
   },
   {
    "duration": 157,
    "start_time": "2022-10-06T05:53:38.478Z"
   },
   {
    "duration": 5,
    "start_time": "2022-10-06T05:53:38.637Z"
   },
   {
    "duration": 10,
    "start_time": "2022-10-06T05:53:38.644Z"
   },
   {
    "duration": 184,
    "start_time": "2022-10-06T05:53:38.656Z"
   },
   {
    "duration": 169,
    "start_time": "2022-10-06T05:53:38.842Z"
   },
   {
    "duration": 5,
    "start_time": "2022-10-06T05:53:39.013Z"
   },
   {
    "duration": 256,
    "start_time": "2022-10-06T05:53:39.020Z"
   },
   {
    "duration": 11,
    "start_time": "2022-10-06T05:53:39.278Z"
   },
   {
    "duration": 7,
    "start_time": "2022-10-06T05:53:39.290Z"
   },
   {
    "duration": 8,
    "start_time": "2022-10-06T05:53:39.299Z"
   },
   {
    "duration": 77,
    "start_time": "2022-10-06T05:53:39.309Z"
   },
   {
    "duration": 0,
    "start_time": "2022-10-06T05:53:39.387Z"
   },
   {
    "duration": 0,
    "start_time": "2022-10-06T05:53:39.388Z"
   },
   {
    "duration": 0,
    "start_time": "2022-10-06T05:53:39.390Z"
   },
   {
    "duration": 0,
    "start_time": "2022-10-06T05:53:39.391Z"
   },
   {
    "duration": 10,
    "start_time": "2022-10-06T05:54:14.895Z"
   },
   {
    "duration": 940,
    "start_time": "2022-10-06T05:54:26.093Z"
   },
   {
    "duration": 3,
    "start_time": "2022-10-06T05:55:46.399Z"
   },
   {
    "duration": 3,
    "start_time": "2022-10-06T05:55:54.081Z"
   },
   {
    "duration": 34,
    "start_time": "2022-10-06T05:55:54.086Z"
   },
   {
    "duration": 9,
    "start_time": "2022-10-06T05:55:54.122Z"
   },
   {
    "duration": 10,
    "start_time": "2022-10-06T05:55:54.132Z"
   },
   {
    "duration": 19,
    "start_time": "2022-10-06T05:55:54.144Z"
   },
   {
    "duration": 17,
    "start_time": "2022-10-06T05:55:54.165Z"
   },
   {
    "duration": 45,
    "start_time": "2022-10-06T05:55:54.184Z"
   },
   {
    "duration": 7,
    "start_time": "2022-10-06T05:55:54.231Z"
   },
   {
    "duration": 13,
    "start_time": "2022-10-06T05:55:54.239Z"
   },
   {
    "duration": 30,
    "start_time": "2022-10-06T05:55:54.254Z"
   },
   {
    "duration": 7,
    "start_time": "2022-10-06T05:55:54.287Z"
   },
   {
    "duration": 13,
    "start_time": "2022-10-06T05:55:54.296Z"
   },
   {
    "duration": 14,
    "start_time": "2022-10-06T05:55:54.310Z"
   },
   {
    "duration": 8,
    "start_time": "2022-10-06T05:55:54.325Z"
   },
   {
    "duration": 13,
    "start_time": "2022-10-06T05:55:54.334Z"
   },
   {
    "duration": 16,
    "start_time": "2022-10-06T05:55:54.349Z"
   },
   {
    "duration": 11,
    "start_time": "2022-10-06T05:55:54.366Z"
   },
   {
    "duration": 13,
    "start_time": "2022-10-06T05:55:54.378Z"
   },
   {
    "duration": 8,
    "start_time": "2022-10-06T05:55:54.392Z"
   },
   {
    "duration": 18,
    "start_time": "2022-10-06T05:55:54.402Z"
   },
   {
    "duration": 16,
    "start_time": "2022-10-06T05:55:54.421Z"
   },
   {
    "duration": 6,
    "start_time": "2022-10-06T05:55:54.438Z"
   },
   {
    "duration": 8,
    "start_time": "2022-10-06T05:55:54.445Z"
   },
   {
    "duration": 161,
    "start_time": "2022-10-06T05:55:54.454Z"
   },
   {
    "duration": 145,
    "start_time": "2022-10-06T05:55:54.617Z"
   },
   {
    "duration": 7,
    "start_time": "2022-10-06T05:55:54.763Z"
   },
   {
    "duration": 14,
    "start_time": "2022-10-06T05:55:54.772Z"
   },
   {
    "duration": 12,
    "start_time": "2022-10-06T05:55:54.788Z"
   },
   {
    "duration": 211,
    "start_time": "2022-10-06T05:55:54.803Z"
   },
   {
    "duration": 6,
    "start_time": "2022-10-06T05:55:55.015Z"
   },
   {
    "duration": 217,
    "start_time": "2022-10-06T05:55:55.023Z"
   },
   {
    "duration": 6,
    "start_time": "2022-10-06T05:55:55.241Z"
   },
   {
    "duration": 302,
    "start_time": "2022-10-06T05:55:55.249Z"
   },
   {
    "duration": 6,
    "start_time": "2022-10-06T05:55:55.552Z"
   },
   {
    "duration": 8,
    "start_time": "2022-10-06T05:55:55.559Z"
   },
   {
    "duration": 8,
    "start_time": "2022-10-06T05:55:55.569Z"
   },
   {
    "duration": 225,
    "start_time": "2022-10-06T05:55:55.578Z"
   },
   {
    "duration": 8,
    "start_time": "2022-10-06T05:55:55.804Z"
   },
   {
    "duration": 353,
    "start_time": "2022-10-06T05:55:55.814Z"
   },
   {
    "duration": 13,
    "start_time": "2022-10-06T05:55:56.169Z"
   },
   {
    "duration": 18,
    "start_time": "2022-10-06T05:55:56.184Z"
   },
   {
    "duration": 183,
    "start_time": "2022-10-06T05:55:56.204Z"
   },
   {
    "duration": 5,
    "start_time": "2022-10-06T05:55:56.390Z"
   },
   {
    "duration": 12,
    "start_time": "2022-10-06T05:55:56.397Z"
   },
   {
    "duration": 174,
    "start_time": "2022-10-06T05:55:56.410Z"
   },
   {
    "duration": 173,
    "start_time": "2022-10-06T05:55:56.586Z"
   },
   {
    "duration": 5,
    "start_time": "2022-10-06T05:55:56.761Z"
   },
   {
    "duration": 167,
    "start_time": "2022-10-06T05:55:56.767Z"
   },
   {
    "duration": 11,
    "start_time": "2022-10-06T05:55:56.936Z"
   },
   {
    "duration": 5,
    "start_time": "2022-10-06T05:55:56.948Z"
   },
   {
    "duration": 8,
    "start_time": "2022-10-06T05:55:56.954Z"
   },
   {
    "duration": 6,
    "start_time": "2022-10-06T05:55:56.964Z"
   },
   {
    "duration": 714,
    "start_time": "2022-10-06T05:55:56.972Z"
   },
   {
    "duration": 0,
    "start_time": "2022-10-06T05:55:57.688Z"
   },
   {
    "duration": 0,
    "start_time": "2022-10-06T05:55:57.689Z"
   },
   {
    "duration": 0,
    "start_time": "2022-10-06T05:55:57.690Z"
   },
   {
    "duration": 0,
    "start_time": "2022-10-06T05:55:57.691Z"
   },
   {
    "duration": 8,
    "start_time": "2022-10-06T05:57:46.190Z"
   },
   {
    "duration": 8,
    "start_time": "2022-10-06T05:58:26.294Z"
   },
   {
    "duration": 4,
    "start_time": "2022-10-06T05:58:45.902Z"
   },
   {
    "duration": 33,
    "start_time": "2022-10-06T05:58:45.907Z"
   },
   {
    "duration": 8,
    "start_time": "2022-10-06T05:58:45.942Z"
   },
   {
    "duration": 8,
    "start_time": "2022-10-06T05:58:45.951Z"
   },
   {
    "duration": 17,
    "start_time": "2022-10-06T05:58:45.960Z"
   },
   {
    "duration": 14,
    "start_time": "2022-10-06T05:58:45.978Z"
   },
   {
    "duration": 45,
    "start_time": "2022-10-06T05:58:45.994Z"
   },
   {
    "duration": 8,
    "start_time": "2022-10-06T05:58:46.041Z"
   },
   {
    "duration": 10,
    "start_time": "2022-10-06T05:58:46.052Z"
   },
   {
    "duration": 21,
    "start_time": "2022-10-06T05:58:46.064Z"
   },
   {
    "duration": 8,
    "start_time": "2022-10-06T05:58:46.086Z"
   },
   {
    "duration": 11,
    "start_time": "2022-10-06T05:58:46.095Z"
   },
   {
    "duration": 29,
    "start_time": "2022-10-06T05:58:46.108Z"
   },
   {
    "duration": 8,
    "start_time": "2022-10-06T05:58:46.138Z"
   },
   {
    "duration": 18,
    "start_time": "2022-10-06T05:58:46.147Z"
   },
   {
    "duration": 14,
    "start_time": "2022-10-06T05:58:46.167Z"
   },
   {
    "duration": 6,
    "start_time": "2022-10-06T05:58:46.182Z"
   },
   {
    "duration": 16,
    "start_time": "2022-10-06T05:58:46.190Z"
   },
   {
    "duration": 31,
    "start_time": "2022-10-06T05:58:46.208Z"
   },
   {
    "duration": 12,
    "start_time": "2022-10-06T05:58:46.241Z"
   },
   {
    "duration": 10,
    "start_time": "2022-10-06T05:58:46.255Z"
   },
   {
    "duration": 8,
    "start_time": "2022-10-06T05:58:46.267Z"
   },
   {
    "duration": 11,
    "start_time": "2022-10-06T05:58:46.277Z"
   },
   {
    "duration": 214,
    "start_time": "2022-10-06T05:58:46.292Z"
   },
   {
    "duration": 112,
    "start_time": "2022-10-06T05:58:46.508Z"
   },
   {
    "duration": 13,
    "start_time": "2022-10-06T05:58:46.622Z"
   },
   {
    "duration": 12,
    "start_time": "2022-10-06T05:58:46.637Z"
   },
   {
    "duration": 8,
    "start_time": "2022-10-06T05:58:46.651Z"
   },
   {
    "duration": 214,
    "start_time": "2022-10-06T05:58:46.660Z"
   },
   {
    "duration": 6,
    "start_time": "2022-10-06T05:58:46.876Z"
   },
   {
    "duration": 204,
    "start_time": "2022-10-06T05:58:46.884Z"
   },
   {
    "duration": 6,
    "start_time": "2022-10-06T05:58:47.090Z"
   },
   {
    "duration": 356,
    "start_time": "2022-10-06T05:58:47.097Z"
   },
   {
    "duration": 5,
    "start_time": "2022-10-06T05:58:47.455Z"
   },
   {
    "duration": 6,
    "start_time": "2022-10-06T05:58:47.462Z"
   },
   {
    "duration": 27,
    "start_time": "2022-10-06T05:58:47.470Z"
   },
   {
    "duration": 220,
    "start_time": "2022-10-06T05:58:47.498Z"
   },
   {
    "duration": 15,
    "start_time": "2022-10-06T05:58:47.719Z"
   },
   {
    "duration": 321,
    "start_time": "2022-10-06T05:58:47.736Z"
   },
   {
    "duration": 10,
    "start_time": "2022-10-06T05:58:48.058Z"
   },
   {
    "duration": 3,
    "start_time": "2022-10-06T05:58:48.069Z"
   },
   {
    "duration": 173,
    "start_time": "2022-10-06T05:58:48.073Z"
   },
   {
    "duration": 5,
    "start_time": "2022-10-06T05:58:48.248Z"
   },
   {
    "duration": 14,
    "start_time": "2022-10-06T05:58:48.255Z"
   },
   {
    "duration": 172,
    "start_time": "2022-10-06T05:58:48.270Z"
   },
   {
    "duration": 171,
    "start_time": "2022-10-06T05:58:48.443Z"
   },
   {
    "duration": 5,
    "start_time": "2022-10-06T05:58:48.617Z"
   },
   {
    "duration": 173,
    "start_time": "2022-10-06T05:58:48.633Z"
   },
   {
    "duration": 12,
    "start_time": "2022-10-06T05:58:48.808Z"
   },
   {
    "duration": 14,
    "start_time": "2022-10-06T05:58:48.822Z"
   },
   {
    "duration": 11,
    "start_time": "2022-10-06T05:58:48.837Z"
   },
   {
    "duration": 22,
    "start_time": "2022-10-06T05:58:48.849Z"
   },
   {
    "duration": 13,
    "start_time": "2022-10-06T05:58:48.872Z"
   },
   {
    "duration": 28,
    "start_time": "2022-10-06T05:58:48.886Z"
   },
   {
    "duration": 21,
    "start_time": "2022-10-06T05:58:48.915Z"
   },
   {
    "duration": 17,
    "start_time": "2022-10-06T06:01:11.627Z"
   },
   {
    "duration": 1187,
    "start_time": "2022-10-06T06:02:07.609Z"
   },
   {
    "duration": 29,
    "start_time": "2022-10-06T06:02:08.799Z"
   },
   {
    "duration": 11,
    "start_time": "2022-10-06T06:02:08.830Z"
   },
   {
    "duration": 8,
    "start_time": "2022-10-06T06:02:08.843Z"
   },
   {
    "duration": 19,
    "start_time": "2022-10-06T06:02:08.852Z"
   },
   {
    "duration": 10,
    "start_time": "2022-10-06T06:02:08.872Z"
   },
   {
    "duration": 42,
    "start_time": "2022-10-06T06:02:08.884Z"
   },
   {
    "duration": 9,
    "start_time": "2022-10-06T06:02:08.927Z"
   },
   {
    "duration": 16,
    "start_time": "2022-10-06T06:02:08.938Z"
   },
   {
    "duration": 18,
    "start_time": "2022-10-06T06:02:08.958Z"
   },
   {
    "duration": 10,
    "start_time": "2022-10-06T06:02:08.978Z"
   },
   {
    "duration": 16,
    "start_time": "2022-10-06T06:02:08.990Z"
   },
   {
    "duration": 27,
    "start_time": "2022-10-06T06:02:09.008Z"
   },
   {
    "duration": 11,
    "start_time": "2022-10-06T06:02:09.037Z"
   },
   {
    "duration": 15,
    "start_time": "2022-10-06T06:02:09.050Z"
   },
   {
    "duration": 21,
    "start_time": "2022-10-06T06:02:09.066Z"
   },
   {
    "duration": 14,
    "start_time": "2022-10-06T06:02:09.089Z"
   },
   {
    "duration": 21,
    "start_time": "2022-10-06T06:02:09.105Z"
   },
   {
    "duration": 20,
    "start_time": "2022-10-06T06:02:09.127Z"
   },
   {
    "duration": 11,
    "start_time": "2022-10-06T06:02:09.149Z"
   },
   {
    "duration": 12,
    "start_time": "2022-10-06T06:02:09.161Z"
   },
   {
    "duration": 5,
    "start_time": "2022-10-06T06:02:09.174Z"
   },
   {
    "duration": 12,
    "start_time": "2022-10-06T06:02:09.180Z"
   },
   {
    "duration": 177,
    "start_time": "2022-10-06T06:02:09.194Z"
   },
   {
    "duration": 124,
    "start_time": "2022-10-06T06:02:09.373Z"
   },
   {
    "duration": 8,
    "start_time": "2022-10-06T06:02:09.498Z"
   },
   {
    "duration": 30,
    "start_time": "2022-10-06T06:02:09.508Z"
   },
   {
    "duration": 6,
    "start_time": "2022-10-06T06:02:09.541Z"
   },
   {
    "duration": 300,
    "start_time": "2022-10-06T06:02:09.549Z"
   },
   {
    "duration": 6,
    "start_time": "2022-10-06T06:02:09.850Z"
   },
   {
    "duration": 216,
    "start_time": "2022-10-06T06:02:09.858Z"
   },
   {
    "duration": 6,
    "start_time": "2022-10-06T06:02:10.076Z"
   },
   {
    "duration": 312,
    "start_time": "2022-10-06T06:02:10.084Z"
   },
   {
    "duration": 6,
    "start_time": "2022-10-06T06:02:10.398Z"
   },
   {
    "duration": 10,
    "start_time": "2022-10-06T06:02:10.406Z"
   },
   {
    "duration": 17,
    "start_time": "2022-10-06T06:02:10.417Z"
   },
   {
    "duration": 235,
    "start_time": "2022-10-06T06:02:10.436Z"
   },
   {
    "duration": 7,
    "start_time": "2022-10-06T06:02:10.673Z"
   },
   {
    "duration": 315,
    "start_time": "2022-10-06T06:02:10.682Z"
   },
   {
    "duration": 14,
    "start_time": "2022-10-06T06:02:11.000Z"
   },
   {
    "duration": 3,
    "start_time": "2022-10-06T06:02:11.016Z"
   },
   {
    "duration": 167,
    "start_time": "2022-10-06T06:02:11.020Z"
   },
   {
    "duration": 5,
    "start_time": "2022-10-06T06:02:11.189Z"
   },
   {
    "duration": 14,
    "start_time": "2022-10-06T06:02:11.196Z"
   },
   {
    "duration": 186,
    "start_time": "2022-10-06T06:02:11.212Z"
   },
   {
    "duration": 257,
    "start_time": "2022-10-06T06:02:11.400Z"
   },
   {
    "duration": 6,
    "start_time": "2022-10-06T06:02:11.659Z"
   },
   {
    "duration": 257,
    "start_time": "2022-10-06T06:02:11.668Z"
   },
   {
    "duration": 16,
    "start_time": "2022-10-06T06:02:11.933Z"
   },
   {
    "duration": 9,
    "start_time": "2022-10-06T06:02:11.950Z"
   },
   {
    "duration": 10,
    "start_time": "2022-10-06T06:02:11.961Z"
   },
   {
    "duration": 7,
    "start_time": "2022-10-06T06:02:11.973Z"
   },
   {
    "duration": 11,
    "start_time": "2022-10-06T06:02:11.982Z"
   },
   {
    "duration": 50,
    "start_time": "2022-10-06T06:02:11.994Z"
   },
   {
    "duration": 17,
    "start_time": "2022-10-06T06:02:12.045Z"
   },
   {
    "duration": 3,
    "start_time": "2022-10-06T06:02:18.404Z"
   },
   {
    "duration": 33,
    "start_time": "2022-10-06T06:02:18.409Z"
   },
   {
    "duration": 7,
    "start_time": "2022-10-06T06:02:18.444Z"
   },
   {
    "duration": 5,
    "start_time": "2022-10-06T06:02:18.453Z"
   },
   {
    "duration": 12,
    "start_time": "2022-10-06T06:02:18.459Z"
   },
   {
    "duration": 13,
    "start_time": "2022-10-06T06:02:18.472Z"
   },
   {
    "duration": 39,
    "start_time": "2022-10-06T06:02:18.487Z"
   },
   {
    "duration": 7,
    "start_time": "2022-10-06T06:02:18.527Z"
   },
   {
    "duration": 15,
    "start_time": "2022-10-06T06:02:18.536Z"
   },
   {
    "duration": 19,
    "start_time": "2022-10-06T06:02:18.553Z"
   },
   {
    "duration": 7,
    "start_time": "2022-10-06T06:02:18.574Z"
   },
   {
    "duration": 11,
    "start_time": "2022-10-06T06:02:18.582Z"
   },
   {
    "duration": 12,
    "start_time": "2022-10-06T06:02:18.594Z"
   },
   {
    "duration": 10,
    "start_time": "2022-10-06T06:02:18.608Z"
   },
   {
    "duration": 17,
    "start_time": "2022-10-06T06:02:18.619Z"
   },
   {
    "duration": 18,
    "start_time": "2022-10-06T06:02:18.638Z"
   },
   {
    "duration": 13,
    "start_time": "2022-10-06T06:02:18.657Z"
   },
   {
    "duration": 11,
    "start_time": "2022-10-06T06:02:18.671Z"
   },
   {
    "duration": 8,
    "start_time": "2022-10-06T06:02:18.684Z"
   },
   {
    "duration": 9,
    "start_time": "2022-10-06T06:02:18.693Z"
   },
   {
    "duration": 32,
    "start_time": "2022-10-06T06:02:18.704Z"
   },
   {
    "duration": 6,
    "start_time": "2022-10-06T06:02:18.738Z"
   },
   {
    "duration": 14,
    "start_time": "2022-10-06T06:02:18.746Z"
   },
   {
    "duration": 158,
    "start_time": "2022-10-06T06:02:18.761Z"
   },
   {
    "duration": 121,
    "start_time": "2022-10-06T06:02:18.921Z"
   },
   {
    "duration": 6,
    "start_time": "2022-10-06T06:02:19.044Z"
   },
   {
    "duration": 15,
    "start_time": "2022-10-06T06:02:19.051Z"
   },
   {
    "duration": 14,
    "start_time": "2022-10-06T06:02:19.068Z"
   },
   {
    "duration": 210,
    "start_time": "2022-10-06T06:02:19.085Z"
   },
   {
    "duration": 8,
    "start_time": "2022-10-06T06:02:19.297Z"
   },
   {
    "duration": 209,
    "start_time": "2022-10-06T06:02:19.306Z"
   },
   {
    "duration": 6,
    "start_time": "2022-10-06T06:02:19.516Z"
   },
   {
    "duration": 340,
    "start_time": "2022-10-06T06:02:19.524Z"
   },
   {
    "duration": 5,
    "start_time": "2022-10-06T06:02:19.866Z"
   },
   {
    "duration": 8,
    "start_time": "2022-10-06T06:02:19.872Z"
   },
   {
    "duration": 6,
    "start_time": "2022-10-06T06:02:19.882Z"
   },
   {
    "duration": 216,
    "start_time": "2022-10-06T06:02:19.890Z"
   },
   {
    "duration": 7,
    "start_time": "2022-10-06T06:02:20.108Z"
   },
   {
    "duration": 364,
    "start_time": "2022-10-06T06:02:20.116Z"
   },
   {
    "duration": 11,
    "start_time": "2022-10-06T06:02:20.481Z"
   },
   {
    "duration": 2,
    "start_time": "2022-10-06T06:02:20.494Z"
   },
   {
    "duration": 157,
    "start_time": "2022-10-06T06:02:20.498Z"
   },
   {
    "duration": 4,
    "start_time": "2022-10-06T06:02:20.657Z"
   },
   {
    "duration": 17,
    "start_time": "2022-10-06T06:02:20.662Z"
   },
   {
    "duration": 162,
    "start_time": "2022-10-06T06:02:20.681Z"
   },
   {
    "duration": 171,
    "start_time": "2022-10-06T06:02:20.845Z"
   },
   {
    "duration": 16,
    "start_time": "2022-10-06T06:02:21.017Z"
   },
   {
    "duration": 150,
    "start_time": "2022-10-06T06:02:21.035Z"
   },
   {
    "duration": 13,
    "start_time": "2022-10-06T06:02:21.187Z"
   },
   {
    "duration": 6,
    "start_time": "2022-10-06T06:02:21.201Z"
   },
   {
    "duration": 26,
    "start_time": "2022-10-06T06:02:21.208Z"
   },
   {
    "duration": 24,
    "start_time": "2022-10-06T06:02:21.235Z"
   },
   {
    "duration": 9,
    "start_time": "2022-10-06T06:02:21.260Z"
   },
   {
    "duration": 28,
    "start_time": "2022-10-06T06:02:21.270Z"
   },
   {
    "duration": 14,
    "start_time": "2022-10-06T06:02:21.300Z"
   },
   {
    "duration": 6,
    "start_time": "2022-10-06T06:05:58.912Z"
   },
   {
    "duration": 1279,
    "start_time": "2022-10-06T09:01:14.269Z"
   },
   {
    "duration": 59,
    "start_time": "2022-10-06T09:01:15.550Z"
   },
   {
    "duration": 11,
    "start_time": "2022-10-06T09:01:15.611Z"
   },
   {
    "duration": 2,
    "start_time": "2022-10-06T09:01:15.624Z"
   },
   {
    "duration": 14,
    "start_time": "2022-10-06T09:01:15.628Z"
   },
   {
    "duration": 10,
    "start_time": "2022-10-06T09:01:15.644Z"
   },
   {
    "duration": 80,
    "start_time": "2022-10-06T09:01:15.656Z"
   },
   {
    "duration": 8,
    "start_time": "2022-10-06T09:01:15.737Z"
   },
   {
    "duration": 12,
    "start_time": "2022-10-06T09:01:15.746Z"
   },
   {
    "duration": 53,
    "start_time": "2022-10-06T09:01:15.761Z"
   },
   {
    "duration": 8,
    "start_time": "2022-10-06T09:01:15.816Z"
   },
   {
    "duration": 10,
    "start_time": "2022-10-06T09:01:15.825Z"
   },
   {
    "duration": 15,
    "start_time": "2022-10-06T09:01:15.836Z"
   },
   {
    "duration": 6,
    "start_time": "2022-10-06T09:01:15.852Z"
   },
   {
    "duration": 32,
    "start_time": "2022-10-06T09:01:15.860Z"
   },
   {
    "duration": 34,
    "start_time": "2022-10-06T09:01:15.893Z"
   },
   {
    "duration": 32,
    "start_time": "2022-10-06T09:01:15.928Z"
   },
   {
    "duration": 32,
    "start_time": "2022-10-06T09:01:15.961Z"
   },
   {
    "duration": 32,
    "start_time": "2022-10-06T09:01:15.994Z"
   },
   {
    "duration": 31,
    "start_time": "2022-10-06T09:01:16.028Z"
   },
   {
    "duration": 39,
    "start_time": "2022-10-06T09:01:16.061Z"
   },
   {
    "duration": 28,
    "start_time": "2022-10-06T09:01:16.101Z"
   },
   {
    "duration": 18,
    "start_time": "2022-10-06T09:01:16.130Z"
   },
   {
    "duration": 189,
    "start_time": "2022-10-06T09:01:16.149Z"
   },
   {
    "duration": 124,
    "start_time": "2022-10-06T09:01:16.340Z"
   },
   {
    "duration": 7,
    "start_time": "2022-10-06T09:01:16.466Z"
   },
   {
    "duration": 28,
    "start_time": "2022-10-06T09:01:16.475Z"
   },
   {
    "duration": 34,
    "start_time": "2022-10-06T09:01:16.507Z"
   },
   {
    "duration": 294,
    "start_time": "2022-10-06T09:01:16.543Z"
   },
   {
    "duration": 6,
    "start_time": "2022-10-06T09:01:16.838Z"
   },
   {
    "duration": 229,
    "start_time": "2022-10-06T09:01:16.845Z"
   },
   {
    "duration": 5,
    "start_time": "2022-10-06T09:01:17.076Z"
   },
   {
    "duration": 392,
    "start_time": "2022-10-06T09:01:17.083Z"
   },
   {
    "duration": 5,
    "start_time": "2022-10-06T09:01:17.476Z"
   },
   {
    "duration": 18,
    "start_time": "2022-10-06T09:01:17.483Z"
   },
   {
    "duration": 20,
    "start_time": "2022-10-06T09:01:17.502Z"
   },
   {
    "duration": 216,
    "start_time": "2022-10-06T09:01:17.524Z"
   },
   {
    "duration": 6,
    "start_time": "2022-10-06T09:01:17.742Z"
   },
   {
    "duration": 326,
    "start_time": "2022-10-06T09:01:17.750Z"
   },
   {
    "duration": 10,
    "start_time": "2022-10-06T09:01:18.078Z"
   },
   {
    "duration": 28,
    "start_time": "2022-10-06T09:01:18.090Z"
   },
   {
    "duration": 170,
    "start_time": "2022-10-06T09:01:18.119Z"
   },
   {
    "duration": 5,
    "start_time": "2022-10-06T09:01:18.290Z"
   },
   {
    "duration": 32,
    "start_time": "2022-10-06T09:01:18.297Z"
   },
   {
    "duration": 167,
    "start_time": "2022-10-06T09:01:18.330Z"
   },
   {
    "duration": 183,
    "start_time": "2022-10-06T09:01:18.498Z"
   },
   {
    "duration": 5,
    "start_time": "2022-10-06T09:01:18.683Z"
   },
   {
    "duration": 225,
    "start_time": "2022-10-06T09:01:18.690Z"
   },
   {
    "duration": 11,
    "start_time": "2022-10-06T09:01:18.917Z"
   },
   {
    "duration": 8,
    "start_time": "2022-10-06T09:01:18.930Z"
   },
   {
    "duration": 37,
    "start_time": "2022-10-06T09:01:18.939Z"
   },
   {
    "duration": 27,
    "start_time": "2022-10-06T09:01:18.977Z"
   },
   {
    "duration": 21,
    "start_time": "2022-10-06T09:01:19.005Z"
   },
   {
    "duration": 43,
    "start_time": "2022-10-06T09:01:19.028Z"
   },
   {
    "duration": 17,
    "start_time": "2022-10-06T09:01:19.073Z"
   },
   {
    "duration": 47,
    "start_time": "2022-10-07T05:24:05.931Z"
   },
   {
    "duration": 1088,
    "start_time": "2022-10-07T05:24:12.230Z"
   },
   {
    "duration": 59,
    "start_time": "2022-10-07T05:24:13.320Z"
   },
   {
    "duration": 10,
    "start_time": "2022-10-07T05:24:13.381Z"
   },
   {
    "duration": 14,
    "start_time": "2022-10-07T05:24:13.392Z"
   },
   {
    "duration": 822,
    "start_time": "2022-10-07T05:24:13.408Z"
   },
   {
    "duration": 0,
    "start_time": "2022-10-07T05:24:14.234Z"
   },
   {
    "duration": 0,
    "start_time": "2022-10-07T05:24:14.235Z"
   },
   {
    "duration": 0,
    "start_time": "2022-10-07T05:24:14.236Z"
   },
   {
    "duration": 0,
    "start_time": "2022-10-07T05:24:14.237Z"
   },
   {
    "duration": 0,
    "start_time": "2022-10-07T05:24:14.238Z"
   },
   {
    "duration": 0,
    "start_time": "2022-10-07T05:24:14.239Z"
   },
   {
    "duration": 0,
    "start_time": "2022-10-07T05:24:14.240Z"
   },
   {
    "duration": 0,
    "start_time": "2022-10-07T05:24:14.241Z"
   },
   {
    "duration": 0,
    "start_time": "2022-10-07T05:24:14.243Z"
   },
   {
    "duration": 0,
    "start_time": "2022-10-07T05:24:14.244Z"
   },
   {
    "duration": 0,
    "start_time": "2022-10-07T05:24:14.245Z"
   },
   {
    "duration": 0,
    "start_time": "2022-10-07T05:24:14.246Z"
   },
   {
    "duration": 0,
    "start_time": "2022-10-07T05:24:14.247Z"
   },
   {
    "duration": 0,
    "start_time": "2022-10-07T05:24:14.248Z"
   },
   {
    "duration": 0,
    "start_time": "2022-10-07T05:24:14.249Z"
   },
   {
    "duration": 0,
    "start_time": "2022-10-07T05:24:14.250Z"
   },
   {
    "duration": 0,
    "start_time": "2022-10-07T05:24:14.251Z"
   },
   {
    "duration": 0,
    "start_time": "2022-10-07T05:24:14.252Z"
   },
   {
    "duration": 0,
    "start_time": "2022-10-07T05:24:14.253Z"
   },
   {
    "duration": 0,
    "start_time": "2022-10-07T05:24:14.254Z"
   },
   {
    "duration": 0,
    "start_time": "2022-10-07T05:24:14.255Z"
   },
   {
    "duration": 0,
    "start_time": "2022-10-07T05:24:14.256Z"
   },
   {
    "duration": 0,
    "start_time": "2022-10-07T05:24:14.257Z"
   },
   {
    "duration": 0,
    "start_time": "2022-10-07T05:24:14.258Z"
   },
   {
    "duration": 0,
    "start_time": "2022-10-07T05:24:14.259Z"
   },
   {
    "duration": 0,
    "start_time": "2022-10-07T05:24:14.260Z"
   },
   {
    "duration": 0,
    "start_time": "2022-10-07T05:24:14.261Z"
   },
   {
    "duration": 0,
    "start_time": "2022-10-07T05:24:14.262Z"
   },
   {
    "duration": 0,
    "start_time": "2022-10-07T05:24:14.263Z"
   },
   {
    "duration": 0,
    "start_time": "2022-10-07T05:24:14.264Z"
   },
   {
    "duration": 0,
    "start_time": "2022-10-07T05:24:14.265Z"
   },
   {
    "duration": 0,
    "start_time": "2022-10-07T05:24:14.266Z"
   },
   {
    "duration": 0,
    "start_time": "2022-10-07T05:24:14.267Z"
   },
   {
    "duration": 0,
    "start_time": "2022-10-07T05:24:14.268Z"
   },
   {
    "duration": 0,
    "start_time": "2022-10-07T05:24:14.269Z"
   },
   {
    "duration": 0,
    "start_time": "2022-10-07T05:24:14.270Z"
   },
   {
    "duration": 0,
    "start_time": "2022-10-07T05:24:14.271Z"
   },
   {
    "duration": 0,
    "start_time": "2022-10-07T05:24:14.272Z"
   },
   {
    "duration": 0,
    "start_time": "2022-10-07T05:24:14.273Z"
   },
   {
    "duration": 0,
    "start_time": "2022-10-07T05:24:14.274Z"
   },
   {
    "duration": 0,
    "start_time": "2022-10-07T05:24:14.275Z"
   },
   {
    "duration": 0,
    "start_time": "2022-10-07T05:24:14.277Z"
   },
   {
    "duration": 0,
    "start_time": "2022-10-07T05:24:14.278Z"
   },
   {
    "duration": 0,
    "start_time": "2022-10-07T05:24:14.279Z"
   },
   {
    "duration": 0,
    "start_time": "2022-10-07T05:24:14.280Z"
   },
   {
    "duration": 0,
    "start_time": "2022-10-07T05:24:14.281Z"
   },
   {
    "duration": 0,
    "start_time": "2022-10-07T05:24:14.282Z"
   },
   {
    "duration": 0,
    "start_time": "2022-10-07T05:24:14.283Z"
   },
   {
    "duration": 0,
    "start_time": "2022-10-07T05:24:14.285Z"
   },
   {
    "duration": 0,
    "start_time": "2022-10-07T05:24:14.286Z"
   },
   {
    "duration": 3,
    "start_time": "2022-10-07T05:24:40.001Z"
   },
   {
    "duration": 37,
    "start_time": "2022-10-07T05:24:40.008Z"
   },
   {
    "duration": 8,
    "start_time": "2022-10-07T05:24:40.047Z"
   },
   {
    "duration": 19,
    "start_time": "2022-10-07T05:24:40.056Z"
   },
   {
    "duration": 26,
    "start_time": "2022-10-07T05:24:40.077Z"
   },
   {
    "duration": 27,
    "start_time": "2022-10-07T05:24:40.105Z"
   },
   {
    "duration": 96,
    "start_time": "2022-10-07T05:24:40.134Z"
   },
   {
    "duration": 9,
    "start_time": "2022-10-07T05:24:40.232Z"
   },
   {
    "duration": 15,
    "start_time": "2022-10-07T05:24:40.242Z"
   },
   {
    "duration": 55,
    "start_time": "2022-10-07T05:24:40.259Z"
   },
   {
    "duration": 8,
    "start_time": "2022-10-07T05:24:40.318Z"
   },
   {
    "duration": 11,
    "start_time": "2022-10-07T05:24:40.328Z"
   },
   {
    "duration": 15,
    "start_time": "2022-10-07T05:24:40.340Z"
   },
   {
    "duration": 7,
    "start_time": "2022-10-07T05:24:40.357Z"
   },
   {
    "duration": 18,
    "start_time": "2022-10-07T05:24:40.365Z"
   },
   {
    "duration": 20,
    "start_time": "2022-10-07T05:24:40.384Z"
   },
   {
    "duration": 7,
    "start_time": "2022-10-07T05:24:40.407Z"
   },
   {
    "duration": 15,
    "start_time": "2022-10-07T05:24:40.416Z"
   },
   {
    "duration": 28,
    "start_time": "2022-10-07T05:24:40.433Z"
   },
   {
    "duration": 11,
    "start_time": "2022-10-07T05:24:40.463Z"
   },
   {
    "duration": 13,
    "start_time": "2022-10-07T05:24:40.476Z"
   },
   {
    "duration": 9,
    "start_time": "2022-10-07T05:24:40.490Z"
   },
   {
    "duration": 11,
    "start_time": "2022-10-07T05:24:40.500Z"
   },
   {
    "duration": 214,
    "start_time": "2022-10-07T05:24:40.513Z"
   },
   {
    "duration": 152,
    "start_time": "2022-10-07T05:24:40.729Z"
   },
   {
    "duration": 7,
    "start_time": "2022-10-07T05:24:40.883Z"
   },
   {
    "duration": 17,
    "start_time": "2022-10-07T05:24:40.891Z"
   },
   {
    "duration": 11,
    "start_time": "2022-10-07T05:24:40.910Z"
   },
   {
    "duration": 361,
    "start_time": "2022-10-07T05:24:40.925Z"
   },
   {
    "duration": 6,
    "start_time": "2022-10-07T05:24:41.288Z"
   },
   {
    "duration": 315,
    "start_time": "2022-10-07T05:24:41.296Z"
   },
   {
    "duration": 8,
    "start_time": "2022-10-07T05:24:41.613Z"
   },
   {
    "duration": 364,
    "start_time": "2022-10-07T05:24:41.623Z"
   },
   {
    "duration": 6,
    "start_time": "2022-10-07T05:24:41.989Z"
   },
   {
    "duration": 62,
    "start_time": "2022-10-07T05:24:41.997Z"
   },
   {
    "duration": 28,
    "start_time": "2022-10-07T05:24:42.060Z"
   },
   {
    "duration": 318,
    "start_time": "2022-10-07T05:24:42.090Z"
   },
   {
    "duration": 8,
    "start_time": "2022-10-07T05:24:42.409Z"
   },
   {
    "duration": 338,
    "start_time": "2022-10-07T05:24:42.419Z"
   },
   {
    "duration": 15,
    "start_time": "2022-10-07T05:24:42.759Z"
   },
   {
    "duration": 12,
    "start_time": "2022-10-07T05:24:42.776Z"
   },
   {
    "duration": 190,
    "start_time": "2022-10-07T05:24:42.789Z"
   },
   {
    "duration": 6,
    "start_time": "2022-10-07T05:24:42.981Z"
   },
   {
    "duration": 19,
    "start_time": "2022-10-07T05:24:42.989Z"
   },
   {
    "duration": 207,
    "start_time": "2022-10-07T05:24:43.010Z"
   },
   {
    "duration": 211,
    "start_time": "2022-10-07T05:24:43.219Z"
   },
   {
    "duration": 6,
    "start_time": "2022-10-07T05:24:43.431Z"
   },
   {
    "duration": 264,
    "start_time": "2022-10-07T05:24:43.463Z"
   },
   {
    "duration": 26,
    "start_time": "2022-10-07T05:24:43.729Z"
   },
   {
    "duration": 7,
    "start_time": "2022-10-07T05:24:43.757Z"
   },
   {
    "duration": 27,
    "start_time": "2022-10-07T05:24:43.766Z"
   },
   {
    "duration": 9,
    "start_time": "2022-10-07T05:24:43.796Z"
   },
   {
    "duration": 9,
    "start_time": "2022-10-07T05:24:43.807Z"
   },
   {
    "duration": 48,
    "start_time": "2022-10-07T05:24:43.818Z"
   },
   {
    "duration": 19,
    "start_time": "2022-10-07T05:24:43.868Z"
   }
  ],
  "kernelspec": {
   "display_name": "Python 3 (ipykernel)",
   "language": "python",
   "name": "python3"
  },
  "language_info": {
   "codemirror_mode": {
    "name": "ipython",
    "version": 3
   },
   "file_extension": ".py",
   "mimetype": "text/x-python",
   "name": "python",
   "nbconvert_exporter": "python",
   "pygments_lexer": "ipython3",
   "version": "3.9.5"
  },
  "toc": {
   "base_numbering": 1,
   "nav_menu": {},
   "number_sections": true,
   "sideBar": true,
   "skip_h1_title": false,
   "title_cell": "Table of Contents",
   "title_sidebar": "Contents",
   "toc_cell": false,
   "toc_position": {
    "height": "calc(100% - 180px)",
    "left": "10px",
    "top": "150px",
    "width": "289.438px"
   },
   "toc_section_display": true,
   "toc_window_display": true
  }
 },
 "nbformat": 4,
 "nbformat_minor": 2
}
