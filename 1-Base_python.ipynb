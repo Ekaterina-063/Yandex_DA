{
 "cells": [
  {
   "cell_type": "markdown",
   "metadata": {
    "deletable": false,
    "editable": false,
    "id": "E0vqbgi9ay0H"
   },
   "source": [
    "# Яндекс.Музыка"
   ]
  },
  {
   "cell_type": "markdown",
   "metadata": {
    "deletable": false,
    "editable": false,
    "id": "VUC88oWjTJw2"
   },
   "source": [
    "Сравнение Москвы и Петербурга окружено мифами. Например:\n",
    " * Москва — мегаполис, подчинённый жёсткому ритму рабочей недели;\n",
    " * Петербург — культурная столица, со своими вкусами.\n",
    "\n",
    "На данных Яндекс.Музыки вы сравните поведение пользователей двух столиц.\n",
    "\n",
    "**Цель исследования** — проверьте три гипотезы:\n",
    "1. Активность пользователей зависит от дня недели. Причём в Москве и Петербурге это проявляется по-разному.\n",
    "2. В понедельник утром в Москве преобладают одни жанры, а в Петербурге — другие. Так же и вечером пятницы преобладают разные жанры — в зависимости от города. \n",
    "3. Москва и Петербург предпочитают разные жанры музыки. В Москве чаще слушают поп-музыку, в Петербурге — русский рэп.\n",
    "\n",
    "**Ход исследования**\n",
    "\n",
    "Данные о поведении пользователей вы получите из файла `yandex_music_project.csv`. О качестве данных ничего не известно. Поэтому перед проверкой гипотез понадобится обзор данных. \n",
    "\n",
    "Вы проверите данные на ошибки и оцените их влияние на исследование. Затем, на этапе предобработки вы поищете возможность исправить самые критичные ошибки данных.\n",
    " \n",
    "Таким образом, исследование пройдёт в три этапа:\n",
    " 1. Обзор данных.\n",
    " 2. Предобработка данных.\n",
    " 3. Проверка гипотез.\n",
    "\n"
   ]
  },
  {
   "cell_type": "markdown",
   "metadata": {
    "deletable": false,
    "editable": false,
    "id": "Ml1hmfXC_Zcs"
   },
   "source": [
    "## Обзор данных\n",
    "\n",
    "Составьте первое представление о данных Яндекс.Музыки.\n",
    "\n",
    "\n"
   ]
  },
  {
   "cell_type": "markdown",
   "metadata": {
    "deletable": false,
    "editable": false,
    "id": "57eAOGIz_Zcs",
    "tags": [
     "start_task"
    ]
   },
   "source": [
    "**Задание 1**\n",
    "\n",
    "Основной инструмент аналитика — `pandas`. Импортируйте эту библиотеку."
   ]
  },
  {
   "cell_type": "code",
   "execution_count": 175,
   "metadata": {
    "deletable": false,
    "id": "AXN7PHPN_Zcs"
   },
   "outputs": [],
   "source": [
    "import pandas as pd# импорт библиотеки pandas"
   ]
  },
  {
   "cell_type": "markdown",
   "metadata": {
    "deletable": false,
    "editable": false,
    "id": "SG23P8tt_Zcs",
    "tags": [
     "start_task"
    ]
   },
   "source": [
    "**Задание 2**\n",
    "\n",
    "Прочитайте файл `yandex_music_project.csv` из папки `/datasets` и сохраните его в переменной `df`:"
   ]
  },
  {
   "cell_type": "code",
   "execution_count": 176,
   "metadata": {
    "deletable": false,
    "id": "fFVu7vqh_Zct"
   },
   "outputs": [],
   "source": [
    "df = pd.read_csv('/datasets/yandex_music_project.csv')# чтение файла с данными и сохранение в df"
   ]
  },
  {
   "cell_type": "markdown",
   "metadata": {
    "deletable": false,
    "editable": false,
    "id": "rDoOMd3uTqnZ",
    "tags": [
     "start_task"
    ]
   },
   "source": [
    "**Задание 3**\n",
    "\n",
    "\n",
    "Выведите на экран первые десять строк таблицы:"
   ]
  },
  {
   "cell_type": "code",
   "execution_count": 177,
   "metadata": {
    "deletable": false,
    "id": "oWTVX3gW_Zct"
   },
   "outputs": [
    {
     "data": {
      "text/html": [
       "<div>\n",
       "<style scoped>\n",
       "    .dataframe tbody tr th:only-of-type {\n",
       "        vertical-align: middle;\n",
       "    }\n",
       "\n",
       "    .dataframe tbody tr th {\n",
       "        vertical-align: top;\n",
       "    }\n",
       "\n",
       "    .dataframe thead th {\n",
       "        text-align: right;\n",
       "    }\n",
       "</style>\n",
       "<table border=\"1\" class=\"dataframe\">\n",
       "  <thead>\n",
       "    <tr style=\"text-align: right;\">\n",
       "      <th></th>\n",
       "      <th>userID</th>\n",
       "      <th>Track</th>\n",
       "      <th>artist</th>\n",
       "      <th>genre</th>\n",
       "      <th>City</th>\n",
       "      <th>time</th>\n",
       "      <th>Day</th>\n",
       "    </tr>\n",
       "  </thead>\n",
       "  <tbody>\n",
       "    <tr>\n",
       "      <th>0</th>\n",
       "      <td>FFB692EC</td>\n",
       "      <td>Kamigata To Boots</td>\n",
       "      <td>The Mass Missile</td>\n",
       "      <td>rock</td>\n",
       "      <td>Saint-Petersburg</td>\n",
       "      <td>20:28:33</td>\n",
       "      <td>Wednesday</td>\n",
       "    </tr>\n",
       "    <tr>\n",
       "      <th>1</th>\n",
       "      <td>55204538</td>\n",
       "      <td>Delayed Because of Accident</td>\n",
       "      <td>Andreas Rönnberg</td>\n",
       "      <td>rock</td>\n",
       "      <td>Moscow</td>\n",
       "      <td>14:07:09</td>\n",
       "      <td>Friday</td>\n",
       "    </tr>\n",
       "    <tr>\n",
       "      <th>2</th>\n",
       "      <td>20EC38</td>\n",
       "      <td>Funiculì funiculà</td>\n",
       "      <td>Mario Lanza</td>\n",
       "      <td>pop</td>\n",
       "      <td>Saint-Petersburg</td>\n",
       "      <td>20:58:07</td>\n",
       "      <td>Wednesday</td>\n",
       "    </tr>\n",
       "    <tr>\n",
       "      <th>3</th>\n",
       "      <td>A3DD03C9</td>\n",
       "      <td>Dragons in the Sunset</td>\n",
       "      <td>Fire + Ice</td>\n",
       "      <td>folk</td>\n",
       "      <td>Saint-Petersburg</td>\n",
       "      <td>08:37:09</td>\n",
       "      <td>Monday</td>\n",
       "    </tr>\n",
       "    <tr>\n",
       "      <th>4</th>\n",
       "      <td>E2DC1FAE</td>\n",
       "      <td>Soul People</td>\n",
       "      <td>Space Echo</td>\n",
       "      <td>dance</td>\n",
       "      <td>Moscow</td>\n",
       "      <td>08:34:34</td>\n",
       "      <td>Monday</td>\n",
       "    </tr>\n",
       "    <tr>\n",
       "      <th>5</th>\n",
       "      <td>842029A1</td>\n",
       "      <td>Преданная</td>\n",
       "      <td>IMPERVTOR</td>\n",
       "      <td>rusrap</td>\n",
       "      <td>Saint-Petersburg</td>\n",
       "      <td>13:09:41</td>\n",
       "      <td>Friday</td>\n",
       "    </tr>\n",
       "    <tr>\n",
       "      <th>6</th>\n",
       "      <td>4CB90AA5</td>\n",
       "      <td>True</td>\n",
       "      <td>Roman Messer</td>\n",
       "      <td>dance</td>\n",
       "      <td>Moscow</td>\n",
       "      <td>13:00:07</td>\n",
       "      <td>Wednesday</td>\n",
       "    </tr>\n",
       "    <tr>\n",
       "      <th>7</th>\n",
       "      <td>F03E1C1F</td>\n",
       "      <td>Feeling This Way</td>\n",
       "      <td>Polina Griffith</td>\n",
       "      <td>dance</td>\n",
       "      <td>Moscow</td>\n",
       "      <td>20:47:49</td>\n",
       "      <td>Wednesday</td>\n",
       "    </tr>\n",
       "    <tr>\n",
       "      <th>8</th>\n",
       "      <td>8FA1D3BE</td>\n",
       "      <td>И вновь продолжается бой</td>\n",
       "      <td>NaN</td>\n",
       "      <td>ruspop</td>\n",
       "      <td>Moscow</td>\n",
       "      <td>09:17:40</td>\n",
       "      <td>Friday</td>\n",
       "    </tr>\n",
       "    <tr>\n",
       "      <th>9</th>\n",
       "      <td>E772D5C0</td>\n",
       "      <td>Pessimist</td>\n",
       "      <td>NaN</td>\n",
       "      <td>dance</td>\n",
       "      <td>Saint-Petersburg</td>\n",
       "      <td>21:20:49</td>\n",
       "      <td>Wednesday</td>\n",
       "    </tr>\n",
       "  </tbody>\n",
       "</table>\n",
       "</div>"
      ],
      "text/plain": [
       "     userID                        Track            artist   genre  \\\n",
       "0  FFB692EC            Kamigata To Boots  The Mass Missile    rock   \n",
       "1  55204538  Delayed Because of Accident  Andreas Rönnberg    rock   \n",
       "2    20EC38            Funiculì funiculà       Mario Lanza     pop   \n",
       "3  A3DD03C9        Dragons in the Sunset        Fire + Ice    folk   \n",
       "4  E2DC1FAE                  Soul People        Space Echo   dance   \n",
       "5  842029A1                    Преданная         IMPERVTOR  rusrap   \n",
       "6  4CB90AA5                         True      Roman Messer   dance   \n",
       "7  F03E1C1F             Feeling This Way   Polina Griffith   dance   \n",
       "8  8FA1D3BE     И вновь продолжается бой               NaN  ruspop   \n",
       "9  E772D5C0                    Pessimist               NaN   dance   \n",
       "\n",
       "             City        time        Day  \n",
       "0  Saint-Petersburg  20:28:33  Wednesday  \n",
       "1            Moscow  14:07:09     Friday  \n",
       "2  Saint-Petersburg  20:58:07  Wednesday  \n",
       "3  Saint-Petersburg  08:37:09     Monday  \n",
       "4            Moscow  08:34:34     Monday  \n",
       "5  Saint-Petersburg  13:09:41     Friday  \n",
       "6            Moscow  13:00:07  Wednesday  \n",
       "7            Moscow  20:47:49  Wednesday  \n",
       "8            Moscow  09:17:40     Friday  \n",
       "9  Saint-Petersburg  21:20:49  Wednesday  "
      ]
     },
     "execution_count": 177,
     "metadata": {},
     "output_type": "execute_result"
    }
   ],
   "source": [
    "df.head(10)# получение первых 10 строк таблицы df"
   ]
  },
  {
   "cell_type": "markdown",
   "metadata": {
    "deletable": false,
    "editable": false,
    "id": "EO73Kwic_Zct",
    "tags": [
     "start_task"
    ]
   },
   "source": [
    "**Задание 4**\n",
    "\n",
    "\n",
    "Одной командой получить общую информацию о таблице c помощью метода `info()`:"
   ]
  },
  {
   "cell_type": "code",
   "execution_count": 178,
   "metadata": {
    "deletable": false,
    "id": "DSf2kIb-_Zct"
   },
   "outputs": [
    {
     "name": "stdout",
     "output_type": "stream",
     "text": [
      "<class 'pandas.core.frame.DataFrame'>\n",
      "RangeIndex: 65079 entries, 0 to 65078\n",
      "Data columns (total 7 columns):\n",
      " #   Column    Non-Null Count  Dtype \n",
      "---  ------    --------------  ----- \n",
      " 0     userID  65079 non-null  object\n",
      " 1   Track     63848 non-null  object\n",
      " 2   artist    57876 non-null  object\n",
      " 3   genre     63881 non-null  object\n",
      " 4     City    65079 non-null  object\n",
      " 5   time      65079 non-null  object\n",
      " 6   Day       65079 non-null  object\n",
      "dtypes: object(7)\n",
      "memory usage: 3.5+ MB\n"
     ]
    }
   ],
   "source": [
    "df.info()# получение общей информации о данных в таблице df"
   ]
  },
  {
   "cell_type": "markdown",
   "metadata": {
    "deletable": false,
    "editable": false,
    "id": "TaQ2Iwbr_Zct"
   },
   "source": [
    "Итак, в таблице семь столбцов. Тип данных во всех столбцах — `object`.\n",
    "\n",
    "Согласно документации к данным:\n",
    "* `userID` — идентификатор пользователя;\n",
    "* `Track` — название трека;  \n",
    "* `artist` — имя исполнителя;\n",
    "* `genre` — название жанра;\n",
    "* `City` — город пользователя;\n",
    "* `time` — время начала прослушивания;\n",
    "* `Day` — день недели.\n",
    "\n",
    "Количество значений в столбцах различается. Значит, в данных есть пропущенные значения."
   ]
  },
  {
   "cell_type": "markdown",
   "metadata": {
    "deletable": false,
    "editable": false,
    "tags": [
     "start_task"
    ]
   },
   "source": [
    "**Задание 5**\n",
    "\n",
    "**Вопрос со свободной формой ответа**\n",
    "\n",
    "В названиях колонок видны три нарушения стиля:\n",
    "1. Строчные буквы сочетаются с прописными.\n",
    "2. Встречаются пробелы."
   ]
  },
  {
   "cell_type": "code",
   "execution_count": 179,
   "metadata": {},
   "outputs": [],
   "source": [
    "#Нет змеиного регистра. Напишите ваш ответ здесь комментарием. Не удаляйте символ #. Не меняйте тип этой ячейки на Markdown."
   ]
  },
  {
   "cell_type": "markdown",
   "metadata": {
    "deletable": false,
    "editable": false,
    "id": "MCB6-dXG_Zct"
   },
   "source": [
    "**Выводы**\n",
    "\n",
    "В каждой строке таблицы — данные о прослушанном треке. Часть колонок описывает саму композицию: название, исполнителя и жанр. Остальные данные рассказывают о пользователе: из какого он города, когда он слушал музыку. \n",
    "\n",
    "Предварительно можно утверждать, что, данных достаточно для проверки гипотез. Но встречаются пропуски в данных, а в названиях колонок — расхождения с хорошим стилем.\n",
    "\n",
    "Чтобы двигаться дальше, нужно устранить проблемы в данных."
   ]
  },
  {
   "cell_type": "markdown",
   "metadata": {
    "deletable": false,
    "editable": false,
    "id": "SjYF6Ub9_Zct"
   },
   "source": [
    "## Предобработка данных\n",
    "Исправьте стиль в заголовках столбцов, исключите пропуски. Затем проверьте данные на дубликаты."
   ]
  },
  {
   "cell_type": "markdown",
   "metadata": {
    "deletable": false,
    "editable": false,
    "id": "dIaKXr29_Zct",
    "tags": [
     "start_task"
    ]
   },
   "source": [
    "### Стиль заголовков\n",
    "\n",
    "**Задание 6**\n",
    "\n",
    "Выведите на экран названия столбцов:"
   ]
  },
  {
   "cell_type": "code",
   "execution_count": 180,
   "metadata": {
    "deletable": false,
    "id": "oKOTdF_Q_Zct"
   },
   "outputs": [
    {
     "data": {
      "text/plain": [
       "Index(['  userID', 'Track', 'artist', 'genre', '  City  ', 'time', 'Day'], dtype='object')"
      ]
     },
     "execution_count": 180,
     "metadata": {},
     "output_type": "execute_result"
    }
   ],
   "source": [
    "df.columns# перечень названий столбцов таблицы df"
   ]
  },
  {
   "cell_type": "markdown",
   "metadata": {
    "deletable": false,
    "editable": false,
    "id": "zj5534cv_Zct",
    "tags": [
     "start_task"
    ]
   },
   "source": [
    "**Задание 7**\n",
    "\n",
    "\n",
    "Приведите названия в соответствие с хорошим стилем:\n",
    "* несколько слов в названии запишите в «змеином_регистре»,\n",
    "* все символы сделайте строчными,\n",
    "* устраните пробелы.\n",
    "\n",
    "Для этого переименуйте колонки так:\n",
    "* `'  userID'` → `'user_id'`;\n",
    "* `'Track'` → `'track'`;\n",
    "* `'  City  '` → `'city'`;\n",
    "* `'Day'` → `'day'`."
   ]
  },
  {
   "cell_type": "code",
   "execution_count": 181,
   "metadata": {
    "deletable": false,
    "id": "ISlFqs5y_Zct"
   },
   "outputs": [],
   "source": [
    "df = df.rename(columns = {'  userID':'user_id','Track':'track','  City  ':'city', 'Day':'day' })# переименование столбцов"
   ]
  },
  {
   "cell_type": "markdown",
   "metadata": {
    "deletable": false,
    "editable": false,
    "id": "1dqbh00J_Zct",
    "tags": [
     "start_task"
    ]
   },
   "source": [
    "**Задание 8**\n",
    "\n",
    "\n",
    "Проверьте результат. Для этого ещё раз выведите на экран названия столбцов:"
   ]
  },
  {
   "cell_type": "code",
   "execution_count": 182,
   "metadata": {
    "deletable": false,
    "id": "d4NOAmTW_Zct"
   },
   "outputs": [
    {
     "data": {
      "text/plain": [
       "Index(['user_id', 'track', 'artist', 'genre', 'city', 'time', 'day'], dtype='object')"
      ]
     },
     "execution_count": 182,
     "metadata": {},
     "output_type": "execute_result"
    }
   ],
   "source": [
    "df.columns# проверка результатов - перечень названий столбцов"
   ]
  },
  {
   "cell_type": "markdown",
   "metadata": {
    "deletable": false,
    "editable": false,
    "id": "5ISfbcfY_Zct",
    "tags": [
     "start_task"
    ]
   },
   "source": [
    "### Пропуски значений\n",
    "\n",
    "**Задание 9**\n",
    "\n",
    "Сначала посчитайте, сколько в таблице пропущенных значений. Для этого достаточно двух методов `pandas`:"
   ]
  },
  {
   "cell_type": "code",
   "execution_count": 183,
   "metadata": {
    "deletable": false,
    "id": "RskX29qr_Zct"
   },
   "outputs": [
    {
     "data": {
      "text/plain": [
       "user_id       0\n",
       "track      1231\n",
       "artist     7203\n",
       "genre      1198\n",
       "city          0\n",
       "time          0\n",
       "day           0\n",
       "dtype: int64"
      ]
     },
     "execution_count": 183,
     "metadata": {},
     "output_type": "execute_result"
    }
   ],
   "source": [
    "df.isna().sum() # подсчёт пропусков"
   ]
  },
  {
   "cell_type": "markdown",
   "metadata": {
    "deletable": false,
    "editable": false,
    "id": "qubhgnlO_Zct"
   },
   "source": [
    "Не все пропущенные значения влияют на исследование. Так в `track` и `artist` пропуски не важны для вашей работы. Достаточно заменить их явными обозначениями.\n",
    "\n",
    "Но пропуски в `genre` могут помешать сравнению музыкальных вкусов в Москве и Санкт-Петербурге. На практике было бы правильно установить причину пропусков и восстановить данные. Такой возможности нет в учебном проекте. Придётся:\n",
    "* заполнить и эти пропуски явными обозначениями,\n",
    "* оценить, насколько они повредят расчётам. "
   ]
  },
  {
   "cell_type": "markdown",
   "metadata": {
    "deletable": false,
    "editable": false,
    "id": "fSv2laPA_Zct",
    "tags": [
     "start_task"
    ]
   },
   "source": [
    "**Задание 10**\n",
    "\n",
    "Замените пропущенные значения в столбцах `track`, `artist` и `genre` на строку `'unknown'`. Для этого создайте список `columns_to_replace`, переберите его элементы циклом `for` и для каждого столбца выполните замену пропущенных значений:"
   ]
  },
  {
   "cell_type": "code",
   "execution_count": 184,
   "metadata": {
    "deletable": false,
    "id": "KplB5qWs_Zct"
   },
   "outputs": [],
   "source": [
    "columns_to_replace = ['track', 'artist','genre']\n",
    "for column in columns_to_replace:\n",
    "    df[column] = df[column].fillna('unknown')# перебор названий столбцов в цикле и замена пропущенных значений на 'unknown'"
   ]
  },
  {
   "cell_type": "markdown",
   "metadata": {
    "deletable": false,
    "editable": false,
    "id": "Ilsm-MZo_Zct",
    "tags": [
     "start_task"
    ]
   },
   "source": [
    "**Задание 11**\n",
    "\n",
    "Убедитесь, что в таблице не осталось пропусков. Для этого ещё раз посчитайте пропущенные значения."
   ]
  },
  {
   "cell_type": "code",
   "execution_count": 185,
   "metadata": {
    "deletable": false,
    "id": "Tq4nYRX4_Zct"
   },
   "outputs": [
    {
     "data": {
      "text/plain": [
       "user_id    0\n",
       "track      0\n",
       "artist     0\n",
       "genre      0\n",
       "city       0\n",
       "time       0\n",
       "day        0\n",
       "dtype: int64"
      ]
     },
     "execution_count": 185,
     "metadata": {},
     "output_type": "execute_result"
    }
   ],
   "source": [
    "df.isna().sum()# подсчёт пропусков"
   ]
  },
  {
   "cell_type": "markdown",
   "metadata": {
    "deletable": false,
    "editable": false,
    "id": "BWKRtBJ3_Zct",
    "tags": [
     "start_task"
    ]
   },
   "source": [
    "### Дубликаты\n",
    "\n",
    "**Задание 12**\n",
    "\n",
    "Посчитайте явные дубликаты в таблице одной командой:"
   ]
  },
  {
   "cell_type": "code",
   "execution_count": 186,
   "metadata": {
    "deletable": false,
    "id": "36eES_S0_Zct"
   },
   "outputs": [
    {
     "data": {
      "text/plain": [
       "3826"
      ]
     },
     "execution_count": 186,
     "metadata": {},
     "output_type": "execute_result"
    }
   ],
   "source": [
    "df.duplicated().sum()# подсчёт явных дубликатов"
   ]
  },
  {
   "cell_type": "markdown",
   "metadata": {
    "deletable": false,
    "editable": false,
    "id": "Ot25h6XR_Zct",
    "tags": [
     "start_task"
    ]
   },
   "source": [
    "**Задание 13**\n",
    "\n",
    "Вызовите специальный метод `pandas`, чтобы удалить явные дубликаты:"
   ]
  },
  {
   "cell_type": "code",
   "execution_count": 187,
   "metadata": {
    "deletable": false,
    "id": "exFHq6tt_Zct"
   },
   "outputs": [],
   "source": [
    "df = df.drop_duplicates().reset_index(drop=True)# удаление явных дубликатов"
   ]
  },
  {
   "cell_type": "markdown",
   "metadata": {
    "deletable": false,
    "editable": false,
    "id": "Im2YwBEG_Zct",
    "tags": [
     "start_task"
    ]
   },
   "source": [
    "**Задание 14**\n",
    "\n",
    "Ещё раз посчитайте явные дубликаты в таблице — убедитесь, что полностью от них избавились:"
   ]
  },
  {
   "cell_type": "code",
   "execution_count": 188,
   "metadata": {
    "deletable": false,
    "id": "-8PuNWQ0_Zct"
   },
   "outputs": [
    {
     "data": {
      "text/plain": [
       "0"
      ]
     },
     "execution_count": 188,
     "metadata": {},
     "output_type": "execute_result"
    }
   ],
   "source": [
    "df.duplicated().sum()# проверка на отсутствие дубликатов"
   ]
  },
  {
   "cell_type": "markdown",
   "metadata": {
    "deletable": false,
    "editable": false,
    "id": "QlFBsxAr_Zct"
   },
   "source": [
    "Теперь избавьтесь от неявных дубликатов в колонке `genre`. Например, название одного и того же жанра может быть записано немного по-разному. Такие ошибки тоже повлияют на результат исследования."
   ]
  },
  {
   "cell_type": "markdown",
   "metadata": {
    "deletable": false,
    "editable": false,
    "id": "eSjWwsOh_Zct",
    "tags": [
     "start_task"
    ]
   },
   "source": [
    "**Задание 15**\n",
    "\n",
    "Выведите на экран список уникальных названий жанров, отсортированный в алфавитном порядке. Для этого:\n",
    "* извлеките нужный столбец датафрейма, \n",
    "* примените к нему метод сортировки,\n",
    "* для отсортированного столбца вызовите метод, который вернёт уникальные значения из столбца."
   ]
  },
  {
   "cell_type": "code",
   "execution_count": 189,
   "metadata": {
    "deletable": false,
    "id": "JIUcqzZN_Zct"
   },
   "outputs": [
    {
     "data": {
      "text/plain": [
       "array(['acid', 'acoustic', 'action', 'adult', 'africa', 'afrikaans',\n",
       "       'alternative', 'alternativepunk', 'ambient', 'americana',\n",
       "       'animated', 'anime', 'arabesk', 'arabic', 'arena',\n",
       "       'argentinetango', 'art', 'audiobook', 'author', 'avantgarde',\n",
       "       'axé', 'baile', 'balkan', 'beats', 'bigroom', 'black', 'bluegrass',\n",
       "       'blues', 'bollywood', 'bossa', 'brazilian', 'breakbeat', 'breaks',\n",
       "       'broadway', 'cantautori', 'cantopop', 'canzone', 'caribbean',\n",
       "       'caucasian', 'celtic', 'chamber', 'chanson', 'children', 'chill',\n",
       "       'chinese', 'choral', 'christian', 'christmas', 'classical',\n",
       "       'classicmetal', 'club', 'colombian', 'comedy', 'conjazz',\n",
       "       'contemporary', 'country', 'cuban', 'dance', 'dancehall',\n",
       "       'dancepop', 'dark', 'death', 'deep', 'deutschrock', 'deutschspr',\n",
       "       'dirty', 'disco', 'dnb', 'documentary', 'downbeat', 'downtempo',\n",
       "       'drum', 'dub', 'dubstep', 'eastern', 'easy', 'electronic',\n",
       "       'electropop', 'emo', 'entehno', 'epicmetal', 'estrada', 'ethnic',\n",
       "       'eurofolk', 'european', 'experimental', 'extrememetal', 'fado',\n",
       "       'fairytail', 'film', 'fitness', 'flamenco', 'folk', 'folklore',\n",
       "       'folkmetal', 'folkrock', 'folktronica', 'forró', 'frankreich',\n",
       "       'französisch', 'french', 'funk', 'future', 'gangsta', 'garage',\n",
       "       'german', 'ghazal', 'gitarre', 'glitch', 'gospel', 'gothic',\n",
       "       'grime', 'grunge', 'gypsy', 'handsup', \"hard'n'heavy\", 'hardcore',\n",
       "       'hardstyle', 'hardtechno', 'hip', 'hip-hop', 'hiphop',\n",
       "       'historisch', 'holiday', 'hop', 'horror', 'house', 'hymn', 'idm',\n",
       "       'independent', 'indian', 'indie', 'indipop', 'industrial',\n",
       "       'inspirational', 'instrumental', 'international', 'irish', 'jam',\n",
       "       'japanese', 'jazz', 'jewish', 'jpop', 'jungle', 'k-pop',\n",
       "       'karadeniz', 'karaoke', 'kayokyoku', 'korean', 'laiko', 'latin',\n",
       "       'latino', 'leftfield', 'local', 'lounge', 'loungeelectronic',\n",
       "       'lovers', 'malaysian', 'mandopop', 'marschmusik', 'meditative',\n",
       "       'mediterranean', 'melodic', 'metal', 'metalcore', 'mexican',\n",
       "       'middle', 'minimal', 'miscellaneous', 'modern', 'mood', 'mpb',\n",
       "       'muslim', 'native', 'neoklassik', 'neue', 'new', 'newage',\n",
       "       'newwave', 'nu', 'nujazz', 'numetal', 'oceania', 'old', 'opera',\n",
       "       'orchestral', 'other', 'piano', 'podcasts', 'pop', 'popdance',\n",
       "       'popelectronic', 'popeurodance', 'poprussian', 'post',\n",
       "       'posthardcore', 'postrock', 'power', 'progmetal', 'progressive',\n",
       "       'psychedelic', 'punjabi', 'punk', 'quebecois', 'ragga', 'ram',\n",
       "       'rancheras', 'rap', 'rave', 'reggae', 'reggaeton', 'regional',\n",
       "       'relax', 'religious', 'retro', 'rhythm', 'rnb', 'rnr', 'rock',\n",
       "       'rockabilly', 'rockalternative', 'rockindie', 'rockother',\n",
       "       'romance', 'roots', 'ruspop', 'rusrap', 'rusrock', 'russian',\n",
       "       'salsa', 'samba', 'scenic', 'schlager', 'self', 'sertanejo',\n",
       "       'shanson', 'shoegazing', 'showtunes', 'singer', 'ska', 'skarock',\n",
       "       'slow', 'smooth', 'soft', 'soul', 'soulful', 'sound', 'soundtrack',\n",
       "       'southern', 'specialty', 'speech', 'spiritual', 'sport',\n",
       "       'stonerrock', 'surf', 'swing', 'synthpop', 'synthrock',\n",
       "       'sängerportrait', 'tango', 'tanzorchester', 'taraftar', 'tatar',\n",
       "       'tech', 'techno', 'teen', 'thrash', 'top', 'traditional',\n",
       "       'tradjazz', 'trance', 'tribal', 'trip', 'triphop', 'tropical',\n",
       "       'türk', 'türkçe', 'ukrrock', 'unknown', 'urban', 'uzbek',\n",
       "       'variété', 'vi', 'videogame', 'vocal', 'western', 'world',\n",
       "       'worldbeat', 'ïîï', 'электроника'], dtype=object)"
      ]
     },
     "execution_count": 189,
     "metadata": {},
     "output_type": "execute_result"
    }
   ],
   "source": [
    "sorted_genre = df['genre'].sort_values()\n",
    "sorted_genre.unique()\n",
    "# Просмотр уникальных названий жанров"
   ]
  },
  {
   "cell_type": "markdown",
   "metadata": {
    "deletable": false,
    "editable": false,
    "id": "qej-Qmuo_Zct",
    "tags": [
     "start_task"
    ]
   },
   "source": [
    "**Задание 16**\n",
    "\n",
    "Просмотрите список и найдите неявные дубликаты названия `hiphop`. Это могут быть названия с ошибками или альтернативные названия того же жанра.\n",
    "\n",
    "Вы увидите следующие неявные дубликаты:\n",
    "* *hip*,\n",
    "* *hop*,\n",
    "* *hip-hop*.\n",
    "\n",
    "Чтобы очистить от них таблицу используйте метод `replace()` с двумя аргументами: списком строк-дубликатов (включащий *hip*, *hop* и *hip-hop*) и строкой с правильным значением. Вам нужно исправить колонку `genre` в таблице `df`: заменить каждое значение из списка дубликатов на верное. Вместо `hip`, `hop` и `hip-hop` в таблице должно быть значение `hiphop`:"
   ]
  },
  {
   "cell_type": "code",
   "execution_count": 190,
   "metadata": {
    "deletable": false,
    "id": "ErNDkmns_Zct"
   },
   "outputs": [],
   "source": [
    "df['genre'] = df['genre'].replace(['hip','hop','hip-hop'],'hiphop')# Устранение неявных дубликатов"
   ]
  },
  {
   "cell_type": "markdown",
   "metadata": {
    "deletable": false,
    "editable": false,
    "id": "zQKF16_RG15m",
    "tags": [
     "start_task"
    ]
   },
   "source": [
    "**Задание 17**\n",
    "\n",
    "Проверьте, что заменили неправильные названия:\n",
    "\n",
    "*   hip\n",
    "*   hop\n",
    "*   hip-hop\n",
    "\n",
    "Выведите отсортированный список уникальных значений столбца `genre`:"
   ]
  },
  {
   "cell_type": "code",
   "execution_count": 191,
   "metadata": {
    "deletable": false,
    "id": "wvixALnFG15m"
   },
   "outputs": [
    {
     "data": {
      "text/plain": [
       "array(['acid', 'acoustic', 'action', 'adult', 'africa', 'afrikaans',\n",
       "       'alternative', 'alternativepunk', 'ambient', 'americana',\n",
       "       'animated', 'anime', 'arabesk', 'arabic', 'arena',\n",
       "       'argentinetango', 'art', 'audiobook', 'author', 'avantgarde',\n",
       "       'axé', 'baile', 'balkan', 'beats', 'bigroom', 'black', 'bluegrass',\n",
       "       'blues', 'bollywood', 'bossa', 'brazilian', 'breakbeat', 'breaks',\n",
       "       'broadway', 'cantautori', 'cantopop', 'canzone', 'caribbean',\n",
       "       'caucasian', 'celtic', 'chamber', 'chanson', 'children', 'chill',\n",
       "       'chinese', 'choral', 'christian', 'christmas', 'classical',\n",
       "       'classicmetal', 'club', 'colombian', 'comedy', 'conjazz',\n",
       "       'contemporary', 'country', 'cuban', 'dance', 'dancehall',\n",
       "       'dancepop', 'dark', 'death', 'deep', 'deutschrock', 'deutschspr',\n",
       "       'dirty', 'disco', 'dnb', 'documentary', 'downbeat', 'downtempo',\n",
       "       'drum', 'dub', 'dubstep', 'eastern', 'easy', 'electronic',\n",
       "       'electropop', 'emo', 'entehno', 'epicmetal', 'estrada', 'ethnic',\n",
       "       'eurofolk', 'european', 'experimental', 'extrememetal', 'fado',\n",
       "       'fairytail', 'film', 'fitness', 'flamenco', 'folk', 'folklore',\n",
       "       'folkmetal', 'folkrock', 'folktronica', 'forró', 'frankreich',\n",
       "       'französisch', 'french', 'funk', 'future', 'gangsta', 'garage',\n",
       "       'german', 'ghazal', 'gitarre', 'glitch', 'gospel', 'gothic',\n",
       "       'grime', 'grunge', 'gypsy', 'handsup', \"hard'n'heavy\", 'hardcore',\n",
       "       'hardstyle', 'hardtechno', 'hiphop', 'historisch', 'holiday',\n",
       "       'horror', 'house', 'hymn', 'idm', 'independent', 'indian', 'indie',\n",
       "       'indipop', 'industrial', 'inspirational', 'instrumental',\n",
       "       'international', 'irish', 'jam', 'japanese', 'jazz', 'jewish',\n",
       "       'jpop', 'jungle', 'k-pop', 'karadeniz', 'karaoke', 'kayokyoku',\n",
       "       'korean', 'laiko', 'latin', 'latino', 'leftfield', 'local',\n",
       "       'lounge', 'loungeelectronic', 'lovers', 'malaysian', 'mandopop',\n",
       "       'marschmusik', 'meditative', 'mediterranean', 'melodic', 'metal',\n",
       "       'metalcore', 'mexican', 'middle', 'minimal', 'miscellaneous',\n",
       "       'modern', 'mood', 'mpb', 'muslim', 'native', 'neoklassik', 'neue',\n",
       "       'new', 'newage', 'newwave', 'nu', 'nujazz', 'numetal', 'oceania',\n",
       "       'old', 'opera', 'orchestral', 'other', 'piano', 'podcasts', 'pop',\n",
       "       'popdance', 'popelectronic', 'popeurodance', 'poprussian', 'post',\n",
       "       'posthardcore', 'postrock', 'power', 'progmetal', 'progressive',\n",
       "       'psychedelic', 'punjabi', 'punk', 'quebecois', 'ragga', 'ram',\n",
       "       'rancheras', 'rap', 'rave', 'reggae', 'reggaeton', 'regional',\n",
       "       'relax', 'religious', 'retro', 'rhythm', 'rnb', 'rnr', 'rock',\n",
       "       'rockabilly', 'rockalternative', 'rockindie', 'rockother',\n",
       "       'romance', 'roots', 'ruspop', 'rusrap', 'rusrock', 'russian',\n",
       "       'salsa', 'samba', 'scenic', 'schlager', 'self', 'sertanejo',\n",
       "       'shanson', 'shoegazing', 'showtunes', 'singer', 'ska', 'skarock',\n",
       "       'slow', 'smooth', 'soft', 'soul', 'soulful', 'sound', 'soundtrack',\n",
       "       'southern', 'specialty', 'speech', 'spiritual', 'sport',\n",
       "       'stonerrock', 'surf', 'swing', 'synthpop', 'synthrock',\n",
       "       'sängerportrait', 'tango', 'tanzorchester', 'taraftar', 'tatar',\n",
       "       'tech', 'techno', 'teen', 'thrash', 'top', 'traditional',\n",
       "       'tradjazz', 'trance', 'tribal', 'trip', 'triphop', 'tropical',\n",
       "       'türk', 'türkçe', 'ukrrock', 'unknown', 'urban', 'uzbek',\n",
       "       'variété', 'vi', 'videogame', 'vocal', 'western', 'world',\n",
       "       'worldbeat', 'ïîï', 'электроника'], dtype=object)"
      ]
     },
     "execution_count": 191,
     "metadata": {},
     "output_type": "execute_result"
    }
   ],
   "source": [
    "sorted_genre = df['genre'].sort_values()\n",
    "sorted_genre.unique()# Проверка на неявные дубликаты"
   ]
  },
  {
   "cell_type": "markdown",
   "metadata": {
    "deletable": false,
    "editable": false,
    "id": "jz6a9-7HQUDd"
   },
   "source": [
    "**Выводы**\n",
    "\n",
    "Предобработка обнаружила три проблемы в данных:\n",
    "\n",
    "- нарушения в стиле заголовков,\n",
    "- пропущенные значения,\n",
    "- дубликаты — явные и неявные.\n",
    "\n",
    "Вы исправили заголовки, чтобы упростить работу с таблицей. Без дубликатов исследование станет более точным.\n",
    "\n",
    "Пропущенные значения вы заменили на `'unknown'`. Ещё предстоит увидеть, не повредят ли исследованию пропуски в колонке `genre`.\n",
    "\n",
    "Теперь можно перейти к проверке гипотез. "
   ]
  },
  {
   "cell_type": "markdown",
   "metadata": {
    "deletable": false,
    "editable": false,
    "id": "WttZHXH0SqKk"
   },
   "source": [
    "## Проверка гипотез"
   ]
  },
  {
   "cell_type": "markdown",
   "metadata": {
    "deletable": false,
    "editable": false,
    "id": "Im936VVi_Zcu"
   },
   "source": [
    "### Сравнение поведения пользователей двух столиц"
   ]
  },
  {
   "cell_type": "markdown",
   "metadata": {
    "deletable": false,
    "editable": false,
    "id": "nwt_MuaL_Zcu"
   },
   "source": [
    "Первая гипотеза утверждает, что пользователи по-разному слушают музыку в Москве и Санкт-Петербурге. Проверьте это предположение по данным о трёх днях недели — понедельнике, среде и пятнице. Для этого:\n",
    "\n",
    "* Разделите пользователей Москвы и Санкт-Петербурга\n",
    "* Сравните, сколько треков послушала каждая группа пользователей в понедельник, среду и пятницу.\n"
   ]
  },
  {
   "cell_type": "markdown",
   "metadata": {
    "deletable": false,
    "editable": false,
    "id": "8Dw_YMmT_Zcu",
    "tags": [
     "start_task"
    ]
   },
   "source": [
    "**Задание 18**\n",
    "\n",
    "Для тренировки сначала выполните каждый из расчётов по отдельности. \n",
    "\n",
    "Оцените активность пользователей в каждом городе. Сгруппируйте данные по городу и посчитайте прослушивания в каждой группе.\n",
    "\n"
   ]
  },
  {
   "cell_type": "code",
   "execution_count": 192,
   "metadata": {
    "deletable": false,
    "id": "0_Qs96oh_Zcu"
   },
   "outputs": [
    {
     "data": {
      "text/plain": [
       "city\n",
       "Moscow              42741\n",
       "Saint-Petersburg    18512\n",
       "Name: genre, dtype: int64"
      ]
     },
     "execution_count": 192,
     "metadata": {},
     "output_type": "execute_result"
    }
   ],
   "source": [
    "df.groupby('city')['genre'].count() \n"
   ]
  },
  {
   "cell_type": "markdown",
   "metadata": {
    "deletable": false,
    "editable": false,
    "id": "dzli3w8o_Zcu",
    "tags": [
     "start_task"
    ]
   },
   "source": [
    "В Москве прослушиваний больше, чем в Петербурге. Из этого не следует, что московские пользователи чаще слушают музыку. Просто самих пользователей в Москве больше.\n",
    "\n",
    "**Задание 19**\n",
    "\n",
    "Теперь сгруппируйте данные по дню недели и подсчитайте прослушивания в понедельник, среду и пятницу. Учтите, что в данных есть информация только о прослушиваниях только за эти дни.\n"
   ]
  },
  {
   "cell_type": "code",
   "execution_count": 193,
   "metadata": {
    "deletable": false,
    "id": "uZMKjiJz_Zcu"
   },
   "outputs": [
    {
     "data": {
      "text/plain": [
       "day\n",
       "Friday       21840\n",
       "Monday       21354\n",
       "Wednesday    18059\n",
       "Name: genre, dtype: int64"
      ]
     },
     "execution_count": 193,
     "metadata": {},
     "output_type": "execute_result"
    }
   ],
   "source": [
    "df.groupby('day')['genre'].count() # Подсчёт прослушиваний в каждый из трёх дней"
   ]
  },
  {
   "cell_type": "markdown",
   "metadata": {
    "deletable": false,
    "editable": false,
    "id": "cC2tNrlL_Zcu"
   },
   "source": [
    "В среднем пользователи из двух городов менее активны по средам. Но картина может измениться, если рассмотреть каждый город в отдельности."
   ]
  },
  {
   "cell_type": "markdown",
   "metadata": {
    "deletable": false,
    "editable": false,
    "id": "POzs8bGa_Zcu",
    "tags": [
     "start_task"
    ]
   },
   "source": [
    "**Задание 20**\n",
    "\n",
    "\n",
    "Вы видели, как работает группировка по городу и по дням недели. Теперь напишите функцию, которая объединит два эти расчёта.\n",
    "\n",
    "Создайте функцию `number_tracks()`, которая посчитает прослушивания для заданного дня и города. Ей понадобятся два параметра:\n",
    "* день недели,\n",
    "* название города.\n",
    "\n",
    "В функции сохраните в переменную строки исходной таблицы, у которых значение:\n",
    "  * в колонке `day` равно параметру `day`,\n",
    "  * в колонке `city` равно параметру `city`.\n",
    "\n",
    "Для этого примените последовательную фильтрацию с логической индексацией (или сложные логические выражения в одну строку, если вы уже знакомы с ними).\n",
    "\n",
    "Затем посчитайте значения в столбце `user_id` получившейся таблицы. Результат сохраните в новую переменную. Верните эту переменную из функции."
   ]
  },
  {
   "cell_type": "code",
   "execution_count": 194,
   "metadata": {
    "deletable": false,
    "id": "Nz3GdQB1_Zcu"
   },
   "outputs": [],
   "source": [
    "def number_tracks(day,city): \n",
    "    track_list = df[(df['day'] == day) & (df['city'] == city)]\n",
    "    track_list_count = track_list['user_id'].count()\n",
    "    return track_list_count \n",
    "    # значение в столбце 'day' равно параметру day и одновременно значение\n",
    "# в столбце 'city' равно параметру city (используйте последовательную фильтрацию\n",
    "# с помощью логической индексации или сложные логические выражения в одну строку, если вы уже знакомы с ними).\n",
    "# В переменной track_list_count сохраняется число значений столбца 'user_id',\n",
    "# рассчитанное методом count() для таблицы track_list.\n",
    "# Функция возвращает число - значение track_list_count.\n",
    "\n",
    "# Функция для подсчёта прослушиваний для конкретного города и дня.\n",
    "# С помощью последовательной фильтрации с логической индексацией она \n",
    "# сначала получит из исходной таблицы строки с нужным днём,\n",
    "# затем из результата отфильтрует строки с нужным городом,\n",
    "# методом count() посчитает количество значений в колонке user_id. \n",
    "# Это количество функция вернёт в качестве результата"
   ]
  },
  {
   "cell_type": "markdown",
   "metadata": {
    "deletable": false,
    "editable": false,
    "id": "ytf7xFrFJQ2r",
    "tags": [
     "start_task"
    ]
   },
   "source": [
    "**Задание 21**\n",
    "\n",
    "Вызовите `number_tracks()` шесть раз, меняя значение параметров — так, чтобы получить данные для каждого города в каждый из трёх дней."
   ]
  },
  {
   "cell_type": "code",
   "execution_count": 195,
   "metadata": {
    "deletable": false,
    "id": "rJcRATNQ_Zcu"
   },
   "outputs": [
    {
     "data": {
      "text/plain": [
       "15740"
      ]
     },
     "execution_count": 195,
     "metadata": {},
     "output_type": "execute_result"
    }
   ],
   "source": [
    "number_tracks('Monday', 'Moscow')"
   ]
  },
  {
   "cell_type": "code",
   "execution_count": 196,
   "metadata": {
    "deletable": false,
    "id": "hq_ncZ5T_Zcu"
   },
   "outputs": [
    {
     "data": {
      "text/plain": [
       "5614"
      ]
     },
     "execution_count": 196,
     "metadata": {},
     "output_type": "execute_result"
    }
   ],
   "source": [
    "number_tracks('Monday', 'Saint-Petersburg') "
   ]
  },
  {
   "cell_type": "code",
   "execution_count": 197,
   "metadata": {
    "deletable": false,
    "id": "_NTy2VPU_Zcu"
   },
   "outputs": [
    {
     "data": {
      "text/plain": [
       "11056"
      ]
     },
     "execution_count": 197,
     "metadata": {},
     "output_type": "execute_result"
    }
   ],
   "source": [
    "number_tracks('Wednesday', 'Moscow') "
   ]
  },
  {
   "cell_type": "code",
   "execution_count": 198,
   "metadata": {
    "deletable": false,
    "id": "j2y3TAwo_Zcu"
   },
   "outputs": [
    {
     "data": {
      "text/plain": [
       "7003"
      ]
     },
     "execution_count": 198,
     "metadata": {},
     "output_type": "execute_result"
    }
   ],
   "source": [
    "number_tracks('Wednesday', 'Saint-Petersburg')"
   ]
  },
  {
   "cell_type": "code",
   "execution_count": 199,
   "metadata": {
    "deletable": false,
    "id": "vYDw5u_K_Zcu"
   },
   "outputs": [
    {
     "data": {
      "text/plain": [
       "15945"
      ]
     },
     "execution_count": 199,
     "metadata": {},
     "output_type": "execute_result"
    }
   ],
   "source": [
    "number_tracks('Friday', 'Moscow')"
   ]
  },
  {
   "cell_type": "code",
   "execution_count": 200,
   "metadata": {
    "deletable": false,
    "id": "8_yzFtW3_Zcu"
   },
   "outputs": [
    {
     "data": {
      "text/plain": [
       "5895"
      ]
     },
     "execution_count": 200,
     "metadata": {},
     "output_type": "execute_result"
    }
   ],
   "source": [
    "number_tracks('Friday', 'Saint-Petersburg')"
   ]
  },
  {
   "cell_type": "markdown",
   "metadata": {
    "deletable": false,
    "editable": false,
    "id": "7QXffbO-_Zcu",
    "tags": [
     "start_task"
    ]
   },
   "source": [
    "**Задание 22**\n",
    "\n",
    "Создайте c помощью конструктора `pd.DataFrame` таблицу, где\n",
    "* названия колонок — `['city', 'monday', 'wednesday', 'friday']`;\n",
    "* данные — результаты, которые вы получили с помощью `number_tracks`."
   ]
  },
  {
   "cell_type": "code",
   "execution_count": 201,
   "metadata": {
    "deletable": false,
    "id": "APAcLpOr_Zcu"
   },
   "outputs": [],
   "source": [
    "data = [['Москва',15740,11056,15945],['Санкт-Петербург',5614,7003,5895]] \n",
    "columns = ['city', 'monday', 'wednesday', 'friday']\n",
    "info = pd.DataFrame(data = data, columns = columns)#Таблица с результатами"
   ]
  },
  {
   "cell_type": "markdown",
   "metadata": {
    "deletable": false,
    "editable": false,
    "id": "-EgPIHYu_Zcu"
   },
   "source": [
    "**Выводы**\n",
    "\n",
    "Данные показывают разницу поведения пользователей:\n",
    "\n",
    "- В Москве пик прослушиваний приходится на понедельник и пятницу, а в среду заметен спад.\n",
    "- В Петербурге, наоборот, больше слушают музыку по средам. Активность в понедельник и пятницу здесь почти в равной мере уступает среде.\n",
    "\n",
    "Значит, данные говорят в пользу первой гипотезы."
   ]
  },
  {
   "cell_type": "markdown",
   "metadata": {
    "deletable": false,
    "editable": false,
    "id": "atZAxtq4_Zcu"
   },
   "source": [
    "### Музыка в начале и в конце недели"
   ]
  },
  {
   "cell_type": "markdown",
   "metadata": {
    "deletable": false,
    "editable": false,
    "id": "eXrQqXFH_Zcu"
   },
   "source": [
    "Согласно второй гипотезе, утром в понедельник в Москве преобладают одни жанры, а в Петербурге — другие. Так же и вечером пятницы преобладают разные жанры — в зависимости от города."
   ]
  },
  {
   "cell_type": "markdown",
   "metadata": {
    "deletable": false,
    "editable": false,
    "id": "S8UcW6Hw_Zcu",
    "tags": [
     "start_task"
    ]
   },
   "source": [
    "**Задание 23**\n",
    "\n",
    "Сохраните таблицы с данными в две переменные:\n",
    "* по Москве — в `moscow_general`;\n",
    "* по Санкт-Петербургу — в `spb_general`."
   ]
  },
  {
   "cell_type": "code",
   "execution_count": 202,
   "metadata": {
    "deletable": false,
    "id": "qeaFfM_P_Zcu"
   },
   "outputs": [],
   "source": [
    "moscow_general = df[df['city'] == 'Moscow']# получение таблицы moscow_general из тех строк таблицы df, \n",
    "# для которых значение в столбце 'city' равно 'Moscow'\n"
   ]
  },
  {
   "cell_type": "code",
   "execution_count": 203,
   "metadata": {
    "deletable": false,
    "id": "ORaVRKto_Zcu"
   },
   "outputs": [],
   "source": [
    "spb_general = df[df['city'] == 'Saint-Petersburg']# получение таблицы spb_general из тех строк таблицы df,\n",
    "# для которых значение в столбце 'city' равно 'Saint-Petersburg'\n"
   ]
  },
  {
   "cell_type": "markdown",
   "metadata": {
    "deletable": false,
    "id": "MEJV-CX2_Zcu",
    "tags": [
     "start_task"
    ]
   },
   "source": [
    "**Задание 24**\n",
    "\n",
    "Создайте функцию `genre_weekday()` с четырьмя параметрами:\n",
    "* таблица (датафрейм) с данными,\n",
    "* день недели,\n",
    "* начальная временная метка в формате 'hh:mm', \n",
    "* последняя временная метка в формате 'hh:mm'.\n",
    "\n",
    "Функция должна вернуть информацию о топ-10 жанров тех треков, которые прослушивали в указанный день, в промежутке между двумя отметками времени."
   ]
  },
  {
   "cell_type": "code",
   "execution_count": 204,
   "metadata": {
    "deletable": false,
    "id": "laJT9BYl_Zcu"
   },
   "outputs": [],
   "source": [
    "def genre_weekday(df, day, time1, time2):\n",
    "    genre_df = df[df['day'] == day]\n",
    "    genre_df = genre_df[genre_df['time'] < time2]\n",
    "    genre_df = genre_df[genre_df['time'] > time1]\n",
    "    \n",
    "    genre_df_grouped = genre_df.groupby ('genre')['genre'].count()\n",
    "    genre_df_sorted = genre_df_grouped.sort_values(ascending=False)\n",
    "    return genre_df_sorted[:10]\n",
    "# Объявление функции genre_weekday() с параметрами table, day, time1, time2,\n",
    "# которая возвращает информацию о самых популярных жанрах в указанный день в\n",
    "# заданное время:\n",
    "# 1) в переменную genre_df сохраняются те строки переданного датафрейма table, для\n",
    "#    которых одновременно:\n",
    "#    - значение в столбце day равно значению аргумента day\n",
    "#    - значение в столбце time больше значения аргумента time1\n",
    "#    - значение в столбце time меньше значения аргумента time2\n",
    "#    Используйте последовательную фильтрацию с помощью логической индексации.\n",
    "# 2) сгруппировать датафрейм genre_df по столбцу genre, взять один из его\n",
    "#    столбцов и посчитать методом count() количество записей для каждого из\n",
    "#    присутствующих жанров, получившийся Series записать в переменную\n",
    "#    genre_df_count\n",
    "# 3) отсортировать genre_df_count по убыванию встречаемости и сохранить\n",
    "#    в переменную genre_df_sorted\n",
    "# 4) вернуть Series из 10 первых значений genre_df_sorted, это будут топ-10\n",
    "#    популярных жанров (в указанный день, в заданное время)\n",
    "\n"
   ]
  },
  {
   "cell_type": "markdown",
   "metadata": {
    "deletable": false,
    "editable": false,
    "id": "la2s2_PF_Zcu",
    "tags": [
     "start_task"
    ]
   },
   "source": [
    "**Задание 25**\n",
    "\n",
    "\n",
    "Cравните результаты функции `genre_weekday()` для Москвы и Санкт-Петербурга в понедельник утром (с 7:00 до 11:00) и в пятницу вечером (с 17:00 до 23:00):"
   ]
  },
  {
   "cell_type": "code",
   "execution_count": 205,
   "metadata": {
    "deletable": false,
    "id": "yz7itPUQ_Zcu"
   },
   "outputs": [
    {
     "data": {
      "text/plain": [
       "genre\n",
       "pop            781\n",
       "dance          549\n",
       "electronic     480\n",
       "rock           474\n",
       "hiphop         286\n",
       "ruspop         186\n",
       "world          181\n",
       "rusrap         175\n",
       "alternative    164\n",
       "unknown        161\n",
       "Name: genre, dtype: int64"
      ]
     },
     "execution_count": 205,
     "metadata": {},
     "output_type": "execute_result"
    }
   ],
   "source": [
    "genre_weekday(moscow_general, 'Monday', '07:00', '11:00')"
   ]
  },
  {
   "cell_type": "code",
   "execution_count": 206,
   "metadata": {
    "deletable": false,
    "id": "kwUcHPdy_Zcu"
   },
   "outputs": [
    {
     "data": {
      "text/plain": [
       "genre\n",
       "pop            218\n",
       "dance          182\n",
       "rock           162\n",
       "electronic     147\n",
       "hiphop          80\n",
       "ruspop          64\n",
       "alternative     58\n",
       "rusrap          55\n",
       "jazz            44\n",
       "classical       40\n",
       "Name: genre, dtype: int64"
      ]
     },
     "execution_count": 206,
     "metadata": {},
     "output_type": "execute_result"
    }
   ],
   "source": [
    "genre_weekday(spb_general, 'Monday', '07:00', '11:00')"
   ]
  },
  {
   "cell_type": "code",
   "execution_count": 207,
   "metadata": {
    "deletable": false,
    "id": "EzXVRE1o_Zcu"
   },
   "outputs": [
    {
     "data": {
      "text/plain": [
       "genre\n",
       "pop            713\n",
       "rock           517\n",
       "dance          495\n",
       "electronic     482\n",
       "hiphop         273\n",
       "world          208\n",
       "ruspop         170\n",
       "alternative    163\n",
       "classical      163\n",
       "rusrap         142\n",
       "Name: genre, dtype: int64"
      ]
     },
     "execution_count": 207,
     "metadata": {},
     "output_type": "execute_result"
    }
   ],
   "source": [
    "genre_weekday(moscow_general, 'Friday', '17:00', '23:00')"
   ]
  },
  {
   "cell_type": "code",
   "execution_count": 208,
   "metadata": {
    "deletable": false,
    "id": "JZaEKu5v_Zcu"
   },
   "outputs": [
    {
     "data": {
      "text/plain": [
       "genre\n",
       "pop            256\n",
       "electronic     216\n",
       "rock           216\n",
       "dance          210\n",
       "hiphop          97\n",
       "alternative     63\n",
       "jazz            61\n",
       "classical       60\n",
       "rusrap          59\n",
       "world           54\n",
       "Name: genre, dtype: int64"
      ]
     },
     "execution_count": 208,
     "metadata": {},
     "output_type": "execute_result"
    }
   ],
   "source": [
    "genre_weekday(spb_general, 'Friday', '17:00', '23:00')"
   ]
  },
  {
   "cell_type": "markdown",
   "metadata": {
    "deletable": false,
    "editable": false,
    "id": "wrCe4MNX_Zcu"
   },
   "source": [
    "**Выводы**\n",
    "\n",
    "Если сравнить топ-10 жанров в понедельник утром, можно сделать такие выводы:\n",
    "\n",
    "1. В Москве и Петербурге слушают похожую музыку. Единственное отличие — в московский рейтинг вошёл жанр “world”, а в петербургский — джаз и классика.\n",
    "\n",
    "2. В Москве пропущенных значений оказалось так много, что значение `'unknown'` заняло десятое место среди самых популярных жанров. Значит, пропущенные значения занимают существенную долю в данных и угрожают достоверности исследования.\n",
    "\n",
    "Вечер пятницы не меняет эту картину. Некоторые жанры поднимаются немного выше, другие спускаются, но в целом топ-10 остаётся тем же самым.\n",
    "\n",
    "Таким образом, вторая гипотеза подтвердилась лишь частично:\n",
    "* Пользователи слушают похожую музыку в начале недели и в конце.\n",
    "* Разница между Москвой и Петербургом не слишком выражена. В Москве чаще слушают русскую популярную музыку, в Петербурге — джаз.\n",
    "\n",
    "Однако пропуски в данных ставят под сомнение этот результат. В Москве их так много, что рейтинг топ-10 мог бы выглядеть иначе, если бы не утерянные  данные о жанрах."
   ]
  },
  {
   "cell_type": "markdown",
   "metadata": {
    "deletable": false,
    "editable": false,
    "id": "JolODAqr_Zcu"
   },
   "source": [
    "### Жанровые предпочтения в Москве и Петербурге\n",
    "\n",
    "Гипотеза: Петербург — столица рэпа, музыку этого жанра там слушают чаще, чем в Москве.  А Москва — город контрастов, в котором, тем не менее, преобладает поп-музыка."
   ]
  },
  {
   "cell_type": "markdown",
   "metadata": {
    "deletable": false,
    "editable": false,
    "id": "DlegSvaT_Zcu",
    "tags": [
     "start_task"
    ]
   },
   "source": [
    "**Задание 26**\n",
    "\n",
    "Сгруппируйте таблицу `moscow_general` по жанру и посчитайте прослушивания треков каждого жанра методом `count()`. Затем отсортируйте результат в порядке убывания и сохраните его в таблице `moscow_genres`."
   ]
  },
  {
   "cell_type": "code",
   "execution_count": 209,
   "metadata": {
    "deletable": false,
    "id": "r19lIPke_Zcu"
   },
   "outputs": [],
   "source": [
    "moscow_genres = moscow_general.groupby ('genre')['genre'].count().sort_values(ascending=False)\n",
    "\n",
    "# подсчёт числа значений 'genre' в этой группировке методом # одной строкой: группировка таблицы moscow_general по столбцу 'genre', \n",
    "\n",
    "# подсчёт числа значений 'genre' в этой группировке методом count(), \n",
    "# сортировка получившегося Series в порядке убывания и сохранение в moscow_genres"
   ]
  },
  {
   "cell_type": "markdown",
   "metadata": {
    "deletable": false,
    "editable": false,
    "id": "6kMuomxTiIr8",
    "tags": [
     "start_task"
    ]
   },
   "source": [
    "**Задание 27**\n",
    "\n",
    "Выведите на экран первые десять строк `moscow_genres`:"
   ]
  },
  {
   "cell_type": "code",
   "execution_count": 213,
   "metadata": {
    "deletable": false,
    "id": "WhCSooF8_Zcv"
   },
   "outputs": [
    {
     "data": {
      "text/plain": [
       "genre\n",
       "pop            5892\n",
       "dance          4435\n",
       "rock           3965\n",
       "electronic     3786\n",
       "hiphop         2096\n",
       "classical      1616\n",
       "world          1432\n",
       "alternative    1379\n",
       "ruspop         1372\n",
       "rusrap         1161\n",
       "Name: genre, dtype: int64"
      ]
     },
     "execution_count": 213,
     "metadata": {},
     "output_type": "execute_result"
    }
   ],
   "source": [
    "moscow_genres.head(10)# просмотр первых 10 строк moscow_genres"
   ]
  },
  {
   "cell_type": "markdown",
   "metadata": {
    "deletable": false,
    "editable": false,
    "id": "cnPG2vnN_Zcv",
    "tags": [
     "start_task"
    ]
   },
   "source": [
    "**Задание 28**\n",
    "\n",
    "\n",
    "Теперь повторите то же и для Петербурга.\n",
    "\n",
    "Сгруппируйте таблицу `spb_general` по жанру. Посчитайте прослушивания треков каждого жанра. Результат отсортируйте в порядке убывания и сохраните в таблице `spb_genres`:\n"
   ]
  },
  {
   "cell_type": "code",
   "execution_count": 215,
   "metadata": {
    "deletable": false,
    "id": "gluLIpE7_Zcv"
   },
   "outputs": [],
   "source": [
    "spb_genres = spb_general.groupby ('genre')['genre'].count().sort_values(ascending=False)# одной строкой: группировка таблицы spb_general по столбцу 'genre', \n",
    "# подсчёт числа значений 'genre' в этой группировке методом count(), \n",
    "# сортировка получившегося Series в порядке убывания и сохранение в spb_genres"
   ]
  },
  {
   "cell_type": "markdown",
   "metadata": {
    "deletable": false,
    "editable": false,
    "id": "5Doha_ODgyQ8",
    "tags": [
     "start_task"
    ]
   },
   "source": [
    "**Задание 29**\n",
    "\n",
    "Выведите на экран первые десять строк `spb_genres`:"
   ]
  },
  {
   "cell_type": "code",
   "execution_count": 216,
   "metadata": {
    "deletable": false,
    "id": "uaGJHjVU_Zcv"
   },
   "outputs": [
    {
     "data": {
      "text/plain": [
       "genre\n",
       "pop            2431\n",
       "dance          1932\n",
       "rock           1879\n",
       "electronic     1736\n",
       "hiphop          960\n",
       "alternative     649\n",
       "classical       646\n",
       "rusrap          564\n",
       "ruspop          538\n",
       "world           515\n",
       "Name: genre, dtype: int64"
      ]
     },
     "execution_count": 216,
     "metadata": {},
     "output_type": "execute_result"
    }
   ],
   "source": [
    "spb_genres.head(10)# просмотр первых 10 строк spb_genres"
   ]
  },
  {
   "cell_type": "markdown",
   "metadata": {
    "deletable": false,
    "editable": false,
    "id": "RY51YJYu_Zcv"
   },
   "source": [
    "**Выводы**"
   ]
  },
  {
   "cell_type": "markdown",
   "metadata": {
    "deletable": false,
    "editable": false,
    "id": "nVhnJEm__Zcv"
   },
   "source": [
    "Гипотеза частично подтвердилась:\n",
    "* Поп-музыка — самый популярный жанр в Москве, как и предполагала гипотеза. Более того, в топ-10 жанров встречается близкий жанр — русская популярная музыка.\n",
    "* Вопреки ожиданиям, рэп одинаково популярен в Москве и Петербурге. \n"
   ]
  },
  {
   "cell_type": "markdown",
   "metadata": {
    "deletable": false,
    "editable": false,
    "id": "ykKQ0N65_Zcv"
   },
   "source": [
    "## Итоги исследования"
   ]
  },
  {
   "cell_type": "markdown",
   "metadata": {
    "deletable": false,
    "editable": false,
    "id": "tjUwbHb3_Zcv"
   },
   "source": [
    "Вы проверили три гипотезы и установили:\n",
    "\n",
    "1. День недели по-разному влияет на активность пользователей в Москве и Петербурге. \n",
    "\n",
    "Первая гипотеза полностью подтвердилась.\n",
    "\n",
    "2. Музыкальные предпочтения не сильно меняются в течение недели — будь то Москва или Петербург. Небольшие различия заметны в начале недели, по понедельникам:\n",
    "* в Москве слушают музыку жанра “world”,\n",
    "* в Петербурге — джаз и классику.\n",
    "\n",
    "Таким образом, вторая гипотеза подтвердилась лишь отчасти. Этот результат мог оказаться иным, если бы не пропуски в данных.\n",
    "\n",
    "3. Во вкусах пользователей Москвы и Петербурга больше общего чем различий. Вопреки ожиданиям, предпочтения жанров в Петербурге напоминают московские.\n",
    "\n",
    "Третья гипотеза не подтвердилась. Если различия в предпочтениях и существуют, на основной массе пользователей они незаметны.\n",
    "\n",
    "**На практике исследования содержат проверки статистических гипотез.**\n",
    "Из данных одного сервиса не всегда можно сделать вывод о всех жителях города.\n",
    "Проверки статистических гипотез покажут, насколько они достоверны, исходя из имеющихся данных. \n",
    "С методами проверок гипотез вы ещё познакомитесь в следующих темах."
   ]
  }
 ],
 "metadata": {
  "ExecuteTimeLog": [
   {
    "duration": 396,
    "start_time": "2022-06-08T16:33:43.384Z"
   },
   {
    "duration": 447,
    "start_time": "2022-06-08T16:35:08.352Z"
   },
   {
    "duration": 67,
    "start_time": "2022-06-08T16:35:52.794Z"
   },
   {
    "duration": 18,
    "start_time": "2022-06-08T16:36:06.817Z"
   },
   {
    "duration": 10,
    "start_time": "2022-06-08T16:36:52.186Z"
   },
   {
    "duration": 30,
    "start_time": "2022-06-08T16:38:19.974Z"
   },
   {
    "duration": 4,
    "start_time": "2022-06-08T16:53:43.235Z"
   },
   {
    "duration": 10,
    "start_time": "2022-06-08T16:59:46.889Z"
   },
   {
    "duration": 5,
    "start_time": "2022-06-08T17:00:51.338Z"
   },
   {
    "duration": 27,
    "start_time": "2022-06-08T17:31:01.886Z"
   },
   {
    "duration": 48,
    "start_time": "2022-06-09T11:08:19.750Z"
   },
   {
    "duration": 34,
    "start_time": "2022-06-09T11:18:49.439Z"
   },
   {
    "duration": 6,
    "start_time": "2022-06-09T11:19:25.999Z"
   },
   {
    "duration": 7,
    "start_time": "2022-06-09T11:22:40.064Z"
   },
   {
    "duration": 6,
    "start_time": "2022-06-09T11:25:08.736Z"
   },
   {
    "duration": 7,
    "start_time": "2022-06-09T11:28:09.250Z"
   },
   {
    "duration": 4,
    "start_time": "2022-06-09T11:31:32.298Z"
   },
   {
    "duration": 6,
    "start_time": "2022-06-09T11:31:47.812Z"
   },
   {
    "duration": 3,
    "start_time": "2022-06-09T11:33:12.626Z"
   },
   {
    "duration": 49,
    "start_time": "2022-06-09T11:33:19.369Z"
   },
   {
    "duration": 7,
    "start_time": "2022-06-09T11:36:55.941Z"
   },
   {
    "duration": 7,
    "start_time": "2022-06-09T11:36:59.879Z"
   },
   {
    "duration": 6,
    "start_time": "2022-06-09T11:37:51.087Z"
   },
   {
    "duration": 6,
    "start_time": "2022-06-09T11:38:13.648Z"
   },
   {
    "duration": 424,
    "start_time": "2022-06-09T11:47:00.863Z"
   },
   {
    "duration": 450,
    "start_time": "2022-06-09T11:47:01.289Z"
   },
   {
    "duration": 18,
    "start_time": "2022-06-09T11:47:01.741Z"
   },
   {
    "duration": 33,
    "start_time": "2022-06-09T11:47:01.762Z"
   },
   {
    "duration": 21,
    "start_time": "2022-06-09T11:47:01.797Z"
   },
   {
    "duration": 39,
    "start_time": "2022-06-09T11:47:01.825Z"
   },
   {
    "duration": 40,
    "start_time": "2022-06-09T11:47:01.866Z"
   },
   {
    "duration": 30,
    "start_time": "2022-06-09T11:47:01.908Z"
   },
   {
    "duration": 48,
    "start_time": "2022-06-09T11:47:01.940Z"
   },
   {
    "duration": 66,
    "start_time": "2022-06-09T11:47:01.992Z"
   },
   {
    "duration": 83,
    "start_time": "2022-06-09T11:47:02.060Z"
   },
   {
    "duration": 26,
    "start_time": "2022-06-09T11:47:02.145Z"
   },
   {
    "duration": 11,
    "start_time": "2022-06-09T11:47:02.172Z"
   },
   {
    "duration": 12,
    "start_time": "2022-06-09T11:47:02.185Z"
   },
   {
    "duration": 40,
    "start_time": "2022-06-09T11:47:02.199Z"
   },
   {
    "duration": 6,
    "start_time": "2022-06-09T11:47:02.241Z"
   },
   {
    "duration": 7,
    "start_time": "2022-06-09T11:47:02.249Z"
   },
   {
    "duration": 7,
    "start_time": "2022-06-09T11:47:02.257Z"
   },
   {
    "duration": 7,
    "start_time": "2022-06-09T11:47:02.266Z"
   },
   {
    "duration": 8,
    "start_time": "2022-06-09T11:47:02.275Z"
   },
   {
    "duration": 12,
    "start_time": "2022-06-09T11:47:02.284Z"
   },
   {
    "duration": 10,
    "start_time": "2022-06-09T11:47:02.298Z"
   },
   {
    "duration": 8,
    "start_time": "2022-06-09T11:47:02.310Z"
   },
   {
    "duration": 12,
    "start_time": "2022-06-09T11:47:02.320Z"
   },
   {
    "duration": 24,
    "start_time": "2022-06-09T11:47:02.333Z"
   },
   {
    "duration": 9,
    "start_time": "2022-06-09T11:47:02.358Z"
   },
   {
    "duration": 8,
    "start_time": "2022-06-09T11:47:02.369Z"
   },
   {
    "duration": 6,
    "start_time": "2022-06-09T11:47:02.380Z"
   },
   {
    "duration": 6,
    "start_time": "2022-06-09T11:47:02.388Z"
   },
   {
    "duration": 7,
    "start_time": "2022-06-09T11:47:02.396Z"
   },
   {
    "duration": 0,
    "start_time": "2022-06-09T11:47:02.405Z"
   },
   {
    "duration": 0,
    "start_time": "2022-06-09T11:47:02.406Z"
   },
   {
    "duration": 0,
    "start_time": "2022-06-09T11:47:02.407Z"
   },
   {
    "duration": 0,
    "start_time": "2022-06-09T11:47:02.408Z"
   },
   {
    "duration": 0,
    "start_time": "2022-06-09T11:47:02.410Z"
   },
   {
    "duration": 0,
    "start_time": "2022-06-09T11:47:02.411Z"
   },
   {
    "duration": 0,
    "start_time": "2022-06-09T11:47:02.412Z"
   },
   {
    "duration": 0,
    "start_time": "2022-06-09T11:47:02.413Z"
   },
   {
    "duration": 102,
    "start_time": "2022-06-09T11:52:31.856Z"
   },
   {
    "duration": 10,
    "start_time": "2022-06-09T11:52:47.796Z"
   },
   {
    "duration": 43,
    "start_time": "2022-06-09T11:52:56.365Z"
   },
   {
    "duration": 429,
    "start_time": "2022-06-09T11:53:04.347Z"
   },
   {
    "duration": 195,
    "start_time": "2022-06-09T11:53:04.778Z"
   },
   {
    "duration": 19,
    "start_time": "2022-06-09T11:53:04.975Z"
   },
   {
    "duration": 39,
    "start_time": "2022-06-09T11:53:04.996Z"
   },
   {
    "duration": 3,
    "start_time": "2022-06-09T11:53:05.038Z"
   },
   {
    "duration": 6,
    "start_time": "2022-06-09T11:53:05.058Z"
   },
   {
    "duration": 15,
    "start_time": "2022-06-09T11:53:05.067Z"
   },
   {
    "duration": 7,
    "start_time": "2022-06-09T11:53:05.084Z"
   },
   {
    "duration": 31,
    "start_time": "2022-06-09T11:53:05.093Z"
   },
   {
    "duration": 51,
    "start_time": "2022-06-09T11:53:05.127Z"
   },
   {
    "duration": 28,
    "start_time": "2022-06-09T11:53:05.180Z"
   },
   {
    "duration": 91,
    "start_time": "2022-06-09T11:53:05.210Z"
   },
   {
    "duration": 6,
    "start_time": "2022-06-09T11:53:05.303Z"
   },
   {
    "duration": 4,
    "start_time": "2022-06-09T11:53:05.310Z"
   },
   {
    "duration": 6,
    "start_time": "2022-06-09T11:53:05.316Z"
   },
   {
    "duration": 7,
    "start_time": "2022-06-09T11:53:05.324Z"
   },
   {
    "duration": 9,
    "start_time": "2022-06-09T11:53:05.333Z"
   },
   {
    "duration": 3,
    "start_time": "2022-06-09T11:53:05.359Z"
   },
   {
    "duration": 6,
    "start_time": "2022-06-09T11:53:05.363Z"
   },
   {
    "duration": 7,
    "start_time": "2022-06-09T11:53:05.371Z"
   },
   {
    "duration": 9,
    "start_time": "2022-06-09T11:53:05.379Z"
   },
   {
    "duration": 5,
    "start_time": "2022-06-09T11:53:05.390Z"
   },
   {
    "duration": 10,
    "start_time": "2022-06-09T11:53:05.396Z"
   },
   {
    "duration": 7,
    "start_time": "2022-06-09T11:53:05.408Z"
   },
   {
    "duration": 9,
    "start_time": "2022-06-09T11:53:05.417Z"
   },
   {
    "duration": 13,
    "start_time": "2022-06-09T11:53:05.428Z"
   },
   {
    "duration": 15,
    "start_time": "2022-06-09T11:53:05.443Z"
   },
   {
    "duration": 4,
    "start_time": "2022-06-09T11:53:05.462Z"
   },
   {
    "duration": 12,
    "start_time": "2022-06-09T11:53:05.468Z"
   },
   {
    "duration": 9,
    "start_time": "2022-06-09T11:53:05.483Z"
   },
   {
    "duration": 0,
    "start_time": "2022-06-09T11:53:05.494Z"
   },
   {
    "duration": 0,
    "start_time": "2022-06-09T11:53:05.495Z"
   },
   {
    "duration": 0,
    "start_time": "2022-06-09T11:53:05.497Z"
   },
   {
    "duration": 0,
    "start_time": "2022-06-09T11:53:05.499Z"
   },
   {
    "duration": 0,
    "start_time": "2022-06-09T11:53:05.501Z"
   },
   {
    "duration": 0,
    "start_time": "2022-06-09T11:53:05.502Z"
   },
   {
    "duration": 0,
    "start_time": "2022-06-09T11:53:05.504Z"
   },
   {
    "duration": 0,
    "start_time": "2022-06-09T11:53:05.505Z"
   },
   {
    "duration": 3,
    "start_time": "2022-06-09T11:56:16.712Z"
   },
   {
    "duration": 65,
    "start_time": "2022-06-09T11:56:57.907Z"
   },
   {
    "duration": 80,
    "start_time": "2022-06-09T11:57:59.478Z"
   },
   {
    "duration": 62,
    "start_time": "2022-06-09T11:58:46.297Z"
   },
   {
    "duration": 8,
    "start_time": "2022-06-09T12:08:34.151Z"
   },
   {
    "duration": 3,
    "start_time": "2022-06-09T12:09:41.513Z"
   },
   {
    "duration": 5,
    "start_time": "2022-06-09T12:10:01.098Z"
   },
   {
    "duration": 38,
    "start_time": "2022-06-09T12:12:22.943Z"
   },
   {
    "duration": 42,
    "start_time": "2022-06-09T12:12:42.761Z"
   },
   {
    "duration": 11,
    "start_time": "2022-06-09T12:30:05.948Z"
   },
   {
    "duration": 41,
    "start_time": "2022-06-09T12:31:20.094Z"
   },
   {
    "duration": 13,
    "start_time": "2022-06-09T12:46:58.309Z"
   },
   {
    "duration": 11,
    "start_time": "2022-06-09T12:48:27.072Z"
   },
   {
    "duration": 11,
    "start_time": "2022-06-09T12:54:26.105Z"
   },
   {
    "duration": 13,
    "start_time": "2022-06-09T12:54:47.901Z"
   },
   {
    "duration": 12,
    "start_time": "2022-06-09T12:55:38.596Z"
   },
   {
    "duration": 1188,
    "start_time": "2022-06-09T12:56:56.956Z"
   },
   {
    "duration": 522,
    "start_time": "2022-06-09T12:57:22.261Z"
   },
   {
    "duration": 12,
    "start_time": "2022-06-09T12:59:37.866Z"
   },
   {
    "duration": 379,
    "start_time": "2022-06-09T13:10:13.813Z"
   },
   {
    "duration": 179,
    "start_time": "2022-06-09T13:10:14.194Z"
   },
   {
    "duration": 19,
    "start_time": "2022-06-09T13:10:14.375Z"
   },
   {
    "duration": 31,
    "start_time": "2022-06-09T13:10:14.396Z"
   },
   {
    "duration": 2,
    "start_time": "2022-06-09T13:10:14.429Z"
   },
   {
    "duration": 27,
    "start_time": "2022-06-09T13:10:14.432Z"
   },
   {
    "duration": 11,
    "start_time": "2022-06-09T13:10:14.461Z"
   },
   {
    "duration": 10,
    "start_time": "2022-06-09T13:10:14.474Z"
   },
   {
    "duration": 29,
    "start_time": "2022-06-09T13:10:14.485Z"
   },
   {
    "duration": 22,
    "start_time": "2022-06-09T13:10:14.517Z"
   },
   {
    "duration": 28,
    "start_time": "2022-06-09T13:10:14.558Z"
   },
   {
    "duration": 85,
    "start_time": "2022-06-09T13:10:14.587Z"
   },
   {
    "duration": 98,
    "start_time": "2022-06-09T13:10:14.674Z"
   },
   {
    "duration": 70,
    "start_time": "2022-06-09T13:10:14.774Z"
   },
   {
    "duration": 76,
    "start_time": "2022-06-09T13:10:14.846Z"
   },
   {
    "duration": 13,
    "start_time": "2022-06-09T13:10:14.924Z"
   },
   {
    "duration": 60,
    "start_time": "2022-06-09T13:10:14.939Z"
   },
   {
    "duration": 3,
    "start_time": "2022-06-09T13:10:15.001Z"
   },
   {
    "duration": 19,
    "start_time": "2022-06-09T13:10:15.006Z"
   },
   {
    "duration": 31,
    "start_time": "2022-06-09T13:10:15.028Z"
   },
   {
    "duration": 54,
    "start_time": "2022-06-09T13:10:15.061Z"
   },
   {
    "duration": 8,
    "start_time": "2022-06-09T13:10:15.117Z"
   },
   {
    "duration": 5,
    "start_time": "2022-06-09T13:10:15.127Z"
   },
   {
    "duration": 19,
    "start_time": "2022-06-09T13:10:15.134Z"
   },
   {
    "duration": 12,
    "start_time": "2022-06-09T13:10:15.155Z"
   },
   {
    "duration": 10,
    "start_time": "2022-06-09T13:10:15.169Z"
   },
   {
    "duration": 7,
    "start_time": "2022-06-09T13:10:15.180Z"
   },
   {
    "duration": 9,
    "start_time": "2022-06-09T13:10:15.190Z"
   },
   {
    "duration": 7,
    "start_time": "2022-06-09T13:10:15.201Z"
   },
   {
    "duration": 0,
    "start_time": "2022-06-09T13:10:15.209Z"
   },
   {
    "duration": 0,
    "start_time": "2022-06-09T13:10:15.211Z"
   },
   {
    "duration": 0,
    "start_time": "2022-06-09T13:10:15.212Z"
   },
   {
    "duration": 0,
    "start_time": "2022-06-09T13:10:15.213Z"
   },
   {
    "duration": 0,
    "start_time": "2022-06-09T13:10:15.214Z"
   },
   {
    "duration": 0,
    "start_time": "2022-06-09T13:10:15.215Z"
   },
   {
    "duration": 0,
    "start_time": "2022-06-09T13:10:15.216Z"
   },
   {
    "duration": 0,
    "start_time": "2022-06-09T13:10:15.217Z"
   },
   {
    "duration": 13,
    "start_time": "2022-06-09T13:11:17.112Z"
   },
   {
    "duration": 12,
    "start_time": "2022-06-09T13:47:27.289Z"
   },
   {
    "duration": 70,
    "start_time": "2022-06-09T14:26:01.370Z"
   },
   {
    "duration": 55,
    "start_time": "2022-06-09T14:38:40.003Z"
   },
   {
    "duration": 4,
    "start_time": "2022-06-09T14:39:17.359Z"
   },
   {
    "duration": 4,
    "start_time": "2022-06-09T14:41:13.457Z"
   },
   {
    "duration": 3,
    "start_time": "2022-06-09T14:42:22.704Z"
   },
   {
    "duration": 199,
    "start_time": "2022-06-09T14:42:22.710Z"
   },
   {
    "duration": 13,
    "start_time": "2022-06-09T14:42:22.911Z"
   },
   {
    "duration": 45,
    "start_time": "2022-06-09T14:42:22.927Z"
   },
   {
    "duration": 17,
    "start_time": "2022-06-09T14:42:22.975Z"
   },
   {
    "duration": 9,
    "start_time": "2022-06-09T14:42:22.993Z"
   },
   {
    "duration": 41,
    "start_time": "2022-06-09T14:42:23.004Z"
   },
   {
    "duration": 25,
    "start_time": "2022-06-09T14:42:23.047Z"
   },
   {
    "duration": 47,
    "start_time": "2022-06-09T14:42:23.073Z"
   },
   {
    "duration": 30,
    "start_time": "2022-06-09T14:42:23.121Z"
   },
   {
    "duration": 27,
    "start_time": "2022-06-09T14:42:23.154Z"
   },
   {
    "duration": 77,
    "start_time": "2022-06-09T14:42:23.182Z"
   },
   {
    "duration": 73,
    "start_time": "2022-06-09T14:42:23.261Z"
   },
   {
    "duration": 75,
    "start_time": "2022-06-09T14:42:23.336Z"
   },
   {
    "duration": 50,
    "start_time": "2022-06-09T14:42:23.413Z"
   },
   {
    "duration": 12,
    "start_time": "2022-06-09T14:42:23.465Z"
   },
   {
    "duration": 42,
    "start_time": "2022-06-09T14:42:23.478Z"
   },
   {
    "duration": 12,
    "start_time": "2022-06-09T14:42:23.522Z"
   },
   {
    "duration": 15,
    "start_time": "2022-06-09T14:42:23.558Z"
   },
   {
    "duration": 11,
    "start_time": "2022-06-09T14:42:23.574Z"
   },
   {
    "duration": 18,
    "start_time": "2022-06-09T14:42:23.586Z"
   },
   {
    "duration": 17,
    "start_time": "2022-06-09T14:42:23.606Z"
   },
   {
    "duration": 13,
    "start_time": "2022-06-09T14:42:23.625Z"
   },
   {
    "duration": 6,
    "start_time": "2022-06-09T14:42:23.640Z"
   },
   {
    "duration": 7,
    "start_time": "2022-06-09T14:42:23.647Z"
   },
   {
    "duration": 13,
    "start_time": "2022-06-09T14:42:23.656Z"
   },
   {
    "duration": 18,
    "start_time": "2022-06-09T14:42:23.673Z"
   },
   {
    "duration": 10,
    "start_time": "2022-06-09T14:42:23.693Z"
   },
   {
    "duration": 8,
    "start_time": "2022-06-09T14:42:23.707Z"
   },
   {
    "duration": 39,
    "start_time": "2022-06-09T14:42:23.717Z"
   },
   {
    "duration": 0,
    "start_time": "2022-06-09T14:42:23.759Z"
   },
   {
    "duration": 0,
    "start_time": "2022-06-09T14:42:23.760Z"
   },
   {
    "duration": 0,
    "start_time": "2022-06-09T14:42:23.761Z"
   },
   {
    "duration": 0,
    "start_time": "2022-06-09T14:42:23.763Z"
   },
   {
    "duration": 0,
    "start_time": "2022-06-09T14:42:23.764Z"
   },
   {
    "duration": 0,
    "start_time": "2022-06-09T14:42:23.766Z"
   },
   {
    "duration": 0,
    "start_time": "2022-06-09T14:42:23.768Z"
   },
   {
    "duration": 0,
    "start_time": "2022-06-09T14:42:23.769Z"
   },
   {
    "duration": 4,
    "start_time": "2022-06-09T14:43:03.961Z"
   },
   {
    "duration": 2,
    "start_time": "2022-06-09T14:43:09.653Z"
   },
   {
    "duration": 8,
    "start_time": "2022-06-09T14:46:16.420Z"
   },
   {
    "duration": 8,
    "start_time": "2022-06-09T14:46:38.362Z"
   },
   {
    "duration": 33,
    "start_time": "2022-06-09T14:49:59.675Z"
   },
   {
    "duration": 3,
    "start_time": "2022-06-09T14:50:52.102Z"
   },
   {
    "duration": 191,
    "start_time": "2022-06-09T14:50:52.108Z"
   },
   {
    "duration": 11,
    "start_time": "2022-06-09T14:50:52.301Z"
   },
   {
    "duration": 55,
    "start_time": "2022-06-09T14:50:52.314Z"
   },
   {
    "duration": 20,
    "start_time": "2022-06-09T14:50:52.372Z"
   },
   {
    "duration": 19,
    "start_time": "2022-06-09T14:50:52.394Z"
   },
   {
    "duration": 31,
    "start_time": "2022-06-09T14:50:52.415Z"
   },
   {
    "duration": 18,
    "start_time": "2022-06-09T14:50:52.448Z"
   },
   {
    "duration": 62,
    "start_time": "2022-06-09T14:50:52.468Z"
   },
   {
    "duration": 47,
    "start_time": "2022-06-09T14:50:52.532Z"
   },
   {
    "duration": 41,
    "start_time": "2022-06-09T14:50:52.581Z"
   },
   {
    "duration": 96,
    "start_time": "2022-06-09T14:50:52.624Z"
   },
   {
    "duration": 78,
    "start_time": "2022-06-09T14:50:52.724Z"
   },
   {
    "duration": 92,
    "start_time": "2022-06-09T14:50:52.804Z"
   },
   {
    "duration": 41,
    "start_time": "2022-06-09T14:50:52.897Z"
   },
   {
    "duration": 26,
    "start_time": "2022-06-09T14:50:52.940Z"
   },
   {
    "duration": 53,
    "start_time": "2022-06-09T14:50:52.968Z"
   },
   {
    "duration": 15,
    "start_time": "2022-06-09T14:50:53.023Z"
   },
   {
    "duration": 22,
    "start_time": "2022-06-09T14:50:53.040Z"
   },
   {
    "duration": 11,
    "start_time": "2022-06-09T14:50:53.064Z"
   },
   {
    "duration": 21,
    "start_time": "2022-06-09T14:50:53.077Z"
   },
   {
    "duration": 6,
    "start_time": "2022-06-09T14:50:53.100Z"
   },
   {
    "duration": 19,
    "start_time": "2022-06-09T14:50:53.107Z"
   },
   {
    "duration": 10,
    "start_time": "2022-06-09T14:50:53.128Z"
   },
   {
    "duration": 38,
    "start_time": "2022-06-09T14:50:53.139Z"
   },
   {
    "duration": 34,
    "start_time": "2022-06-09T14:50:53.178Z"
   },
   {
    "duration": 30,
    "start_time": "2022-06-09T14:50:53.214Z"
   },
   {
    "duration": 25,
    "start_time": "2022-06-09T14:50:53.246Z"
   },
   {
    "duration": 34,
    "start_time": "2022-06-09T14:50:53.273Z"
   },
   {
    "duration": 33,
    "start_time": "2022-06-09T14:50:53.310Z"
   },
   {
    "duration": 0,
    "start_time": "2022-06-09T14:50:53.345Z"
   },
   {
    "duration": 0,
    "start_time": "2022-06-09T14:50:53.346Z"
   },
   {
    "duration": 0,
    "start_time": "2022-06-09T14:50:53.347Z"
   },
   {
    "duration": 0,
    "start_time": "2022-06-09T14:50:53.349Z"
   },
   {
    "duration": 0,
    "start_time": "2022-06-09T14:50:53.350Z"
   },
   {
    "duration": 0,
    "start_time": "2022-06-09T14:50:53.351Z"
   },
   {
    "duration": 0,
    "start_time": "2022-06-09T14:50:53.353Z"
   },
   {
    "duration": 0,
    "start_time": "2022-06-09T14:50:53.354Z"
   },
   {
    "duration": 31,
    "start_time": "2022-06-09T14:52:10.519Z"
   },
   {
    "duration": 6,
    "start_time": "2022-06-09T14:53:31.508Z"
   },
   {
    "duration": 12,
    "start_time": "2022-06-09T14:53:57.144Z"
   },
   {
    "duration": 31,
    "start_time": "2022-06-09T14:54:16.648Z"
   },
   {
    "duration": 36,
    "start_time": "2022-06-09T14:54:52.616Z"
   },
   {
    "duration": 2,
    "start_time": "2022-06-09T14:58:37.608Z"
   },
   {
    "duration": 2,
    "start_time": "2022-06-09T14:58:48.228Z"
   },
   {
    "duration": 175,
    "start_time": "2022-06-09T14:58:48.232Z"
   },
   {
    "duration": 12,
    "start_time": "2022-06-09T14:58:48.409Z"
   },
   {
    "duration": 43,
    "start_time": "2022-06-09T14:58:48.423Z"
   },
   {
    "duration": 2,
    "start_time": "2022-06-09T14:58:48.469Z"
   },
   {
    "duration": 16,
    "start_time": "2022-06-09T14:58:48.473Z"
   },
   {
    "duration": 19,
    "start_time": "2022-06-09T14:58:48.491Z"
   },
   {
    "duration": 8,
    "start_time": "2022-06-09T14:58:48.512Z"
   },
   {
    "duration": 31,
    "start_time": "2022-06-09T14:58:48.522Z"
   },
   {
    "duration": 28,
    "start_time": "2022-06-09T14:58:48.559Z"
   },
   {
    "duration": 33,
    "start_time": "2022-06-09T14:58:48.589Z"
   },
   {
    "duration": 88,
    "start_time": "2022-06-09T14:58:48.624Z"
   },
   {
    "duration": 93,
    "start_time": "2022-06-09T14:58:48.714Z"
   },
   {
    "duration": 81,
    "start_time": "2022-06-09T14:58:48.810Z"
   },
   {
    "duration": 46,
    "start_time": "2022-06-09T14:58:48.893Z"
   },
   {
    "duration": 21,
    "start_time": "2022-06-09T14:58:48.941Z"
   },
   {
    "duration": 42,
    "start_time": "2022-06-09T14:58:48.963Z"
   },
   {
    "duration": 11,
    "start_time": "2022-06-09T14:58:49.007Z"
   },
   {
    "duration": 12,
    "start_time": "2022-06-09T14:58:49.020Z"
   },
   {
    "duration": 3,
    "start_time": "2022-06-09T14:58:49.058Z"
   },
   {
    "duration": 9,
    "start_time": "2022-06-09T14:58:49.063Z"
   },
   {
    "duration": 7,
    "start_time": "2022-06-09T14:58:49.073Z"
   },
   {
    "duration": 5,
    "start_time": "2022-06-09T14:58:49.082Z"
   },
   {
    "duration": 34,
    "start_time": "2022-06-09T14:58:49.089Z"
   },
   {
    "duration": 0,
    "start_time": "2022-06-09T14:58:49.125Z"
   },
   {
    "duration": 0,
    "start_time": "2022-06-09T14:58:49.127Z"
   },
   {
    "duration": 0,
    "start_time": "2022-06-09T14:58:49.128Z"
   },
   {
    "duration": 1,
    "start_time": "2022-06-09T14:58:49.129Z"
   },
   {
    "duration": 0,
    "start_time": "2022-06-09T14:58:49.131Z"
   },
   {
    "duration": 0,
    "start_time": "2022-06-09T14:58:49.132Z"
   },
   {
    "duration": 0,
    "start_time": "2022-06-09T14:58:49.134Z"
   },
   {
    "duration": 0,
    "start_time": "2022-06-09T14:58:49.135Z"
   },
   {
    "duration": 4,
    "start_time": "2022-06-09T14:59:12.607Z"
   },
   {
    "duration": 3,
    "start_time": "2022-06-09T15:13:09.264Z"
   },
   {
    "duration": 189,
    "start_time": "2022-06-09T15:13:09.270Z"
   },
   {
    "duration": 12,
    "start_time": "2022-06-09T15:13:09.461Z"
   },
   {
    "duration": 34,
    "start_time": "2022-06-09T15:13:09.474Z"
   },
   {
    "duration": 3,
    "start_time": "2022-06-09T15:13:09.510Z"
   },
   {
    "duration": 22,
    "start_time": "2022-06-09T15:13:09.514Z"
   },
   {
    "duration": 29,
    "start_time": "2022-06-09T15:13:09.538Z"
   },
   {
    "duration": 6,
    "start_time": "2022-06-09T15:13:09.569Z"
   },
   {
    "duration": 29,
    "start_time": "2022-06-09T15:13:09.577Z"
   },
   {
    "duration": 50,
    "start_time": "2022-06-09T15:13:09.608Z"
   },
   {
    "duration": 39,
    "start_time": "2022-06-09T15:13:09.662Z"
   },
   {
    "duration": 78,
    "start_time": "2022-06-09T15:13:09.703Z"
   },
   {
    "duration": 83,
    "start_time": "2022-06-09T15:13:09.783Z"
   },
   {
    "duration": 58,
    "start_time": "2022-06-09T15:13:09.868Z"
   },
   {
    "duration": 60,
    "start_time": "2022-06-09T15:13:09.928Z"
   },
   {
    "duration": 13,
    "start_time": "2022-06-09T15:13:09.990Z"
   },
   {
    "duration": 57,
    "start_time": "2022-06-09T15:13:10.004Z"
   },
   {
    "duration": 13,
    "start_time": "2022-06-09T15:13:10.063Z"
   },
   {
    "duration": 13,
    "start_time": "2022-06-09T15:13:10.078Z"
   },
   {
    "duration": 4,
    "start_time": "2022-06-09T15:13:10.093Z"
   },
   {
    "duration": 51,
    "start_time": "2022-06-09T15:13:10.099Z"
   },
   {
    "duration": 0,
    "start_time": "2022-06-09T15:13:10.152Z"
   },
   {
    "duration": 0,
    "start_time": "2022-06-09T15:13:10.154Z"
   },
   {
    "duration": 0,
    "start_time": "2022-06-09T15:13:10.156Z"
   },
   {
    "duration": 0,
    "start_time": "2022-06-09T15:13:10.157Z"
   },
   {
    "duration": 1,
    "start_time": "2022-06-09T15:13:10.158Z"
   },
   {
    "duration": 0,
    "start_time": "2022-06-09T15:13:10.161Z"
   },
   {
    "duration": 0,
    "start_time": "2022-06-09T15:13:10.163Z"
   },
   {
    "duration": 0,
    "start_time": "2022-06-09T15:13:10.164Z"
   },
   {
    "duration": 0,
    "start_time": "2022-06-09T15:13:10.166Z"
   },
   {
    "duration": 0,
    "start_time": "2022-06-09T15:13:10.168Z"
   },
   {
    "duration": 0,
    "start_time": "2022-06-09T15:13:10.170Z"
   },
   {
    "duration": 0,
    "start_time": "2022-06-09T15:13:10.171Z"
   },
   {
    "duration": 0,
    "start_time": "2022-06-09T15:13:10.172Z"
   },
   {
    "duration": 0,
    "start_time": "2022-06-09T15:13:10.174Z"
   },
   {
    "duration": 0,
    "start_time": "2022-06-09T15:13:10.176Z"
   },
   {
    "duration": 0,
    "start_time": "2022-06-09T15:13:10.177Z"
   },
   {
    "duration": 0,
    "start_time": "2022-06-09T15:13:10.178Z"
   },
   {
    "duration": 5,
    "start_time": "2022-06-09T15:13:36.354Z"
   },
   {
    "duration": 5,
    "start_time": "2022-06-09T15:13:39.476Z"
   },
   {
    "duration": 20,
    "start_time": "2022-06-09T15:16:03.939Z"
   },
   {
    "duration": 16,
    "start_time": "2022-06-09T15:16:06.708Z"
   },
   {
    "duration": 15,
    "start_time": "2022-06-09T15:16:09.065Z"
   },
   {
    "duration": 15,
    "start_time": "2022-06-09T15:16:11.763Z"
   },
   {
    "duration": 17,
    "start_time": "2022-06-09T15:16:14.266Z"
   },
   {
    "duration": 21,
    "start_time": "2022-06-09T15:16:16.898Z"
   },
   {
    "duration": 18,
    "start_time": "2022-06-09T15:49:27.666Z"
   },
   {
    "duration": 4,
    "start_time": "2022-06-09T15:55:23.457Z"
   },
   {
    "duration": 8,
    "start_time": "2022-06-09T16:00:47.654Z"
   },
   {
    "duration": 3,
    "start_time": "2022-06-09T16:01:45.350Z"
   },
   {
    "duration": 4,
    "start_time": "2022-06-09T16:01:48.300Z"
   },
   {
    "duration": 7,
    "start_time": "2022-06-09T16:04:15.716Z"
   },
   {
    "duration": 7,
    "start_time": "2022-06-09T16:04:17.851Z"
   },
   {
    "duration": 11,
    "start_time": "2022-06-09T16:04:54.970Z"
   },
   {
    "duration": 10,
    "start_time": "2022-06-09T16:05:45.705Z"
   },
   {
    "duration": 12,
    "start_time": "2022-06-09T16:05:48.234Z"
   },
   {
    "duration": 11,
    "start_time": "2022-06-09T16:05:50.710Z"
   },
   {
    "duration": 13,
    "start_time": "2022-06-09T16:06:51.931Z"
   },
   {
    "duration": 9,
    "start_time": "2022-06-10T05:41:37.144Z"
   },
   {
    "duration": 39,
    "start_time": "2022-06-10T05:50:03.413Z"
   },
   {
    "duration": 6,
    "start_time": "2022-06-10T05:50:14.377Z"
   },
   {
    "duration": 413,
    "start_time": "2022-06-10T05:51:19.225Z"
   },
   {
    "duration": 221,
    "start_time": "2022-06-10T05:51:19.640Z"
   },
   {
    "duration": 17,
    "start_time": "2022-06-10T05:51:19.863Z"
   },
   {
    "duration": 31,
    "start_time": "2022-06-10T05:51:19.882Z"
   },
   {
    "duration": 15,
    "start_time": "2022-06-10T05:51:19.915Z"
   },
   {
    "duration": 24,
    "start_time": "2022-06-10T05:51:19.932Z"
   },
   {
    "duration": 24,
    "start_time": "2022-06-10T05:51:19.958Z"
   },
   {
    "duration": 23,
    "start_time": "2022-06-10T05:51:19.983Z"
   },
   {
    "duration": 52,
    "start_time": "2022-06-10T05:51:20.007Z"
   },
   {
    "duration": 30,
    "start_time": "2022-06-10T05:51:20.061Z"
   },
   {
    "duration": 43,
    "start_time": "2022-06-10T05:51:20.093Z"
   },
   {
    "duration": 77,
    "start_time": "2022-06-10T05:51:20.137Z"
   },
   {
    "duration": 71,
    "start_time": "2022-06-10T05:51:20.216Z"
   },
   {
    "duration": 59,
    "start_time": "2022-06-10T05:51:20.289Z"
   },
   {
    "duration": 37,
    "start_time": "2022-06-10T05:51:20.350Z"
   },
   {
    "duration": 10,
    "start_time": "2022-06-10T05:51:20.389Z"
   },
   {
    "duration": 56,
    "start_time": "2022-06-10T05:51:20.400Z"
   },
   {
    "duration": 11,
    "start_time": "2022-06-10T05:51:20.457Z"
   },
   {
    "duration": 11,
    "start_time": "2022-06-10T05:51:20.469Z"
   },
   {
    "duration": 3,
    "start_time": "2022-06-10T05:51:20.482Z"
   },
   {
    "duration": 22,
    "start_time": "2022-06-10T05:51:20.486Z"
   },
   {
    "duration": 14,
    "start_time": "2022-06-10T05:51:20.528Z"
   },
   {
    "duration": 15,
    "start_time": "2022-06-10T05:51:20.543Z"
   },
   {
    "duration": 13,
    "start_time": "2022-06-10T05:51:20.559Z"
   },
   {
    "duration": 14,
    "start_time": "2022-06-10T05:51:20.574Z"
   },
   {
    "duration": 38,
    "start_time": "2022-06-10T05:51:20.590Z"
   },
   {
    "duration": 4,
    "start_time": "2022-06-10T05:51:20.629Z"
   },
   {
    "duration": 14,
    "start_time": "2022-06-10T05:51:20.636Z"
   },
   {
    "duration": 9,
    "start_time": "2022-06-10T05:51:20.652Z"
   },
   {
    "duration": 4,
    "start_time": "2022-06-10T05:51:20.662Z"
   },
   {
    "duration": 20,
    "start_time": "2022-06-10T05:51:20.667Z"
   },
   {
    "duration": 6,
    "start_time": "2022-06-10T05:51:20.689Z"
   },
   {
    "duration": 7,
    "start_time": "2022-06-10T05:51:20.696Z"
   },
   {
    "duration": 4,
    "start_time": "2022-06-10T05:51:20.704Z"
   },
   {
    "duration": 6,
    "start_time": "2022-06-10T05:51:20.710Z"
   },
   {
    "duration": 7,
    "start_time": "2022-06-10T05:51:20.718Z"
   },
   {
    "duration": 13,
    "start_time": "2022-06-10T05:51:20.727Z"
   },
   {
    "duration": 5,
    "start_time": "2022-06-10T05:51:20.742Z"
   },
   {
    "duration": 16,
    "start_time": "2022-06-10T05:51:28.280Z"
   },
   {
    "duration": 16,
    "start_time": "2022-06-10T05:53:16.103Z"
   },
   {
    "duration": 12,
    "start_time": "2022-06-10T05:53:52.048Z"
   },
   {
    "duration": 12,
    "start_time": "2022-06-10T05:54:36.930Z"
   },
   {
    "duration": 23,
    "start_time": "2022-06-10T05:55:02.537Z"
   },
   {
    "duration": 11,
    "start_time": "2022-06-10T05:55:08.695Z"
   },
   {
    "duration": 17,
    "start_time": "2022-06-10T05:55:49.355Z"
   },
   {
    "duration": 11,
    "start_time": "2022-06-10T05:56:04.276Z"
   },
   {
    "duration": 11,
    "start_time": "2022-06-10T05:56:07.504Z"
   },
   {
    "duration": 16,
    "start_time": "2022-06-10T05:56:10.705Z"
   },
   {
    "duration": 14,
    "start_time": "2022-06-10T05:56:13.214Z"
   },
   {
    "duration": 21,
    "start_time": "2022-06-10T05:56:23.186Z"
   },
   {
    "duration": 13,
    "start_time": "2022-06-10T05:56:30.023Z"
   },
   {
    "duration": 3,
    "start_time": "2022-06-10T06:02:41.589Z"
   },
   {
    "duration": 182,
    "start_time": "2022-06-10T06:02:41.594Z"
   },
   {
    "duration": 10,
    "start_time": "2022-06-10T06:02:41.778Z"
   },
   {
    "duration": 54,
    "start_time": "2022-06-10T06:02:41.789Z"
   },
   {
    "duration": 2,
    "start_time": "2022-06-10T06:02:41.845Z"
   },
   {
    "duration": 31,
    "start_time": "2022-06-10T06:02:41.848Z"
   },
   {
    "duration": 20,
    "start_time": "2022-06-10T06:02:41.880Z"
   },
   {
    "duration": 21,
    "start_time": "2022-06-10T06:02:41.901Z"
   },
   {
    "duration": 39,
    "start_time": "2022-06-10T06:02:41.923Z"
   },
   {
    "duration": 24,
    "start_time": "2022-06-10T06:02:41.964Z"
   },
   {
    "duration": 48,
    "start_time": "2022-06-10T06:02:41.990Z"
   },
   {
    "duration": 85,
    "start_time": "2022-06-10T06:02:42.040Z"
   },
   {
    "duration": 64,
    "start_time": "2022-06-10T06:02:42.126Z"
   },
   {
    "duration": 62,
    "start_time": "2022-06-10T06:02:42.191Z"
   },
   {
    "duration": 36,
    "start_time": "2022-06-10T06:02:42.255Z"
   },
   {
    "duration": 10,
    "start_time": "2022-06-10T06:02:42.292Z"
   },
   {
    "duration": 57,
    "start_time": "2022-06-10T06:02:42.304Z"
   },
   {
    "duration": 11,
    "start_time": "2022-06-10T06:02:42.363Z"
   },
   {
    "duration": 27,
    "start_time": "2022-06-10T06:02:42.377Z"
   },
   {
    "duration": 13,
    "start_time": "2022-06-10T06:02:42.406Z"
   },
   {
    "duration": 43,
    "start_time": "2022-06-10T06:02:42.420Z"
   },
   {
    "duration": 36,
    "start_time": "2022-06-10T06:02:42.464Z"
   },
   {
    "duration": 32,
    "start_time": "2022-06-10T06:02:42.502Z"
   },
   {
    "duration": 36,
    "start_time": "2022-06-10T06:02:42.536Z"
   },
   {
    "duration": 30,
    "start_time": "2022-06-10T06:02:42.573Z"
   },
   {
    "duration": 36,
    "start_time": "2022-06-10T06:02:42.605Z"
   },
   {
    "duration": 25,
    "start_time": "2022-06-10T06:02:42.642Z"
   },
   {
    "duration": 36,
    "start_time": "2022-06-10T06:02:42.669Z"
   },
   {
    "duration": 23,
    "start_time": "2022-06-10T06:02:42.708Z"
   },
   {
    "duration": 25,
    "start_time": "2022-06-10T06:02:42.732Z"
   },
   {
    "duration": 18,
    "start_time": "2022-06-10T06:02:42.759Z"
   },
   {
    "duration": 19,
    "start_time": "2022-06-10T06:02:42.778Z"
   },
   {
    "duration": 20,
    "start_time": "2022-06-10T06:02:42.798Z"
   },
   {
    "duration": 15,
    "start_time": "2022-06-10T06:02:42.820Z"
   },
   {
    "duration": 16,
    "start_time": "2022-06-10T06:04:07.851Z"
   },
   {
    "duration": 10,
    "start_time": "2022-06-10T06:04:10.694Z"
   },
   {
    "duration": 17,
    "start_time": "2022-06-10T06:04:14.006Z"
   },
   {
    "duration": 12,
    "start_time": "2022-06-10T06:04:16.885Z"
   },
   {
    "duration": 2,
    "start_time": "2022-06-10T06:10:45.395Z"
   },
   {
    "duration": 172,
    "start_time": "2022-06-10T06:10:45.399Z"
   },
   {
    "duration": 10,
    "start_time": "2022-06-10T06:10:45.572Z"
   },
   {
    "duration": 36,
    "start_time": "2022-06-10T06:10:45.583Z"
   },
   {
    "duration": 7,
    "start_time": "2022-06-10T06:10:45.621Z"
   },
   {
    "duration": 12,
    "start_time": "2022-06-10T06:10:45.629Z"
   },
   {
    "duration": 14,
    "start_time": "2022-06-10T06:10:45.643Z"
   },
   {
    "duration": 11,
    "start_time": "2022-06-10T06:10:45.659Z"
   },
   {
    "duration": 32,
    "start_time": "2022-06-10T06:10:45.671Z"
   },
   {
    "duration": 20,
    "start_time": "2022-06-10T06:10:45.705Z"
   },
   {
    "duration": 23,
    "start_time": "2022-06-10T06:10:45.727Z"
   },
   {
    "duration": 66,
    "start_time": "2022-06-10T06:10:45.751Z"
   },
   {
    "duration": 76,
    "start_time": "2022-06-10T06:10:45.818Z"
   },
   {
    "duration": 64,
    "start_time": "2022-06-10T06:10:45.896Z"
   },
   {
    "duration": 43,
    "start_time": "2022-06-10T06:10:45.961Z"
   },
   {
    "duration": 27,
    "start_time": "2022-06-10T06:10:46.005Z"
   },
   {
    "duration": 49,
    "start_time": "2022-06-10T06:10:46.034Z"
   },
   {
    "duration": 12,
    "start_time": "2022-06-10T06:10:46.084Z"
   },
   {
    "duration": 12,
    "start_time": "2022-06-10T06:10:46.098Z"
   },
   {
    "duration": 17,
    "start_time": "2022-06-10T06:10:46.112Z"
   },
   {
    "duration": 29,
    "start_time": "2022-06-10T06:10:46.131Z"
   },
   {
    "duration": 15,
    "start_time": "2022-06-10T06:10:46.162Z"
   },
   {
    "duration": 23,
    "start_time": "2022-06-10T06:10:46.178Z"
   },
   {
    "duration": 19,
    "start_time": "2022-06-10T06:10:46.203Z"
   },
   {
    "duration": 27,
    "start_time": "2022-06-10T06:10:46.224Z"
   },
   {
    "duration": 27,
    "start_time": "2022-06-10T06:10:46.253Z"
   },
   {
    "duration": 10,
    "start_time": "2022-06-10T06:10:46.283Z"
   },
   {
    "duration": 27,
    "start_time": "2022-06-10T06:10:46.295Z"
   },
   {
    "duration": 21,
    "start_time": "2022-06-10T06:10:46.326Z"
   },
   {
    "duration": 11,
    "start_time": "2022-06-10T06:10:46.349Z"
   },
   {
    "duration": 38,
    "start_time": "2022-06-10T06:10:46.362Z"
   },
   {
    "duration": 23,
    "start_time": "2022-06-10T06:10:46.402Z"
   },
   {
    "duration": 26,
    "start_time": "2022-06-10T06:10:46.427Z"
   },
   {
    "duration": 21,
    "start_time": "2022-06-10T06:10:46.455Z"
   },
   {
    "duration": 2,
    "start_time": "2022-06-10T06:10:46.478Z"
   },
   {
    "duration": 15,
    "start_time": "2022-06-10T06:10:46.482Z"
   },
   {
    "duration": 9,
    "start_time": "2022-06-10T06:10:46.499Z"
   },
   {
    "duration": 13,
    "start_time": "2022-06-10T06:10:46.509Z"
   },
   {
    "duration": 9,
    "start_time": "2022-06-10T06:21:53.170Z"
   },
   {
    "duration": 27,
    "start_time": "2022-06-10T06:22:39.010Z"
   },
   {
    "duration": 8,
    "start_time": "2022-06-10T06:31:39.223Z"
   },
   {
    "duration": 2,
    "start_time": "2022-06-10T06:32:06.907Z"
   },
   {
    "duration": 161,
    "start_time": "2022-06-10T06:32:06.911Z"
   },
   {
    "duration": 10,
    "start_time": "2022-06-10T06:32:07.074Z"
   },
   {
    "duration": 47,
    "start_time": "2022-06-10T06:32:07.085Z"
   },
   {
    "duration": 3,
    "start_time": "2022-06-10T06:32:07.134Z"
   },
   {
    "duration": 8,
    "start_time": "2022-06-10T06:32:07.138Z"
   },
   {
    "duration": 9,
    "start_time": "2022-06-10T06:32:07.147Z"
   },
   {
    "duration": 4,
    "start_time": "2022-06-10T06:32:07.157Z"
   },
   {
    "duration": 23,
    "start_time": "2022-06-10T06:32:07.162Z"
   },
   {
    "duration": 15,
    "start_time": "2022-06-10T06:32:07.186Z"
   },
   {
    "duration": 45,
    "start_time": "2022-06-10T06:32:07.203Z"
   },
   {
    "duration": 63,
    "start_time": "2022-06-10T06:32:07.250Z"
   },
   {
    "duration": 70,
    "start_time": "2022-06-10T06:32:07.315Z"
   },
   {
    "duration": 63,
    "start_time": "2022-06-10T06:32:07.387Z"
   },
   {
    "duration": 37,
    "start_time": "2022-06-10T06:32:07.452Z"
   },
   {
    "duration": 10,
    "start_time": "2022-06-10T06:32:07.490Z"
   },
   {
    "duration": 53,
    "start_time": "2022-06-10T06:32:07.502Z"
   },
   {
    "duration": 11,
    "start_time": "2022-06-10T06:32:07.556Z"
   },
   {
    "duration": 10,
    "start_time": "2022-06-10T06:32:07.569Z"
   },
   {
    "duration": 3,
    "start_time": "2022-06-10T06:32:07.581Z"
   },
   {
    "duration": 41,
    "start_time": "2022-06-10T06:32:07.586Z"
   },
   {
    "duration": 14,
    "start_time": "2022-06-10T06:32:07.629Z"
   },
   {
    "duration": 15,
    "start_time": "2022-06-10T06:32:07.644Z"
   },
   {
    "duration": 13,
    "start_time": "2022-06-10T06:32:07.660Z"
   },
   {
    "duration": 14,
    "start_time": "2022-06-10T06:32:07.674Z"
   },
   {
    "duration": 38,
    "start_time": "2022-06-10T06:32:07.690Z"
   },
   {
    "duration": 4,
    "start_time": "2022-06-10T06:32:07.729Z"
   },
   {
    "duration": 15,
    "start_time": "2022-06-10T06:32:07.734Z"
   },
   {
    "duration": 9,
    "start_time": "2022-06-10T06:32:07.752Z"
   },
   {
    "duration": 4,
    "start_time": "2022-06-10T06:32:07.763Z"
   },
   {
    "duration": 19,
    "start_time": "2022-06-10T06:32:07.769Z"
   },
   {
    "duration": 9,
    "start_time": "2022-06-10T06:32:07.790Z"
   },
   {
    "duration": 37,
    "start_time": "2022-06-10T06:32:07.801Z"
   },
   {
    "duration": 11,
    "start_time": "2022-06-10T06:32:07.840Z"
   },
   {
    "duration": 2,
    "start_time": "2022-06-10T06:32:07.852Z"
   },
   {
    "duration": 4,
    "start_time": "2022-06-10T06:32:07.856Z"
   },
   {
    "duration": 4,
    "start_time": "2022-06-10T06:32:07.862Z"
   },
   {
    "duration": 6,
    "start_time": "2022-06-10T06:32:07.867Z"
   },
   {
    "duration": 11,
    "start_time": "2022-06-10T06:32:19.441Z"
   },
   {
    "duration": 8,
    "start_time": "2022-06-10T06:33:47.582Z"
   },
   {
    "duration": 9,
    "start_time": "2022-06-10T06:35:01.233Z"
   },
   {
    "duration": 3,
    "start_time": "2022-06-10T06:35:29.349Z"
   },
   {
    "duration": 162,
    "start_time": "2022-06-10T06:35:29.354Z"
   },
   {
    "duration": 16,
    "start_time": "2022-06-10T06:35:29.518Z"
   },
   {
    "duration": 30,
    "start_time": "2022-06-10T06:35:29.535Z"
   },
   {
    "duration": 3,
    "start_time": "2022-06-10T06:35:29.567Z"
   },
   {
    "duration": 7,
    "start_time": "2022-06-10T06:35:29.571Z"
   },
   {
    "duration": 10,
    "start_time": "2022-06-10T06:35:29.579Z"
   },
   {
    "duration": 6,
    "start_time": "2022-06-10T06:35:29.590Z"
   },
   {
    "duration": 48,
    "start_time": "2022-06-10T06:35:29.598Z"
   },
   {
    "duration": 18,
    "start_time": "2022-06-10T06:35:29.647Z"
   },
   {
    "duration": 22,
    "start_time": "2022-06-10T06:35:29.667Z"
   },
   {
    "duration": 78,
    "start_time": "2022-06-10T06:35:29.690Z"
   },
   {
    "duration": 77,
    "start_time": "2022-06-10T06:35:29.770Z"
   },
   {
    "duration": 53,
    "start_time": "2022-06-10T06:35:29.849Z"
   },
   {
    "duration": 45,
    "start_time": "2022-06-10T06:35:29.904Z"
   },
   {
    "duration": 11,
    "start_time": "2022-06-10T06:35:29.951Z"
   },
   {
    "duration": 40,
    "start_time": "2022-06-10T06:35:29.963Z"
   },
   {
    "duration": 25,
    "start_time": "2022-06-10T06:35:30.005Z"
   },
   {
    "duration": 10,
    "start_time": "2022-06-10T06:35:30.032Z"
   },
   {
    "duration": 35,
    "start_time": "2022-06-10T06:35:30.043Z"
   },
   {
    "duration": 45,
    "start_time": "2022-06-10T06:35:30.080Z"
   },
   {
    "duration": 30,
    "start_time": "2022-06-10T06:35:30.126Z"
   },
   {
    "duration": 20,
    "start_time": "2022-06-10T06:35:30.158Z"
   },
   {
    "duration": 34,
    "start_time": "2022-06-10T06:35:30.180Z"
   },
   {
    "duration": 23,
    "start_time": "2022-06-10T06:35:30.216Z"
   },
   {
    "duration": 41,
    "start_time": "2022-06-10T06:35:30.241Z"
   },
   {
    "duration": 11,
    "start_time": "2022-06-10T06:35:30.284Z"
   },
   {
    "duration": 38,
    "start_time": "2022-06-10T06:35:30.296Z"
   },
   {
    "duration": 24,
    "start_time": "2022-06-10T06:35:30.337Z"
   },
   {
    "duration": 11,
    "start_time": "2022-06-10T06:35:30.363Z"
   },
   {
    "duration": 33,
    "start_time": "2022-06-10T06:35:30.376Z"
   },
   {
    "duration": 11,
    "start_time": "2022-06-10T06:35:30.411Z"
   },
   {
    "duration": 27,
    "start_time": "2022-06-10T06:35:30.423Z"
   },
   {
    "duration": 17,
    "start_time": "2022-06-10T06:35:30.452Z"
   },
   {
    "duration": 23,
    "start_time": "2022-06-10T06:35:30.471Z"
   },
   {
    "duration": 21,
    "start_time": "2022-06-10T06:35:30.496Z"
   },
   {
    "duration": 16,
    "start_time": "2022-06-10T06:35:30.519Z"
   },
   {
    "duration": 15,
    "start_time": "2022-06-10T06:35:30.536Z"
   },
   {
    "duration": 5,
    "start_time": "2022-06-10T06:37:20.910Z"
   },
   {
    "duration": 6,
    "start_time": "2022-06-10T06:39:10.882Z"
   },
   {
    "duration": 6,
    "start_time": "2022-06-10T06:39:23.140Z"
   },
   {
    "duration": 4,
    "start_time": "2022-06-10T06:39:52.906Z"
   }
  ],
  "colab": {
   "collapsed_sections": [
    "E0vqbgi9ay0H",
    "VUC88oWjTJw2"
   ],
   "name": "yandex_music_project_2021.2.ipynb",
   "provenance": []
  },
  "kernelspec": {
   "display_name": "Python 3 (ipykernel)",
   "language": "python",
   "name": "python3"
  },
  "language_info": {
   "codemirror_mode": {
    "name": "ipython",
    "version": 3
   },
   "file_extension": ".py",
   "mimetype": "text/x-python",
   "name": "python",
   "nbconvert_exporter": "python",
   "pygments_lexer": "ipython3",
   "version": "3.9.5"
  },
  "toc": {
   "base_numbering": 1,
   "nav_menu": {
    "height": "215px",
    "width": "403px"
   },
   "number_sections": true,
   "sideBar": true,
   "skip_h1_title": true,
   "title_cell": "Table of Contents",
   "title_sidebar": "Contents",
   "toc_cell": false,
   "toc_position": {
    "height": "calc(100% - 180px)",
    "left": "10px",
    "top": "150px",
    "width": "285.825px"
   },
   "toc_section_display": true,
   "toc_window_display": true
  }
 },
 "nbformat": 4,
 "nbformat_minor": 1
}
