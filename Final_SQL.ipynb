{
 "cells": [
  {
   "cell_type": "markdown",
   "metadata": {},
   "source": [
    "<div style=\"border:solid green 2px; padding: 20px\">\n",
    "\n",
    "<b>Привет, Катя! Поздравляю с выполнением очередного проекта!</b>\n",
    "\n",
    "Меня зовут Петр Раздобреев и я буду проверять твою работу. Попробую помочь сделать тебе её еще лучше! В Практикуме принято общени на ты, но если это дискомфортно, то сообщи об этом)\n",
    "\n",
    "Ниже ты найдешь мои комментарии - пожалуйста, не перемещай, не изменяй и не удаляй их. Я буду использовать цветовую разметку:\n",
    "\n",
    "<div class=\"alert alert-danger\">\n",
    "<b>Комментарий ревьюера:</b>☁️Так выделены самые важные замечания. Без их отработки проект не будет принят. </div>\n",
    "\n",
    "<div class=\"alert alert-warning\">\n",
    "<b>Комментарий ревьюера:</b>⛅️ Так выделены небольшие замечания.Такие замечания в проекте допустимы, это пространство для улучшений в будущем.\n",
    "</div>\n",
    "\n",
    "<div class=\"alert alert-success\">\n",
    "<b>Комментарий ревьюера:</b>☀️Так я выделяю успешные идеи.</div>\n",
    "\n",
    "Давай работать над проектом в диалоге: если ты что-то меняешь в проекте или отвечаешь на мои комменатри — пиши об этом. Мне будет легче отследить изменения, если ты выделишь свои комментарии:\n",
    "<div class=\"alert alert-info\"> <b>Комментарий студента:</b> Например, вот так.</div>\n",
    "\n",
    "Всё это поможет выполнить повторную проверку твоего проекта оперативнее. \n",
    "    "
   ]
  },
  {
   "cell_type": "code",
   "execution_count": 48,
   "metadata": {},
   "outputs": [],
   "source": [
    "# импортируем библиотеки\n",
    "import pandas as pd\n",
    "from sqlalchemy import create_engine\n",
    "#!pip install SQLAlchemy==1.4\n",
    "# устанавливаем параметры\n",
    "db_config = {'user': 'praktikum_student', # имя пользователя\n",
    "'pwd': 'Sdf4$2;d-d30pp', # пароль\n",
    "'host': 'rc1b-wcoijxj3yxfsf3fs.mdb.yandexcloud.net',\n",
    "'port': 6432, # порт подключения\n",
    "'db': 'data-analyst-final-project-db'} # название базы данных\n",
    "connection_string = 'postgresql://{}:{}@{}:{}/{}'.format(db_config['user'],\n",
    " db_config['pwd'],\n",
    " db_config['host'],\n",
    " db_config['port'],\n",
    " db_config['db'])\n",
    "# сохраняем коннектор\n",
    "engine = create_engine(connection_string, connect_args={'sslmode':'require'})"
   ]
  },
  {
   "cell_type": "code",
   "execution_count": 49,
   "metadata": {
    "scrolled": true
   },
   "outputs": [
    {
     "name": "stdout",
     "output_type": "stream",
     "text": [
      "Таблица с книгами\n",
      "   book_id  author_id                                              title  \\\n",
      "0        1        546                                       'Salem's Lot   \n",
      "1        2        465                 1 000 Places to See Before You Die   \n",
      "2        3        407  13 Little Blue Envelopes (Little Blue Envelope...   \n",
      "3        4         82  1491: New Revelations of the Americas Before C...   \n",
      "4        5        125                                               1776   \n",
      "\n",
      "   num_pages publication_date  publisher_id  \n",
      "0        594       2005-11-01            93  \n",
      "1        992       2003-05-22           336  \n",
      "2        322       2010-12-21           135  \n",
      "3        541       2006-10-10           309  \n",
      "4        386       2006-07-04           268  \n",
      "Таблица издательств\n",
      "   publisher_id                          publisher\n",
      "0             1                                Ace\n",
      "1             2                           Ace Book\n",
      "2             3                          Ace Books\n",
      "3             4                      Ace Hardcover\n",
      "4             5  Addison Wesley Publishing Company\n",
      "Таблица авторов\n",
      "   author_id                          author\n",
      "0          1                      A.S. Byatt\n",
      "1          2  Aesop/Laura Harris/Laura Gibbs\n",
      "2          3                 Agatha Christie\n",
      "3          4                   Alan Brennert\n",
      "4          5        Alan Moore/David   Lloyd\n",
      "Таблица рейтинга книг\n",
      "   rating_id  book_id       username  rating\n",
      "0          1        1     ryanfranco       4\n",
      "1          2        1  grantpatricia       2\n",
      "2          3        1   brandtandrea       5\n",
      "3          4        2       lorichen       3\n",
      "4          5        2    mariokeller       2\n",
      "Таблица отзывов\n",
      "   review_id  book_id       username  \\\n",
      "0          1        1   brandtandrea   \n",
      "1          2        1     ryanfranco   \n",
      "2          3        2       lorichen   \n",
      "3          4        3  johnsonamanda   \n",
      "4          5        3    scotttamara   \n",
      "\n",
      "                                                text  \n",
      "0  Mention society tell send professor analysis. ...  \n",
      "1  Foot glass pretty audience hit themselves. Amo...  \n",
      "2  Listen treat keep worry. Miss husband tax but ...  \n",
      "3  Finally month interesting blue could nature cu...  \n",
      "4  Nation purpose heavy give wait song will. List...  \n"
     ]
    }
   ],
   "source": [
    "query_books = ''' SELECT * FROM books ''' \n",
    "query_publishers = ''' SELECT * FROM publishers ''' \n",
    "query_authors = ''' SELECT * FROM authors ''' \n",
    "query_ratings = ''' SELECT * FROM ratings ''' \n",
    "query_reviews = ''' SELECT * FROM reviews ''' \n",
    "\n",
    "books = pd.io.sql.read_sql(query_books, con=engine) \n",
    "publishers= pd.io.sql.read_sql(query_publishers, con=engine)\n",
    "authors=pd.io.sql.read_sql(query_authors, con=engine)\n",
    "ratings=pd.io.sql.read_sql(query_ratings, con=engine)\n",
    "reviews= pd.io.sql.read_sql(query_reviews, con=engine)\n",
    "\n",
    "print(\"Таблица с книгами\")\n",
    "print(books.head())\n",
    "print(\"Таблица издательств\")\n",
    "print(publishers.head())\n",
    "print(\"Таблица авторов\")\n",
    "print(authors.head())\n",
    "print(\"Таблица рейтинга книг\")\n",
    "print(ratings.head())\n",
    "print(\"Таблица отзывов\")\n",
    "print(reviews.head())"
   ]
  },
  {
   "cell_type": "markdown",
   "metadata": {},
   "source": [
    "<div class=\"alert alert-warning\">\n",
    "<b>Комментарий ревьюера:</b>⛅️ \n",
    "\n",
    "По другим датафреймам бы тоже вывод хотя бы добавить \n",
    "</div>"
   ]
  },
  {
   "cell_type": "markdown",
   "metadata": {},
   "source": [
    "Готово :)"
   ]
  },
  {
   "cell_type": "markdown",
   "metadata": {},
   "source": [
    "### задание. \n",
    "Посчитайте, сколько книг вышло после 1 января 2000 года"
   ]
  },
  {
   "cell_type": "code",
   "execution_count": 50,
   "metadata": {},
   "outputs": [
    {
     "name": "stdout",
     "output_type": "stream",
     "text": [
      "   Вышло книг с после 1 янв.2000г\n",
      "0                             819\n"
     ]
    }
   ],
   "source": [
    "query_1 = ''' SELECT count(book_id) as \"Вышло книг с после 1 янв.2000г\" FROM books  \n",
    "              where CAST (publication_date as date) > '2000-01-01' ''' \n",
    "\n",
    "books_cnt = pd.io.sql.read_sql(query_1, con=engine) \n",
    "\n",
    "print(books_cnt)"
   ]
  },
  {
   "cell_type": "markdown",
   "metadata": {},
   "source": [
    "<div class=\"alert alert-success\">\n",
    "<b>Комментарий ревьюера:</b>☀️\n",
    "    \n",
    "Абсолютно верно"
   ]
  },
  {
   "cell_type": "markdown",
   "metadata": {},
   "source": [
    "После 1 января 2000 года было выпущено 819 книг."
   ]
  },
  {
   "cell_type": "markdown",
   "metadata": {},
   "source": [
    "### Задание.\n",
    "Для каждой книги посчитайте количество обзоров и среднюю оценку"
   ]
  },
  {
   "cell_type": "code",
   "execution_count": 51,
   "metadata": {},
   "outputs": [
    {
     "data": {
      "text/html": [
       "<div>\n",
       "<style scoped>\n",
       "    .dataframe tbody tr th:only-of-type {\n",
       "        vertical-align: middle;\n",
       "    }\n",
       "\n",
       "    .dataframe tbody tr th {\n",
       "        vertical-align: top;\n",
       "    }\n",
       "\n",
       "    .dataframe thead th {\n",
       "        text-align: right;\n",
       "    }\n",
       "</style>\n",
       "<table border=\"1\" class=\"dataframe\">\n",
       "  <thead>\n",
       "    <tr style=\"text-align: right;\">\n",
       "      <th></th>\n",
       "      <th>Название книнги</th>\n",
       "      <th>Обзоров на книгу</th>\n",
       "      <th>Средний рейтинг</th>\n",
       "    </tr>\n",
       "  </thead>\n",
       "  <tbody>\n",
       "    <tr>\n",
       "      <th>0</th>\n",
       "      <td>Pop Goes the Weasel (Alex Cross  #5)</td>\n",
       "      <td>2.0</td>\n",
       "      <td>5.00</td>\n",
       "    </tr>\n",
       "    <tr>\n",
       "      <th>1</th>\n",
       "      <td>The Ghost Map: The Story of London's Most Terr...</td>\n",
       "      <td>2.0</td>\n",
       "      <td>5.00</td>\n",
       "    </tr>\n",
       "    <tr>\n",
       "      <th>2</th>\n",
       "      <td>In the Hand of the Goddess (Song of the Liones...</td>\n",
       "      <td>2.0</td>\n",
       "      <td>5.00</td>\n",
       "    </tr>\n",
       "    <tr>\n",
       "      <th>3</th>\n",
       "      <td>Tai-Pan (Asian Saga  #2)</td>\n",
       "      <td>2.0</td>\n",
       "      <td>5.00</td>\n",
       "    </tr>\n",
       "    <tr>\n",
       "      <th>4</th>\n",
       "      <td>How to Be a Domestic Goddess: Baking and the A...</td>\n",
       "      <td>1.0</td>\n",
       "      <td>5.00</td>\n",
       "    </tr>\n",
       "    <tr>\n",
       "      <th>...</th>\n",
       "      <td>...</td>\n",
       "      <td>...</td>\n",
       "      <td>...</td>\n",
       "    </tr>\n",
       "    <tr>\n",
       "      <th>995</th>\n",
       "      <td>The World Is Flat: A Brief History of the Twen...</td>\n",
       "      <td>3.0</td>\n",
       "      <td>2.25</td>\n",
       "    </tr>\n",
       "    <tr>\n",
       "      <th>996</th>\n",
       "      <td>Junky</td>\n",
       "      <td>2.0</td>\n",
       "      <td>2.00</td>\n",
       "    </tr>\n",
       "    <tr>\n",
       "      <th>997</th>\n",
       "      <td>His Excellency: George Washington</td>\n",
       "      <td>2.0</td>\n",
       "      <td>2.00</td>\n",
       "    </tr>\n",
       "    <tr>\n",
       "      <th>998</th>\n",
       "      <td>Drowning Ruth</td>\n",
       "      <td>3.0</td>\n",
       "      <td>2.00</td>\n",
       "    </tr>\n",
       "    <tr>\n",
       "      <th>999</th>\n",
       "      <td>Harvesting the Heart</td>\n",
       "      <td>2.0</td>\n",
       "      <td>1.50</td>\n",
       "    </tr>\n",
       "  </tbody>\n",
       "</table>\n",
       "<p>1000 rows × 3 columns</p>\n",
       "</div>"
      ],
      "text/plain": [
       "                                       Название книнги  Обзоров на книгу  \\\n",
       "0                 Pop Goes the Weasel (Alex Cross  #5)               2.0   \n",
       "1    The Ghost Map: The Story of London's Most Terr...               2.0   \n",
       "2    In the Hand of the Goddess (Song of the Liones...               2.0   \n",
       "3                             Tai-Pan (Asian Saga  #2)               2.0   \n",
       "4    How to Be a Domestic Goddess: Baking and the A...               1.0   \n",
       "..                                                 ...               ...   \n",
       "995  The World Is Flat: A Brief History of the Twen...               3.0   \n",
       "996                                              Junky               2.0   \n",
       "997                  His Excellency: George Washington               2.0   \n",
       "998                                      Drowning Ruth               3.0   \n",
       "999                               Harvesting the Heart               2.0   \n",
       "\n",
       "     Средний рейтинг  \n",
       "0               5.00  \n",
       "1               5.00  \n",
       "2               5.00  \n",
       "3               5.00  \n",
       "4               5.00  \n",
       "..               ...  \n",
       "995             2.25  \n",
       "996             2.00  \n",
       "997             2.00  \n",
       "998             2.00  \n",
       "999             1.50  \n",
       "\n",
       "[1000 rows x 3 columns]"
      ]
     },
     "execution_count": 51,
     "metadata": {},
     "output_type": "execute_result"
    }
   ],
   "source": [
    "query_2 = ''' SELECT Main.title as \"Название книнги\", RW.reviews as \"Обзоров на книгу\", R.rate as \"Средний рейтинг\"\n",
    "              FROM books Main \n",
    "              left join (select book_id, count (review_id) as reviews from reviews GROUP by book_id) as RW on Main.book_id = RW.book_id\n",
    "              left join (select book_id, AVG(rating) as rate from ratings GROUP by book_id) as R on Main.book_id = R.book_id\n",
    "              order by 3 desc\n",
    "          ''' \n",
    "\n",
    "books_rate = pd.io.sql.read_sql(query_2, con=engine) \n",
    "\n",
    "books_rate"
   ]
  },
  {
   "cell_type": "markdown",
   "metadata": {},
   "source": [
    "<div class=\"alert alert-success\">\n",
    "<b>Комментарий ревьюера:</b>☀️\n",
    "    \n",
    "Рекомендовал бы сортировать по числу ревью, чтобы дополнительно проверять, что не получилось каких-то экстра больших значений </div>"
   ]
  },
  {
   "cell_type": "code",
   "execution_count": 52,
   "metadata": {},
   "outputs": [
    {
     "data": {
      "text/plain": [
       "count    994.000000\n",
       "mean       2.809859\n",
       "std        1.055873\n",
       "min        1.000000\n",
       "25%        2.000000\n",
       "50%        3.000000\n",
       "75%        3.000000\n",
       "max        7.000000\n",
       "Name: Обзоров на книгу, dtype: float64"
      ]
     },
     "execution_count": 52,
     "metadata": {},
     "output_type": "execute_result"
    }
   ],
   "source": [
    "a = books_rate['Обзоров на книгу'].describe()\n",
    "a"
   ]
  },
  {
   "cell_type": "code",
   "execution_count": 53,
   "metadata": {},
   "outputs": [
    {
     "data": {
      "text/plain": [
       "count    1000.000000\n",
       "mean        3.898973\n",
       "std         0.562376\n",
       "min         1.500000\n",
       "25%         3.500000\n",
       "50%         4.000000\n",
       "75%         4.333333\n",
       "max         5.000000\n",
       "Name: Средний рейтинг, dtype: float64"
      ]
     },
     "execution_count": 53,
     "metadata": {},
     "output_type": "execute_result"
    }
   ],
   "source": [
    "b = books_rate['Средний рейтинг'].describe()\n",
    "b"
   ]
  },
  {
   "cell_type": "markdown",
   "metadata": {},
   "source": [
    "- КОЛИЧЕСТВО ОБЗОРОВ. В среднем, на одну книгу составлено 2,8 обзора. Максимальное число обзоров на книгу - 7. Минимальное - 1.\n",
    "- СРЕДНЯЯ ОЦЕНКА КНИГИ. Средний рейтинг книги - 3,89. Минимальный рейтинг - 1,5. Максимальный - 5. "
   ]
  },
  {
   "cell_type": "markdown",
   "metadata": {},
   "source": [
    "### Задание. \n",
    "Определите издательство, которое выпустило наибольшее число книг толще 50 страниц — так вы исключите из анализа брошюры"
   ]
  },
  {
   "cell_type": "code",
   "execution_count": 54,
   "metadata": {},
   "outputs": [
    {
     "data": {
      "text/html": [
       "<div>\n",
       "<style scoped>\n",
       "    .dataframe tbody tr th:only-of-type {\n",
       "        vertical-align: middle;\n",
       "    }\n",
       "\n",
       "    .dataframe tbody tr th {\n",
       "        vertical-align: top;\n",
       "    }\n",
       "\n",
       "    .dataframe thead th {\n",
       "        text-align: right;\n",
       "    }\n",
       "</style>\n",
       "<table border=\"1\" class=\"dataframe\">\n",
       "  <thead>\n",
       "    <tr style=\"text-align: right;\">\n",
       "      <th></th>\n",
       "      <th>Количество книг</th>\n",
       "      <th>Издательство</th>\n",
       "    </tr>\n",
       "  </thead>\n",
       "  <tbody>\n",
       "    <tr>\n",
       "      <th>0</th>\n",
       "      <td>42</td>\n",
       "      <td>Penguin Books</td>\n",
       "    </tr>\n",
       "  </tbody>\n",
       "</table>\n",
       "</div>"
      ],
      "text/plain": [
       "   Количество книг   Издательство\n",
       "0               42  Penguin Books"
      ]
     },
     "execution_count": 54,
     "metadata": {},
     "output_type": "execute_result"
    }
   ],
   "source": [
    "query_3 = ''' with Temp as \n",
    "                (SELECT count(FAT.book_id) as cnt, P.publisher\n",
    "                from (select * FROM books where num_pages > 50) as FAT\n",
    "                join publishers P on FAT.publisher_id=P.publisher_id\n",
    "                group by publisher)\n",
    "              select cnt as \"Количество книг\", \n",
    "              publisher as \"Издательство\"\n",
    "              from Temp\n",
    "              where cnt = (select MAX(cnt) from Temp)              \n",
    "          ''' \n",
    "\n",
    "top_pub = pd.io.sql.read_sql(query_3, con=engine) \n",
    "\n",
    "top_pub"
   ]
  },
  {
   "cell_type": "markdown",
   "metadata": {},
   "source": [
    "Издательство, выпустившее наибольшее число книг толще 50 страниц -  \"Penguin Books\". На их счету выпуск 42 таких книг."
   ]
  },
  {
   "cell_type": "markdown",
   "metadata": {},
   "source": [
    "<div class=\"alert alert-success\">\n",
    "<b>Комментарий ревьюера:</b>☀️\n",
    "    \n",
    "Издательство также определено верно!</div>"
   ]
  },
  {
   "cell_type": "markdown",
   "metadata": {},
   "source": [
    "### Задание.\n",
    "Определите автора с самой высокой средней оценкой книг — учитывайте только книги с 50 и более оценками"
   ]
  },
  {
   "cell_type": "code",
   "execution_count": 55,
   "metadata": {},
   "outputs": [
    {
     "data": {
      "text/html": [
       "<div>\n",
       "<style scoped>\n",
       "    .dataframe tbody tr th:only-of-type {\n",
       "        vertical-align: middle;\n",
       "    }\n",
       "\n",
       "    .dataframe tbody tr th {\n",
       "        vertical-align: top;\n",
       "    }\n",
       "\n",
       "    .dataframe thead th {\n",
       "        text-align: right;\n",
       "    }\n",
       "</style>\n",
       "<table border=\"1\" class=\"dataframe\">\n",
       "  <thead>\n",
       "    <tr style=\"text-align: right;\">\n",
       "      <th></th>\n",
       "      <th>Автор</th>\n",
       "      <th>Средняя оценка</th>\n",
       "    </tr>\n",
       "  </thead>\n",
       "  <tbody>\n",
       "    <tr>\n",
       "      <th>0</th>\n",
       "      <td>J.K. Rowling/Mary GrandPré</td>\n",
       "      <td>4.283844</td>\n",
       "    </tr>\n",
       "    <tr>\n",
       "      <th>1</th>\n",
       "      <td>Markus Zusak/Cao Xuân Việt Khương</td>\n",
       "      <td>4.264151</td>\n",
       "    </tr>\n",
       "    <tr>\n",
       "      <th>2</th>\n",
       "      <td>J.R.R. Tolkien</td>\n",
       "      <td>4.258446</td>\n",
       "    </tr>\n",
       "  </tbody>\n",
       "</table>\n",
       "</div>"
      ],
      "text/plain": [
       "                               Автор  Средняя оценка\n",
       "0         J.K. Rowling/Mary GrandPré        4.283844\n",
       "1  Markus Zusak/Cao Xuân Việt Khương        4.264151\n",
       "2                     J.R.R. Tolkien        4.258446"
      ]
     },
     "execution_count": 55,
     "metadata": {},
     "output_type": "execute_result"
    }
   ],
   "source": [
    "query_4 = ''' with RATE as (select count(rating_id) as rate_cnt, book_id from ratings group by book_id),\n",
    "              RATE_AVG as (select book_id, AVG(rating) as AVG_rate from ratings GROUP by book_id)\n",
    "                select author as \"Автор\", AVG(AVG_rate) as \"Средняя оценка\" \n",
    "                from books \n",
    "                join authors on books.author_id = authors.author_id\n",
    "                join RATE on books.book_id = RATE.book_id\n",
    "                join RATE_AVG on books.book_id = RATE_AVG.book_id\n",
    "                where rate_cnt > 50\n",
    "                GROUP by author\n",
    "                order by 2 desc\n",
    "                limit 3\n",
    "          ''' \n",
    "\n",
    "top_author = pd.io.sql.read_sql(query_4, con=engine) \n",
    "\n",
    "top_author"
   ]
  },
  {
   "cell_type": "markdown",
   "metadata": {},
   "source": [
    "<div class=\"alert alert-danger\">\n",
    "<b>Комментарий ревьюера:</b>☁️\n",
    "\n",
    "Тут проблема в том, что ожидался средний рейтинг автора по всем его книгам, а вот даже в топе нескольки книг мамы Гарри Поттера\n",
    "</div>"
   ]
  },
  {
   "cell_type": "markdown",
   "metadata": {},
   "source": [
    "<div class=\"alert alert-success\">\n",
    "<b>Комментарий ревьюера v2:</b>☀️\n",
    "   \n",
    "Отлично, теперь верно. Ниже обратная связь по результатам взаимодействия. \n",
    "\n",
    "Благодарю за совместную работу и хочу поздравить, ты большая молодец, что прошла такой путь и освоила программу, надеюсь у тебя сбудутся все намеченные планы.\n",
    "\n",
    "У Практикума развивается сообщество выпускников, так что рекомендую про него не забывать, в случае необходимости.\n",
    "\n",
    "\n",
    "Рекомендовал бы для первичного анализа использовать `pandas profiling`, удобная библиотека для автоматизации как раз первичного анализа. Возможно набор ниже для вдохновения, покажется интересным для тебя и ты реализуешь. Если планируешь собеседоваться, то рекомендую подтянуть `SQL`, задачки на собеседованиях обычно на него любят давать. Желаю удачи!\n",
    "\n",
    "\n",
    "Оформление презентаций дело субъективное и зачастую в разных компаниях имеются свои требования, но вот видео от Яндекса по созданию презентаций https://www.youtube.com/watch?v=S0r0fMJa9eA, а ещё на платформе практикума открылся бесплатный курс по созданию презентаций, рекомендую.\n",
    "\n",
    "Для более глубокого изучения tableau, в случае необходимости рекомендую материал https://tableau.pro/m01, этот курс делает классная команда, у них бывают и другие интересные мини курсы. Но в последнее время российские компании уходят от tableau или уже ушли, поэтому возможно придётся познакомиться с другими инструментами.\n",
    "\n",
    "Задачи на статистику или вокруг неё часто возникают на собеседовании, для укрепления этого фундамента рекомендую статью для выбора критерия проверки гипотез https://lit-review.ru/biostatistika/vybor-statisticheskogo-kriteriya/, https://statpsy.ru/ - информация по критериям проверки гипотез.\n",
    "\n",
    "Визуализации данных для аналитиков очень важны, при помощи них легче доносить желаемые мысли, а для того, чтобы лучше отобразить, нужно понимать, какие вообще существуют визуализации, делюсь с тобой своей подборкой для разных случае жизни https://www.notion.so/d9392e1cb71f48cfb1fbf7f557a2b7e7 \n",
    "\n",
    "SQL важный навык, который нужно поддерживать для этого существует много тренажёров:\n",
    "* Статья на хабр с топ-тренажёрами: https://techrocks.ru/2019/11/22/7-sites-to-perfect-sql-query-writing-skills/\n",
    "* задачки SQL - https://habr.com/ru/company/dcmiran/blog/500360/\n",
    "* https://sqlzoo.net/"
   ]
  },
  {
   "cell_type": "markdown",
   "metadata": {},
   "source": [
    "Согласно результатам проведённого анализа, в топ-3 авторов с самой высокой средней оценкой книг входят не только известные всем создатели серий книг о \"мальчике, который выжил\" и удивительных хоббитах, но и австралийский писатель Markus Zusak. Но все же возглавляет рейтинг J.K. Rowling/Mary GrandPré."
   ]
  },
  {
   "cell_type": "markdown",
   "metadata": {},
   "source": [
    "### Задание.\n",
    "Посчитайте среднее количество обзоров от пользователей, которые поставили больше 50 оценок"
   ]
  },
  {
   "cell_type": "markdown",
   "metadata": {},
   "source": [
    "В схеме БД нет точной информации о связях таблиц ratings и reviews по полю username, но можно проверить по количеству уникальных пользователей в обеих таблицах, а также сопоставить их имена:"
   ]
  },
  {
   "cell_type": "code",
   "execution_count": 56,
   "metadata": {},
   "outputs": [
    {
     "data": {
      "text/html": [
       "<div>\n",
       "<style scoped>\n",
       "    .dataframe tbody tr th:only-of-type {\n",
       "        vertical-align: middle;\n",
       "    }\n",
       "\n",
       "    .dataframe tbody tr th {\n",
       "        vertical-align: top;\n",
       "    }\n",
       "\n",
       "    .dataframe thead th {\n",
       "        text-align: right;\n",
       "    }\n",
       "</style>\n",
       "<table border=\"1\" class=\"dataframe\">\n",
       "  <thead>\n",
       "    <tr style=\"text-align: right;\">\n",
       "      <th></th>\n",
       "      <th>username</th>\n",
       "      <th>username</th>\n",
       "    </tr>\n",
       "  </thead>\n",
       "  <tbody>\n",
       "    <tr>\n",
       "      <th>0</th>\n",
       "      <td>jnelson</td>\n",
       "      <td>jnelson</td>\n",
       "    </tr>\n",
       "    <tr>\n",
       "      <th>1</th>\n",
       "      <td>zjohnston</td>\n",
       "      <td>zjohnston</td>\n",
       "    </tr>\n",
       "    <tr>\n",
       "      <th>2</th>\n",
       "      <td>lewisdesiree</td>\n",
       "      <td>lewisdesiree</td>\n",
       "    </tr>\n",
       "    <tr>\n",
       "      <th>3</th>\n",
       "      <td>patrickhudson</td>\n",
       "      <td>patrickhudson</td>\n",
       "    </tr>\n",
       "    <tr>\n",
       "      <th>4</th>\n",
       "      <td>ulowe</td>\n",
       "      <td>ulowe</td>\n",
       "    </tr>\n",
       "    <tr>\n",
       "      <th>...</th>\n",
       "      <td>...</td>\n",
       "      <td>...</td>\n",
       "    </tr>\n",
       "    <tr>\n",
       "      <th>155</th>\n",
       "      <td>dmiller</td>\n",
       "      <td>dmiller</td>\n",
       "    </tr>\n",
       "    <tr>\n",
       "      <th>156</th>\n",
       "      <td>shermannatalie</td>\n",
       "      <td>shermannatalie</td>\n",
       "    </tr>\n",
       "    <tr>\n",
       "      <th>157</th>\n",
       "      <td>charlesraymond</td>\n",
       "      <td>charlesraymond</td>\n",
       "    </tr>\n",
       "    <tr>\n",
       "      <th>158</th>\n",
       "      <td>isaiahreyes</td>\n",
       "      <td>isaiahreyes</td>\n",
       "    </tr>\n",
       "    <tr>\n",
       "      <th>159</th>\n",
       "      <td>masonsara</td>\n",
       "      <td>masonsara</td>\n",
       "    </tr>\n",
       "  </tbody>\n",
       "</table>\n",
       "<p>160 rows × 2 columns</p>\n",
       "</div>"
      ],
      "text/plain": [
       "           username        username\n",
       "0           jnelson         jnelson\n",
       "1         zjohnston       zjohnston\n",
       "2      lewisdesiree    lewisdesiree\n",
       "3     patrickhudson   patrickhudson\n",
       "4             ulowe           ulowe\n",
       "..              ...             ...\n",
       "155         dmiller         dmiller\n",
       "156  shermannatalie  shermannatalie\n",
       "157  charlesraymond  charlesraymond\n",
       "158     isaiahreyes     isaiahreyes\n",
       "159       masonsara       masonsara\n",
       "\n",
       "[160 rows x 2 columns]"
      ]
     },
     "execution_count": 56,
     "metadata": {},
     "output_type": "execute_result"
    }
   ],
   "source": [
    "query_pre_5 = ''' select * from (select distinct(username) from ratings) R\n",
    "                  join\n",
    "                  (select distinct(username) from reviews) RW \n",
    "                  on R.username=RW.username\n",
    "              '''\n",
    "\n",
    "users = pd.io.sql.read_sql(query_pre_5, con=engine) \n",
    "\n",
    "users "
   ]
  },
  {
   "cell_type": "markdown",
   "metadata": {},
   "source": [
    "По результатам сравнения мжно считать, что пользователи в обеих таблицах идентичны."
   ]
  },
  {
   "cell_type": "code",
   "execution_count": 57,
   "metadata": {},
   "outputs": [
    {
     "data": {
      "text/html": [
       "<div>\n",
       "<style scoped>\n",
       "    .dataframe tbody tr th:only-of-type {\n",
       "        vertical-align: middle;\n",
       "    }\n",
       "\n",
       "    .dataframe tbody tr th {\n",
       "        vertical-align: top;\n",
       "    }\n",
       "\n",
       "    .dataframe thead th {\n",
       "        text-align: right;\n",
       "    }\n",
       "</style>\n",
       "<table border=\"1\" class=\"dataframe\">\n",
       "  <thead>\n",
       "    <tr style=\"text-align: right;\">\n",
       "      <th></th>\n",
       "      <th>Среднее кол-во обзоров</th>\n",
       "    </tr>\n",
       "  </thead>\n",
       "  <tbody>\n",
       "    <tr>\n",
       "      <th>0</th>\n",
       "      <td>24.333333</td>\n",
       "    </tr>\n",
       "  </tbody>\n",
       "</table>\n",
       "</div>"
      ],
      "text/plain": [
       "   Среднее кол-во обзоров\n",
       "0               24.333333"
      ]
     },
     "execution_count": 57,
     "metadata": {},
     "output_type": "execute_result"
    }
   ],
   "source": [
    "query_5 = ''' with RATE as (select count(rating_id) as rate_cnt, username from ratings group by username),\n",
    "              REV as (select count(review_id) as rev_cnt, username from reviews group by username)\n",
    "                select AVG(rev_cnt) as \"Среднее кол-во обзоров\"\n",
    "                from RATE join REV on REV.username = RATE.username\n",
    "                where rate_cnt > 50\n",
    "          ''' \n",
    "\n",
    "avg_reviews = pd.io.sql.read_sql(query_5, con=engine) \n",
    "\n",
    "avg_reviews "
   ]
  },
  {
   "cell_type": "markdown",
   "metadata": {},
   "source": [
    "<div class=\"alert alert-success\">\n",
    "<b>Комментарий ревьюера:</b>☀️\n",
    "    \n",
    "И это правильный ответ, чувствую себя Дибровым. \n",
    "    "
   ]
  },
  {
   "cell_type": "markdown",
   "metadata": {},
   "source": [
    "Среднее количество обзоров от пользователей, которые поставили больше 50 оценок - 24,33."
   ]
  }
 ],
 "metadata": {
  "ExecuteTimeLog": [
   {
    "duration": 5285,
    "start_time": "2023-02-07T15:15:27.719Z"
   },
   {
    "duration": 5,
    "start_time": "2023-02-07T15:15:47.728Z"
   },
   {
    "duration": 94,
    "start_time": "2023-02-07T15:15:47.734Z"
   },
   {
    "duration": 18,
    "start_time": "2023-02-07T15:16:25.080Z"
   },
   {
    "duration": 9,
    "start_time": "2023-02-07T15:18:08.543Z"
   },
   {
    "duration": 58,
    "start_time": "2023-02-07T15:18:44.903Z"
   },
   {
    "duration": 32,
    "start_time": "2023-02-07T15:19:50.824Z"
   },
   {
    "duration": 8,
    "start_time": "2023-02-07T15:20:02.489Z"
   },
   {
    "duration": 8,
    "start_time": "2023-02-07T15:20:11.662Z"
   },
   {
    "duration": 14,
    "start_time": "2023-02-07T15:22:23.141Z"
   },
   {
    "duration": 22,
    "start_time": "2023-02-07T15:23:15.011Z"
   },
   {
    "duration": 17,
    "start_time": "2023-02-07T15:24:13.976Z"
   },
   {
    "duration": 14,
    "start_time": "2023-02-07T15:25:24.043Z"
   },
   {
    "duration": 5,
    "start_time": "2023-02-07T15:25:55.694Z"
   },
   {
    "duration": 57,
    "start_time": "2023-02-07T15:25:55.701Z"
   },
   {
    "duration": 10,
    "start_time": "2023-02-07T15:25:55.760Z"
   },
   {
    "duration": 23,
    "start_time": "2023-02-07T15:25:55.771Z"
   },
   {
    "duration": 9,
    "start_time": "2023-02-07T15:25:55.797Z"
   },
   {
    "duration": 29,
    "start_time": "2023-02-07T15:25:55.807Z"
   },
   {
    "duration": 29,
    "start_time": "2023-02-07T15:25:55.838Z"
   },
   {
    "duration": 17,
    "start_time": "2023-02-07T15:25:55.869Z"
   },
   {
    "duration": 16,
    "start_time": "2023-02-07T15:25:55.888Z"
   },
   {
    "duration": 16,
    "start_time": "2023-02-07T15:25:55.906Z"
   },
   {
    "duration": 46,
    "start_time": "2023-02-08T12:59:14.522Z"
   },
   {
    "duration": 8619,
    "start_time": "2023-02-08T12:59:21.763Z"
   },
   {
    "duration": 306,
    "start_time": "2023-02-08T12:59:30.385Z"
   },
   {
    "duration": 82,
    "start_time": "2023-02-08T12:59:30.693Z"
   },
   {
    "duration": 95,
    "start_time": "2023-02-08T12:59:30.777Z"
   },
   {
    "duration": 13,
    "start_time": "2023-02-08T12:59:30.873Z"
   },
   {
    "duration": 101,
    "start_time": "2023-02-08T12:59:30.888Z"
   },
   {
    "duration": 89,
    "start_time": "2023-02-08T12:59:30.992Z"
   },
   {
    "duration": 184,
    "start_time": "2023-02-08T12:59:31.083Z"
   },
   {
    "duration": 0,
    "start_time": "2023-02-08T12:59:31.269Z"
   },
   {
    "duration": 0,
    "start_time": "2023-02-08T12:59:31.270Z"
   },
   {
    "duration": 88,
    "start_time": "2023-02-08T13:00:03.840Z"
   },
   {
    "duration": 82,
    "start_time": "2023-02-08T13:01:16.897Z"
   },
   {
    "duration": 81,
    "start_time": "2023-02-08T13:02:06.868Z"
   },
   {
    "duration": 88,
    "start_time": "2023-02-08T13:03:33.986Z"
   },
   {
    "duration": 165,
    "start_time": "2023-02-08T13:04:05.332Z"
   },
   {
    "duration": 81,
    "start_time": "2023-02-08T13:27:42.985Z"
   },
   {
    "duration": 191,
    "start_time": "2023-02-08T13:32:45.290Z"
   },
   {
    "duration": 156,
    "start_time": "2023-02-08T13:33:22.357Z"
   },
   {
    "duration": 186,
    "start_time": "2023-02-08T13:34:02.055Z"
   },
   {
    "duration": 82,
    "start_time": "2023-02-08T13:34:07.788Z"
   },
   {
    "duration": 189,
    "start_time": "2023-02-08T13:34:52.840Z"
   },
   {
    "duration": 82,
    "start_time": "2023-02-08T13:35:05.379Z"
   },
   {
    "duration": 83,
    "start_time": "2023-02-08T13:36:03.681Z"
   },
   {
    "duration": 236,
    "start_time": "2023-02-08T13:36:37.110Z"
   },
   {
    "duration": 361,
    "start_time": "2023-02-08T13:36:45.041Z"
   },
   {
    "duration": 208,
    "start_time": "2023-02-08T13:37:06.563Z"
   },
   {
    "duration": 335,
    "start_time": "2023-02-08T13:37:20.457Z"
   },
   {
    "duration": 171,
    "start_time": "2023-02-08T13:37:30.229Z"
   },
   {
    "duration": 84,
    "start_time": "2023-02-08T13:37:34.314Z"
   },
   {
    "duration": 81,
    "start_time": "2023-02-08T13:37:52.559Z"
   },
   {
    "duration": 81,
    "start_time": "2023-02-08T13:38:09.678Z"
   },
   {
    "duration": 88,
    "start_time": "2023-02-08T13:38:27.252Z"
   },
   {
    "duration": 81,
    "start_time": "2023-02-08T13:38:36.184Z"
   },
   {
    "duration": 100,
    "start_time": "2023-02-08T13:43:02.349Z"
   },
   {
    "duration": 437,
    "start_time": "2023-02-08T13:54:28.122Z"
   },
   {
    "duration": 455,
    "start_time": "2023-02-08T13:54:55.320Z"
   },
   {
    "duration": 73,
    "start_time": "2023-02-08T13:55:25.582Z"
   },
   {
    "duration": 90,
    "start_time": "2023-02-08T13:55:35.930Z"
   },
   {
    "duration": 76,
    "start_time": "2023-02-08T13:55:47.847Z"
   },
   {
    "duration": 469,
    "start_time": "2023-02-08T13:55:59.539Z"
   },
   {
    "duration": 440,
    "start_time": "2023-02-08T13:56:14.070Z"
   },
   {
    "duration": 424,
    "start_time": "2023-02-08T13:56:27.552Z"
   },
   {
    "duration": 477,
    "start_time": "2023-02-08T13:57:05.052Z"
   },
   {
    "duration": 71,
    "start_time": "2023-02-08T13:58:35.721Z"
   },
   {
    "duration": 75,
    "start_time": "2023-02-08T13:58:43.417Z"
   },
   {
    "duration": 75,
    "start_time": "2023-02-08T13:58:47.532Z"
   },
   {
    "duration": 447,
    "start_time": "2023-02-08T13:59:03.146Z"
   },
   {
    "duration": 446,
    "start_time": "2023-02-08T14:00:06.468Z"
   },
   {
    "duration": 4,
    "start_time": "2023-02-08T14:00:54.220Z"
   },
   {
    "duration": 665,
    "start_time": "2023-02-08T14:00:54.227Z"
   },
   {
    "duration": 78,
    "start_time": "2023-02-08T14:00:54.894Z"
   },
   {
    "duration": 90,
    "start_time": "2023-02-08T14:00:54.974Z"
   },
   {
    "duration": 8,
    "start_time": "2023-02-08T14:00:55.066Z"
   },
   {
    "duration": 8,
    "start_time": "2023-02-08T14:00:55.076Z"
   },
   {
    "duration": 90,
    "start_time": "2023-02-08T14:00:55.085Z"
   },
   {
    "duration": 87,
    "start_time": "2023-02-08T14:00:55.177Z"
   },
   {
    "duration": 95,
    "start_time": "2023-02-08T14:00:55.267Z"
   },
   {
    "duration": 84,
    "start_time": "2023-02-08T14:00:55.364Z"
   }
  ],
  "kernelspec": {
   "display_name": "Python 3 (ipykernel)",
   "language": "python",
   "name": "python3"
  },
  "language_info": {
   "codemirror_mode": {
    "name": "ipython",
    "version": 3
   },
   "file_extension": ".py",
   "mimetype": "text/x-python",
   "name": "python",
   "nbconvert_exporter": "python",
   "pygments_lexer": "ipython3",
   "version": "3.9.5"
  },
  "toc": {
   "base_numbering": 1,
   "nav_menu": {},
   "number_sections": true,
   "sideBar": true,
   "skip_h1_title": true,
   "title_cell": "Table of Contents",
   "title_sidebar": "Contents",
   "toc_cell": false,
   "toc_position": {},
   "toc_section_display": true,
   "toc_window_display": false
  }
 },
 "nbformat": 4,
 "nbformat_minor": 2
}
